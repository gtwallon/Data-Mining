{
 "cells": [
  {
   "cell_type": "markdown",
   "id": "421dcab2",
   "metadata": {},
   "source": [
    "# Contents: <a class=\"anchor\" id=\"top\"></a>\n",
    "### [Part A: Preprocessing and PCA](#p1)\n",
    "### [Part B: Model Performance](#p2) \n",
    "### [Part C: Unsupervised Learning](#p3) \n",
    "### [Part D: Data Visualization](#p4) "
   ]
  },
  {
   "cell_type": "markdown",
   "id": "52fac80b",
   "metadata": {},
   "source": [
    "# Part A: Preprocessing and PCA <a class=\"anchor\" id=\"p1\"></a>\n",
    "[back to top](#top)\n",
    "\n",
    "### Prompt:\n",
    "A1. Develop a data pre-processing pipeline focusing on missing value handling, outlier detection, and categorical variable encoding.\n",
    "\n",
    "A2. Implement PCA as a dimensionality reduction technique (95%) to reduce the number of features while retaining relevant information."
   ]
  },
  {
   "cell_type": "code",
   "execution_count": 1,
   "id": "f40ba760",
   "metadata": {},
   "outputs": [],
   "source": [
    "import numpy as np\n",
    "import matplotlib.pyplot as plt\n",
    "import pandas as pd\n",
    "import random"
   ]
  },
  {
   "cell_type": "code",
   "execution_count": 2,
   "id": "88ec7a8d",
   "metadata": {},
   "outputs": [],
   "source": [
    "df = pd.read_csv('../data/E-commerce Customer Behavior.csv')"
   ]
  },
  {
   "cell_type": "code",
   "execution_count": 3,
   "id": "df0d823f",
   "metadata": {},
   "outputs": [
    {
     "data": {
      "text/html": [
       "<div>\n",
       "<style scoped>\n",
       "    .dataframe tbody tr th:only-of-type {\n",
       "        vertical-align: middle;\n",
       "    }\n",
       "\n",
       "    .dataframe tbody tr th {\n",
       "        vertical-align: top;\n",
       "    }\n",
       "\n",
       "    .dataframe thead th {\n",
       "        text-align: right;\n",
       "    }\n",
       "</style>\n",
       "<table border=\"1\" class=\"dataframe\">\n",
       "  <thead>\n",
       "    <tr style=\"text-align: right;\">\n",
       "      <th></th>\n",
       "      <th>Customer ID</th>\n",
       "      <th>Gender</th>\n",
       "      <th>Age</th>\n",
       "      <th>City</th>\n",
       "      <th>Membership Type</th>\n",
       "      <th>Total Spend</th>\n",
       "      <th>Items Purchased</th>\n",
       "      <th>Average Rating</th>\n",
       "      <th>Discount Applied</th>\n",
       "      <th>Days Since Last Purchase</th>\n",
       "      <th>Satisfaction Level</th>\n",
       "    </tr>\n",
       "  </thead>\n",
       "  <tbody>\n",
       "    <tr>\n",
       "      <th>0</th>\n",
       "      <td>101</td>\n",
       "      <td>Female</td>\n",
       "      <td>29</td>\n",
       "      <td>New York</td>\n",
       "      <td>Gold</td>\n",
       "      <td>1120.20</td>\n",
       "      <td>14.0</td>\n",
       "      <td>4.6</td>\n",
       "      <td>True</td>\n",
       "      <td>25.0</td>\n",
       "      <td>Satisfied</td>\n",
       "    </tr>\n",
       "    <tr>\n",
       "      <th>1</th>\n",
       "      <td>102</td>\n",
       "      <td>Male</td>\n",
       "      <td>34</td>\n",
       "      <td>Los Angeles</td>\n",
       "      <td>Silver</td>\n",
       "      <td>780.50</td>\n",
       "      <td>11.0</td>\n",
       "      <td>4.1</td>\n",
       "      <td>False</td>\n",
       "      <td>18.0</td>\n",
       "      <td>Neutral</td>\n",
       "    </tr>\n",
       "    <tr>\n",
       "      <th>2</th>\n",
       "      <td>103</td>\n",
       "      <td>Female</td>\n",
       "      <td>43</td>\n",
       "      <td>Chicago</td>\n",
       "      <td>Bronze</td>\n",
       "      <td>510.75</td>\n",
       "      <td>9.0</td>\n",
       "      <td>3.4</td>\n",
       "      <td>True</td>\n",
       "      <td>42.0</td>\n",
       "      <td>Unsatisfied</td>\n",
       "    </tr>\n",
       "    <tr>\n",
       "      <th>3</th>\n",
       "      <td>104</td>\n",
       "      <td>Male</td>\n",
       "      <td>30</td>\n",
       "      <td>San Francisco</td>\n",
       "      <td>Gold</td>\n",
       "      <td>1480.30</td>\n",
       "      <td>19.0</td>\n",
       "      <td>4.7</td>\n",
       "      <td>False</td>\n",
       "      <td>12.0</td>\n",
       "      <td>Satisfied</td>\n",
       "    </tr>\n",
       "    <tr>\n",
       "      <th>4</th>\n",
       "      <td>105</td>\n",
       "      <td>Male</td>\n",
       "      <td>27</td>\n",
       "      <td>Miami</td>\n",
       "      <td>Silver</td>\n",
       "      <td>720.40</td>\n",
       "      <td>13.0</td>\n",
       "      <td>4.0</td>\n",
       "      <td>True</td>\n",
       "      <td>55.0</td>\n",
       "      <td>Unsatisfied</td>\n",
       "    </tr>\n",
       "  </tbody>\n",
       "</table>\n",
       "</div>"
      ],
      "text/plain": [
       "   Customer ID  Gender  Age           City Membership Type  Total Spend  \\\n",
       "0          101  Female   29       New York            Gold      1120.20   \n",
       "1          102    Male   34    Los Angeles          Silver       780.50   \n",
       "2          103  Female   43        Chicago          Bronze       510.75   \n",
       "3          104    Male   30  San Francisco            Gold      1480.30   \n",
       "4          105    Male   27          Miami          Silver       720.40   \n",
       "\n",
       "   Items Purchased  Average Rating  Discount Applied  \\\n",
       "0             14.0             4.6              True   \n",
       "1             11.0             4.1             False   \n",
       "2              9.0             3.4              True   \n",
       "3             19.0             4.7             False   \n",
       "4             13.0             4.0              True   \n",
       "\n",
       "   Days Since Last Purchase Satisfaction Level  \n",
       "0                      25.0          Satisfied  \n",
       "1                      18.0            Neutral  \n",
       "2                      42.0        Unsatisfied  \n",
       "3                      12.0          Satisfied  \n",
       "4                      55.0        Unsatisfied  "
      ]
     },
     "execution_count": 3,
     "metadata": {},
     "output_type": "execute_result"
    }
   ],
   "source": [
    "df.head()"
   ]
  },
  {
   "cell_type": "code",
   "execution_count": 4,
   "id": "3c0bc782",
   "metadata": {},
   "outputs": [
    {
     "name": "stdout",
     "output_type": "stream",
     "text": [
      "<class 'pandas.core.frame.DataFrame'>\n",
      "RangeIndex: 350 entries, 0 to 349\n",
      "Data columns (total 11 columns):\n",
      " #   Column                    Non-Null Count  Dtype  \n",
      "---  ------                    --------------  -----  \n",
      " 0   Customer ID               350 non-null    int64  \n",
      " 1   Gender                    350 non-null    object \n",
      " 2   Age                       350 non-null    int64  \n",
      " 3   City                      350 non-null    object \n",
      " 4   Membership Type           350 non-null    object \n",
      " 5   Total Spend               337 non-null    float64\n",
      " 6   Items Purchased           349 non-null    float64\n",
      " 7   Average Rating            342 non-null    float64\n",
      " 8   Discount Applied          350 non-null    bool   \n",
      " 9   Days Since Last Purchase  342 non-null    float64\n",
      " 10  Satisfaction Level        348 non-null    object \n",
      "dtypes: bool(1), float64(4), int64(2), object(4)\n",
      "memory usage: 27.8+ KB\n"
     ]
    }
   ],
   "source": [
    "df.info()"
   ]
  },
  {
   "cell_type": "code",
   "execution_count": 5,
   "id": "d251b43d",
   "metadata": {},
   "outputs": [
    {
     "data": {
      "text/plain": [
       "Customer ID                  0\n",
       "Gender                       0\n",
       "Age                          0\n",
       "City                         0\n",
       "Membership Type              0\n",
       "Total Spend                 13\n",
       "Items Purchased              1\n",
       "Average Rating               8\n",
       "Discount Applied             0\n",
       "Days Since Last Purchase     8\n",
       "Satisfaction Level           2\n",
       "dtype: int64"
      ]
     },
     "execution_count": 5,
     "metadata": {},
     "output_type": "execute_result"
    }
   ],
   "source": [
    "df.isna().sum()"
   ]
  },
  {
   "cell_type": "markdown",
   "id": "8e3384c1",
   "metadata": {},
   "source": [
    "#### How to handle missing values in the 'Total Spend', 'Items Purchased', 'Average Rating', 'Days Since Last Purchase' columns:\n",
    "- Note that there is only one record for every customer, thus there is no history for a customer we can use to infer about their behavior. Thus there is no real good way to impute the NA values in these columns besides using the median value of the columns. \n",
    "- Note that using the median is robust to outliers in future data"
   ]
  },
  {
   "cell_type": "code",
   "execution_count": 6,
   "id": "101fb502",
   "metadata": {},
   "outputs": [
    {
     "name": "stdout",
     "output_type": "stream",
     "text": [
      "number unique customers:  350\n",
      "original df shape:  (350, 11)\n"
     ]
    }
   ],
   "source": [
    "# same number of columns as original df\n",
    "print('number unique customers: ', df['Customer ID'].unique().size)\n",
    "\n",
    "print('original df shape: ', df.shape)"
   ]
  },
  {
   "cell_type": "code",
   "execution_count": 7,
   "id": "d9a866a0",
   "metadata": {},
   "outputs": [
    {
     "name": "stdout",
     "output_type": "stream",
     "text": [
      "numeric data NA totals:\n",
      "Total Spend                 13\n",
      "Items Purchased              1\n",
      "Average Rating               8\n",
      "Days Since Last Purchase     8\n",
      "dtype: int64\n",
      "\n",
      "numeric data NA totals:\n",
      "Total Spend                 0\n",
      "Items Purchased             0\n",
      "Average Rating              0\n",
      "Days Since Last Purchase    0\n",
      "dtype: int64\n",
      "\n",
      "full nf NA totals:\n",
      "Customer ID                 0\n",
      "Gender                      0\n",
      "Age                         0\n",
      "City                        0\n",
      "Membership Type             0\n",
      "Total Spend                 0\n",
      "Items Purchased             0\n",
      "Average Rating              0\n",
      "Discount Applied            0\n",
      "Days Since Last Purchase    0\n",
      "Satisfaction Level          2\n",
      "dtype: int64\n"
     ]
    }
   ],
   "source": [
    "# subset numeric columns of df\n",
    "nadf = df[['Total Spend', 'Items Purchased', 'Average Rating', 'Days Since Last Purchase']]\n",
    "print('numeric data NA totals:')\n",
    "print(nadf.isna().sum())\n",
    "print()\n",
    "\n",
    "# fill NA's with median value\n",
    "nadf = nadf.fillna(nadf.median())\n",
    "print('numeric data NA totals:')\n",
    "print(nadf.isna().sum())\n",
    "print()\n",
    "\n",
    "# replace NAs in original df\n",
    "df[['Total Spend', 'Items Purchased', 'Average Rating', 'Days Since Last Purchase']] = nadf\n",
    "print('full nf NA totals:')\n",
    "print(df.isna().sum())"
   ]
  },
  {
   "cell_type": "code",
   "execution_count": null,
   "id": "605e93b9",
   "metadata": {},
   "outputs": [],
   "source": []
  },
  {
   "cell_type": "markdown",
   "id": "71be284d",
   "metadata": {},
   "source": [
    "#### Satisfaction Level Impute NA\n",
    "- Since the distribution of satisfaction level is fairly even, we can just impute one NA as "
   ]
  },
  {
   "cell_type": "code",
   "execution_count": 8,
   "id": "f74d7b33",
   "metadata": {},
   "outputs": [
    {
     "name": "stdout",
     "output_type": "stream",
     "text": [
      "full nf NA totals:\n",
      "Customer ID                 0\n",
      "Gender                      0\n",
      "Age                         0\n",
      "City                        0\n",
      "Membership Type             0\n",
      "Total Spend                 0\n",
      "Items Purchased             0\n",
      "Average Rating              0\n",
      "Discount Applied            0\n",
      "Days Since Last Purchase    0\n",
      "Satisfaction Level          0\n",
      "dtype: int64\n"
     ]
    }
   ],
   "source": [
    "from numpy.random import choice\n",
    "\n",
    "num_na = df['Satisfaction Level'].isna().sum()\n",
    "i = df['Satisfaction Level'].value_counts().index\n",
    "v = df['Satisfaction Level'].value_counts().values\n",
    "\n",
    "# make a prob. dist.\n",
    "v = v/sum(v)\n",
    "\n",
    "# draw from dist.\n",
    "draw = choice(i, num_na, p=v)\n",
    "\n",
    "# replace the NAs in the df\n",
    "df.loc[df['Satisfaction Level'].isna(), 'Satisfaction Level'] = draw\n",
    "\n",
    "# print NA count\n",
    "print('full nf NA totals:')\n",
    "print(df.isna().sum())"
   ]
  },
  {
   "cell_type": "code",
   "execution_count": null,
   "id": "4d29dba4",
   "metadata": {},
   "outputs": [],
   "source": []
  },
  {
   "cell_type": "code",
   "execution_count": null,
   "id": "da43a13a",
   "metadata": {},
   "outputs": [],
   "source": []
  },
  {
   "cell_type": "markdown",
   "id": "b0350b15",
   "metadata": {},
   "source": [
    "### Outlier Detection:\n",
    "- Use z-score to remove any outliers"
   ]
  },
  {
   "cell_type": "code",
   "execution_count": 9,
   "id": "fb5dd764",
   "metadata": {},
   "outputs": [
    {
     "data": {
      "text/plain": [
       "Index(['Customer ID', 'Gender', 'Age', 'City', 'Membership Type',\n",
       "       'Total Spend', 'Items Purchased', 'Average Rating', 'Discount Applied',\n",
       "       'Days Since Last Purchase', 'Satisfaction Level'],\n",
       "      dtype='object')"
      ]
     },
     "execution_count": 9,
     "metadata": {},
     "output_type": "execute_result"
    }
   ],
   "source": [
    "df.columns"
   ]
  },
  {
   "cell_type": "code",
   "execution_count": 11,
   "id": "0bf49bb8",
   "metadata": {},
   "outputs": [
    {
     "name": "stdout",
     "output_type": "stream",
     "text": [
      "df number of rows:  350\n",
      "\n",
      "Outlier rows:\n",
      "Empty DataFrame\n",
      "Columns: [Customer ID, Gender, Age, City, Membership Type, Total Spend, Items Purchased, Average Rating, Discount Applied, Days Since Last Purchase, Satisfaction Level]\n",
      "Index: []\n",
      "\n",
      "df number of rows without outliers:  350\n"
     ]
    }
   ],
   "source": [
    "from scipy import stats\n",
    "\n",
    "# subset numeric columns from df\n",
    "numerics = ['int16', 'int32', 'int64', 'float16', 'float32', 'float64']\n",
    "numdf = df.select_dtypes(include=numerics)\n",
    "\n",
    "# make a df with z-scores of each row and column\n",
    "z = np.abs(stats.zscore(numdf))\n",
    "\n",
    "# set a threshold for the z-score you want to remove, in particular, remove data with values \n",
    "## more than 4 standard deviations away from the mean\n",
    "threshold_z = 4.0\n",
    "\n",
    "# find and remove outliers\n",
    "outlier_indices = np.where(z > threshold_z)\n",
    "print('df number of rows: ', df.shape[0])\n",
    "print()\n",
    "print('Outlier rows:')\n",
    "print(df.iloc[outlier_indices[0],:])\n",
    "print()\n",
    "\n",
    "df = df.drop(outlier_indices[0])\n",
    "print('df number of rows without outliers: ', df.shape[0])\n"
   ]
  },
  {
   "cell_type": "code",
   "execution_count": null,
   "id": "d2af73e3",
   "metadata": {},
   "outputs": [],
   "source": []
  },
  {
   "cell_type": "markdown",
   "id": "a3a78941",
   "metadata": {},
   "source": [
    "### Encoding Categorical Variables\n",
    "- Encode ordinal categorical variables\n",
    "- Change 'Gender' column to binary 'isMale' column\n",
    "- Convert boolean column to integer\n",
    "- Drop customerID as it is categorical but holds no predictive value\n",
    "- One-hot encode city variable "
   ]
  },
  {
   "cell_type": "code",
   "execution_count": 12,
   "id": "1b3c1977",
   "metadata": {},
   "outputs": [],
   "source": [
    "# create categorical maps\n",
    "membership_map = {'Bronze':0, 'Silver':1, 'Gold':2}\n",
    "satisfaction_map = {'Unsatisfied': 0, 'Neutral':1, 'Satisfied':2}\n",
    "gender_map = {'Female':0, 'Male':1}\n",
    "\n",
    "# apply mappings and replace boolean with integer representation\n",
    "df['Membership Type'] = df['Membership Type'].replace(membership_map)\n",
    "df['Satisfaction Level'] = df['Satisfaction Level'].replace(satisfaction_map)\n",
    "df['Gender'] = df['Gender'].replace(gender_map)\n",
    "df['Discount Applied'] = df['Discount Applied'].apply(lambda x: int(x))\n",
    "\n",
    "# change name of gender column \n",
    "df.rename(columns={'Gender':'isMale'})\n",
    "\n",
    "# OHE city column \n",
    "city_ohe = pd.get_dummies(df[['City']])\n",
    "df = pd.concat([df,city_ohe], axis=1)\n",
    "\n",
    "# drop customerID column and City column\n",
    "df = df.drop(columns=['Customer ID', 'City'])"
   ]
  },
  {
   "cell_type": "code",
   "execution_count": 13,
   "id": "6f582431",
   "metadata": {},
   "outputs": [
    {
     "data": {
      "text/html": [
       "<div>\n",
       "<style scoped>\n",
       "    .dataframe tbody tr th:only-of-type {\n",
       "        vertical-align: middle;\n",
       "    }\n",
       "\n",
       "    .dataframe tbody tr th {\n",
       "        vertical-align: top;\n",
       "    }\n",
       "\n",
       "    .dataframe thead th {\n",
       "        text-align: right;\n",
       "    }\n",
       "</style>\n",
       "<table border=\"1\" class=\"dataframe\">\n",
       "  <thead>\n",
       "    <tr style=\"text-align: right;\">\n",
       "      <th></th>\n",
       "      <th>Gender</th>\n",
       "      <th>Age</th>\n",
       "      <th>Membership Type</th>\n",
       "      <th>Total Spend</th>\n",
       "      <th>Items Purchased</th>\n",
       "      <th>Average Rating</th>\n",
       "      <th>Discount Applied</th>\n",
       "      <th>Days Since Last Purchase</th>\n",
       "      <th>Satisfaction Level</th>\n",
       "      <th>City_Chicago</th>\n",
       "      <th>City_Houston</th>\n",
       "      <th>City_Los Angeles</th>\n",
       "      <th>City_Miami</th>\n",
       "      <th>City_New York</th>\n",
       "      <th>City_San Francisco</th>\n",
       "    </tr>\n",
       "  </thead>\n",
       "  <tbody>\n",
       "    <tr>\n",
       "      <th>0</th>\n",
       "      <td>0</td>\n",
       "      <td>29</td>\n",
       "      <td>2</td>\n",
       "      <td>1120.20</td>\n",
       "      <td>14.0</td>\n",
       "      <td>4.6</td>\n",
       "      <td>1</td>\n",
       "      <td>25.0</td>\n",
       "      <td>2</td>\n",
       "      <td>0</td>\n",
       "      <td>0</td>\n",
       "      <td>0</td>\n",
       "      <td>0</td>\n",
       "      <td>1</td>\n",
       "      <td>0</td>\n",
       "    </tr>\n",
       "    <tr>\n",
       "      <th>1</th>\n",
       "      <td>1</td>\n",
       "      <td>34</td>\n",
       "      <td>1</td>\n",
       "      <td>780.50</td>\n",
       "      <td>11.0</td>\n",
       "      <td>4.1</td>\n",
       "      <td>0</td>\n",
       "      <td>18.0</td>\n",
       "      <td>1</td>\n",
       "      <td>0</td>\n",
       "      <td>0</td>\n",
       "      <td>1</td>\n",
       "      <td>0</td>\n",
       "      <td>0</td>\n",
       "      <td>0</td>\n",
       "    </tr>\n",
       "    <tr>\n",
       "      <th>2</th>\n",
       "      <td>0</td>\n",
       "      <td>43</td>\n",
       "      <td>0</td>\n",
       "      <td>510.75</td>\n",
       "      <td>9.0</td>\n",
       "      <td>3.4</td>\n",
       "      <td>1</td>\n",
       "      <td>42.0</td>\n",
       "      <td>0</td>\n",
       "      <td>1</td>\n",
       "      <td>0</td>\n",
       "      <td>0</td>\n",
       "      <td>0</td>\n",
       "      <td>0</td>\n",
       "      <td>0</td>\n",
       "    </tr>\n",
       "  </tbody>\n",
       "</table>\n",
       "</div>"
      ],
      "text/plain": [
       "   Gender  Age  Membership Type  Total Spend  Items Purchased  Average Rating  \\\n",
       "0       0   29                2      1120.20             14.0             4.6   \n",
       "1       1   34                1       780.50             11.0             4.1   \n",
       "2       0   43                0       510.75              9.0             3.4   \n",
       "\n",
       "   Discount Applied  Days Since Last Purchase  Satisfaction Level  \\\n",
       "0                 1                      25.0                   2   \n",
       "1                 0                      18.0                   1   \n",
       "2                 1                      42.0                   0   \n",
       "\n",
       "   City_Chicago  City_Houston  City_Los Angeles  City_Miami  City_New York  \\\n",
       "0             0             0                 0           0              1   \n",
       "1             0             0                 1           0              0   \n",
       "2             1             0                 0           0              0   \n",
       "\n",
       "   City_San Francisco  \n",
       "0                   0  \n",
       "1                   0  \n",
       "2                   0  "
      ]
     },
     "execution_count": 13,
     "metadata": {},
     "output_type": "execute_result"
    }
   ],
   "source": [
    "df.head(3)"
   ]
  },
  {
   "cell_type": "code",
   "execution_count": null,
   "id": "5d99993d",
   "metadata": {},
   "outputs": [],
   "source": []
  },
  {
   "cell_type": "code",
   "execution_count": 14,
   "id": "b4150038",
   "metadata": {},
   "outputs": [
    {
     "data": {
      "text/plain": [
       "array([[ 0., 29.,  2., ...,  0.,  1.,  0.],\n",
       "       [ 1., 34.,  1., ...,  0.,  0.,  0.],\n",
       "       [ 0., 43.,  0., ...,  0.,  0.,  0.],\n",
       "       ...,\n",
       "       [ 0., 30.,  2., ...,  0.,  1.,  0.],\n",
       "       [ 1., 34.,  1., ...,  0.,  0.,  0.],\n",
       "       [ 0., 43.,  0., ...,  0.,  0.,  0.]])"
      ]
     },
     "execution_count": 14,
     "metadata": {},
     "output_type": "execute_result"
    }
   ],
   "source": [
    "df.to_numpy()"
   ]
  },
  {
   "cell_type": "markdown",
   "id": "634cef4e",
   "metadata": {},
   "source": [
    "## Apply PCA"
   ]
  },
  {
   "cell_type": "code",
   "execution_count": 15,
   "id": "d2c9f24c",
   "metadata": {},
   "outputs": [],
   "source": [
    "# standardize the dataset\n",
    "from sklearn.preprocessing import StandardScaler\n",
    "X_normal = StandardScaler().fit_transform(df)\n",
    "\n",
    "# apply PCA using sklearn\n",
    "from sklearn.decomposition import PCA\n",
    "\n",
    "pca = PCA(n_components=X_normal.shape[1])\n",
    "\n",
    "principalComponents = pca.fit_transform(X_normal)\n",
    "principalDf = pd.DataFrame(data = principalComponents)\n",
    "\n",
    "principalDf = pd.DataFrame(data = principalComponents\n",
    "             , columns = ['PC' + str(i+1) for i in range(X_normal.shape[1])])"
   ]
  },
  {
   "cell_type": "code",
   "execution_count": 16,
   "id": "bdc7356a",
   "metadata": {},
   "outputs": [
    {
     "data": {
      "text/html": [
       "<div>\n",
       "<style scoped>\n",
       "    .dataframe tbody tr th:only-of-type {\n",
       "        vertical-align: middle;\n",
       "    }\n",
       "\n",
       "    .dataframe tbody tr th {\n",
       "        vertical-align: top;\n",
       "    }\n",
       "\n",
       "    .dataframe thead th {\n",
       "        text-align: right;\n",
       "    }\n",
       "</style>\n",
       "<table border=\"1\" class=\"dataframe\">\n",
       "  <thead>\n",
       "    <tr style=\"text-align: right;\">\n",
       "      <th></th>\n",
       "      <th>Principal Component</th>\n",
       "      <th>Explained Variance</th>\n",
       "    </tr>\n",
       "  </thead>\n",
       "  <tbody>\n",
       "    <tr>\n",
       "      <th>0</th>\n",
       "      <td>PC1</td>\n",
       "      <td>0.4466</td>\n",
       "    </tr>\n",
       "    <tr>\n",
       "      <th>1</th>\n",
       "      <td>PC2</td>\n",
       "      <td>0.1911</td>\n",
       "    </tr>\n",
       "    <tr>\n",
       "      <th>2</th>\n",
       "      <td>PC3</td>\n",
       "      <td>0.1523</td>\n",
       "    </tr>\n",
       "    <tr>\n",
       "      <th>3</th>\n",
       "      <td>PC4</td>\n",
       "      <td>0.1004</td>\n",
       "    </tr>\n",
       "    <tr>\n",
       "      <th>4</th>\n",
       "      <td>PC5</td>\n",
       "      <td>0.0863</td>\n",
       "    </tr>\n",
       "    <tr>\n",
       "      <th>5</th>\n",
       "      <td>PC6</td>\n",
       "      <td>0.0101</td>\n",
       "    </tr>\n",
       "    <tr>\n",
       "      <th>6</th>\n",
       "      <td>PC7</td>\n",
       "      <td>0.0038</td>\n",
       "    </tr>\n",
       "    <tr>\n",
       "      <th>7</th>\n",
       "      <td>PC8</td>\n",
       "      <td>0.0031</td>\n",
       "    </tr>\n",
       "    <tr>\n",
       "      <th>8</th>\n",
       "      <td>PC9</td>\n",
       "      <td>0.0026</td>\n",
       "    </tr>\n",
       "    <tr>\n",
       "      <th>9</th>\n",
       "      <td>PC10</td>\n",
       "      <td>0.0015</td>\n",
       "    </tr>\n",
       "    <tr>\n",
       "      <th>10</th>\n",
       "      <td>PC11</td>\n",
       "      <td>0.0013</td>\n",
       "    </tr>\n",
       "    <tr>\n",
       "      <th>11</th>\n",
       "      <td>PC12</td>\n",
       "      <td>0.0008</td>\n",
       "    </tr>\n",
       "    <tr>\n",
       "      <th>12</th>\n",
       "      <td>PC13</td>\n",
       "      <td>0.0000</td>\n",
       "    </tr>\n",
       "    <tr>\n",
       "      <th>13</th>\n",
       "      <td>PC14</td>\n",
       "      <td>0.0000</td>\n",
       "    </tr>\n",
       "    <tr>\n",
       "      <th>14</th>\n",
       "      <td>PC15</td>\n",
       "      <td>0.0000</td>\n",
       "    </tr>\n",
       "  </tbody>\n",
       "</table>\n",
       "</div>"
      ],
      "text/plain": [
       "   Principal Component  Explained Variance\n",
       "0                  PC1              0.4466\n",
       "1                  PC2              0.1911\n",
       "2                  PC3              0.1523\n",
       "3                  PC4              0.1004\n",
       "4                  PC5              0.0863\n",
       "5                  PC6              0.0101\n",
       "6                  PC7              0.0038\n",
       "7                  PC8              0.0031\n",
       "8                  PC9              0.0026\n",
       "9                 PC10              0.0015\n",
       "10                PC11              0.0013\n",
       "11                PC12              0.0008\n",
       "12                PC13              0.0000\n",
       "13                PC14              0.0000\n",
       "14                PC15              0.0000"
      ]
     },
     "execution_count": 16,
     "metadata": {},
     "output_type": "execute_result"
    }
   ],
   "source": [
    "# observe explained variance of each principal component\n",
    "explained_variance = pca.explained_variance_ratio_\n",
    "component_variance_df = pd.DataFrame({\n",
    "    'Principal Component': [f'PC{i+1}' for i in range(len(explained_variance))],\n",
    "    'Explained Variance': explained_variance\n",
    "})\n",
    "component_variance_df.round(4)"
   ]
  },
  {
   "cell_type": "code",
   "execution_count": 17,
   "id": "a7d0cf1e",
   "metadata": {},
   "outputs": [
    {
     "data": {
      "text/html": [
       "<div>\n",
       "<style scoped>\n",
       "    .dataframe tbody tr th:only-of-type {\n",
       "        vertical-align: middle;\n",
       "    }\n",
       "\n",
       "    .dataframe tbody tr th {\n",
       "        vertical-align: top;\n",
       "    }\n",
       "\n",
       "    .dataframe thead th {\n",
       "        text-align: right;\n",
       "    }\n",
       "</style>\n",
       "<table border=\"1\" class=\"dataframe\">\n",
       "  <thead>\n",
       "    <tr style=\"text-align: right;\">\n",
       "      <th></th>\n",
       "      <th>Principal Component</th>\n",
       "      <th>Cumulative Variance</th>\n",
       "    </tr>\n",
       "  </thead>\n",
       "  <tbody>\n",
       "    <tr>\n",
       "      <th>0</th>\n",
       "      <td>PC1</td>\n",
       "      <td>0.4466</td>\n",
       "    </tr>\n",
       "    <tr>\n",
       "      <th>1</th>\n",
       "      <td>PC2</td>\n",
       "      <td>0.6377</td>\n",
       "    </tr>\n",
       "    <tr>\n",
       "      <th>2</th>\n",
       "      <td>PC3</td>\n",
       "      <td>0.7900</td>\n",
       "    </tr>\n",
       "    <tr>\n",
       "      <th>3</th>\n",
       "      <td>PC4</td>\n",
       "      <td>0.8903</td>\n",
       "    </tr>\n",
       "    <tr>\n",
       "      <th>4</th>\n",
       "      <td>PC5</td>\n",
       "      <td>0.9767</td>\n",
       "    </tr>\n",
       "    <tr>\n",
       "      <th>5</th>\n",
       "      <td>PC6</td>\n",
       "      <td>0.9868</td>\n",
       "    </tr>\n",
       "    <tr>\n",
       "      <th>6</th>\n",
       "      <td>PC7</td>\n",
       "      <td>0.9907</td>\n",
       "    </tr>\n",
       "  </tbody>\n",
       "</table>\n",
       "</div>"
      ],
      "text/plain": [
       "  Principal Component  Cumulative Variance\n",
       "0                 PC1               0.4466\n",
       "1                 PC2               0.6377\n",
       "2                 PC3               0.7900\n",
       "3                 PC4               0.8903\n",
       "4                 PC5               0.9767\n",
       "5                 PC6               0.9868\n",
       "6                 PC7               0.9907"
      ]
     },
     "execution_count": 17,
     "metadata": {},
     "output_type": "execute_result"
    }
   ],
   "source": [
    "# observe the cumulative explained variance\n",
    "cumulative_variance = np.cumsum(explained_variance)\n",
    "\n",
    "cumulative_variance_df = pd.DataFrame({\n",
    "    'Principal Component': [f'PC{i+1}' for i in range(len(cumulative_variance))],\n",
    "    'Cumulative Variance': cumulative_variance\n",
    "})\n",
    "\n",
    "cumulative_variance_df.round(4).head(7)"
   ]
  },
  {
   "cell_type": "markdown",
   "id": "23599097",
   "metadata": {},
   "source": [
    "Thus in order to retain 95% of relevant information, we only need to keep the first 5 principal components."
   ]
  },
  {
   "cell_type": "code",
   "execution_count": 18,
   "id": "fa22006c",
   "metadata": {},
   "outputs": [
    {
     "data": {
      "text/html": [
       "<div>\n",
       "<style scoped>\n",
       "    .dataframe tbody tr th:only-of-type {\n",
       "        vertical-align: middle;\n",
       "    }\n",
       "\n",
       "    .dataframe tbody tr th {\n",
       "        vertical-align: top;\n",
       "    }\n",
       "\n",
       "    .dataframe thead th {\n",
       "        text-align: right;\n",
       "    }\n",
       "</style>\n",
       "<table border=\"1\" class=\"dataframe\">\n",
       "  <thead>\n",
       "    <tr style=\"text-align: right;\">\n",
       "      <th></th>\n",
       "      <th>PC1</th>\n",
       "      <th>PC2</th>\n",
       "      <th>PC3</th>\n",
       "      <th>PC4</th>\n",
       "      <th>PC5</th>\n",
       "    </tr>\n",
       "  </thead>\n",
       "  <tbody>\n",
       "    <tr>\n",
       "      <th>0</th>\n",
       "      <td>1.939838</td>\n",
       "      <td>1.305654</td>\n",
       "      <td>2.449004</td>\n",
       "      <td>-1.039998</td>\n",
       "      <td>0.888679</td>\n",
       "    </tr>\n",
       "    <tr>\n",
       "      <th>1</th>\n",
       "      <td>0.400532</td>\n",
       "      <td>-1.428691</td>\n",
       "      <td>-1.484680</td>\n",
       "      <td>0.404131</td>\n",
       "      <td>1.973085</td>\n",
       "    </tr>\n",
       "    <tr>\n",
       "      <th>2</th>\n",
       "      <td>-3.658160</td>\n",
       "      <td>0.702704</td>\n",
       "      <td>0.930400</td>\n",
       "      <td>2.022145</td>\n",
       "      <td>-0.216482</td>\n",
       "    </tr>\n",
       "    <tr>\n",
       "      <th>3</th>\n",
       "      <td>4.000182</td>\n",
       "      <td>-0.729253</td>\n",
       "      <td>-0.332903</td>\n",
       "      <td>0.964100</td>\n",
       "      <td>-1.445787</td>\n",
       "    </tr>\n",
       "    <tr>\n",
       "      <th>4</th>\n",
       "      <td>-0.632842</td>\n",
       "      <td>3.055716</td>\n",
       "      <td>-2.154855</td>\n",
       "      <td>-1.038023</td>\n",
       "      <td>-0.459224</td>\n",
       "    </tr>\n",
       "  </tbody>\n",
       "</table>\n",
       "</div>"
      ],
      "text/plain": [
       "        PC1       PC2       PC3       PC4       PC5\n",
       "0  1.939838  1.305654  2.449004 -1.039998  0.888679\n",
       "1  0.400532 -1.428691 -1.484680  0.404131  1.973085\n",
       "2 -3.658160  0.702704  0.930400  2.022145 -0.216482\n",
       "3  4.000182 -0.729253 -0.332903  0.964100 -1.445787\n",
       "4 -0.632842  3.055716 -2.154855 -1.038023 -0.459224"
      ]
     },
     "execution_count": 18,
     "metadata": {},
     "output_type": "execute_result"
    }
   ],
   "source": [
    "finaldf = principalDf.iloc[:,0:5]\n",
    "finaldf.head()"
   ]
  },
  {
   "cell_type": "code",
   "execution_count": null,
   "id": "f4d9473e",
   "metadata": {},
   "outputs": [],
   "source": []
  },
  {
   "cell_type": "markdown",
   "id": "3f523a18",
   "metadata": {},
   "source": [
    "# Part B: Model Performance <a class=\"anchor\" id=\"p2\"></a>\n",
    "[back to top](#top)\n",
    "\n",
    "\n",
    "### Prompt:\n",
    "B1. Perform Full Data Pre-processing:  \n",
    "- Handle missing values and decide on a strategy to impute or remove them. Detect and manage outliers in the dataset. Encode categorical variables appropriately (if applicable). Normalize or standardize the numerical variables. \n",
    "\n",
    "B2. Model Development:  \n",
    "- Split the dataset into training and testing sets. Train at least 2 different machine learning models. Optimize hyperparameters to achieve the best performance.\n",
    "\n",
    "B3. Evaluate the models using appropriate metrics (e.g., accuracy, precision, recall).\n",
    "\n",
    "B4. Determine which model performs the best on the testing set."
   ]
  },
  {
   "cell_type": "code",
   "execution_count": 67,
   "id": "d4b8b53e",
   "metadata": {},
   "outputs": [],
   "source": [
    "import numpy as np\n",
    "import matplotlib.pyplot as plt\n",
    "import pandas as pd\n",
    "import random"
   ]
  },
  {
   "cell_type": "markdown",
   "id": "499a79f1",
   "metadata": {},
   "source": [
    "### Preprocessing"
   ]
  },
  {
   "cell_type": "code",
   "execution_count": 20,
   "id": "f2c7855c",
   "metadata": {},
   "outputs": [],
   "source": [
    "df = pd.read_csv('../data/diabetes_A1.csv')"
   ]
  },
  {
   "cell_type": "code",
   "execution_count": 21,
   "id": "3de8799d",
   "metadata": {},
   "outputs": [
    {
     "data": {
      "text/html": [
       "<div>\n",
       "<style scoped>\n",
       "    .dataframe tbody tr th:only-of-type {\n",
       "        vertical-align: middle;\n",
       "    }\n",
       "\n",
       "    .dataframe tbody tr th {\n",
       "        vertical-align: top;\n",
       "    }\n",
       "\n",
       "    .dataframe thead th {\n",
       "        text-align: right;\n",
       "    }\n",
       "</style>\n",
       "<table border=\"1\" class=\"dataframe\">\n",
       "  <thead>\n",
       "    <tr style=\"text-align: right;\">\n",
       "      <th></th>\n",
       "      <th>Pregnancies</th>\n",
       "      <th>Glucose</th>\n",
       "      <th>BloodPressure</th>\n",
       "      <th>SkinThickness</th>\n",
       "      <th>Insulin</th>\n",
       "      <th>BMI</th>\n",
       "      <th>DiabetesPedigreeFunction</th>\n",
       "      <th>Age</th>\n",
       "      <th>Outcome</th>\n",
       "    </tr>\n",
       "  </thead>\n",
       "  <tbody>\n",
       "    <tr>\n",
       "      <th>0</th>\n",
       "      <td>6</td>\n",
       "      <td>148</td>\n",
       "      <td>72</td>\n",
       "      <td>35</td>\n",
       "      <td>0</td>\n",
       "      <td>33.6</td>\n",
       "      <td>0.627</td>\n",
       "      <td>50</td>\n",
       "      <td>1</td>\n",
       "    </tr>\n",
       "    <tr>\n",
       "      <th>1</th>\n",
       "      <td>1</td>\n",
       "      <td>85</td>\n",
       "      <td>66</td>\n",
       "      <td>29</td>\n",
       "      <td>0</td>\n",
       "      <td>26.6</td>\n",
       "      <td>0.351</td>\n",
       "      <td>31</td>\n",
       "      <td>0</td>\n",
       "    </tr>\n",
       "    <tr>\n",
       "      <th>2</th>\n",
       "      <td>8</td>\n",
       "      <td>183</td>\n",
       "      <td>64</td>\n",
       "      <td>0</td>\n",
       "      <td>0</td>\n",
       "      <td>23.3</td>\n",
       "      <td>0.672</td>\n",
       "      <td>32</td>\n",
       "      <td>1</td>\n",
       "    </tr>\n",
       "    <tr>\n",
       "      <th>3</th>\n",
       "      <td>1</td>\n",
       "      <td>89</td>\n",
       "      <td>66</td>\n",
       "      <td>23</td>\n",
       "      <td>94</td>\n",
       "      <td>28.1</td>\n",
       "      <td>0.167</td>\n",
       "      <td>21</td>\n",
       "      <td>0</td>\n",
       "    </tr>\n",
       "    <tr>\n",
       "      <th>4</th>\n",
       "      <td>0</td>\n",
       "      <td>137</td>\n",
       "      <td>40</td>\n",
       "      <td>35</td>\n",
       "      <td>168</td>\n",
       "      <td>43.1</td>\n",
       "      <td>2.288</td>\n",
       "      <td>33</td>\n",
       "      <td>1</td>\n",
       "    </tr>\n",
       "  </tbody>\n",
       "</table>\n",
       "</div>"
      ],
      "text/plain": [
       "   Pregnancies  Glucose  BloodPressure  SkinThickness  Insulin   BMI  \\\n",
       "0            6      148             72             35        0  33.6   \n",
       "1            1       85             66             29        0  26.6   \n",
       "2            8      183             64              0        0  23.3   \n",
       "3            1       89             66             23       94  28.1   \n",
       "4            0      137             40             35      168  43.1   \n",
       "\n",
       "   DiabetesPedigreeFunction  Age  Outcome  \n",
       "0                     0.627   50        1  \n",
       "1                     0.351   31        0  \n",
       "2                     0.672   32        1  \n",
       "3                     0.167   21        0  \n",
       "4                     2.288   33        1  "
      ]
     },
     "execution_count": 21,
     "metadata": {},
     "output_type": "execute_result"
    }
   ],
   "source": [
    "df.head()"
   ]
  },
  {
   "cell_type": "code",
   "execution_count": 22,
   "id": "5a3de2fa",
   "metadata": {},
   "outputs": [
    {
     "data": {
      "text/plain": [
       "Pregnancies                 0\n",
       "Glucose                     0\n",
       "BloodPressure               0\n",
       "SkinThickness               0\n",
       "Insulin                     0\n",
       "BMI                         0\n",
       "DiabetesPedigreeFunction    0\n",
       "Age                         0\n",
       "Outcome                     0\n",
       "dtype: int64"
      ]
     },
     "execution_count": 22,
     "metadata": {},
     "output_type": "execute_result"
    }
   ],
   "source": [
    "# observe there are no NA\n",
    "df.isna().sum()"
   ]
  },
  {
   "cell_type": "code",
   "execution_count": 23,
   "id": "ae9b116f",
   "metadata": {},
   "outputs": [
    {
     "data": {
      "image/png": "[encoded data removed]",
      "text/plain": [
       "<Figure size 432x288 with 1 Axes>"
      ]
     },
     "metadata": {
      "needs_background": "light"
     },
     "output_type": "display_data"
    }
   ],
   "source": [
    "# observe there is a record of a patient with zero Glucose, this must be an error\n",
    "df[['Glucose']].boxplot();"
   ]
  },
  {
   "cell_type": "code",
   "execution_count": 24,
   "id": "640dc8a7",
   "metadata": {},
   "outputs": [
    {
     "data": {
      "image/png": "[encoded data removed]",
      "text/plain": [
       "<Figure size 432x288 with 1 Axes>"
      ]
     },
     "metadata": {
      "needs_background": "light"
     },
     "output_type": "display_data"
    }
   ],
   "source": [
    "# observe there is a record of a patient with zero blood pressure, this must be an error\n",
    "df[['BloodPressure']].boxplot();"
   ]
  },
  {
   "cell_type": "code",
   "execution_count": 25,
   "id": "4e475c0e",
   "metadata": {},
   "outputs": [
    {
     "data": {
      "image/png": "[encoded data removed]",
      "text/plain": [
       "<Figure size 432x288 with 1 Axes>"
      ]
     },
     "metadata": {
      "needs_background": "light"
     },
     "output_type": "display_data"
    }
   ],
   "source": [
    "# observe there is a record of a patient with zero BMI, this must be an error\n",
    "df[['BMI']].boxplot();"
   ]
  },
  {
   "cell_type": "code",
   "execution_count": 26,
   "id": "73a1fb30",
   "metadata": {},
   "outputs": [],
   "source": [
    "# drop records with human error\n",
    "\n",
    "drop_idx = df.loc[(df['BMI']==0) | (df['BloodPressure']==0) | (df['Glucose']==0)].index\n",
    "df = df.drop(drop_idx)"
   ]
  },
  {
   "cell_type": "code",
   "execution_count": null,
   "id": "a1e0c1ce",
   "metadata": {},
   "outputs": [],
   "source": []
  },
  {
   "cell_type": "code",
   "execution_count": 27,
   "id": "432c1d6d",
   "metadata": {},
   "outputs": [
    {
     "name": "stdout",
     "output_type": "stream",
     "text": [
      "df number of rows:  724\n",
      "Outlier rows:\n",
      "     Pregnancies  Glucose  BloodPressure  SkinThickness  Insulin   BMI  \\\n",
      "4              0      137             40             35      168  43.1   \n",
      "13             1      189             60             23      846  30.1   \n",
      "177            0      129            110             46      130  67.1   \n",
      "228            4      197             70             39      744  36.7   \n",
      "228            4      197             70             39      744  36.7   \n",
      "247            0      165             90             33      680  52.3   \n",
      "370            3      173             82             48      465  38.4   \n",
      "445            0      180             78             63       14  59.4   \n",
      "579            2      197             70             99        0  34.7   \n",
      "\n",
      "     DiabetesPedigreeFunction  Age  Outcome  \n",
      "4                       2.288   33        1  \n",
      "13                      0.398   59        1  \n",
      "177                     0.319   26        1  \n",
      "228                     2.329   31        0  \n",
      "228                     2.329   31        0  \n",
      "247                     0.427   23        0  \n",
      "370                     2.137   25        1  \n",
      "445                     2.420   25        1  \n",
      "579                     0.575   62        1  \n",
      "\n"
     ]
    }
   ],
   "source": [
    "# check for outliers\n",
    "from scipy import stats\n",
    "\n",
    "# subset numeric columns from df\n",
    "numerics = ['int16', 'int32', 'int64', 'float16', 'float32', 'float64']\n",
    "numdf = df.select_dtypes(include=numerics)\n",
    "numdf = numdf.drop(columns=['Outcome'])\n",
    "\n",
    "# make a df with z-scores of each row and column\n",
    "z = np.abs(stats.zscore(numdf))\n",
    "\n",
    "# set a threshold for the z-score you want to remove\n",
    "threshold_z = 4.5\n",
    "\n",
    "# find and remove outliers\n",
    "outlier_indices = np.where(z > threshold_z)\n",
    "print('df number of rows: ', df.shape[0])\n",
    "print('Outlier rows:')\n",
    "print(df.iloc[outlier_indices[0],:])\n",
    "print()\n",
    "\n",
    "# df = df.drop(outlier_indices[0])\n",
    "# print('df number of rows: ', df.shape[0])\n"
   ]
  },
  {
   "cell_type": "markdown",
   "id": "54955b28",
   "metadata": {},
   "source": [
    "The outliers identified above do not seem to be caused by human error so I will decide to leave them in the dataset."
   ]
  },
  {
   "cell_type": "code",
   "execution_count": 28,
   "id": "d7e267e2",
   "metadata": {},
   "outputs": [
    {
     "data": {
      "text/html": [
       "<div>\n",
       "<style scoped>\n",
       "    .dataframe tbody tr th:only-of-type {\n",
       "        vertical-align: middle;\n",
       "    }\n",
       "\n",
       "    .dataframe tbody tr th {\n",
       "        vertical-align: top;\n",
       "    }\n",
       "\n",
       "    .dataframe thead th {\n",
       "        text-align: right;\n",
       "    }\n",
       "</style>\n",
       "<table border=\"1\" class=\"dataframe\">\n",
       "  <thead>\n",
       "    <tr style=\"text-align: right;\">\n",
       "      <th></th>\n",
       "      <th>Pregnancies</th>\n",
       "      <th>Glucose</th>\n",
       "      <th>BloodPressure</th>\n",
       "      <th>SkinThickness</th>\n",
       "      <th>Insulin</th>\n",
       "      <th>BMI</th>\n",
       "      <th>DiabetesPedigreeFunction</th>\n",
       "      <th>Age</th>\n",
       "      <th>Outcome</th>\n",
       "    </tr>\n",
       "  </thead>\n",
       "  <tbody>\n",
       "    <tr>\n",
       "      <th>0</th>\n",
       "      <td>6</td>\n",
       "      <td>148</td>\n",
       "      <td>72</td>\n",
       "      <td>35</td>\n",
       "      <td>0</td>\n",
       "      <td>33.6</td>\n",
       "      <td>0.627</td>\n",
       "      <td>50</td>\n",
       "      <td>1</td>\n",
       "    </tr>\n",
       "    <tr>\n",
       "      <th>1</th>\n",
       "      <td>1</td>\n",
       "      <td>85</td>\n",
       "      <td>66</td>\n",
       "      <td>29</td>\n",
       "      <td>0</td>\n",
       "      <td>26.6</td>\n",
       "      <td>0.351</td>\n",
       "      <td>31</td>\n",
       "      <td>0</td>\n",
       "    </tr>\n",
       "    <tr>\n",
       "      <th>2</th>\n",
       "      <td>8</td>\n",
       "      <td>183</td>\n",
       "      <td>64</td>\n",
       "      <td>0</td>\n",
       "      <td>0</td>\n",
       "      <td>23.3</td>\n",
       "      <td>0.672</td>\n",
       "      <td>32</td>\n",
       "      <td>1</td>\n",
       "    </tr>\n",
       "    <tr>\n",
       "      <th>3</th>\n",
       "      <td>1</td>\n",
       "      <td>89</td>\n",
       "      <td>66</td>\n",
       "      <td>23</td>\n",
       "      <td>94</td>\n",
       "      <td>28.1</td>\n",
       "      <td>0.167</td>\n",
       "      <td>21</td>\n",
       "      <td>0</td>\n",
       "    </tr>\n",
       "    <tr>\n",
       "      <th>4</th>\n",
       "      <td>0</td>\n",
       "      <td>137</td>\n",
       "      <td>40</td>\n",
       "      <td>35</td>\n",
       "      <td>168</td>\n",
       "      <td>43.1</td>\n",
       "      <td>2.288</td>\n",
       "      <td>33</td>\n",
       "      <td>1</td>\n",
       "    </tr>\n",
       "  </tbody>\n",
       "</table>\n",
       "</div>"
      ],
      "text/plain": [
       "   Pregnancies  Glucose  BloodPressure  SkinThickness  Insulin   BMI  \\\n",
       "0            6      148             72             35        0  33.6   \n",
       "1            1       85             66             29        0  26.6   \n",
       "2            8      183             64              0        0  23.3   \n",
       "3            1       89             66             23       94  28.1   \n",
       "4            0      137             40             35      168  43.1   \n",
       "\n",
       "   DiabetesPedigreeFunction  Age  Outcome  \n",
       "0                     0.627   50        1  \n",
       "1                     0.351   31        0  \n",
       "2                     0.672   32        1  \n",
       "3                     0.167   21        0  \n",
       "4                     2.288   33        1  "
      ]
     },
     "execution_count": 28,
     "metadata": {},
     "output_type": "execute_result"
    }
   ],
   "source": [
    "df.head()"
   ]
  },
  {
   "cell_type": "code",
   "execution_count": 29,
   "id": "39c85792",
   "metadata": {},
   "outputs": [],
   "source": [
    "# standardize the numerical values\n",
    "from sklearn.preprocessing import StandardScaler\n",
    "\n",
    "X = df.iloc[:,:-1]\n",
    "X_normal = StandardScaler().fit_transform(X)\n",
    "\n",
    "# create a new normalized dataframe\n",
    "normal_df = pd.DataFrame(X_normal, columns=df.columns[:-1])\n",
    "\n",
    "# concatenate with outcome column\n",
    "normal_df = pd.concat([normal_df, df[['Outcome']]], axis=1)"
   ]
  },
  {
   "cell_type": "code",
   "execution_count": 30,
   "id": "1be7f435",
   "metadata": {},
   "outputs": [
    {
     "data": {
      "text/html": [
       "<div>\n",
       "<style scoped>\n",
       "    .dataframe tbody tr th:only-of-type {\n",
       "        vertical-align: middle;\n",
       "    }\n",
       "\n",
       "    .dataframe tbody tr th {\n",
       "        vertical-align: top;\n",
       "    }\n",
       "\n",
       "    .dataframe thead th {\n",
       "        text-align: right;\n",
       "    }\n",
       "</style>\n",
       "<table border=\"1\" class=\"dataframe\">\n",
       "  <thead>\n",
       "    <tr style=\"text-align: right;\">\n",
       "      <th></th>\n",
       "      <th>Pregnancies</th>\n",
       "      <th>Glucose</th>\n",
       "      <th>BloodPressure</th>\n",
       "      <th>SkinThickness</th>\n",
       "      <th>Insulin</th>\n",
       "      <th>BMI</th>\n",
       "      <th>DiabetesPedigreeFunction</th>\n",
       "      <th>Age</th>\n",
       "      <th>Outcome</th>\n",
       "    </tr>\n",
       "  </thead>\n",
       "  <tbody>\n",
       "    <tr>\n",
       "      <th>0</th>\n",
       "      <td>0.635022</td>\n",
       "      <td>0.849933</td>\n",
       "      <td>-0.032378</td>\n",
       "      <td>0.862278</td>\n",
       "      <td>-0.722572</td>\n",
       "      <td>0.164562</td>\n",
       "      <td>0.458421</td>\n",
       "      <td>1.416075</td>\n",
       "      <td>1.0</td>\n",
       "    </tr>\n",
       "    <tr>\n",
       "      <th>1</th>\n",
       "      <td>-0.852861</td>\n",
       "      <td>-1.200262</td>\n",
       "      <td>-0.517370</td>\n",
       "      <td>0.480644</td>\n",
       "      <td>-0.722572</td>\n",
       "      <td>-0.852262</td>\n",
       "      <td>-0.372691</td>\n",
       "      <td>-0.199947</td>\n",
       "      <td>0.0</td>\n",
       "    </tr>\n",
       "    <tr>\n",
       "      <th>2</th>\n",
       "      <td>1.230175</td>\n",
       "      <td>1.988930</td>\n",
       "      <td>-0.679035</td>\n",
       "      <td>-1.363918</td>\n",
       "      <td>-0.722572</td>\n",
       "      <td>-1.331622</td>\n",
       "      <td>0.593928</td>\n",
       "      <td>-0.114893</td>\n",
       "      <td>1.0</td>\n",
       "    </tr>\n",
       "    <tr>\n",
       "      <th>3</th>\n",
       "      <td>-0.852861</td>\n",
       "      <td>-1.070091</td>\n",
       "      <td>-0.517370</td>\n",
       "      <td>0.099010</td>\n",
       "      <td>0.081288</td>\n",
       "      <td>-0.634371</td>\n",
       "      <td>-0.926765</td>\n",
       "      <td>-1.050485</td>\n",
       "      <td>0.0</td>\n",
       "    </tr>\n",
       "    <tr>\n",
       "      <th>4</th>\n",
       "      <td>-1.150438</td>\n",
       "      <td>0.491962</td>\n",
       "      <td>-2.619006</td>\n",
       "      <td>0.862278</td>\n",
       "      <td>0.714115</td>\n",
       "      <td>1.544537</td>\n",
       "      <td>5.460146</td>\n",
       "      <td>-0.029839</td>\n",
       "      <td>1.0</td>\n",
       "    </tr>\n",
       "  </tbody>\n",
       "</table>\n",
       "</div>"
      ],
      "text/plain": [
       "   Pregnancies   Glucose  BloodPressure  SkinThickness   Insulin       BMI  \\\n",
       "0     0.635022  0.849933      -0.032378       0.862278 -0.722572  0.164562   \n",
       "1    -0.852861 -1.200262      -0.517370       0.480644 -0.722572 -0.852262   \n",
       "2     1.230175  1.988930      -0.679035      -1.363918 -0.722572 -1.331622   \n",
       "3    -0.852861 -1.070091      -0.517370       0.099010  0.081288 -0.634371   \n",
       "4    -1.150438  0.491962      -2.619006       0.862278  0.714115  1.544537   \n",
       "\n",
       "   DiabetesPedigreeFunction       Age  Outcome  \n",
       "0                  0.458421  1.416075      1.0  \n",
       "1                 -0.372691 -0.199947      0.0  \n",
       "2                  0.593928 -0.114893      1.0  \n",
       "3                 -0.926765 -1.050485      0.0  \n",
       "4                  5.460146 -0.029839      1.0  "
      ]
     },
     "execution_count": 30,
     "metadata": {},
     "output_type": "execute_result"
    }
   ],
   "source": [
    "normal_df.head()"
   ]
  },
  {
   "cell_type": "code",
   "execution_count": 31,
   "id": "5b71f605",
   "metadata": {},
   "outputs": [
    {
     "data": {
      "text/plain": [
       "Pregnancies                 44\n",
       "Glucose                     44\n",
       "BloodPressure               44\n",
       "SkinThickness               44\n",
       "Insulin                     44\n",
       "BMI                         44\n",
       "DiabetesPedigreeFunction    44\n",
       "Age                         44\n",
       "Outcome                     44\n",
       "dtype: int64"
      ]
     },
     "execution_count": 31,
     "metadata": {},
     "output_type": "execute_result"
    }
   ],
   "source": [
    "normal_df.isna().sum()"
   ]
  },
  {
   "cell_type": "code",
   "execution_count": 32,
   "id": "594f1cfc",
   "metadata": {},
   "outputs": [],
   "source": [
    "# drop NA\n",
    "normal_df = normal_df.dropna()"
   ]
  },
  {
   "cell_type": "code",
   "execution_count": null,
   "id": "4ea49087",
   "metadata": {},
   "outputs": [],
   "source": []
  },
  {
   "cell_type": "code",
   "execution_count": null,
   "id": "0ddd3b93",
   "metadata": {},
   "outputs": [],
   "source": []
  },
  {
   "cell_type": "markdown",
   "id": "37bf3a29",
   "metadata": {},
   "source": [
    "### Modeling"
   ]
  },
  {
   "cell_type": "code",
   "execution_count": 33,
   "id": "af60a54a",
   "metadata": {},
   "outputs": [],
   "source": [
    "from sklearn.model_selection import train_test_split\n",
    "from sklearn import tree\n",
    "from sklearn.linear_model import LogisticRegression\n",
    "from sklearn.metrics import confusion_matrix\n",
    "from sklearn.metrics import f1_score"
   ]
  },
  {
   "cell_type": "code",
   "execution_count": 34,
   "id": "4af87e38",
   "metadata": {},
   "outputs": [],
   "source": [
    "y = normal_df['Outcome']\n",
    "X = normal_df.iloc[:,:-1]"
   ]
  },
  {
   "cell_type": "code",
   "execution_count": 35,
   "id": "914bf1e3",
   "metadata": {},
   "outputs": [],
   "source": [
    "X_train, X_test, y_train, y_test = train_test_split(X, y, test_size=0.30, random_state=2001)"
   ]
  },
  {
   "cell_type": "code",
   "execution_count": null,
   "id": "1a11f9e1",
   "metadata": {},
   "outputs": [],
   "source": []
  },
  {
   "cell_type": "markdown",
   "id": "ad6af497",
   "metadata": {},
   "source": [
    "#### Decision Tree"
   ]
  },
  {
   "cell_type": "code",
   "execution_count": 36,
   "id": "a2775754",
   "metadata": {},
   "outputs": [
    {
     "name": "stdout",
     "output_type": "stream",
     "text": [
      "Decision Tree Accuracy: 0.6568627450980392\n"
     ]
    }
   ],
   "source": [
    "# create a Decision Tree using entropy as attribute selection\n",
    "DT_clf = tree.DecisionTreeClassifier(criterion='entropy', max_depth=2)\n",
    "\n",
    "# training the tree\n",
    "DT_clf = DT_clf.fit(X_train, y_train)\n",
    "\n",
    "# generate predictions\n",
    "y_pred = DT_clf.predict(X_test)\n",
    "\n",
    "# print overall accuracy\n",
    "print('Decision Tree Accuracy:', sum(y_pred == y_test)/len(y_pred))"
   ]
  },
  {
   "cell_type": "code",
   "execution_count": 37,
   "id": "c053ca60",
   "metadata": {},
   "outputs": [
    {
     "data": {
      "text/plain": [
       "array([[134,   0],\n",
       "       [ 70,   0]])"
      ]
     },
     "execution_count": 37,
     "metadata": {},
     "output_type": "execute_result"
    }
   ],
   "source": [
    "c_mat = confusion_matrix(y_test, y_pred)\n",
    "c_mat"
   ]
  },
  {
   "cell_type": "code",
   "execution_count": 38,
   "id": "1d85cb3f",
   "metadata": {},
   "outputs": [
    {
     "name": "stdout",
     "output_type": "stream",
     "text": [
      "DT F1 Score: 0.0\n",
      "DT Precision: 0.6568627450980392\n",
      "DT Recall: 1.0\n"
     ]
    }
   ],
   "source": [
    "F1_score = f1_score(y_test, y_pred)\n",
    "precision = c_mat[0,0] / (c_mat[0,0]+c_mat[1,0])\n",
    "recall = c_mat[0,0] / (c_mat[0,0]+c_mat[0,1])\n",
    "\n",
    "print('DT F1 Score:', F1_score)\n",
    "print('DT Precision:', precision)\n",
    "print('DT Recall:', recall)"
   ]
  },
  {
   "cell_type": "markdown",
   "id": "779d9761",
   "metadata": {},
   "source": [
    "#### Optimize Parameters"
   ]
  },
  {
   "cell_type": "code",
   "execution_count": 39,
   "id": "5d96209c",
   "metadata": {},
   "outputs": [
    {
     "data": {
      "text/plain": [
       "GridSearchCV(cv=5, estimator=DecisionTreeClassifier(),\n",
       "             param_grid={'criterion': ['gini', 'entropy'],\n",
       "                         'max_depth': [8, 10, 12, 14]})"
      ]
     },
     "execution_count": 39,
     "metadata": {},
     "output_type": "execute_result"
    }
   ],
   "source": [
    "# grid search\n",
    "from sklearn.model_selection import GridSearchCV\n",
    "\n",
    "tree_params_grid = {'criterion':['gini','entropy'],\n",
    "                    'max_depth':[8,10,12,14]}\n",
    "DT_clf = GridSearchCV(estimator=tree.DecisionTreeClassifier(), param_grid=tree_params_grid, cv=5)\n",
    "DT_clf.fit(X_train, y_train)"
   ]
  },
  {
   "cell_type": "code",
   "execution_count": 40,
   "id": "a6e408e3",
   "metadata": {},
   "outputs": [
    {
     "data": {
      "text/plain": [
       "{'criterion': 'entropy', 'max_depth': 12}"
      ]
     },
     "execution_count": 40,
     "metadata": {},
     "output_type": "execute_result"
    }
   ],
   "source": [
    "DT_clf.best_params_"
   ]
  },
  {
   "cell_type": "code",
   "execution_count": null,
   "id": "fbb0c464",
   "metadata": {},
   "outputs": [],
   "source": []
  },
  {
   "cell_type": "markdown",
   "id": "b6ac02f8",
   "metadata": {},
   "source": [
    "#### Best DT Model"
   ]
  },
  {
   "cell_type": "code",
   "execution_count": 49,
   "id": "62bd6ea0",
   "metadata": {},
   "outputs": [
    {
     "name": "stdout",
     "output_type": "stream",
     "text": [
      "Decision Tree Accuracy: 0.5882352941176471\n",
      "DT F1 Score: 0.4473684210526316\n",
      "DT Precision: 0.6568627450980392\n",
      "DT Recall: 1.0\n"
     ]
    }
   ],
   "source": [
    "# create a Decision Tree using entropy as attribute selection\n",
    "DT_clf = tree.DecisionTreeClassifier(criterion='entropy', max_depth=12)\n",
    "\n",
    "# training the tree\n",
    "DT_clf = DT_clf.fit(X_train, y_train)\n",
    "\n",
    "# generate predictions\n",
    "y_pred = DT_clf.predict(X_test)\n",
    "\n",
    "# print overall accuracy\n",
    "print('Decision Tree Accuracy:', sum(y_pred == y_test)/len(y_pred))\n",
    "\n",
    "F1_score = f1_score(y_test, y_pred)\n",
    "precision = c_mat[0,0] / (c_mat[0,0]+c_mat[1,0])\n",
    "recall = c_mat[0,0] / (c_mat[0,0]+c_mat[0,1])\n",
    "\n",
    "print('DT F1 Score:', F1_score)\n",
    "print('DT Precision:', precision)\n",
    "print('DT Recall:', recall)"
   ]
  },
  {
   "cell_type": "code",
   "execution_count": null,
   "id": "a331ad04",
   "metadata": {},
   "outputs": [],
   "source": []
  },
  {
   "cell_type": "markdown",
   "id": "a2910c5f",
   "metadata": {},
   "source": [
    "#### Logistic Regression"
   ]
  },
  {
   "cell_type": "code",
   "execution_count": 41,
   "id": "37ea7652",
   "metadata": {},
   "outputs": [
    {
     "name": "stdout",
     "output_type": "stream",
     "text": [
      "Logistic Reg. Accuracy: 0.6568627450980392\n"
     ]
    }
   ],
   "source": [
    "# create a LR classifier\n",
    "LR_clf = LogisticRegression(random_state=0).fit(X_train, y_train)\n",
    "\n",
    "# generate predictions\n",
    "y_pred = LR_clf.predict(X_test)\n",
    "\n",
    "# print overall accuracy\n",
    "print('Logistic Reg. Accuracy:', sum(y_pred == y_test)/len(y_pred))"
   ]
  },
  {
   "cell_type": "code",
   "execution_count": 42,
   "id": "d38189d2",
   "metadata": {},
   "outputs": [
    {
     "data": {
      "text/plain": [
       "array([[134,   0],\n",
       "       [ 70,   0]])"
      ]
     },
     "execution_count": 42,
     "metadata": {},
     "output_type": "execute_result"
    }
   ],
   "source": [
    "c_mat = confusion_matrix(y_test, y_pred)\n",
    "c_mat"
   ]
  },
  {
   "cell_type": "code",
   "execution_count": 43,
   "id": "296d908a",
   "metadata": {},
   "outputs": [
    {
     "name": "stdout",
     "output_type": "stream",
     "text": [
      "Logistic Regression F1 Score: 0.0\n",
      "Logistic Regression Precision: 0.6568627450980392\n",
      "Logistic Regression Recall: 1.0\n"
     ]
    }
   ],
   "source": [
    "F1_score = f1_score(y_test, y_pred)\n",
    "precision = c_mat[0,0] / (c_mat[0,0]+c_mat[1,0])\n",
    "recall = c_mat[0,0] / (c_mat[0,0]+c_mat[0,1])\n",
    "\n",
    "print('Logistic Regression F1 Score:', F1_score)\n",
    "print('Logistic Regression Precision:', precision)\n",
    "print('Logistic Regression Recall:', recall)"
   ]
  },
  {
   "cell_type": "markdown",
   "id": "23b6a8f1",
   "metadata": {},
   "source": [
    "#### Optimize Parameters"
   ]
  },
  {
   "cell_type": "code",
   "execution_count": 44,
   "id": "376a567f",
   "metadata": {
    "scrolled": false
   },
   "outputs": [
    {
     "name": "stderr",
     "output_type": "stream",
     "text": [
      "/opt/anaconda3/lib/python3.9/site-packages/sklearn/model_selection/_validation.py:372: FitFailedWarning: \n",
      "15 fits failed out of a total of 30.\n",
      "The score on these train-test partitions for these parameters will be set to nan.\n",
      "If these failures are not expected, you can try to debug them by setting error_score='raise'.\n",
      "\n",
      "Below are more details about the failures:\n",
      "--------------------------------------------------------------------------------\n",
      "15 fits failed with the following error:\n",
      "Traceback (most recent call last):\n",
      "  File \"/opt/anaconda3/lib/python3.9/site-packages/sklearn/model_selection/_validation.py\", line 680, in _fit_and_score\n",
      "    estimator.fit(X_train, y_train, **fit_params)\n",
      "  File \"/opt/anaconda3/lib/python3.9/site-packages/sklearn/linear_model/_logistic.py\", line 1461, in fit\n",
      "    solver = _check_solver(self.solver, self.penalty, self.dual)\n",
      "  File \"/opt/anaconda3/lib/python3.9/site-packages/sklearn/linear_model/_logistic.py\", line 447, in _check_solver\n",
      "    raise ValueError(\n",
      "ValueError: Solver lbfgs supports only 'l2' or 'none' penalties, got l1 penalty.\n",
      "\n",
      "  warnings.warn(some_fits_failed_message, FitFailedWarning)\n",
      "/opt/anaconda3/lib/python3.9/site-packages/sklearn/model_selection/_search.py:969: UserWarning: One or more of the test scores are non-finite: [       nan 0.65339912        nan 0.65131579        nan 0.65131579]\n",
      "  warnings.warn(\n"
     ]
    },
    {
     "data": {
      "text/plain": [
       "GridSearchCV(cv=5, estimator=LogisticRegression(),\n",
       "             param_grid={'C': [0.1, 1, 10], 'penalty': ['l1', 'l2']})"
      ]
     },
     "execution_count": 44,
     "metadata": {},
     "output_type": "execute_result"
    }
   ],
   "source": [
    "LR_grid = {'penalty': ['l1','l2'], \n",
    "           'C': [0.1,1,10]}\n",
    "LR_clf = GridSearchCV(estimator=LogisticRegression(), param_grid=LR_grid, cv=5)\n",
    "LR_clf.fit(X_train, y_train)"
   ]
  },
  {
   "cell_type": "code",
   "execution_count": 45,
   "id": "18cad881",
   "metadata": {},
   "outputs": [
    {
     "data": {
      "text/plain": [
       "{'C': 0.1, 'penalty': 'l2'}"
      ]
     },
     "execution_count": 45,
     "metadata": {},
     "output_type": "execute_result"
    }
   ],
   "source": [
    "LR_clf.best_params_"
   ]
  },
  {
   "cell_type": "markdown",
   "id": "a8a566a1",
   "metadata": {},
   "source": [
    "#### Best LR Model"
   ]
  },
  {
   "cell_type": "code",
   "execution_count": 46,
   "id": "98476263",
   "metadata": {},
   "outputs": [
    {
     "name": "stdout",
     "output_type": "stream",
     "text": [
      "Logistic Reg. Accuracy: 0.6568627450980392\n"
     ]
    }
   ],
   "source": [
    "# create a LR classifier\n",
    "LR_clf = LogisticRegression(random_state=0, C=0.1, penalty='l2').fit(X_train, y_train)\n",
    "\n",
    "# generate predictions\n",
    "y_pred = LR_clf.predict(X_test)\n",
    "\n",
    "# print overall accuracy\n",
    "print('Logistic Reg. Accuracy:', sum(y_pred == y_test)/len(y_pred))"
   ]
  },
  {
   "cell_type": "code",
   "execution_count": 47,
   "id": "f53cb037",
   "metadata": {},
   "outputs": [
    {
     "data": {
      "text/plain": [
       "array([[134,   0],\n",
       "       [ 70,   0]])"
      ]
     },
     "execution_count": 47,
     "metadata": {},
     "output_type": "execute_result"
    }
   ],
   "source": [
    "c_mat = confusion_matrix(y_test, y_pred)\n",
    "c_mat"
   ]
  },
  {
   "cell_type": "code",
   "execution_count": 48,
   "id": "c2332afa",
   "metadata": {},
   "outputs": [
    {
     "name": "stdout",
     "output_type": "stream",
     "text": [
      "Logistic Regression F1 Score: 0.0\n",
      "Logistic Regression Precision: 0.6568627450980392\n",
      "Logistic Regression Recall: 1.0\n"
     ]
    }
   ],
   "source": [
    "F1_score = f1_score(y_test, y_pred)\n",
    "precision = c_mat[0,0] / (c_mat[0,0]+c_mat[1,0])\n",
    "recall = c_mat[0,0] / (c_mat[0,0]+c_mat[0,1])\n",
    "\n",
    "print('Logistic Regression F1 Score:', F1_score)\n",
    "print('Logistic Regression Precision:', precision)\n",
    "print('Logistic Regression Recall:', recall)"
   ]
  },
  {
   "cell_type": "code",
   "execution_count": null,
   "id": "5d18abf5",
   "metadata": {},
   "outputs": [],
   "source": []
  },
  {
   "cell_type": "markdown",
   "id": "40a51491",
   "metadata": {},
   "source": [
    "The results idicate that the Logistic Regression mmodel has better overall accuracy and the Decision Tree model has the better F1 score. In the context of predicting diabetes, false positives are more favorable than false negatives, thus we would likely opt to use the Decision Tree model, as F1-score is a more appropriate metric for considering the harmful effects of false negatives, i.e. failing to diagnose a patient with diabetes when they truly have the disease."
   ]
  },
  {
   "cell_type": "code",
   "execution_count": null,
   "id": "6712a573",
   "metadata": {},
   "outputs": [],
   "source": []
  },
  {
   "cell_type": "code",
   "execution_count": null,
   "id": "611f2c13",
   "metadata": {},
   "outputs": [],
   "source": []
  },
  {
   "cell_type": "code",
   "execution_count": null,
   "id": "6cd3c898",
   "metadata": {},
   "outputs": [],
   "source": []
  },
  {
   "cell_type": "markdown",
   "id": "81aa988b",
   "metadata": {
    "id": "XhW0T5hwlzKX"
   },
   "source": [
    "# Part C: UNSUPERVISED LEARNING <a class=\"anchor\" id=\"p3\"></a>\n",
    "[back to top](#top)"
   ]
  },
  {
   "cell_type": "markdown",
   "id": "47e78b5f",
   "metadata": {
    "id": "nyoqleurksuM"
   },
   "source": [
    "### Prompt:\n",
    "You are tasked with performing customer segmentation using unsupervised learning techniques on a given dataset. The dataset contains various attributes of customers, such as gender, marital status, age, education, work experience, spending score, and family size.\n",
    "\n",
    "Here's an explanation of each column in the dataset:\n",
    "\n",
    "* **ID**: Unique identifier for each customer.\n",
    "* **Gender**: Gender of the customer. It can be either 'Male' or 'Female'.\n",
    "* **Ever_Married**: Indicates if the customer is married or not. It can have two values: 'Yes' or 'No'.\n",
    "* **Age**: Age of the customer at the time of data collection.\n",
    "* **Graduated**: Indicates if the customer has a degree or not. It can have two values: 'Yes' or 'No'.\n",
    "* **Work_Experience**: The work experience of the customer in years.\n",
    "* **Spending_Score**: A variable indicating how much a customer spends. It could be categorized into different levels like 'Low', 'Average', or 'High'.\n",
    "* **Family_Size**: Total number of people in the customer's family.\n",
    "\n",
    "Using the following instructions, perform unsupervisied learning on the given dataset.\n",
    "\n",
    "**NOTE: DO NOT REMOVE THE COMMENTS DESCRIBING THE TASK. A PENALTY OF 3 POINTS WILL BE GIVEN IF DELETED. ADD EXTRA CODE CELLS IF REQUIRED**"
   ]
  },
  {
   "cell_type": "code",
   "execution_count": 1,
   "id": "f81dc8b5",
   "metadata": {},
   "outputs": [],
   "source": [
    "import numpy as np\n",
    "import matplotlib.pyplot as plt\n",
    "import pandas as pd\n",
    "import random"
   ]
  },
  {
   "cell_type": "markdown",
   "id": "b6db918c",
   "metadata": {
    "id": "MbRbcDUIltqO"
   },
   "source": [
    "## C1 - (3 points)\n",
    "\n",
    "This is the easy part. Reading the dataset and describe it.  "
   ]
  },
  {
   "cell_type": "code",
   "execution_count": 2,
   "id": "06cf6926",
   "metadata": {
    "id": "ni71r47rkrVK"
   },
   "outputs": [],
   "source": [
    "#ADD YOUR CODE TO READ THE DATASET (0.5 points)\n",
    "df = pd.read_csv('../data/Customer_Dataset.csv')"
   ]
  },
  {
   "cell_type": "code",
   "execution_count": 3,
   "id": "273ebd36",
   "metadata": {
    "id": "4V4UpOvNmhLV"
   },
   "outputs": [
    {
     "data": {
      "text/html": [
       "<div>\n",
       "<style scoped>\n",
       "    .dataframe tbody tr th:only-of-type {\n",
       "        vertical-align: middle;\n",
       "    }\n",
       "\n",
       "    .dataframe tbody tr th {\n",
       "        vertical-align: top;\n",
       "    }\n",
       "\n",
       "    .dataframe thead th {\n",
       "        text-align: right;\n",
       "    }\n",
       "</style>\n",
       "<table border=\"1\" class=\"dataframe\">\n",
       "  <thead>\n",
       "    <tr style=\"text-align: right;\">\n",
       "      <th></th>\n",
       "      <th>ID</th>\n",
       "      <th>Gender</th>\n",
       "      <th>Ever_Married</th>\n",
       "      <th>Age</th>\n",
       "      <th>Graduated</th>\n",
       "      <th>Profession</th>\n",
       "      <th>Work_Experience</th>\n",
       "      <th>Spending_Score</th>\n",
       "      <th>Family_Size</th>\n",
       "    </tr>\n",
       "  </thead>\n",
       "  <tbody>\n",
       "    <tr>\n",
       "      <th>0</th>\n",
       "      <td>462809</td>\n",
       "      <td>Male</td>\n",
       "      <td>No</td>\n",
       "      <td>22</td>\n",
       "      <td>No</td>\n",
       "      <td>Healthcare</td>\n",
       "      <td>1.0</td>\n",
       "      <td>Low</td>\n",
       "      <td>4.0</td>\n",
       "    </tr>\n",
       "    <tr>\n",
       "      <th>1</th>\n",
       "      <td>462643</td>\n",
       "      <td>Female</td>\n",
       "      <td>Yes</td>\n",
       "      <td>38</td>\n",
       "      <td>Yes</td>\n",
       "      <td>Engineer</td>\n",
       "      <td>NaN</td>\n",
       "      <td>Average</td>\n",
       "      <td>3.0</td>\n",
       "    </tr>\n",
       "    <tr>\n",
       "      <th>2</th>\n",
       "      <td>466315</td>\n",
       "      <td>Female</td>\n",
       "      <td>Yes</td>\n",
       "      <td>67</td>\n",
       "      <td>Yes</td>\n",
       "      <td>Engineer</td>\n",
       "      <td>1.0</td>\n",
       "      <td>Low</td>\n",
       "      <td>1.0</td>\n",
       "    </tr>\n",
       "    <tr>\n",
       "      <th>3</th>\n",
       "      <td>461735</td>\n",
       "      <td>Male</td>\n",
       "      <td>Yes</td>\n",
       "      <td>67</td>\n",
       "      <td>Yes</td>\n",
       "      <td>Lawyer</td>\n",
       "      <td>0.0</td>\n",
       "      <td>High</td>\n",
       "      <td>2.0</td>\n",
       "    </tr>\n",
       "    <tr>\n",
       "      <th>4</th>\n",
       "      <td>462669</td>\n",
       "      <td>Female</td>\n",
       "      <td>Yes</td>\n",
       "      <td>40</td>\n",
       "      <td>Yes</td>\n",
       "      <td>Entertainment</td>\n",
       "      <td>NaN</td>\n",
       "      <td>High</td>\n",
       "      <td>6.0</td>\n",
       "    </tr>\n",
       "  </tbody>\n",
       "</table>\n",
       "</div>"
      ],
      "text/plain": [
       "       ID  Gender Ever_Married  Age Graduated     Profession  Work_Experience  \\\n",
       "0  462809    Male           No   22        No     Healthcare              1.0   \n",
       "1  462643  Female          Yes   38       Yes       Engineer              NaN   \n",
       "2  466315  Female          Yes   67       Yes       Engineer              1.0   \n",
       "3  461735    Male          Yes   67       Yes         Lawyer              0.0   \n",
       "4  462669  Female          Yes   40       Yes  Entertainment              NaN   \n",
       "\n",
       "  Spending_Score  Family_Size  \n",
       "0            Low          4.0  \n",
       "1        Average          3.0  \n",
       "2            Low          1.0  \n",
       "3           High          2.0  \n",
       "4           High          6.0  "
      ]
     },
     "execution_count": 3,
     "metadata": {},
     "output_type": "execute_result"
    }
   ],
   "source": [
    "#ADD YOUR CODE TO PRINT THE DESCRIPTION OF THE DATASET (0.5 points)\n",
    "df.head()"
   ]
  },
  {
   "cell_type": "code",
   "execution_count": 4,
   "id": "7e6a565c",
   "metadata": {
    "id": "snZaG0ZkmwRX"
   },
   "outputs": [
    {
     "name": "stdout",
     "output_type": "stream",
     "text": [
      "<class 'pandas.core.frame.DataFrame'>\n",
      "RangeIndex: 8068 entries, 0 to 8067\n",
      "Data columns (total 9 columns):\n",
      " #   Column           Non-Null Count  Dtype  \n",
      "---  ------           --------------  -----  \n",
      " 0   ID               8068 non-null   int64  \n",
      " 1   Gender           8068 non-null   object \n",
      " 2   Ever_Married     7928 non-null   object \n",
      " 3   Age              8068 non-null   int64  \n",
      " 4   Graduated        7990 non-null   object \n",
      " 5   Profession       7944 non-null   object \n",
      " 6   Work_Experience  7239 non-null   float64\n",
      " 7   Spending_Score   8068 non-null   object \n",
      " 8   Family_Size      7733 non-null   float64\n",
      "dtypes: float64(2), int64(2), object(5)\n",
      "memory usage: 567.4+ KB\n"
     ]
    }
   ],
   "source": [
    "#ADD YOUR CODE TO PRINT THE INFO (0.5 points)\n",
    "df.info()"
   ]
  },
  {
   "cell_type": "code",
   "execution_count": 5,
   "id": "9a9bae17",
   "metadata": {
    "id": "rXyOif4Qm03H"
   },
   "outputs": [
    {
     "name": "stdout",
     "output_type": "stream",
     "text": [
      "Attribute:  Gender\n",
      "Number of unique column values:  2\n",
      "Male      4417\n",
      "Female    3651\n",
      "Name: Gender, dtype: int64\n",
      "-------------------------------------------------------------\n",
      "Attribute:  Ever_Married\n",
      "Number of unique column values:  3\n",
      "Yes    4643\n",
      "No     3285\n",
      "Name: Ever_Married, dtype: int64\n",
      "-------------------------------------------------------------\n",
      "Attribute:  Graduated\n",
      "Number of unique column values:  3\n",
      "Yes    4968\n",
      "No     3022\n",
      "Name: Graduated, dtype: int64\n",
      "-------------------------------------------------------------\n",
      "Attribute:  Profession\n",
      "Number of unique column values:  10\n",
      "Artist           2516\n",
      "Healthcare       1332\n",
      "Entertainment     949\n",
      "Engineer          699\n",
      "Doctor            688\n",
      "Lawyer            623\n",
      "Executive         599\n",
      "Marketing         292\n",
      "Homemaker         246\n",
      "Name: Profession, dtype: int64\n",
      "-------------------------------------------------------------\n",
      "Attribute:  Spending_Score\n",
      "Number of unique column values:  3\n",
      "Low        4878\n",
      "Average    1974\n",
      "High       1216\n",
      "Name: Spending_Score, dtype: int64\n",
      "-------------------------------------------------------------\n"
     ]
    }
   ],
   "source": [
    "#ADD YOUR CODE TO SHOW THE COUNT OF UNIQUE VALUES FOR EACH CATEGORICAL VARIABLE (0.5 points)\n",
    "for colname in ['Gender', 'Ever_Married', 'Graduated', 'Profession', 'Spending_Score']:\n",
    "    print('Attribute: ', colname)\n",
    "    print('Number of unique column values: ', len(df[colname].unique()))\n",
    "    print(df[colname].value_counts())\n",
    "    print('-------------------------------------------------------------')"
   ]
  },
  {
   "cell_type": "code",
   "execution_count": 6,
   "id": "b1b9bf75",
   "metadata": {
    "id": "bpaxRrNdm6YG"
   },
   "outputs": [
    {
     "data": {
      "text/plain": [
       "ID                   0\n",
       "Gender               0\n",
       "Ever_Married       140\n",
       "Age                  0\n",
       "Graduated           78\n",
       "Profession         124\n",
       "Work_Experience    829\n",
       "Spending_Score       0\n",
       "Family_Size        335\n",
       "dtype: int64"
      ]
     },
     "execution_count": 6,
     "metadata": {},
     "output_type": "execute_result"
    }
   ],
   "source": [
    "#ADD YOUR CODE TO PRINT THE COUNT OF NAN VALUES IN EACH COLUMN (0.5 points)\n",
    "df.isna().sum()"
   ]
  },
  {
   "cell_type": "code",
   "execution_count": 7,
   "id": "cee281e9",
   "metadata": {
    "id": "akPhmoOdnEAf"
   },
   "outputs": [],
   "source": [
    "#ADD YOUR CODE TO DROP THE ID COLUMN (0.5 points)\n",
    "df = df.drop(columns=['ID'])"
   ]
  },
  {
   "cell_type": "code",
   "execution_count": null,
   "id": "b01498bd",
   "metadata": {
    "id": "A1uUhQAznNF8"
   },
   "outputs": [],
   "source": []
  },
  {
   "cell_type": "markdown",
   "id": "b0c7cdce",
   "metadata": {
    "id": "Vo_ba-2oneCA"
   },
   "source": [
    "## C2 - (7 points)"
   ]
  },
  {
   "cell_type": "markdown",
   "id": "cb26f7d6",
   "metadata": {
    "id": "FDp_AYTunihs"
   },
   "source": [
    "This part is concerned with data cleaning"
   ]
  },
  {
   "cell_type": "code",
   "execution_count": 8,
   "id": "f97e334f",
   "metadata": {},
   "outputs": [
    {
     "data": {
      "text/html": [
       "<div>\n",
       "<style scoped>\n",
       "    .dataframe tbody tr th:only-of-type {\n",
       "        vertical-align: middle;\n",
       "    }\n",
       "\n",
       "    .dataframe tbody tr th {\n",
       "        vertical-align: top;\n",
       "    }\n",
       "\n",
       "    .dataframe thead th {\n",
       "        text-align: right;\n",
       "    }\n",
       "</style>\n",
       "<table border=\"1\" class=\"dataframe\">\n",
       "  <thead>\n",
       "    <tr style=\"text-align: right;\">\n",
       "      <th></th>\n",
       "      <th>Gender</th>\n",
       "      <th>Ever_Married</th>\n",
       "      <th>Age</th>\n",
       "      <th>Graduated</th>\n",
       "      <th>Profession</th>\n",
       "      <th>Work_Experience</th>\n",
       "      <th>Spending_Score</th>\n",
       "      <th>Family_Size</th>\n",
       "    </tr>\n",
       "  </thead>\n",
       "  <tbody>\n",
       "    <tr>\n",
       "      <th>0</th>\n",
       "      <td>Male</td>\n",
       "      <td>No</td>\n",
       "      <td>22</td>\n",
       "      <td>No</td>\n",
       "      <td>Healthcare</td>\n",
       "      <td>1.0</td>\n",
       "      <td>Low</td>\n",
       "      <td>4.0</td>\n",
       "    </tr>\n",
       "    <tr>\n",
       "      <th>1</th>\n",
       "      <td>Female</td>\n",
       "      <td>Yes</td>\n",
       "      <td>38</td>\n",
       "      <td>Yes</td>\n",
       "      <td>Engineer</td>\n",
       "      <td>NaN</td>\n",
       "      <td>Average</td>\n",
       "      <td>3.0</td>\n",
       "    </tr>\n",
       "  </tbody>\n",
       "</table>\n",
       "</div>"
      ],
      "text/plain": [
       "   Gender Ever_Married  Age Graduated  Profession  Work_Experience  \\\n",
       "0    Male           No   22        No  Healthcare              1.0   \n",
       "1  Female          Yes   38       Yes    Engineer              NaN   \n",
       "\n",
       "  Spending_Score  Family_Size  \n",
       "0            Low          4.0  \n",
       "1        Average          3.0  "
      ]
     },
     "execution_count": 8,
     "metadata": {},
     "output_type": "execute_result"
    }
   ],
   "source": [
    "df.head(2)"
   ]
  },
  {
   "cell_type": "code",
   "execution_count": 9,
   "id": "8a1273fd",
   "metadata": {
    "id": "XFzFD6npnhOM"
   },
   "outputs": [],
   "source": [
    "#ADD YOUR CODE TO REPLACE NAN VALUES IN THE 'Ever_Married' AND 'Graduated' COLUMNS WITH THEIR MODE (2 points)\n",
    "df['Ever_Married'].fillna(df['Ever_Married'].mode()[0], inplace=True)\n",
    "df['Graduated'].fillna(df['Graduated'].mode()[0], inplace=True)"
   ]
  },
  {
   "cell_type": "code",
   "execution_count": 10,
   "id": "77597773",
   "metadata": {},
   "outputs": [
    {
     "data": {
      "text/plain": [
       "Gender               0\n",
       "Ever_Married         0\n",
       "Age                  0\n",
       "Graduated            0\n",
       "Profession         124\n",
       "Work_Experience    829\n",
       "Spending_Score       0\n",
       "Family_Size        335\n",
       "dtype: int64"
      ]
     },
     "execution_count": 10,
     "metadata": {},
     "output_type": "execute_result"
    }
   ],
   "source": [
    "df.isna().sum()"
   ]
  },
  {
   "cell_type": "code",
   "execution_count": 11,
   "id": "9c0cb0c1",
   "metadata": {
    "id": "jwuR7dEAnsvz"
   },
   "outputs": [],
   "source": [
    "#ADD YOUR CODE TO REPLACE NAN VALUES IN THE 'Profession' COLUMN WITH THE STRING 'Unknown' (1 Point)\n",
    "df['Profession'].fillna('Unknown', inplace=True)"
   ]
  },
  {
   "cell_type": "code",
   "execution_count": 12,
   "id": "37bccf7d",
   "metadata": {},
   "outputs": [
    {
     "data": {
      "text/plain": [
       "Gender               0\n",
       "Ever_Married         0\n",
       "Age                  0\n",
       "Graduated            0\n",
       "Profession           0\n",
       "Work_Experience    829\n",
       "Spending_Score       0\n",
       "Family_Size        335\n",
       "dtype: int64"
      ]
     },
     "execution_count": 12,
     "metadata": {},
     "output_type": "execute_result"
    }
   ],
   "source": [
    "df.isna().sum()"
   ]
  },
  {
   "cell_type": "code",
   "execution_count": 13,
   "id": "493198b3",
   "metadata": {
    "id": "9rNxSugEn3zh"
   },
   "outputs": [
    {
     "data": {
      "text/plain": [
       "Profession\n",
       "Artist           2.708460\n",
       "Doctor           2.622222\n",
       "Engineer         2.595541\n",
       "Entertainment    2.755220\n",
       "Executive        2.327652\n",
       "Healthcare       2.592061\n",
       "Homemaker        6.464455\n",
       "Lawyer           1.229630\n",
       "Marketing        2.616601\n",
       "Unknown          2.397959\n",
       "Name: Work_Experience, dtype: float64"
      ]
     },
     "execution_count": 13,
     "metadata": {},
     "output_type": "execute_result"
    }
   ],
   "source": [
    "#ADD YOUR CODE TO PRINT THE AVERAGE WORK EXPERIENCE FOR EACH PROFESSION (1 point)\n",
    "avg_work_by_pro = df.groupby('Profession').mean()['Work_Experience']\n",
    "avg_work_by_pro"
   ]
  },
  {
   "cell_type": "code",
   "execution_count": 14,
   "id": "36c0645b",
   "metadata": {
    "id": "wQiTkqFOoLGJ"
   },
   "outputs": [],
   "source": [
    "#ADD YOUR CODE TO REPLACE NAN VALUES IN THE 'Work_Experience' COLUMN WITH\n",
    "#THE AVERAGE WORK EXPERIENCE VALUE FOR THE CORRESPONDING PROFESSION (2 point)\n",
    "mapp = dict(avg_work_by_pro)\n",
    "\n",
    "df['Work_Experience'].fillna(df['Profession'].map(mapp), inplace=True)"
   ]
  },
  {
   "cell_type": "code",
   "execution_count": 15,
   "id": "db6de8fa",
   "metadata": {},
   "outputs": [
    {
     "data": {
      "text/plain": [
       "Gender               0\n",
       "Ever_Married         0\n",
       "Age                  0\n",
       "Graduated            0\n",
       "Profession           0\n",
       "Work_Experience      0\n",
       "Spending_Score       0\n",
       "Family_Size        335\n",
       "dtype: int64"
      ]
     },
     "execution_count": 15,
     "metadata": {},
     "output_type": "execute_result"
    }
   ],
   "source": [
    "df.isna().sum()"
   ]
  },
  {
   "cell_type": "code",
   "execution_count": null,
   "id": "69e2dbac",
   "metadata": {},
   "outputs": [],
   "source": []
  },
  {
   "cell_type": "code",
   "execution_count": 16,
   "id": "2a9487bd",
   "metadata": {
    "id": "6WxOdGABokI7"
   },
   "outputs": [],
   "source": [
    "#ADD YOUR CODE TO REPLACE NAN VALUES IN THE 'Family_Size' COLUMN WITH ITS MEAN (1 point)\n",
    "df['Family_Size'].fillna(df['Family_Size'].mean(), inplace=True)"
   ]
  },
  {
   "cell_type": "code",
   "execution_count": 17,
   "id": "69c89c41",
   "metadata": {},
   "outputs": [
    {
     "data": {
      "text/plain": [
       "Gender             0\n",
       "Ever_Married       0\n",
       "Age                0\n",
       "Graduated          0\n",
       "Profession         0\n",
       "Work_Experience    0\n",
       "Spending_Score     0\n",
       "Family_Size        0\n",
       "dtype: int64"
      ]
     },
     "execution_count": 17,
     "metadata": {},
     "output_type": "execute_result"
    }
   ],
   "source": [
    "df.isna().sum()"
   ]
  },
  {
   "cell_type": "code",
   "execution_count": null,
   "id": "9f08a7e8",
   "metadata": {},
   "outputs": [],
   "source": []
  },
  {
   "cell_type": "markdown",
   "id": "99fb26ce",
   "metadata": {
    "id": "uOLGPV6qov8X"
   },
   "source": [
    "## C3 - (3 points)"
   ]
  },
  {
   "cell_type": "markdown",
   "id": "d3c7c1e4",
   "metadata": {
    "id": "j1wdsFxApY64"
   },
   "source": [
    "This part requires you to encoding and scale the dataset"
   ]
  },
  {
   "cell_type": "code",
   "execution_count": 18,
   "id": "e90354f2",
   "metadata": {
    "id": "suWhd3SRopV2"
   },
   "outputs": [],
   "source": [
    "#ADD YOUR CODE TO ENCODE THE COLUMNS\n",
    "#'Gender', 'Ever_Married', 'Graduated', 'Spending_Score', 'Profession'\n",
    "#USING APPROPRIATE ENCODING TECHNIQUES (2.5 points)\n",
    "\n",
    "# create categorical maps\n",
    "gender_map = {'Female':0, 'Male':1}\n",
    "married_map = {'No':0, 'Yes':1}\n",
    "grad_map = {'No':0, 'Yes':1}\n",
    "sscore_map = {'Low': 0, 'Average':1, 'High':2}\n",
    "\n",
    "# apply mappings and replace boolean with integer representation\n",
    "df['Gender'] = df['Gender'].replace(gender_map)\n",
    "df['Ever_Married'] = df['Ever_Married'].replace(married_map)\n",
    "df['Graduated'] = df['Graduated'].replace(grad_map)\n",
    "df['Spending_Score'] = df['Spending_Score'].replace(sscore_map)\n",
    "\n",
    "# # change name of gender column \n",
    "# df.rename(columns={'Gender':'isMale'})\n",
    "\n",
    "# OHE Profession column \n",
    "pro_ohe = pd.get_dummies(df[['Profession']])\n",
    "df = pd.concat([df,pro_ohe], axis=1)\n",
    "\n",
    "# drop the Profession column\n",
    "df = df.drop(columns=['Profession'])\n"
   ]
  },
  {
   "cell_type": "code",
   "execution_count": 19,
   "id": "128557fc",
   "metadata": {
    "id": "9vp4p1x2pPW4"
   },
   "outputs": [],
   "source": [
    "#ADD YOUR CODE TO SCALE THE DATASET USING MINMAXSCALER (0.5 Points)\n",
    "from sklearn.preprocessing import MinMaxScaler\n",
    "\n",
    "scaler = MinMaxScaler()\n",
    "scaled = scaler.fit_transform(df)\n",
    "scaled_df = pd.DataFrame(scaled, columns=df.columns)"
   ]
  },
  {
   "cell_type": "code",
   "execution_count": 20,
   "id": "98f0cbb3",
   "metadata": {},
   "outputs": [
    {
     "data": {
      "text/html": [
       "<div>\n",
       "<style scoped>\n",
       "    .dataframe tbody tr th:only-of-type {\n",
       "        vertical-align: middle;\n",
       "    }\n",
       "\n",
       "    .dataframe tbody tr th {\n",
       "        vertical-align: top;\n",
       "    }\n",
       "\n",
       "    .dataframe thead th {\n",
       "        text-align: right;\n",
       "    }\n",
       "</style>\n",
       "<table border=\"1\" class=\"dataframe\">\n",
       "  <thead>\n",
       "    <tr style=\"text-align: right;\">\n",
       "      <th></th>\n",
       "      <th>Gender</th>\n",
       "      <th>Ever_Married</th>\n",
       "      <th>Age</th>\n",
       "      <th>Graduated</th>\n",
       "      <th>Work_Experience</th>\n",
       "      <th>Spending_Score</th>\n",
       "      <th>Family_Size</th>\n",
       "      <th>Profession_Artist</th>\n",
       "      <th>Profession_Doctor</th>\n",
       "      <th>Profession_Engineer</th>\n",
       "      <th>Profession_Entertainment</th>\n",
       "      <th>Profession_Executive</th>\n",
       "      <th>Profession_Healthcare</th>\n",
       "      <th>Profession_Homemaker</th>\n",
       "      <th>Profession_Lawyer</th>\n",
       "      <th>Profession_Marketing</th>\n",
       "      <th>Profession_Unknown</th>\n",
       "    </tr>\n",
       "  </thead>\n",
       "  <tbody>\n",
       "    <tr>\n",
       "      <th>0</th>\n",
       "      <td>1.0</td>\n",
       "      <td>0.0</td>\n",
       "      <td>0.056338</td>\n",
       "      <td>0.0</td>\n",
       "      <td>0.071429</td>\n",
       "      <td>0.0</td>\n",
       "      <td>0.375</td>\n",
       "      <td>0.0</td>\n",
       "      <td>0.0</td>\n",
       "      <td>0.0</td>\n",
       "      <td>0.0</td>\n",
       "      <td>0.0</td>\n",
       "      <td>1.0</td>\n",
       "      <td>0.0</td>\n",
       "      <td>0.0</td>\n",
       "      <td>0.0</td>\n",
       "      <td>0.0</td>\n",
       "    </tr>\n",
       "    <tr>\n",
       "      <th>1</th>\n",
       "      <td>0.0</td>\n",
       "      <td>1.0</td>\n",
       "      <td>0.281690</td>\n",
       "      <td>1.0</td>\n",
       "      <td>0.185396</td>\n",
       "      <td>0.5</td>\n",
       "      <td>0.250</td>\n",
       "      <td>0.0</td>\n",
       "      <td>0.0</td>\n",
       "      <td>1.0</td>\n",
       "      <td>0.0</td>\n",
       "      <td>0.0</td>\n",
       "      <td>0.0</td>\n",
       "      <td>0.0</td>\n",
       "      <td>0.0</td>\n",
       "      <td>0.0</td>\n",
       "      <td>0.0</td>\n",
       "    </tr>\n",
       "    <tr>\n",
       "      <th>2</th>\n",
       "      <td>0.0</td>\n",
       "      <td>1.0</td>\n",
       "      <td>0.690141</td>\n",
       "      <td>1.0</td>\n",
       "      <td>0.071429</td>\n",
       "      <td>0.0</td>\n",
       "      <td>0.000</td>\n",
       "      <td>0.0</td>\n",
       "      <td>0.0</td>\n",
       "      <td>1.0</td>\n",
       "      <td>0.0</td>\n",
       "      <td>0.0</td>\n",
       "      <td>0.0</td>\n",
       "      <td>0.0</td>\n",
       "      <td>0.0</td>\n",
       "      <td>0.0</td>\n",
       "      <td>0.0</td>\n",
       "    </tr>\n",
       "    <tr>\n",
       "      <th>3</th>\n",
       "      <td>1.0</td>\n",
       "      <td>1.0</td>\n",
       "      <td>0.690141</td>\n",
       "      <td>1.0</td>\n",
       "      <td>0.000000</td>\n",
       "      <td>1.0</td>\n",
       "      <td>0.125</td>\n",
       "      <td>0.0</td>\n",
       "      <td>0.0</td>\n",
       "      <td>0.0</td>\n",
       "      <td>0.0</td>\n",
       "      <td>0.0</td>\n",
       "      <td>0.0</td>\n",
       "      <td>0.0</td>\n",
       "      <td>1.0</td>\n",
       "      <td>0.0</td>\n",
       "      <td>0.0</td>\n",
       "    </tr>\n",
       "    <tr>\n",
       "      <th>4</th>\n",
       "      <td>0.0</td>\n",
       "      <td>1.0</td>\n",
       "      <td>0.309859</td>\n",
       "      <td>1.0</td>\n",
       "      <td>0.196801</td>\n",
       "      <td>1.0</td>\n",
       "      <td>0.625</td>\n",
       "      <td>0.0</td>\n",
       "      <td>0.0</td>\n",
       "      <td>0.0</td>\n",
       "      <td>1.0</td>\n",
       "      <td>0.0</td>\n",
       "      <td>0.0</td>\n",
       "      <td>0.0</td>\n",
       "      <td>0.0</td>\n",
       "      <td>0.0</td>\n",
       "      <td>0.0</td>\n",
       "    </tr>\n",
       "  </tbody>\n",
       "</table>\n",
       "</div>"
      ],
      "text/plain": [
       "   Gender  Ever_Married       Age  Graduated  Work_Experience  Spending_Score  \\\n",
       "0     1.0           0.0  0.056338        0.0         0.071429             0.0   \n",
       "1     0.0           1.0  0.281690        1.0         0.185396             0.5   \n",
       "2     0.0           1.0  0.690141        1.0         0.071429             0.0   \n",
       "3     1.0           1.0  0.690141        1.0         0.000000             1.0   \n",
       "4     0.0           1.0  0.309859        1.0         0.196801             1.0   \n",
       "\n",
       "   Family_Size  Profession_Artist  Profession_Doctor  Profession_Engineer  \\\n",
       "0        0.375                0.0                0.0                  0.0   \n",
       "1        0.250                0.0                0.0                  1.0   \n",
       "2        0.000                0.0                0.0                  1.0   \n",
       "3        0.125                0.0                0.0                  0.0   \n",
       "4        0.625                0.0                0.0                  0.0   \n",
       "\n",
       "   Profession_Entertainment  Profession_Executive  Profession_Healthcare  \\\n",
       "0                       0.0                   0.0                    1.0   \n",
       "1                       0.0                   0.0                    0.0   \n",
       "2                       0.0                   0.0                    0.0   \n",
       "3                       0.0                   0.0                    0.0   \n",
       "4                       1.0                   0.0                    0.0   \n",
       "\n",
       "   Profession_Homemaker  Profession_Lawyer  Profession_Marketing  \\\n",
       "0                   0.0                0.0                   0.0   \n",
       "1                   0.0                0.0                   0.0   \n",
       "2                   0.0                0.0                   0.0   \n",
       "3                   0.0                1.0                   0.0   \n",
       "4                   0.0                0.0                   0.0   \n",
       "\n",
       "   Profession_Unknown  \n",
       "0                 0.0  \n",
       "1                 0.0  \n",
       "2                 0.0  \n",
       "3                 0.0  \n",
       "4                 0.0  "
      ]
     },
     "execution_count": 20,
     "metadata": {},
     "output_type": "execute_result"
    }
   ],
   "source": [
    "scaled_df.head()"
   ]
  },
  {
   "cell_type": "code",
   "execution_count": null,
   "id": "420d3893",
   "metadata": {},
   "outputs": [],
   "source": []
  },
  {
   "cell_type": "markdown",
   "id": "6912ac3d",
   "metadata": {
    "id": "8a1NXQhupseA"
   },
   "source": [
    "## C4 - (7 points)"
   ]
  },
  {
   "cell_type": "markdown",
   "id": "bbc6a20e",
   "metadata": {
    "id": "MdaFgz2Tpxc9"
   },
   "source": [
    "This part is for creating a clustering model using KMeans"
   ]
  },
  {
   "cell_type": "code",
   "execution_count": 21,
   "id": "a4b81c11",
   "metadata": {},
   "outputs": [],
   "source": [
    "import pandas as pd\n",
    "from sklearn.cluster import KMeans"
   ]
  },
  {
   "cell_type": "code",
   "execution_count": 22,
   "id": "4d90aeef",
   "metadata": {},
   "outputs": [
    {
     "ename": "AttributeError",
     "evalue": "'NoneType' object has no attribute 'split'",
     "output_type": "error",
     "traceback": [
      "\u001b[0;31m---------------------------------------------------------------------------\u001b[0m",
      "\u001b[0;31mAttributeError\u001b[0m                            Traceback (most recent call last)",
      "Input \u001b[0;32mIn [22]\u001b[0m, in \u001b[0;36m<cell line: 3>\u001b[0;34m()\u001b[0m\n\u001b[1;32m      1\u001b[0m \u001b[38;5;66;03m# returning an error when I try to use only 1 cluster and I cannot figure out why.\u001b[39;00m\n\u001b[1;32m      2\u001b[0m model \u001b[38;5;241m=\u001b[39m KMeans(n_clusters\u001b[38;5;241m=\u001b[39m\u001b[38;5;241m1\u001b[39m, random_state\u001b[38;5;241m=\u001b[39m\u001b[38;5;241m2001\u001b[39m)\n\u001b[0;32m----> 3\u001b[0m \u001b[43mmodel\u001b[49m\u001b[38;5;241;43m.\u001b[39;49m\u001b[43mfit_predict\u001b[49m\u001b[43m(\u001b[49m\u001b[43mscaled_df\u001b[49m\u001b[43m)\u001b[49m\n",
      "File \u001b[0;32m/opt/anaconda3/lib/python3.9/site-packages/sklearn/cluster/_kmeans.py:1255\u001b[0m, in \u001b[0;36mKMeans.fit_predict\u001b[0;34m(self, X, y, sample_weight)\u001b[0m\n\u001b[1;32m   1232\u001b[0m \u001b[38;5;28;01mdef\u001b[39;00m \u001b[38;5;21mfit_predict\u001b[39m(\u001b[38;5;28mself\u001b[39m, X, y\u001b[38;5;241m=\u001b[39m\u001b[38;5;28;01mNone\u001b[39;00m, sample_weight\u001b[38;5;241m=\u001b[39m\u001b[38;5;28;01mNone\u001b[39;00m):\n\u001b[1;32m   1233\u001b[0m     \u001b[38;5;124;03m\"\"\"Compute cluster centers and predict cluster index for each sample.\u001b[39;00m\n\u001b[1;32m   1234\u001b[0m \n\u001b[1;32m   1235\u001b[0m \u001b[38;5;124;03m    Convenience method; equivalent to calling fit(X) followed by\u001b[39;00m\n\u001b[0;32m   (...)\u001b[0m\n\u001b[1;32m   1253\u001b[0m \u001b[38;5;124;03m        Index of the cluster each sample belongs to.\u001b[39;00m\n\u001b[1;32m   1254\u001b[0m \u001b[38;5;124;03m    \"\"\"\u001b[39;00m\n\u001b[0;32m-> 1255\u001b[0m     \u001b[38;5;28;01mreturn\u001b[39;00m \u001b[38;5;28;43mself\u001b[39;49m\u001b[38;5;241;43m.\u001b[39;49m\u001b[43mfit\u001b[49m\u001b[43m(\u001b[49m\u001b[43mX\u001b[49m\u001b[43m,\u001b[49m\u001b[43m \u001b[49m\u001b[43msample_weight\u001b[49m\u001b[38;5;241;43m=\u001b[39;49m\u001b[43msample_weight\u001b[49m\u001b[43m)\u001b[49m\u001b[38;5;241m.\u001b[39mlabels_\n",
      "File \u001b[0;32m/opt/anaconda3/lib/python3.9/site-packages/sklearn/cluster/_kmeans.py:1186\u001b[0m, in \u001b[0;36mKMeans.fit\u001b[0;34m(self, X, y, sample_weight)\u001b[0m\n\u001b[1;32m   1183\u001b[0m     \u001b[38;5;28mprint\u001b[39m(\u001b[38;5;124m\"\u001b[39m\u001b[38;5;124mInitialization complete\u001b[39m\u001b[38;5;124m\"\u001b[39m)\n\u001b[1;32m   1185\u001b[0m \u001b[38;5;66;03m# run a k-means once\u001b[39;00m\n\u001b[0;32m-> 1186\u001b[0m labels, inertia, centers, n_iter_ \u001b[38;5;241m=\u001b[39m \u001b[43mkmeans_single\u001b[49m\u001b[43m(\u001b[49m\n\u001b[1;32m   1187\u001b[0m \u001b[43m    \u001b[49m\u001b[43mX\u001b[49m\u001b[43m,\u001b[49m\n\u001b[1;32m   1188\u001b[0m \u001b[43m    \u001b[49m\u001b[43msample_weight\u001b[49m\u001b[43m,\u001b[49m\n\u001b[1;32m   1189\u001b[0m \u001b[43m    \u001b[49m\u001b[43mcenters_init\u001b[49m\u001b[43m,\u001b[49m\n\u001b[1;32m   1190\u001b[0m \u001b[43m    \u001b[49m\u001b[43mmax_iter\u001b[49m\u001b[38;5;241;43m=\u001b[39;49m\u001b[38;5;28;43mself\u001b[39;49m\u001b[38;5;241;43m.\u001b[39;49m\u001b[43mmax_iter\u001b[49m\u001b[43m,\u001b[49m\n\u001b[1;32m   1191\u001b[0m \u001b[43m    \u001b[49m\u001b[43mverbose\u001b[49m\u001b[38;5;241;43m=\u001b[39;49m\u001b[38;5;28;43mself\u001b[39;49m\u001b[38;5;241;43m.\u001b[39;49m\u001b[43mverbose\u001b[49m\u001b[43m,\u001b[49m\n\u001b[1;32m   1192\u001b[0m \u001b[43m    \u001b[49m\u001b[43mtol\u001b[49m\u001b[38;5;241;43m=\u001b[39;49m\u001b[38;5;28;43mself\u001b[39;49m\u001b[38;5;241;43m.\u001b[39;49m\u001b[43m_tol\u001b[49m\u001b[43m,\u001b[49m\n\u001b[1;32m   1193\u001b[0m \u001b[43m    \u001b[49m\u001b[43mx_squared_norms\u001b[49m\u001b[38;5;241;43m=\u001b[39;49m\u001b[43mx_squared_norms\u001b[49m\u001b[43m,\u001b[49m\n\u001b[1;32m   1194\u001b[0m \u001b[43m    \u001b[49m\u001b[43mn_threads\u001b[49m\u001b[38;5;241;43m=\u001b[39;49m\u001b[38;5;28;43mself\u001b[39;49m\u001b[38;5;241;43m.\u001b[39;49m\u001b[43m_n_threads\u001b[49m\u001b[43m,\u001b[49m\n\u001b[1;32m   1195\u001b[0m \u001b[43m\u001b[49m\u001b[43m)\u001b[49m\n\u001b[1;32m   1197\u001b[0m \u001b[38;5;66;03m# determine if these results are the best so far\u001b[39;00m\n\u001b[1;32m   1198\u001b[0m \u001b[38;5;66;03m# we chose a new run if it has a better inertia and the clustering is\u001b[39;00m\n\u001b[1;32m   1199\u001b[0m \u001b[38;5;66;03m# different from the best so far (it's possible that the inertia is\u001b[39;00m\n\u001b[1;32m   1200\u001b[0m \u001b[38;5;66;03m# slightly better even if the clustering is the same with potentially\u001b[39;00m\n\u001b[1;32m   1201\u001b[0m \u001b[38;5;66;03m# permuted labels, due to rounding errors)\u001b[39;00m\n\u001b[1;32m   1202\u001b[0m \u001b[38;5;28;01mif\u001b[39;00m best_inertia \u001b[38;5;129;01mis\u001b[39;00m \u001b[38;5;28;01mNone\u001b[39;00m \u001b[38;5;129;01mor\u001b[39;00m (\n\u001b[1;32m   1203\u001b[0m     inertia \u001b[38;5;241m<\u001b[39m best_inertia\n\u001b[1;32m   1204\u001b[0m     \u001b[38;5;129;01mand\u001b[39;00m \u001b[38;5;129;01mnot\u001b[39;00m _is_same_clustering(labels, best_labels, \u001b[38;5;28mself\u001b[39m\u001b[38;5;241m.\u001b[39mn_clusters)\n\u001b[1;32m   1205\u001b[0m ):\n",
      "File \u001b[0;32m/opt/anaconda3/lib/python3.9/site-packages/sklearn/cluster/_kmeans.py:625\u001b[0m, in \u001b[0;36m_kmeans_single_lloyd\u001b[0;34m(X, sample_weight, centers_init, max_iter, verbose, x_squared_norms, tol, n_threads)\u001b[0m\n\u001b[1;32m    621\u001b[0m strict_convergence \u001b[38;5;241m=\u001b[39m \u001b[38;5;28;01mFalse\u001b[39;00m\n\u001b[1;32m    623\u001b[0m \u001b[38;5;66;03m# Threadpoolctl context to limit the number of threads in second level of\u001b[39;00m\n\u001b[1;32m    624\u001b[0m \u001b[38;5;66;03m# nested parallelism (i.e. BLAS) to avoid oversubsciption.\u001b[39;00m\n\u001b[0;32m--> 625\u001b[0m \u001b[38;5;28;01mwith\u001b[39;00m \u001b[43mthreadpool_limits\u001b[49m\u001b[43m(\u001b[49m\u001b[43mlimits\u001b[49m\u001b[38;5;241;43m=\u001b[39;49m\u001b[38;5;241;43m1\u001b[39;49m\u001b[43m,\u001b[49m\u001b[43m \u001b[49m\u001b[43muser_api\u001b[49m\u001b[38;5;241;43m=\u001b[39;49m\u001b[38;5;124;43m\"\u001b[39;49m\u001b[38;5;124;43mblas\u001b[39;49m\u001b[38;5;124;43m\"\u001b[39;49m\u001b[43m)\u001b[49m:\n\u001b[1;32m    626\u001b[0m     \u001b[38;5;28;01mfor\u001b[39;00m i \u001b[38;5;129;01min\u001b[39;00m \u001b[38;5;28mrange\u001b[39m(max_iter):\n\u001b[1;32m    627\u001b[0m         lloyd_iter(\n\u001b[1;32m    628\u001b[0m             X,\n\u001b[1;32m    629\u001b[0m             sample_weight,\n\u001b[0;32m   (...)\u001b[0m\n\u001b[1;32m    636\u001b[0m             n_threads,\n\u001b[1;32m    637\u001b[0m         )\n",
      "File \u001b[0;32m/opt/anaconda3/lib/python3.9/site-packages/sklearn/utils/fixes.py:314\u001b[0m, in \u001b[0;36mthreadpool_limits\u001b[0;34m(limits, user_api)\u001b[0m\n\u001b[1;32m    312\u001b[0m     \u001b[38;5;28;01mreturn\u001b[39;00m controller\u001b[38;5;241m.\u001b[39mlimit(limits\u001b[38;5;241m=\u001b[39mlimits, user_api\u001b[38;5;241m=\u001b[39muser_api)\n\u001b[1;32m    313\u001b[0m \u001b[38;5;28;01melse\u001b[39;00m:\n\u001b[0;32m--> 314\u001b[0m     \u001b[38;5;28;01mreturn\u001b[39;00m \u001b[43mthreadpoolctl\u001b[49m\u001b[38;5;241;43m.\u001b[39;49m\u001b[43mthreadpool_limits\u001b[49m\u001b[43m(\u001b[49m\u001b[43mlimits\u001b[49m\u001b[38;5;241;43m=\u001b[39;49m\u001b[43mlimits\u001b[49m\u001b[43m,\u001b[49m\u001b[43m \u001b[49m\u001b[43muser_api\u001b[49m\u001b[38;5;241;43m=\u001b[39;49m\u001b[43muser_api\u001b[49m\u001b[43m)\u001b[49m\n",
      "File \u001b[0;32m/opt/anaconda3/lib/python3.9/site-packages/threadpoolctl.py:171\u001b[0m, in \u001b[0;36mthreadpool_limits.__init__\u001b[0;34m(self, limits, user_api)\u001b[0m\n\u001b[1;32m    167\u001b[0m \u001b[38;5;28;01mdef\u001b[39;00m \u001b[38;5;21m__init__\u001b[39m(\u001b[38;5;28mself\u001b[39m, limits\u001b[38;5;241m=\u001b[39m\u001b[38;5;28;01mNone\u001b[39;00m, user_api\u001b[38;5;241m=\u001b[39m\u001b[38;5;28;01mNone\u001b[39;00m):\n\u001b[1;32m    168\u001b[0m     \u001b[38;5;28mself\u001b[39m\u001b[38;5;241m.\u001b[39m_limits, \u001b[38;5;28mself\u001b[39m\u001b[38;5;241m.\u001b[39m_user_api, \u001b[38;5;28mself\u001b[39m\u001b[38;5;241m.\u001b[39m_prefixes \u001b[38;5;241m=\u001b[39m \\\n\u001b[1;32m    169\u001b[0m         \u001b[38;5;28mself\u001b[39m\u001b[38;5;241m.\u001b[39m_check_params(limits, user_api)\n\u001b[0;32m--> 171\u001b[0m     \u001b[38;5;28mself\u001b[39m\u001b[38;5;241m.\u001b[39m_original_info \u001b[38;5;241m=\u001b[39m \u001b[38;5;28;43mself\u001b[39;49m\u001b[38;5;241;43m.\u001b[39;49m\u001b[43m_set_threadpool_limits\u001b[49m\u001b[43m(\u001b[49m\u001b[43m)\u001b[49m\n",
      "File \u001b[0;32m/opt/anaconda3/lib/python3.9/site-packages/threadpoolctl.py:268\u001b[0m, in \u001b[0;36mthreadpool_limits._set_threadpool_limits\u001b[0;34m(self)\u001b[0m\n\u001b[1;32m    265\u001b[0m \u001b[38;5;28;01mif\u001b[39;00m \u001b[38;5;28mself\u001b[39m\u001b[38;5;241m.\u001b[39m_limits \u001b[38;5;129;01mis\u001b[39;00m \u001b[38;5;28;01mNone\u001b[39;00m:\n\u001b[1;32m    266\u001b[0m     \u001b[38;5;28;01mreturn\u001b[39;00m \u001b[38;5;28;01mNone\u001b[39;00m\n\u001b[0;32m--> 268\u001b[0m modules \u001b[38;5;241m=\u001b[39m \u001b[43m_ThreadpoolInfo\u001b[49m\u001b[43m(\u001b[49m\u001b[43mprefixes\u001b[49m\u001b[38;5;241;43m=\u001b[39;49m\u001b[38;5;28;43mself\u001b[39;49m\u001b[38;5;241;43m.\u001b[39;49m\u001b[43m_prefixes\u001b[49m\u001b[43m,\u001b[49m\n\u001b[1;32m    269\u001b[0m \u001b[43m                          \u001b[49m\u001b[43muser_api\u001b[49m\u001b[38;5;241;43m=\u001b[39;49m\u001b[38;5;28;43mself\u001b[39;49m\u001b[38;5;241;43m.\u001b[39;49m\u001b[43m_user_api\u001b[49m\u001b[43m)\u001b[49m\n\u001b[1;32m    270\u001b[0m \u001b[38;5;28;01mfor\u001b[39;00m module \u001b[38;5;129;01min\u001b[39;00m modules:\n\u001b[1;32m    271\u001b[0m     \u001b[38;5;66;03m# self._limits is a dict {key: num_threads} where key is either\u001b[39;00m\n\u001b[1;32m    272\u001b[0m     \u001b[38;5;66;03m# a prefix or a user_api. If a module matches both, the limit\u001b[39;00m\n\u001b[1;32m    273\u001b[0m     \u001b[38;5;66;03m# corresponding to the prefix is chosed.\u001b[39;00m\n\u001b[1;32m    274\u001b[0m     \u001b[38;5;28;01mif\u001b[39;00m module\u001b[38;5;241m.\u001b[39mprefix \u001b[38;5;129;01min\u001b[39;00m \u001b[38;5;28mself\u001b[39m\u001b[38;5;241m.\u001b[39m_limits:\n",
      "File \u001b[0;32m/opt/anaconda3/lib/python3.9/site-packages/threadpoolctl.py:340\u001b[0m, in \u001b[0;36m_ThreadpoolInfo.__init__\u001b[0;34m(self, user_api, prefixes, modules)\u001b[0m\n\u001b[1;32m    337\u001b[0m     \u001b[38;5;28mself\u001b[39m\u001b[38;5;241m.\u001b[39muser_api \u001b[38;5;241m=\u001b[39m [] \u001b[38;5;28;01mif\u001b[39;00m user_api \u001b[38;5;129;01mis\u001b[39;00m \u001b[38;5;28;01mNone\u001b[39;00m \u001b[38;5;28;01melse\u001b[39;00m user_api\n\u001b[1;32m    339\u001b[0m     \u001b[38;5;28mself\u001b[39m\u001b[38;5;241m.\u001b[39mmodules \u001b[38;5;241m=\u001b[39m []\n\u001b[0;32m--> 340\u001b[0m     \u001b[38;5;28;43mself\u001b[39;49m\u001b[38;5;241;43m.\u001b[39;49m\u001b[43m_load_modules\u001b[49m\u001b[43m(\u001b[49m\u001b[43m)\u001b[49m\n\u001b[1;32m    341\u001b[0m     \u001b[38;5;28mself\u001b[39m\u001b[38;5;241m.\u001b[39m_warn_if_incompatible_openmp()\n\u001b[1;32m    342\u001b[0m \u001b[38;5;28;01melse\u001b[39;00m:\n",
      "File \u001b[0;32m/opt/anaconda3/lib/python3.9/site-packages/threadpoolctl.py:371\u001b[0m, in \u001b[0;36m_ThreadpoolInfo._load_modules\u001b[0;34m(self)\u001b[0m\n\u001b[1;32m    369\u001b[0m \u001b[38;5;124;03m\"\"\"Loop through loaded libraries and store supported ones\"\"\"\u001b[39;00m\n\u001b[1;32m    370\u001b[0m \u001b[38;5;28;01mif\u001b[39;00m sys\u001b[38;5;241m.\u001b[39mplatform \u001b[38;5;241m==\u001b[39m \u001b[38;5;124m\"\u001b[39m\u001b[38;5;124mdarwin\u001b[39m\u001b[38;5;124m\"\u001b[39m:\n\u001b[0;32m--> 371\u001b[0m     \u001b[38;5;28;43mself\u001b[39;49m\u001b[38;5;241;43m.\u001b[39;49m\u001b[43m_find_modules_with_dyld\u001b[49m\u001b[43m(\u001b[49m\u001b[43m)\u001b[49m\n\u001b[1;32m    372\u001b[0m \u001b[38;5;28;01melif\u001b[39;00m sys\u001b[38;5;241m.\u001b[39mplatform \u001b[38;5;241m==\u001b[39m \u001b[38;5;124m\"\u001b[39m\u001b[38;5;124mwin32\u001b[39m\u001b[38;5;124m\"\u001b[39m:\n\u001b[1;32m    373\u001b[0m     \u001b[38;5;28mself\u001b[39m\u001b[38;5;241m.\u001b[39m_find_modules_with_enum_process_module_ex()\n",
      "File \u001b[0;32m/opt/anaconda3/lib/python3.9/site-packages/threadpoolctl.py:428\u001b[0m, in \u001b[0;36m_ThreadpoolInfo._find_modules_with_dyld\u001b[0;34m(self)\u001b[0m\n\u001b[1;32m    425\u001b[0m filepath \u001b[38;5;241m=\u001b[39m filepath\u001b[38;5;241m.\u001b[39mdecode(\u001b[38;5;124m\"\u001b[39m\u001b[38;5;124mutf-8\u001b[39m\u001b[38;5;124m\"\u001b[39m)\n\u001b[1;32m    427\u001b[0m \u001b[38;5;66;03m# Store the module if it is supported and selected\u001b[39;00m\n\u001b[0;32m--> 428\u001b[0m \u001b[38;5;28;43mself\u001b[39;49m\u001b[38;5;241;43m.\u001b[39;49m\u001b[43m_make_module_from_path\u001b[49m\u001b[43m(\u001b[49m\u001b[43mfilepath\u001b[49m\u001b[43m)\u001b[49m\n",
      "File \u001b[0;32m/opt/anaconda3/lib/python3.9/site-packages/threadpoolctl.py:515\u001b[0m, in \u001b[0;36m_ThreadpoolInfo._make_module_from_path\u001b[0;34m(self, filepath)\u001b[0m\n\u001b[1;32m    513\u001b[0m \u001b[38;5;28;01mif\u001b[39;00m prefix \u001b[38;5;129;01min\u001b[39;00m \u001b[38;5;28mself\u001b[39m\u001b[38;5;241m.\u001b[39mprefixes \u001b[38;5;129;01mor\u001b[39;00m user_api \u001b[38;5;129;01min\u001b[39;00m \u001b[38;5;28mself\u001b[39m\u001b[38;5;241m.\u001b[39muser_api:\n\u001b[1;32m    514\u001b[0m     module_class \u001b[38;5;241m=\u001b[39m \u001b[38;5;28mglobals\u001b[39m()[module_class]\n\u001b[0;32m--> 515\u001b[0m     module \u001b[38;5;241m=\u001b[39m \u001b[43mmodule_class\u001b[49m\u001b[43m(\u001b[49m\u001b[43mfilepath\u001b[49m\u001b[43m,\u001b[49m\u001b[43m \u001b[49m\u001b[43mprefix\u001b[49m\u001b[43m,\u001b[49m\u001b[43m \u001b[49m\u001b[43muser_api\u001b[49m\u001b[43m,\u001b[49m\u001b[43m \u001b[49m\u001b[43minternal_api\u001b[49m\u001b[43m)\u001b[49m\n\u001b[1;32m    516\u001b[0m     \u001b[38;5;28mself\u001b[39m\u001b[38;5;241m.\u001b[39mmodules\u001b[38;5;241m.\u001b[39mappend(module)\n",
      "File \u001b[0;32m/opt/anaconda3/lib/python3.9/site-packages/threadpoolctl.py:606\u001b[0m, in \u001b[0;36m_Module.__init__\u001b[0;34m(self, filepath, prefix, user_api, internal_api)\u001b[0m\n\u001b[1;32m    604\u001b[0m \u001b[38;5;28mself\u001b[39m\u001b[38;5;241m.\u001b[39minternal_api \u001b[38;5;241m=\u001b[39m internal_api\n\u001b[1;32m    605\u001b[0m \u001b[38;5;28mself\u001b[39m\u001b[38;5;241m.\u001b[39m_dynlib \u001b[38;5;241m=\u001b[39m ctypes\u001b[38;5;241m.\u001b[39mCDLL(filepath, mode\u001b[38;5;241m=\u001b[39m_RTLD_NOLOAD)\n\u001b[0;32m--> 606\u001b[0m \u001b[38;5;28mself\u001b[39m\u001b[38;5;241m.\u001b[39mversion \u001b[38;5;241m=\u001b[39m \u001b[38;5;28;43mself\u001b[39;49m\u001b[38;5;241;43m.\u001b[39;49m\u001b[43mget_version\u001b[49m\u001b[43m(\u001b[49m\u001b[43m)\u001b[49m\n\u001b[1;32m    607\u001b[0m \u001b[38;5;28mself\u001b[39m\u001b[38;5;241m.\u001b[39mnum_threads \u001b[38;5;241m=\u001b[39m \u001b[38;5;28mself\u001b[39m\u001b[38;5;241m.\u001b[39mget_num_threads()\n\u001b[1;32m    608\u001b[0m \u001b[38;5;28mself\u001b[39m\u001b[38;5;241m.\u001b[39m_get_extra_info()\n",
      "File \u001b[0;32m/opt/anaconda3/lib/python3.9/site-packages/threadpoolctl.py:646\u001b[0m, in \u001b[0;36m_OpenBLASModule.get_version\u001b[0;34m(self)\u001b[0m\n\u001b[1;32m    643\u001b[0m get_config \u001b[38;5;241m=\u001b[39m \u001b[38;5;28mgetattr\u001b[39m(\u001b[38;5;28mself\u001b[39m\u001b[38;5;241m.\u001b[39m_dynlib, \u001b[38;5;124m\"\u001b[39m\u001b[38;5;124mopenblas_get_config\u001b[39m\u001b[38;5;124m\"\u001b[39m,\n\u001b[1;32m    644\u001b[0m                      \u001b[38;5;28;01mlambda\u001b[39;00m: \u001b[38;5;28;01mNone\u001b[39;00m)\n\u001b[1;32m    645\u001b[0m get_config\u001b[38;5;241m.\u001b[39mrestype \u001b[38;5;241m=\u001b[39m ctypes\u001b[38;5;241m.\u001b[39mc_char_p\n\u001b[0;32m--> 646\u001b[0m config \u001b[38;5;241m=\u001b[39m \u001b[43mget_config\u001b[49m\u001b[43m(\u001b[49m\u001b[43m)\u001b[49m\u001b[38;5;241;43m.\u001b[39;49m\u001b[43msplit\u001b[49m()\n\u001b[1;32m    647\u001b[0m \u001b[38;5;28;01mif\u001b[39;00m config[\u001b[38;5;241m0\u001b[39m] \u001b[38;5;241m==\u001b[39m \u001b[38;5;124mb\u001b[39m\u001b[38;5;124m\"\u001b[39m\u001b[38;5;124mOpenBLAS\u001b[39m\u001b[38;5;124m\"\u001b[39m:\n\u001b[1;32m    648\u001b[0m     \u001b[38;5;28;01mreturn\u001b[39;00m config[\u001b[38;5;241m1\u001b[39m]\u001b[38;5;241m.\u001b[39mdecode(\u001b[38;5;124m\"\u001b[39m\u001b[38;5;124mutf-8\u001b[39m\u001b[38;5;124m\"\u001b[39m)\n",
      "\u001b[0;31mAttributeError\u001b[0m: 'NoneType' object has no attribute 'split'"
     ]
    }
   ],
   "source": [
    "# returning an error when I try to use only 1 cluster and I cannot figure out why.\n",
    "model = KMeans(n_clusters=1, random_state=2001)\n",
    "model.fit_predict(scaled_df)"
   ]
  },
  {
   "cell_type": "code",
   "execution_count": 23,
   "id": "06ec763a",
   "metadata": {
    "id": "caSf228wpSm6"
   },
   "outputs": [],
   "source": [
    "#ADD YOUR CODE TO FIT A KMEANS MODEL FOR n_clusters VALUES RANGING FROM 1 TO 10 (BOTH INCLUSIVE) (1 point)\n",
    "#ALSO RECORD THE INERTIA VALUE FOR EVERY N_CLUSTER (1 point)\n",
    "\n",
    "# within-cluster sum of squares\n",
    "wcss = [] \n",
    "for i in range(2,11):\n",
    "    model = KMeans(n_clusters=i, random_state=2001)\n",
    "    y_kmeans = model.fit_predict(scaled_df)\n",
    "    wcss.append(model.inertia_)  # record inter-cluster inertia"
   ]
  },
  {
   "cell_type": "code",
   "execution_count": 24,
   "id": "a16cc7bf",
   "metadata": {
    "id": "MAISCaX-p8Y9"
   },
   "outputs": [
    {
     "data": {
      "image/png": "[encoded data removed]",
      "text/plain": [
       "<Figure size 432x288 with 1 Axes>"
      ]
     },
     "metadata": {
      "needs_background": "light"
     },
     "output_type": "display_data"
    }
   ],
   "source": [
    "#USE THE ELBOW METHOD TO FIND THE OPTIMAL NUMBER OF CLUSTERS.\n",
    "#PLOT A GRAPH OF N_CLUSTERS VS INERTIA AND INTERPRET THE OPTIMAL VALUE (1 point)\n",
    "\n",
    "plt.plot(range(2,11), wcss)\n",
    "plt.xlabel('Number of Clusters')\n",
    "plt.ylabel('WCSS')\n",
    "plt.title('Elbow Method')\n",
    "plt.show()"
   ]
  },
  {
   "cell_type": "markdown",
   "id": "19c9018d",
   "metadata": {
    "id": "V9IWdk-bqXRO"
   },
   "source": [
    "#### EXPLAIN THE REASON BEHIND SELECTING THE OPTIMAL VALUE (1 point)\n",
    "- The optimal number of clusters is the value after the most significant drop in the model inertia. Even if the model inertia continues to decline as we add more clusters, we would like to have the smallest number of clusters possible to increase the generalizability of the model as well as the computational speed.\n",
    "- Thus, we choose to use 3 clusters."
   ]
  },
  {
   "cell_type": "code",
   "execution_count": 25,
   "id": "c5e72fc7",
   "metadata": {
    "id": "rhp1fQJ9q8UZ"
   },
   "outputs": [],
   "source": [
    "#FIT A KMEANS MODEL AGAIN BASED ON THE OPTIMAL NUMBER OF CLUSTERS (1 Point)\n",
    "model = KMeans(n_clusters = 3)"
   ]
  },
  {
   "cell_type": "code",
   "execution_count": 26,
   "id": "3a3c0353",
   "metadata": {
    "id": "dx7M51pnrFHI"
   },
   "outputs": [
    {
     "data": {
      "text/plain": [
       "array([1, 0, 0, ..., 1, 1, 0], dtype=int32)"
      ]
     },
     "execution_count": 26,
     "metadata": {},
     "output_type": "execute_result"
    }
   ],
   "source": [
    "#PREDICT THE CLUSTER FOR THE ENTIRE DATASET (1 point)\n",
    "y_kmeans = model.fit_predict(scaled_df)\n",
    "y_kmeans"
   ]
  },
  {
   "cell_type": "code",
   "execution_count": 27,
   "id": "12637812",
   "metadata": {
    "id": "v7e_UPD1rOJr"
   },
   "outputs": [
    {
     "data": {
      "text/html": [
       "<div>\n",
       "<style scoped>\n",
       "    .dataframe tbody tr th:only-of-type {\n",
       "        vertical-align: middle;\n",
       "    }\n",
       "\n",
       "    .dataframe tbody tr th {\n",
       "        vertical-align: top;\n",
       "    }\n",
       "\n",
       "    .dataframe thead th {\n",
       "        text-align: right;\n",
       "    }\n",
       "</style>\n",
       "<table border=\"1\" class=\"dataframe\">\n",
       "  <thead>\n",
       "    <tr style=\"text-align: right;\">\n",
       "      <th></th>\n",
       "      <th>Gender</th>\n",
       "      <th>Ever_Married</th>\n",
       "      <th>Age</th>\n",
       "      <th>Graduated</th>\n",
       "      <th>Work_Experience</th>\n",
       "      <th>Spending_Score</th>\n",
       "      <th>Family_Size</th>\n",
       "      <th>Profession_Artist</th>\n",
       "      <th>Profession_Doctor</th>\n",
       "      <th>Profession_Engineer</th>\n",
       "      <th>Profession_Entertainment</th>\n",
       "      <th>Profession_Executive</th>\n",
       "      <th>Profession_Healthcare</th>\n",
       "      <th>Profession_Homemaker</th>\n",
       "      <th>Profession_Lawyer</th>\n",
       "      <th>Profession_Marketing</th>\n",
       "      <th>Profession_Unknown</th>\n",
       "      <th>clusters</th>\n",
       "    </tr>\n",
       "  </thead>\n",
       "  <tbody>\n",
       "    <tr>\n",
       "      <th>0</th>\n",
       "      <td>1.0</td>\n",
       "      <td>0.0</td>\n",
       "      <td>0.056338</td>\n",
       "      <td>0.0</td>\n",
       "      <td>0.071429</td>\n",
       "      <td>0.0</td>\n",
       "      <td>0.375</td>\n",
       "      <td>0.0</td>\n",
       "      <td>0.0</td>\n",
       "      <td>0.0</td>\n",
       "      <td>0.0</td>\n",
       "      <td>0.0</td>\n",
       "      <td>1.0</td>\n",
       "      <td>0.0</td>\n",
       "      <td>0.0</td>\n",
       "      <td>0.0</td>\n",
       "      <td>0.0</td>\n",
       "      <td>1</td>\n",
       "    </tr>\n",
       "    <tr>\n",
       "      <th>1</th>\n",
       "      <td>0.0</td>\n",
       "      <td>1.0</td>\n",
       "      <td>0.281690</td>\n",
       "      <td>1.0</td>\n",
       "      <td>0.185396</td>\n",
       "      <td>0.5</td>\n",
       "      <td>0.250</td>\n",
       "      <td>0.0</td>\n",
       "      <td>0.0</td>\n",
       "      <td>1.0</td>\n",
       "      <td>0.0</td>\n",
       "      <td>0.0</td>\n",
       "      <td>0.0</td>\n",
       "      <td>0.0</td>\n",
       "      <td>0.0</td>\n",
       "      <td>0.0</td>\n",
       "      <td>0.0</td>\n",
       "      <td>0</td>\n",
       "    </tr>\n",
       "    <tr>\n",
       "      <th>2</th>\n",
       "      <td>0.0</td>\n",
       "      <td>1.0</td>\n",
       "      <td>0.690141</td>\n",
       "      <td>1.0</td>\n",
       "      <td>0.071429</td>\n",
       "      <td>0.0</td>\n",
       "      <td>0.000</td>\n",
       "      <td>0.0</td>\n",
       "      <td>0.0</td>\n",
       "      <td>1.0</td>\n",
       "      <td>0.0</td>\n",
       "      <td>0.0</td>\n",
       "      <td>0.0</td>\n",
       "      <td>0.0</td>\n",
       "      <td>0.0</td>\n",
       "      <td>0.0</td>\n",
       "      <td>0.0</td>\n",
       "      <td>0</td>\n",
       "    </tr>\n",
       "    <tr>\n",
       "      <th>3</th>\n",
       "      <td>1.0</td>\n",
       "      <td>1.0</td>\n",
       "      <td>0.690141</td>\n",
       "      <td>1.0</td>\n",
       "      <td>0.000000</td>\n",
       "      <td>1.0</td>\n",
       "      <td>0.125</td>\n",
       "      <td>0.0</td>\n",
       "      <td>0.0</td>\n",
       "      <td>0.0</td>\n",
       "      <td>0.0</td>\n",
       "      <td>0.0</td>\n",
       "      <td>0.0</td>\n",
       "      <td>0.0</td>\n",
       "      <td>1.0</td>\n",
       "      <td>0.0</td>\n",
       "      <td>0.0</td>\n",
       "      <td>0</td>\n",
       "    </tr>\n",
       "    <tr>\n",
       "      <th>4</th>\n",
       "      <td>0.0</td>\n",
       "      <td>1.0</td>\n",
       "      <td>0.309859</td>\n",
       "      <td>1.0</td>\n",
       "      <td>0.196801</td>\n",
       "      <td>1.0</td>\n",
       "      <td>0.625</td>\n",
       "      <td>0.0</td>\n",
       "      <td>0.0</td>\n",
       "      <td>0.0</td>\n",
       "      <td>1.0</td>\n",
       "      <td>0.0</td>\n",
       "      <td>0.0</td>\n",
       "      <td>0.0</td>\n",
       "      <td>0.0</td>\n",
       "      <td>0.0</td>\n",
       "      <td>0.0</td>\n",
       "      <td>0</td>\n",
       "    </tr>\n",
       "  </tbody>\n",
       "</table>\n",
       "</div>"
      ],
      "text/plain": [
       "   Gender  Ever_Married       Age  Graduated  Work_Experience  Spending_Score  \\\n",
       "0     1.0           0.0  0.056338        0.0         0.071429             0.0   \n",
       "1     0.0           1.0  0.281690        1.0         0.185396             0.5   \n",
       "2     0.0           1.0  0.690141        1.0         0.071429             0.0   \n",
       "3     1.0           1.0  0.690141        1.0         0.000000             1.0   \n",
       "4     0.0           1.0  0.309859        1.0         0.196801             1.0   \n",
       "\n",
       "   Family_Size  Profession_Artist  Profession_Doctor  Profession_Engineer  \\\n",
       "0        0.375                0.0                0.0                  0.0   \n",
       "1        0.250                0.0                0.0                  1.0   \n",
       "2        0.000                0.0                0.0                  1.0   \n",
       "3        0.125                0.0                0.0                  0.0   \n",
       "4        0.625                0.0                0.0                  0.0   \n",
       "\n",
       "   Profession_Entertainment  Profession_Executive  Profession_Healthcare  \\\n",
       "0                       0.0                   0.0                    1.0   \n",
       "1                       0.0                   0.0                    0.0   \n",
       "2                       0.0                   0.0                    0.0   \n",
       "3                       0.0                   0.0                    0.0   \n",
       "4                       1.0                   0.0                    0.0   \n",
       "\n",
       "   Profession_Homemaker  Profession_Lawyer  Profession_Marketing  \\\n",
       "0                   0.0                0.0                   0.0   \n",
       "1                   0.0                0.0                   0.0   \n",
       "2                   0.0                0.0                   0.0   \n",
       "3                   0.0                1.0                   0.0   \n",
       "4                   0.0                0.0                   0.0   \n",
       "\n",
       "   Profession_Unknown  clusters  \n",
       "0                 0.0         1  \n",
       "1                 0.0         0  \n",
       "2                 0.0         0  \n",
       "3                 0.0         0  \n",
       "4                 0.0         0  "
      ]
     },
     "execution_count": 27,
     "metadata": {},
     "output_type": "execute_result"
    }
   ],
   "source": [
    "#ASSIGN THE CLUSTER TO EACH ROW OF THE DATASET, PRINT THE TOP 5 ROWS, AND SUBMIT THE DATASET. (1 point)\n",
    "\n",
    "# store it in an actual frame\n",
    "scaled_df['clusters'] = y_kmeans  \n",
    "scaled_df.head()"
   ]
  },
  {
   "cell_type": "code",
   "execution_count": 28,
   "id": "237f1de9",
   "metadata": {},
   "outputs": [],
   "source": [
    "scaled_df.to_csv('SP24_DM_Gabe_Wallon_Dataset.csv')"
   ]
  },
  {
   "cell_type": "code",
   "execution_count": null,
   "id": "6672e66b",
   "metadata": {},
   "outputs": [],
   "source": []
  },
  {
   "cell_type": "code",
   "execution_count": null,
   "id": "e9f5bea1",
   "metadata": {},
   "outputs": [],
   "source": []
  },
  {
   "cell_type": "code",
   "execution_count": null,
   "id": "fd61abd2",
   "metadata": {},
   "outputs": [],
   "source": []
  },
  {
   "cell_type": "code",
   "execution_count": null,
   "id": "fd7208f8",
   "metadata": {},
   "outputs": [],
   "source": []
  },
  {
   "cell_type": "markdown",
   "id": "096572bc",
   "metadata": {
    "id": "71GIom44iYoC"
   },
   "source": [
    "# Part D: DATA VISUALIZATION USING THE IMDB DATASET (20 POINTS) <a class=\"anchor\" id=\"p4\"></a>\n",
    "[back to top](#top)"
   ]
  },
  {
   "cell_type": "markdown",
   "id": "96a9f720",
   "metadata": {
    "id": "WC3ysUDaiigZ"
   },
   "source": [
    "### Prompt:\n",
    "* In this question, you are required to visualize 5 plots based on the given questions and provide relevant explanation and insights derived from the plot.\n",
    "* There are 5 questions with each question asking for plot(s). Each question is worth 4 points. Here's the breakdown:\n",
    "    * Each correct plot is worth 2 points\n",
    "    * A good explanation of at least 4 sentences is worth 2 points\n",
    "    * A partially correct plot is worth 1 point\n",
    "* Make sure each plot is labelled appropriately.\n",
    "* Comment out any code that prints any kind of output. We just require the final plot and the explanation to grade.\n",
    "* Use additional code cells wherever required\n",
    "* Now, using the given dataset, plot graphs and given your insights\n"
   ]
  },
  {
   "cell_type": "markdown",
   "id": "d88f29a8",
   "metadata": {
    "id": "9JE0VQovkKku"
   },
   "source": [
    "Write your code to for imports and reading the dataset"
   ]
  },
  {
   "cell_type": "code",
   "execution_count": 1,
   "id": "5d82cc61",
   "metadata": {},
   "outputs": [],
   "source": [
    "#IMPORTS\n",
    "import numpy as np\n",
    "import matplotlib.pyplot as plt\n",
    "import pandas as pd\n",
    "import random\n",
    "import seaborn as sns"
   ]
  },
  {
   "cell_type": "code",
   "execution_count": 2,
   "id": "e7a5ee64",
   "metadata": {
    "id": "iXl9QbrqkNA3"
   },
   "outputs": [],
   "source": [
    "#READ DATASET\n",
    "df = pd.read_csv('../data/imdb_movie_dataset.csv')"
   ]
  },
  {
   "cell_type": "code",
   "execution_count": 3,
   "id": "af917b99",
   "metadata": {},
   "outputs": [
    {
     "data": {
      "text/html": [
       "<div>\n",
       "<style scoped>\n",
       "    .dataframe tbody tr th:only-of-type {\n",
       "        vertical-align: middle;\n",
       "    }\n",
       "\n",
       "    .dataframe tbody tr th {\n",
       "        vertical-align: top;\n",
       "    }\n",
       "\n",
       "    .dataframe thead th {\n",
       "        text-align: right;\n",
       "    }\n",
       "</style>\n",
       "<table border=\"1\" class=\"dataframe\">\n",
       "  <thead>\n",
       "    <tr style=\"text-align: right;\">\n",
       "      <th></th>\n",
       "      <th>movie_name</th>\n",
       "      <th>director</th>\n",
       "      <th>cast</th>\n",
       "      <th>genre</th>\n",
       "      <th>description</th>\n",
       "      <th>imdb_score</th>\n",
       "      <th>votes</th>\n",
       "      <th>rating</th>\n",
       "      <th>runtime</th>\n",
       "      <th>gross</th>\n",
       "    </tr>\n",
       "  </thead>\n",
       "  <tbody>\n",
       "    <tr>\n",
       "      <th>0</th>\n",
       "      <td>Hamilton</td>\n",
       "      <td>Thomas Kail</td>\n",
       "      <td>Leslie Odom Jr., Renée Elise Goldsberry, Phill...</td>\n",
       "      <td>Biography, Drama, History</td>\n",
       "      <td>The real life of one of America's foremost fou...</td>\n",
       "      <td>9.0</td>\n",
       "      <td>22819.0</td>\n",
       "      <td>PG-13</td>\n",
       "      <td>160.0</td>\n",
       "      <td>NaN</td>\n",
       "    </tr>\n",
       "    <tr>\n",
       "      <th>1</th>\n",
       "      <td>Eurovision Song Contest: The Story of Fire Saga</td>\n",
       "      <td>David Dobkin</td>\n",
       "      <td>Will Ferrell, Rachel McAdams, Dan Stevens, Mik...</td>\n",
       "      <td>Comedy, Music</td>\n",
       "      <td>When aspiring musicians Lars and Sigrit are gi...</td>\n",
       "      <td>6.6</td>\n",
       "      <td>45555.0</td>\n",
       "      <td>PG-13</td>\n",
       "      <td>123.0</td>\n",
       "      <td>NaN</td>\n",
       "    </tr>\n",
       "    <tr>\n",
       "      <th>2</th>\n",
       "      <td>The Old Guard</td>\n",
       "      <td>Gina Prince-Bythewood</td>\n",
       "      <td>Charlize Theron, Marwan Kenzari, Matthias Scho...</td>\n",
       "      <td>Action, Adventure, Fantasy</td>\n",
       "      <td>A covert team of immortal mercenaries are sudd...</td>\n",
       "      <td>6.7</td>\n",
       "      <td>43653.0</td>\n",
       "      <td>R</td>\n",
       "      <td>125.0</td>\n",
       "      <td>NaN</td>\n",
       "    </tr>\n",
       "    <tr>\n",
       "      <th>3</th>\n",
       "      <td>365 Days</td>\n",
       "      <td>Tomasz Mandes, Barbara Bialowas</td>\n",
       "      <td>Michele Morrone, Bronislaw Wroclawski, Otar Sa...</td>\n",
       "      <td>Drama, Romance</td>\n",
       "      <td>Massimo is a member of the Sicilian Mafia fami...</td>\n",
       "      <td>3.3</td>\n",
       "      <td>26324.0</td>\n",
       "      <td>TV-MA</td>\n",
       "      <td>114.0</td>\n",
       "      <td>NaN</td>\n",
       "    </tr>\n",
       "    <tr>\n",
       "      <th>4</th>\n",
       "      <td>Greyhound</td>\n",
       "      <td>Aaron Schneider</td>\n",
       "      <td>Tom Hanks, Stephen Graham, Matt Helm, Elisabet...</td>\n",
       "      <td>Action, Drama, History</td>\n",
       "      <td>Early in World War II, an inexperienced U.S. N...</td>\n",
       "      <td>7.1</td>\n",
       "      <td>16830.0</td>\n",
       "      <td>PG-13</td>\n",
       "      <td>91.0</td>\n",
       "      <td>NaN</td>\n",
       "    </tr>\n",
       "  </tbody>\n",
       "</table>\n",
       "</div>"
      ],
      "text/plain": [
       "                                        movie_name  \\\n",
       "0                                         Hamilton   \n",
       "1  Eurovision Song Contest: The Story of Fire Saga   \n",
       "2                                    The Old Guard   \n",
       "3                                         365 Days   \n",
       "4                                        Greyhound   \n",
       "\n",
       "                          director  \\\n",
       "0                      Thomas Kail   \n",
       "1                     David Dobkin   \n",
       "2            Gina Prince-Bythewood   \n",
       "3  Tomasz Mandes, Barbara Bialowas   \n",
       "4                  Aaron Schneider   \n",
       "\n",
       "                                                cast  \\\n",
       "0  Leslie Odom Jr., Renée Elise Goldsberry, Phill...   \n",
       "1  Will Ferrell, Rachel McAdams, Dan Stevens, Mik...   \n",
       "2  Charlize Theron, Marwan Kenzari, Matthias Scho...   \n",
       "3  Michele Morrone, Bronislaw Wroclawski, Otar Sa...   \n",
       "4  Tom Hanks, Stephen Graham, Matt Helm, Elisabet...   \n",
       "\n",
       "                        genre  \\\n",
       "0   Biography, Drama, History   \n",
       "1               Comedy, Music   \n",
       "2  Action, Adventure, Fantasy   \n",
       "3              Drama, Romance   \n",
       "4      Action, Drama, History   \n",
       "\n",
       "                                         description  imdb_score    votes  \\\n",
       "0  The real life of one of America's foremost fou...         9.0  22819.0   \n",
       "1  When aspiring musicians Lars and Sigrit are gi...         6.6  45555.0   \n",
       "2  A covert team of immortal mercenaries are sudd...         6.7  43653.0   \n",
       "3  Massimo is a member of the Sicilian Mafia fami...         3.3  26324.0   \n",
       "4  Early in World War II, an inexperienced U.S. N...         7.1  16830.0   \n",
       "\n",
       "  rating  runtime  gross  \n",
       "0  PG-13    160.0    NaN  \n",
       "1  PG-13    123.0    NaN  \n",
       "2      R    125.0    NaN  \n",
       "3  TV-MA    114.0    NaN  \n",
       "4  PG-13     91.0    NaN  "
      ]
     },
     "execution_count": 3,
     "metadata": {},
     "output_type": "execute_result"
    }
   ],
   "source": [
    "df.head()"
   ]
  },
  {
   "cell_type": "code",
   "execution_count": 22,
   "id": "92ed5fc0",
   "metadata": {},
   "outputs": [
    {
     "name": "stdout",
     "output_type": "stream",
     "text": [
      "<class 'pandas.core.frame.DataFrame'>\n",
      "RangeIndex: 12750 entries, 0 to 12749\n",
      "Data columns (total 10 columns):\n",
      " #   Column       Non-Null Count  Dtype  \n",
      "---  ------       --------------  -----  \n",
      " 0   movie_name   12750 non-null  object \n",
      " 1   director     12750 non-null  object \n",
      " 2   cast         12750 non-null  object \n",
      " 3   genre        12750 non-null  object \n",
      " 4   description  12750 non-null  object \n",
      " 5   imdb_score   12750 non-null  float64\n",
      " 6   votes        12750 non-null  float64\n",
      " 7   rating       12750 non-null  object \n",
      " 8   runtime      12750 non-null  float64\n",
      " 9   gross        7691 non-null   float64\n",
      "dtypes: float64(4), object(6)\n",
      "memory usage: 996.2+ KB\n"
     ]
    }
   ],
   "source": [
    "df.info()"
   ]
  },
  {
   "cell_type": "markdown",
   "id": "a4910546",
   "metadata": {
    "id": "fpEoVuPPkGQd"
   },
   "source": [
    "## D1:\n",
    "\n",
    "* Visualize a bar plot to find average IMDb score for each genre\n",
    "* Hints:\n",
    "    * A movie can have multiple genres\n",
    "    * For example, if a movie has 3 genres \"Biography, Drama, History\" and an imdb_score of 9.0, then assign each of this genre an imdb_score of 9.0.\n",
    "    * Do the above for every movie\n",
    "    * Find the average imdb_score for each genre\n",
    "\n",
    "* Explain the insights derived from the plot.\n",
    "* What are the top-5 genres?"
   ]
  },
  {
   "cell_type": "code",
   "execution_count": 46,
   "id": "587fe3b9",
   "metadata": {},
   "outputs": [],
   "source": [
    "# YOUR CODE\n",
    "def genre_score(df):\n",
    "    '''Returns a list with (genre,average_score) key-value tuples.'''\n",
    "    \n",
    "    # first make a set containing all the genres in the df \n",
    "    g_set = set()\n",
    "    for i in range(df.shape[0]):\n",
    "        g_list = df.iloc[i]['genre'].split(sep=',')\n",
    "        g_list = [g.strip() for g in g_list]\n",
    "        g_set.update(set(g_list))\n",
    "    \n",
    "    # next make a dictionary to keep track of total score and movie count per genre\n",
    "    score_dict = {}\n",
    "    for g in g_set:\n",
    "        score_dict[g] = [0,0]  # [x=score total, y=movie count]\n",
    "    \n",
    "    # now populate the dictionary\n",
    "    for i in range(df.shape[0]):\n",
    "        g_list = df.iloc[i]['genre'].split(sep=',')\n",
    "        g_list = [g.strip() for g in g_list]\n",
    "        score = df.iloc[i]['imdb_score']\n",
    "        for g in g_list:\n",
    "            score_dict[g][0] += score # add score to genre score total\n",
    "            score_dict[g][1] += 1     # add tally to genre movie count\n",
    "        \n",
    "    # now find the average score per genre\n",
    "    avg_lst = []\n",
    "    for g in score_dict.keys():\n",
    "        avg_score = score_dict[g][0]/score_dict[g][1]\n",
    "        avg_lst.append((g,avg_score))\n",
    "    \n",
    "    return avg_lst"
   ]
  },
  {
   "cell_type": "code",
   "execution_count": 47,
   "id": "5e7e45ee",
   "metadata": {
    "id": "urHhB8cAiUSo"
   },
   "outputs": [
    {
     "data": {
      "image/png": "[encoded data removed]",
      "text/plain": [
       "<Figure size 720x432 with 1 Axes>"
      ]
     },
     "metadata": {
      "needs_background": "light"
     },
     "output_type": "display_data"
    }
   ],
   "source": [
    "# YOUR CODE\n",
    "# use helper function and sort the returned list by score\n",
    "lst = genre_score(df)\n",
    "lst.sort(key = lambda x: x[1], reverse=True)\n",
    "\n",
    "# extract info from list\n",
    "genres = [tup[0] for tup in lst]\n",
    "genre_score = [tup[1] for tup in lst]\n",
    "\n",
    "# plot\n",
    "plt.figure(figsize=(10,6))\n",
    "plt.xticks(rotation=45)\n",
    "plt.bar(genres,genre_score)\n",
    "plt.xlabel('Genre')\n",
    "plt.ylabel('Average IMDB Score')\n",
    "plt.title('Average IMDB Score by Genre')\n",
    "plt.show()"
   ]
  },
  {
   "cell_type": "markdown",
   "id": "89ea8956",
   "metadata": {},
   "source": [
    "From this plot, we can learn that there are is not a huge variance in the average IMDB score across genres, suggesting that the genre does have a strong influence on the movie's imdb score. We can see that the top five gneres in terms of average score are:\n",
    "1. Film-Noir\n",
    "2. Biography\n",
    "3. History\n",
    "4. War\n",
    "5. Animation"
   ]
  },
  {
   "cell_type": "code",
   "execution_count": null,
   "id": "2a0f3e05",
   "metadata": {},
   "outputs": [],
   "source": []
  },
  {
   "cell_type": "markdown",
   "id": "2884ed2f",
   "metadata": {
    "id": "LcqdaDfwobLr"
   },
   "source": [
    "## D2\n",
    "\n",
    "* This question requires 2 plots\n",
    "* Find if runtime of a movie and its IMDb score are correlated or not.\n",
    "* Plot No. 1: Plot a scatter plot using these columns and explain your insights.\n",
    "\n",
    "* Plot No. 2: Plot a scatter plot between imdb score and number of votes and answer the following question:\n",
    "    * Are there any movies with exceptionally high scores but low votes, or vice versa? Give names of movies having high score but less number of votes\n"
   ]
  },
  {
   "cell_type": "code",
   "execution_count": 52,
   "id": "fc578b16",
   "metadata": {},
   "outputs": [
    {
     "data": {
      "image/png": "[encoded data removed]",
      "text/plain": [
       "<Figure size 720x432 with 1 Axes>"
      ]
     },
     "metadata": {
      "needs_background": "light"
     },
     "output_type": "display_data"
    }
   ],
   "source": [
    "# YOUR CODE\n",
    "# Do longer movies have a higher imdb score on average?\n",
    "\n",
    "x = df['runtime'].values\n",
    "y = df['imdb_score'].values\n",
    "\n",
    "plt.figure(figsize=(10,6))\n",
    "plt.plot(x,y,'o')\n",
    "plt.xlabel('Runtime')\n",
    "plt.ylabel('IMDB Score')\n",
    "plt.title('Correlation between Runtime and IMDB Score')\n",
    "plt.show()"
   ]
  },
  {
   "cell_type": "markdown",
   "id": "c9be809f",
   "metadata": {},
   "source": [
    "From this plot, we can see that many short movies received very high scores however there were few long movies with low scores. This plot reveals a slight correlation between Runtime and Score, suggesting that longer movies are more likely to recieve higher scores."
   ]
  },
  {
   "cell_type": "code",
   "execution_count": null,
   "id": "ca3b8d20",
   "metadata": {},
   "outputs": [],
   "source": []
  },
  {
   "cell_type": "code",
   "execution_count": 53,
   "id": "086cb546",
   "metadata": {},
   "outputs": [
    {
     "data": {
      "image/png": "[encoded data removed]",
      "text/plain": [
       "<Figure size 720x432 with 1 Axes>"
      ]
     },
     "metadata": {
      "needs_background": "light"
     },
     "output_type": "display_data"
    }
   ],
   "source": [
    "# YOUR CODE\n",
    "\n",
    "x = df['votes'].values\n",
    "y = df['imdb_score'].values\n",
    "\n",
    "plt.figure(figsize=(10,6))\n",
    "plt.plot(x,y,'o')\n",
    "plt.xlabel(\"Movie's Number of Votes\")\n",
    "plt.ylabel('IMDB Score')\n",
    "plt.title('Correlation between Number of Votes and IMDB Score')\n",
    "plt.show()"
   ]
  },
  {
   "cell_type": "markdown",
   "id": "289e41b9",
   "metadata": {},
   "source": [
    "#### Q: \n",
    "- Are there any movies with exceptionally high scores but low votes, or vice versa? Give names of movies having high score but less number of votes?\n",
    "\n",
    "#### A: \n",
    "- From the plot we can see that there are a large number of movies that received high score from a low number of votes. In the code below, we identify these movies. There are no movies with large number of votes and small scores. "
   ]
  },
  {
   "cell_type": "code",
   "execution_count": 64,
   "id": "f45df4e5",
   "metadata": {},
   "outputs": [
    {
     "data": {
      "text/html": [
       "<div>\n",
       "<style scoped>\n",
       "    .dataframe tbody tr th:only-of-type {\n",
       "        vertical-align: middle;\n",
       "    }\n",
       "\n",
       "    .dataframe tbody tr th {\n",
       "        vertical-align: top;\n",
       "    }\n",
       "\n",
       "    .dataframe thead th {\n",
       "        text-align: right;\n",
       "    }\n",
       "</style>\n",
       "<table border=\"1\" class=\"dataframe\">\n",
       "  <thead>\n",
       "    <tr style=\"text-align: right;\">\n",
       "      <th></th>\n",
       "      <th>movie_name</th>\n",
       "      <th>director</th>\n",
       "      <th>cast</th>\n",
       "      <th>genre</th>\n",
       "      <th>description</th>\n",
       "      <th>imdb_score</th>\n",
       "      <th>votes</th>\n",
       "      <th>rating</th>\n",
       "      <th>runtime</th>\n",
       "      <th>gross</th>\n",
       "    </tr>\n",
       "  </thead>\n",
       "  <tbody>\n",
       "    <tr>\n",
       "      <th>3357</th>\n",
       "      <td>Mariposa</td>\n",
       "      <td>Fajar Bustomi</td>\n",
       "      <td>Angga Yunanda, Adhisty Zara, Dannia Salsabila,...</td>\n",
       "      <td>Drama, Romance</td>\n",
       "      <td>Iqbal (Angga Yunanda) is like a Mariposa butte...</td>\n",
       "      <td>8.4</td>\n",
       "      <td>45.0</td>\n",
       "      <td>R</td>\n",
       "      <td>117.000000</td>\n",
       "      <td>NaN</td>\n",
       "    </tr>\n",
       "    <tr>\n",
       "      <th>3520</th>\n",
       "      <td>The Killing of Two Lovers</td>\n",
       "      <td>Robert Machoian</td>\n",
       "      <td>Clayne Crawford, Chris Coy, Bruce Graham, Arri...</td>\n",
       "      <td>Drama</td>\n",
       "      <td>David desperately tries to keep his family of ...</td>\n",
       "      <td>8.3</td>\n",
       "      <td>61.0</td>\n",
       "      <td>R</td>\n",
       "      <td>85.000000</td>\n",
       "      <td>NaN</td>\n",
       "    </tr>\n",
       "    <tr>\n",
       "      <th>5320</th>\n",
       "      <td>The Father</td>\n",
       "      <td>Florian Zeller</td>\n",
       "      <td>Rufus Sewell, Anthony Hopkins, Olivia Williams...</td>\n",
       "      <td>Drama</td>\n",
       "      <td>A man refuses all assistance from his daughter...</td>\n",
       "      <td>8.4</td>\n",
       "      <td>132.0</td>\n",
       "      <td>PG-13</td>\n",
       "      <td>97.000000</td>\n",
       "      <td>NaN</td>\n",
       "    </tr>\n",
       "    <tr>\n",
       "      <th>7679</th>\n",
       "      <td>A Midsummer Night's Dream</td>\n",
       "      <td>Nicholas Hytner, Ross MacGibbon</td>\n",
       "      <td>David Moorst, Oliver Chris, Isis Hainsworth, G...</td>\n",
       "      <td>Comedy, Drama, Romance</td>\n",
       "      <td>Young lovers, a troupe of actors, and fairies ...</td>\n",
       "      <td>8.5</td>\n",
       "      <td>299.0</td>\n",
       "      <td>R</td>\n",
       "      <td>180.000000</td>\n",
       "      <td>NaN</td>\n",
       "    </tr>\n",
       "    <tr>\n",
       "      <th>7697</th>\n",
       "      <td>Persuasion</td>\n",
       "      <td>Roger Michell</td>\n",
       "      <td>Corin Redgrave, Ciarán Hinds, Susan Fleetwood,...</td>\n",
       "      <td>Drama</td>\n",
       "      <td>Eight years ago, Anne Elliot rejected Frederic...</td>\n",
       "      <td>8.1</td>\n",
       "      <td>338.0</td>\n",
       "      <td>R</td>\n",
       "      <td>105.000000</td>\n",
       "      <td>NaN</td>\n",
       "    </tr>\n",
       "    <tr>\n",
       "      <th>8086</th>\n",
       "      <td>All About Eve</td>\n",
       "      <td>Ivo van Hove, Nick Wickham</td>\n",
       "      <td>Lily James, Gillian Anderson, Monica Dolan, Ju...</td>\n",
       "      <td>Drama</td>\n",
       "      <td>Eve shows up in the dressing room of Broadway ...</td>\n",
       "      <td>8.2</td>\n",
       "      <td>251.0</td>\n",
       "      <td>R</td>\n",
       "      <td>148.000000</td>\n",
       "      <td>NaN</td>\n",
       "    </tr>\n",
       "    <tr>\n",
       "      <th>8282</th>\n",
       "      <td>Minari</td>\n",
       "      <td>Lee Isaac Chung</td>\n",
       "      <td>Yeri Han, Yuh-Jung Youn, Steven Yeun, Alan S. Kim</td>\n",
       "      <td>Drama</td>\n",
       "      <td>A Korean family moves to Arkansas to start a f...</td>\n",
       "      <td>8.2</td>\n",
       "      <td>153.0</td>\n",
       "      <td>R</td>\n",
       "      <td>115.000000</td>\n",
       "      <td>NaN</td>\n",
       "    </tr>\n",
       "    <tr>\n",
       "      <th>8675</th>\n",
       "      <td>Branagh Theatre Live: Romeo and Juliet</td>\n",
       "      <td>Benjamin Caron</td>\n",
       "      <td>Marisa Berenson, Tom Hanson, Jack Colgrave Hir...</td>\n",
       "      <td>Romance</td>\n",
       "      <td>Two teenagers fall in love, but their feuding ...</td>\n",
       "      <td>8.1</td>\n",
       "      <td>268.0</td>\n",
       "      <td>R</td>\n",
       "      <td>165.000000</td>\n",
       "      <td>NaN</td>\n",
       "    </tr>\n",
       "    <tr>\n",
       "      <th>8727</th>\n",
       "      <td>Summertime</td>\n",
       "      <td>Edward Burns</td>\n",
       "      <td>Edward Burns, Anthony Ramos, Caitlin Stasey, L...</td>\n",
       "      <td>Drama</td>\n",
       "      <td>Summer 1983, Long Island. The daily life of yo...</td>\n",
       "      <td>8.2</td>\n",
       "      <td>39.0</td>\n",
       "      <td>R</td>\n",
       "      <td>124.000000</td>\n",
       "      <td>NaN</td>\n",
       "    </tr>\n",
       "    <tr>\n",
       "      <th>9027</th>\n",
       "      <td>This Day Forward</td>\n",
       "      <td>Brian Ide</td>\n",
       "      <td>Kallen Blair, Randy Coleman, Chet Dixon, Hayde...</td>\n",
       "      <td>Family</td>\n",
       "      <td>Inspired by the true story of a wife and mothe...</td>\n",
       "      <td>9.3</td>\n",
       "      <td>64.0</td>\n",
       "      <td>R</td>\n",
       "      <td>106.805697</td>\n",
       "      <td>NaN</td>\n",
       "    </tr>\n",
       "    <tr>\n",
       "      <th>9332</th>\n",
       "      <td>Worth</td>\n",
       "      <td>Sara Colangelo</td>\n",
       "      <td>Michael Keaton, Amy Ryan, Tate Donovan, Stanle...</td>\n",
       "      <td>Biography, Drama, History</td>\n",
       "      <td>An attorney in Washington D.C. battles against...</td>\n",
       "      <td>8.2</td>\n",
       "      <td>52.0</td>\n",
       "      <td>R</td>\n",
       "      <td>118.000000</td>\n",
       "      <td>NaN</td>\n",
       "    </tr>\n",
       "    <tr>\n",
       "      <th>9993</th>\n",
       "      <td>Lysis</td>\n",
       "      <td>Rick Ostermann</td>\n",
       "      <td>Louis Hofmann, Oliver Masucci</td>\n",
       "      <td>Adventure</td>\n",
       "      <td>An estranged father and son takes a wild trip....</td>\n",
       "      <td>8.2</td>\n",
       "      <td>24.0</td>\n",
       "      <td>R</td>\n",
       "      <td>98.000000</td>\n",
       "      <td>NaN</td>\n",
       "    </tr>\n",
       "    <tr>\n",
       "      <th>10217</th>\n",
       "      <td>Never Too Late</td>\n",
       "      <td>Mark Lamprell</td>\n",
       "      <td>Jacki Weaver, James Cromwell, Jack Thompson, D...</td>\n",
       "      <td>Comedy, Drama, Romance</td>\n",
       "      <td>A group of seniors plan to break out of their ...</td>\n",
       "      <td>8.5</td>\n",
       "      <td>15.0</td>\n",
       "      <td>R</td>\n",
       "      <td>95.000000</td>\n",
       "      <td>NaN</td>\n",
       "    </tr>\n",
       "    <tr>\n",
       "      <th>10879</th>\n",
       "      <td>The Cuban</td>\n",
       "      <td>Sergio Navarretta</td>\n",
       "      <td>Shohreh Aghdashloo, Louis Gossett Jr., Lauren ...</td>\n",
       "      <td>Drama</td>\n",
       "      <td>When a naive pre-med student named Mina gets h...</td>\n",
       "      <td>8.1</td>\n",
       "      <td>36.0</td>\n",
       "      <td>R</td>\n",
       "      <td>109.000000</td>\n",
       "      <td>NaN</td>\n",
       "    </tr>\n",
       "    <tr>\n",
       "      <th>11616</th>\n",
       "      <td>Prawaas</td>\n",
       "      <td>Shashank Udapurkar</td>\n",
       "      <td>Padmini Kolhapure, Shashank Udapurkar, Vikram ...</td>\n",
       "      <td>Drama, Family</td>\n",
       "      <td>Prawaas is the journey of an elderly couple Ab...</td>\n",
       "      <td>8.9</td>\n",
       "      <td>74.0</td>\n",
       "      <td>U</td>\n",
       "      <td>133.000000</td>\n",
       "      <td>NaN</td>\n",
       "    </tr>\n",
       "  </tbody>\n",
       "</table>\n",
       "</div>"
      ],
      "text/plain": [
       "                                   movie_name  \\\n",
       "3357                                 Mariposa   \n",
       "3520                The Killing of Two Lovers   \n",
       "5320                               The Father   \n",
       "7679                A Midsummer Night's Dream   \n",
       "7697                               Persuasion   \n",
       "8086                            All About Eve   \n",
       "8282                                   Minari   \n",
       "8675   Branagh Theatre Live: Romeo and Juliet   \n",
       "8727                               Summertime   \n",
       "9027                         This Day Forward   \n",
       "9332                                    Worth   \n",
       "9993                                    Lysis   \n",
       "10217                          Never Too Late   \n",
       "10879                               The Cuban   \n",
       "11616                                 Prawaas   \n",
       "\n",
       "                              director  \\\n",
       "3357                     Fajar Bustomi   \n",
       "3520                   Robert Machoian   \n",
       "5320                    Florian Zeller   \n",
       "7679   Nicholas Hytner, Ross MacGibbon   \n",
       "7697                     Roger Michell   \n",
       "8086        Ivo van Hove, Nick Wickham   \n",
       "8282                   Lee Isaac Chung   \n",
       "8675                    Benjamin Caron   \n",
       "8727                      Edward Burns   \n",
       "9027                         Brian Ide   \n",
       "9332                    Sara Colangelo   \n",
       "9993                    Rick Ostermann   \n",
       "10217                    Mark Lamprell   \n",
       "10879                Sergio Navarretta   \n",
       "11616               Shashank Udapurkar   \n",
       "\n",
       "                                                    cast  \\\n",
       "3357   Angga Yunanda, Adhisty Zara, Dannia Salsabila,...   \n",
       "3520   Clayne Crawford, Chris Coy, Bruce Graham, Arri...   \n",
       "5320   Rufus Sewell, Anthony Hopkins, Olivia Williams...   \n",
       "7679   David Moorst, Oliver Chris, Isis Hainsworth, G...   \n",
       "7697   Corin Redgrave, Ciarán Hinds, Susan Fleetwood,...   \n",
       "8086   Lily James, Gillian Anderson, Monica Dolan, Ju...   \n",
       "8282   Yeri Han, Yuh-Jung Youn, Steven Yeun, Alan S. Kim   \n",
       "8675   Marisa Berenson, Tom Hanson, Jack Colgrave Hir...   \n",
       "8727   Edward Burns, Anthony Ramos, Caitlin Stasey, L...   \n",
       "9027   Kallen Blair, Randy Coleman, Chet Dixon, Hayde...   \n",
       "9332   Michael Keaton, Amy Ryan, Tate Donovan, Stanle...   \n",
       "9993                       Louis Hofmann, Oliver Masucci   \n",
       "10217  Jacki Weaver, James Cromwell, Jack Thompson, D...   \n",
       "10879  Shohreh Aghdashloo, Louis Gossett Jr., Lauren ...   \n",
       "11616  Padmini Kolhapure, Shashank Udapurkar, Vikram ...   \n",
       "\n",
       "                           genre  \\\n",
       "3357              Drama, Romance   \n",
       "3520                       Drama   \n",
       "5320                       Drama   \n",
       "7679      Comedy, Drama, Romance   \n",
       "7697                       Drama   \n",
       "8086                       Drama   \n",
       "8282                       Drama   \n",
       "8675                     Romance   \n",
       "8727                       Drama   \n",
       "9027                      Family   \n",
       "9332   Biography, Drama, History   \n",
       "9993                   Adventure   \n",
       "10217     Comedy, Drama, Romance   \n",
       "10879                      Drama   \n",
       "11616              Drama, Family   \n",
       "\n",
       "                                             description  imdb_score  votes  \\\n",
       "3357   Iqbal (Angga Yunanda) is like a Mariposa butte...         8.4   45.0   \n",
       "3520   David desperately tries to keep his family of ...         8.3   61.0   \n",
       "5320   A man refuses all assistance from his daughter...         8.4  132.0   \n",
       "7679   Young lovers, a troupe of actors, and fairies ...         8.5  299.0   \n",
       "7697   Eight years ago, Anne Elliot rejected Frederic...         8.1  338.0   \n",
       "8086   Eve shows up in the dressing room of Broadway ...         8.2  251.0   \n",
       "8282   A Korean family moves to Arkansas to start a f...         8.2  153.0   \n",
       "8675   Two teenagers fall in love, but their feuding ...         8.1  268.0   \n",
       "8727   Summer 1983, Long Island. The daily life of yo...         8.2   39.0   \n",
       "9027   Inspired by the true story of a wife and mothe...         9.3   64.0   \n",
       "9332   An attorney in Washington D.C. battles against...         8.2   52.0   \n",
       "9993   An estranged father and son takes a wild trip....         8.2   24.0   \n",
       "10217  A group of seniors plan to break out of their ...         8.5   15.0   \n",
       "10879  When a naive pre-med student named Mina gets h...         8.1   36.0   \n",
       "11616  Prawaas is the journey of an elderly couple Ab...         8.9   74.0   \n",
       "\n",
       "      rating     runtime  gross  \n",
       "3357       R  117.000000    NaN  \n",
       "3520       R   85.000000    NaN  \n",
       "5320   PG-13   97.000000    NaN  \n",
       "7679       R  180.000000    NaN  \n",
       "7697       R  105.000000    NaN  \n",
       "8086       R  148.000000    NaN  \n",
       "8282       R  115.000000    NaN  \n",
       "8675       R  165.000000    NaN  \n",
       "8727       R  124.000000    NaN  \n",
       "9027       R  106.805697    NaN  \n",
       "9332       R  118.000000    NaN  \n",
       "9993       R   98.000000    NaN  \n",
       "10217      R   95.000000    NaN  \n",
       "10879      R  109.000000    NaN  \n",
       "11616      U  133.000000    NaN  "
      ]
     },
     "execution_count": 64,
     "metadata": {},
     "output_type": "execute_result"
    }
   ],
   "source": [
    "x = df['votes'].values\n",
    "y = df['imdb_score'].values\n",
    "\n",
    "# find the number of votes at which only 5% of movies had less\n",
    "vote_quant = np.quantile(x, 0.05)\n",
    "\n",
    "# find the score at which only 5% of movies had greater\n",
    "score_quant = np.quantile(y, 0.95)\n",
    "\n",
    "# find the movies with votes<vote_quant and score>score_quant\n",
    "df.loc[(df['votes']<vote_quant) & (df['imdb_score']>score_quant)]"
   ]
  },
  {
   "cell_type": "code",
   "execution_count": null,
   "id": "fc8f8818",
   "metadata": {
    "id": "-G5nDb8xosGM"
   },
   "outputs": [],
   "source": []
  },
  {
   "cell_type": "code",
   "execution_count": null,
   "id": "2d7b587c",
   "metadata": {},
   "outputs": [],
   "source": []
  },
  {
   "cell_type": "markdown",
   "id": "396f889a",
   "metadata": {
    "id": "c1Mo7kU0o11Q"
   },
   "source": [
    "## D3\n",
    "\n",
    "* Among the directors listed, who has directed the highest number of movies with gross revenue over $100$ million and imdb_score >= 7.5? Plot a bar plot for this question and provide your insights.\n",
    "* Hints:\n",
    "    * Drop rows with a NaN gross value.\n",
    "    * Similar to Q1, a movie can have multiple directors.\n",
    "    * Make sure you are considering each director separately.\n",
    "    * Since there are a lot of directors, only consider those who have more than 2 movies with gross >= $100$M and imdb score >= 7.5 for the visualization\n",
    "* Which director directed most number of movies? Also print the name of the movies"
   ]
  },
  {
   "cell_type": "code",
   "execution_count": 102,
   "id": "899a7612",
   "metadata": {},
   "outputs": [
    {
     "data": {
      "image/png": "[encoded data removed]",
      "text/plain": [
       "<Figure size 1008x432 with 1 Axes>"
      ]
     },
     "metadata": {
      "needs_background": "light"
     },
     "output_type": "display_data"
    }
   ],
   "source": [
    "# YOUR CODE\n",
    "\n",
    "# drop NA\n",
    "drop_idx = np.where(df['gross'].isna().values==True)[0]\n",
    "newdf = df.drop(drop_idx)\n",
    "\n",
    "# subset df according to popularity criteria\n",
    "newdf = newdf.loc[(newdf['gross']>=100) & (newdf['imdb_score']>=7.5)]\n",
    "\n",
    "# make a dictionary with director:count key-value pairs:\n",
    "# counts the number of these movies each director participated in\n",
    "d_dict = {}\n",
    "for i in range(newdf.shape[0]):\n",
    "    d_list = newdf.iloc[i]['director'].split(sep=',')\n",
    "    d_list = [d.strip() for d in d_list]\n",
    "    for d in d_list:\n",
    "        if d in d_dict.keys():\n",
    "            d_dict[d] += 1\n",
    "        else:\n",
    "            d_dict[d] = 1\n",
    "\n",
    "# subset only directors on list with count>2\n",
    "high_idx = np.where(np.array(list(d_dict.values()))>2)[0]\n",
    "\n",
    "# extract info from dictionary\n",
    "d_array = np.array(list(d_dict.keys()))[high_idx]\n",
    "count_array = np.array(list(d_dict.values()))[high_idx]\n",
    "\n",
    "# plot\n",
    "plt.figure(figsize=(14,6))\n",
    "plt.xticks(rotation=90)\n",
    "plt.bar(d_array,count_array)\n",
    "plt.xlabel('Director')\n",
    "plt.ylabel('Count of Popular Movies')\n",
    "plt.title('Count of Popular Movies by Director')\n",
    "plt.show()"
   ]
  },
  {
   "cell_type": "markdown",
   "id": "acfdfda0",
   "metadata": {},
   "source": [
    "From the plot above, we can see that Steven Spielberg directed the largest number of these popular movies - movies grossing at least 100M and with an imdb score of at least 7.5. These movies are shown below."
   ]
  },
  {
   "cell_type": "code",
   "execution_count": 103,
   "id": "fe41b27d",
   "metadata": {},
   "outputs": [
    {
     "data": {
      "text/html": [
       "<div>\n",
       "<style scoped>\n",
       "    .dataframe tbody tr th:only-of-type {\n",
       "        vertical-align: middle;\n",
       "    }\n",
       "\n",
       "    .dataframe tbody tr th {\n",
       "        vertical-align: top;\n",
       "    }\n",
       "\n",
       "    .dataframe thead th {\n",
       "        text-align: right;\n",
       "    }\n",
       "</style>\n",
       "<table border=\"1\" class=\"dataframe\">\n",
       "  <thead>\n",
       "    <tr style=\"text-align: right;\">\n",
       "      <th></th>\n",
       "      <th>movie_name</th>\n",
       "      <th>director</th>\n",
       "      <th>cast</th>\n",
       "      <th>genre</th>\n",
       "      <th>description</th>\n",
       "      <th>imdb_score</th>\n",
       "      <th>votes</th>\n",
       "      <th>rating</th>\n",
       "      <th>runtime</th>\n",
       "      <th>gross</th>\n",
       "    </tr>\n",
       "  </thead>\n",
       "  <tbody>\n",
       "    <tr>\n",
       "      <th>88</th>\n",
       "      <td>Jaws</td>\n",
       "      <td>Steven Spielberg</td>\n",
       "      <td>Richard Dreyfuss, Lorraine Gary, Roy Scheider,...</td>\n",
       "      <td>Adventure, Thriller</td>\n",
       "      <td>When a killer shark unleashes chaos on a beach...</td>\n",
       "      <td>8.0</td>\n",
       "      <td>532664.0</td>\n",
       "      <td>PG</td>\n",
       "      <td>124.0</td>\n",
       "      <td>260.00</td>\n",
       "    </tr>\n",
       "    <tr>\n",
       "      <th>90</th>\n",
       "      <td>Jurassic Park</td>\n",
       "      <td>Steven Spielberg</td>\n",
       "      <td>Laura Dern, Richard Attenborough, Jeff Goldblu...</td>\n",
       "      <td>Action, Adventure, Sci-Fi</td>\n",
       "      <td>A pragmatic paleontologist visiting an almost ...</td>\n",
       "      <td>8.1</td>\n",
       "      <td>837960.0</td>\n",
       "      <td>PG-13</td>\n",
       "      <td>127.0</td>\n",
       "      <td>402.45</td>\n",
       "    </tr>\n",
       "    <tr>\n",
       "      <th>108</th>\n",
       "      <td>Saving Private Ryan</td>\n",
       "      <td>Steven Spielberg</td>\n",
       "      <td>Matt Damon, Edward Burns, Tom Hanks, Tom Sizemore</td>\n",
       "      <td>Drama, War</td>\n",
       "      <td>Following the Normandy Landings, a group of U....</td>\n",
       "      <td>8.6</td>\n",
       "      <td>1195619.0</td>\n",
       "      <td>R</td>\n",
       "      <td>169.0</td>\n",
       "      <td>216.54</td>\n",
       "    </tr>\n",
       "    <tr>\n",
       "      <th>129</th>\n",
       "      <td>Ready Player One</td>\n",
       "      <td>Steven Spielberg</td>\n",
       "      <td>Lena Waithe, Ben Mendelsohn, Olivia Cooke, Tye...</td>\n",
       "      <td>Action, Adventure, Sci-Fi</td>\n",
       "      <td>When the creator of a virtual reality called t...</td>\n",
       "      <td>7.5</td>\n",
       "      <td>349689.0</td>\n",
       "      <td>PG-13</td>\n",
       "      <td>140.0</td>\n",
       "      <td>137.69</td>\n",
       "    </tr>\n",
       "    <tr>\n",
       "      <th>133</th>\n",
       "      <td>Catch Me If You Can</td>\n",
       "      <td>Steven Spielberg</td>\n",
       "      <td>Christopher Walken, Tom Hanks, Leonardo DiCapr...</td>\n",
       "      <td>Biography, Crime, Drama</td>\n",
       "      <td>A seasoned FBI agent pursues ,Frank Abagnale J...</td>\n",
       "      <td>8.1</td>\n",
       "      <td>792286.0</td>\n",
       "      <td>PG-13</td>\n",
       "      <td>141.0</td>\n",
       "      <td>164.62</td>\n",
       "    </tr>\n",
       "    <tr>\n",
       "      <th>250</th>\n",
       "      <td>Raiders of the Lost Ark</td>\n",
       "      <td>Steven Spielberg</td>\n",
       "      <td>Paul Freeman, John Rhys-Davies, Karen Allen, H...</td>\n",
       "      <td>Action, Adventure</td>\n",
       "      <td>In 1936, archaeologist and adventurer Indiana ...</td>\n",
       "      <td>8.4</td>\n",
       "      <td>860417.0</td>\n",
       "      <td>PG</td>\n",
       "      <td>115.0</td>\n",
       "      <td>248.16</td>\n",
       "    </tr>\n",
       "    <tr>\n",
       "      <th>478</th>\n",
       "      <td>E.T. the Extra-Terrestrial</td>\n",
       "      <td>Steven Spielberg</td>\n",
       "      <td>Peter Coyote, Drew Barrymore, Henry Thomas, De...</td>\n",
       "      <td>Family, Sci-Fi</td>\n",
       "      <td>A troubled child summons the courage to help a...</td>\n",
       "      <td>7.8</td>\n",
       "      <td>360282.0</td>\n",
       "      <td>PG</td>\n",
       "      <td>115.0</td>\n",
       "      <td>435.11</td>\n",
       "    </tr>\n",
       "    <tr>\n",
       "      <th>521</th>\n",
       "      <td>Minority Report</td>\n",
       "      <td>Steven Spielberg</td>\n",
       "      <td>Samantha Morton, Colin Farrell, Tom Cruise, Ma...</td>\n",
       "      <td>Action, Crime, Mystery</td>\n",
       "      <td>In a future where a special police unit is abl...</td>\n",
       "      <td>7.6</td>\n",
       "      <td>496082.0</td>\n",
       "      <td>PG-13</td>\n",
       "      <td>145.0</td>\n",
       "      <td>132.07</td>\n",
       "    </tr>\n",
       "    <tr>\n",
       "      <th>611</th>\n",
       "      <td>Indiana Jones and the Temple of Doom</td>\n",
       "      <td>Steven Spielberg</td>\n",
       "      <td>Kate Capshaw, Ke Huy Quan, Amrish Puri, Harris...</td>\n",
       "      <td>Action, Adventure</td>\n",
       "      <td>In 1935, Indiana Jones arrives in India, still...</td>\n",
       "      <td>7.6</td>\n",
       "      <td>435060.0</td>\n",
       "      <td>PG</td>\n",
       "      <td>118.0</td>\n",
       "      <td>179.87</td>\n",
       "    </tr>\n",
       "    <tr>\n",
       "      <th>637</th>\n",
       "      <td>Indiana Jones and the Last Crusade</td>\n",
       "      <td>Steven Spielberg</td>\n",
       "      <td>Denholm Elliott, Sean Connery, Alison Doody, H...</td>\n",
       "      <td>Action, Adventure</td>\n",
       "      <td>In 1938, after his father Professor Henry Jone...</td>\n",
       "      <td>8.2</td>\n",
       "      <td>672893.0</td>\n",
       "      <td>PG-13</td>\n",
       "      <td>127.0</td>\n",
       "      <td>197.17</td>\n",
       "    </tr>\n",
       "    <tr>\n",
       "      <th>1027</th>\n",
       "      <td>Close Encounters of the Third Kind</td>\n",
       "      <td>Steven Spielberg</td>\n",
       "      <td>Richard Dreyfuss, Teri Garr, Melinda Dillon, F...</td>\n",
       "      <td>Drama, Sci-Fi</td>\n",
       "      <td>Roy Neary, an electric lineman, watches how hi...</td>\n",
       "      <td>7.6</td>\n",
       "      <td>179063.0</td>\n",
       "      <td>PG</td>\n",
       "      <td>138.0</td>\n",
       "      <td>132.09</td>\n",
       "    </tr>\n",
       "  </tbody>\n",
       "</table>\n",
       "</div>"
      ],
      "text/plain": [
       "                                movie_name          director  \\\n",
       "88                                    Jaws  Steven Spielberg   \n",
       "90                           Jurassic Park  Steven Spielberg   \n",
       "108                    Saving Private Ryan  Steven Spielberg   \n",
       "129                       Ready Player One  Steven Spielberg   \n",
       "133                    Catch Me If You Can  Steven Spielberg   \n",
       "250                Raiders of the Lost Ark  Steven Spielberg   \n",
       "478             E.T. the Extra-Terrestrial  Steven Spielberg   \n",
       "521                        Minority Report  Steven Spielberg   \n",
       "611   Indiana Jones and the Temple of Doom  Steven Spielberg   \n",
       "637     Indiana Jones and the Last Crusade  Steven Spielberg   \n",
       "1027    Close Encounters of the Third Kind  Steven Spielberg   \n",
       "\n",
       "                                                   cast  \\\n",
       "88    Richard Dreyfuss, Lorraine Gary, Roy Scheider,...   \n",
       "90    Laura Dern, Richard Attenborough, Jeff Goldblu...   \n",
       "108   Matt Damon, Edward Burns, Tom Hanks, Tom Sizemore   \n",
       "129   Lena Waithe, Ben Mendelsohn, Olivia Cooke, Tye...   \n",
       "133   Christopher Walken, Tom Hanks, Leonardo DiCapr...   \n",
       "250   Paul Freeman, John Rhys-Davies, Karen Allen, H...   \n",
       "478   Peter Coyote, Drew Barrymore, Henry Thomas, De...   \n",
       "521   Samantha Morton, Colin Farrell, Tom Cruise, Ma...   \n",
       "611   Kate Capshaw, Ke Huy Quan, Amrish Puri, Harris...   \n",
       "637   Denholm Elliott, Sean Connery, Alison Doody, H...   \n",
       "1027  Richard Dreyfuss, Teri Garr, Melinda Dillon, F...   \n",
       "\n",
       "                          genre  \\\n",
       "88          Adventure, Thriller   \n",
       "90    Action, Adventure, Sci-Fi   \n",
       "108                  Drama, War   \n",
       "129   Action, Adventure, Sci-Fi   \n",
       "133     Biography, Crime, Drama   \n",
       "250           Action, Adventure   \n",
       "478              Family, Sci-Fi   \n",
       "521      Action, Crime, Mystery   \n",
       "611           Action, Adventure   \n",
       "637           Action, Adventure   \n",
       "1027              Drama, Sci-Fi   \n",
       "\n",
       "                                            description  imdb_score  \\\n",
       "88    When a killer shark unleashes chaos on a beach...         8.0   \n",
       "90    A pragmatic paleontologist visiting an almost ...         8.1   \n",
       "108   Following the Normandy Landings, a group of U....         8.6   \n",
       "129   When the creator of a virtual reality called t...         7.5   \n",
       "133   A seasoned FBI agent pursues ,Frank Abagnale J...         8.1   \n",
       "250   In 1936, archaeologist and adventurer Indiana ...         8.4   \n",
       "478   A troubled child summons the courage to help a...         7.8   \n",
       "521   In a future where a special police unit is abl...         7.6   \n",
       "611   In 1935, Indiana Jones arrives in India, still...         7.6   \n",
       "637   In 1938, after his father Professor Henry Jone...         8.2   \n",
       "1027  Roy Neary, an electric lineman, watches how hi...         7.6   \n",
       "\n",
       "          votes rating  runtime   gross  \n",
       "88     532664.0     PG    124.0  260.00  \n",
       "90     837960.0  PG-13    127.0  402.45  \n",
       "108   1195619.0      R    169.0  216.54  \n",
       "129    349689.0  PG-13    140.0  137.69  \n",
       "133    792286.0  PG-13    141.0  164.62  \n",
       "250    860417.0     PG    115.0  248.16  \n",
       "478    360282.0     PG    115.0  435.11  \n",
       "521    496082.0  PG-13    145.0  132.07  \n",
       "611    435060.0     PG    118.0  179.87  \n",
       "637    672893.0  PG-13    127.0  197.17  \n",
       "1027   179063.0     PG    138.0  132.09  "
      ]
     },
     "execution_count": 103,
     "metadata": {},
     "output_type": "execute_result"
    }
   ],
   "source": [
    "newdf[newdf['director']=='Steven Spielberg']"
   ]
  },
  {
   "cell_type": "code",
   "execution_count": null,
   "id": "4adc415d",
   "metadata": {},
   "outputs": [],
   "source": []
  },
  {
   "cell_type": "code",
   "execution_count": null,
   "id": "8976ab4d",
   "metadata": {},
   "outputs": [],
   "source": []
  },
  {
   "cell_type": "code",
   "execution_count": null,
   "id": "9d01248e",
   "metadata": {},
   "outputs": [],
   "source": []
  },
  {
   "cell_type": "markdown",
   "id": "0527ac21",
   "metadata": {
    "id": "g67WLBzmsZIL"
   },
   "source": [
    "## D4\n",
    "\n",
    "* Plot a pie chart to show distribution of imdb_scores.\n",
    "* Hints\n",
    "    * For imdb_score, create the following 5 bins\n",
    "        * 0-5.9\n",
    "        * 6-6.9\n",
    "        * 7-7.9\n",
    "        * 8-8.9\n",
    "        * 9-9.9\n",
    "    * The lower and upper bound for each bin is inclusive\n",
    "    * For example, if imdb_score of a movie is 8.5, then it will belong to bin 8-8.9.\n",
    "    * Show the percentage value for each slice and display the legend."
   ]
  },
  {
   "cell_type": "code",
   "execution_count": 115,
   "id": "12c7d1d7",
   "metadata": {},
   "outputs": [
    {
     "data": {
      "image/png": "[encoded data removed]",
      "text/plain": [
       "<Figure size 576x576 with 1 Axes>"
      ]
     },
     "metadata": {},
     "output_type": "display_data"
    }
   ],
   "source": [
    "# YOUR CODE\n",
    "x = df['imdb_score'].values\n",
    "score_dict = {'0-5.9':0, '6-6.9':0, '7-7.9':0, '8-8.9':0, '9-9.9':0}\n",
    "\n",
    "# count the number of movies in each of the score brackets\n",
    "for score in x:\n",
    "    if score<=5.9:\n",
    "        score_dict['0-5.9']+=1\n",
    "    elif score<=6.9:\n",
    "        score_dict['6-6.9']+=1\n",
    "    elif score<=7.9:\n",
    "        score_dict['7-7.9']+=1\n",
    "    elif score<=8.9:\n",
    "        score_dict['8-8.9']+=1\n",
    "    else:\n",
    "        score_dict['9-9.9']+=1\n",
    "        \n",
    "# plot\n",
    "plt.figure(figsize=(8,8))\n",
    "plt.pie(score_dict.values(), labels=score_dict.keys(), autopct='%1.1f%%')\n",
    "plt.legend()\n",
    "plt.title('Count of Popular Movies by Director')\n",
    "plt.show()"
   ]
  },
  {
   "cell_type": "code",
   "execution_count": null,
   "id": "42a1de24",
   "metadata": {
    "id": "AHGK5OPAsYb8"
   },
   "outputs": [],
   "source": []
  },
  {
   "cell_type": "code",
   "execution_count": null,
   "id": "c0a827f9",
   "metadata": {},
   "outputs": [],
   "source": []
  },
  {
   "cell_type": "markdown",
   "id": "1f15bd1d",
   "metadata": {
    "id": "lbg6_4bX37KP"
   },
   "source": [
    "## D5\n",
    "\n",
    "* Plot a box plot showing distribution of gross revenue for different movie ratings\n",
    "* Hints:\n",
    "    * Consider top 3 ratings with the highest frequency\n",
    "    * Drop rows with gross = NaN\n",
    "    * The boxplot should also include text showing lower bound, Q1, Median, Q3 and upper bound for each box\n",
    "* Explain the insights obtained from the boxplot"
   ]
  },
  {
   "cell_type": "code",
   "execution_count": 127,
   "id": "be8a01df",
   "metadata": {},
   "outputs": [
    {
     "data": {
      "text/plain": [
       "R            6070\n",
       "PG-13        2275\n",
       "PG           1464\n",
       "Not Rated    1441\n",
       "Approved      291\n",
       "Name: rating, dtype: int64"
      ]
     },
     "execution_count": 127,
     "metadata": {},
     "output_type": "execute_result"
    }
   ],
   "source": [
    "# rating value counts\n",
    "df['rating'].value_counts().head()"
   ]
  },
  {
   "cell_type": "markdown",
   "id": "76aa3328",
   "metadata": {},
   "source": [
    "Above we observe that the 3 ratings with highest frequency are 'R', 'PG-13', and 'PG'."
   ]
  },
  {
   "cell_type": "code",
   "execution_count": 152,
   "id": "6783a36b",
   "metadata": {},
   "outputs": [
    {
     "data": {
      "image/png": "[encoded data removed]",
      "text/plain": [
       "<Figure size 720x720 with 1 Axes>"
      ]
     },
     "metadata": {},
     "output_type": "display_data"
    }
   ],
   "source": [
    "# YOUR CODE\n",
    "\n",
    "# subset df\n",
    "newdf = df.loc[(df['rating'] == 'R') | (df['rating'] == 'PG-13') | (df['rating'] == 'PG')]\n",
    "\n",
    "# drop NA\n",
    "newdf = newdf.dropna(subset=['gross'])\n",
    "\n",
    "# plot\n",
    "sns.set_theme(rc={'figure.figsize':(10,10)})\n",
    "sns.set(style='dark', palette='deep')\n",
    "\n",
    "ax = sns.boxplot(data=newdf, x='rating', y='gross')\n",
    "ax.set_title('Gross Revenue Distribution by Rating')\n",
    "ax.set_ylabel('Gross Revenue')\n",
    "ax.set_xlabel('Movie Rating')\n",
    "plt.show()"
   ]
  },
  {
   "cell_type": "markdown",
   "id": "5d149a0b",
   "metadata": {},
   "source": [
    "From the boxplots above, we can observe how the majority of the movies in every rating category had relatively low gross revenues. This makes intuitive sense as it is hard to produce a succesful movie. We can also observe how PG-13 movies have the largest revenues on average, and R movies the least, out of these three categoies.  "
   ]
  },
  {
   "cell_type": "code",
   "execution_count": null,
   "id": "d5a05fb8",
   "metadata": {},
   "outputs": [],
   "source": []
  },
  {
   "cell_type": "code",
   "execution_count": null,
   "id": "2479da96",
   "metadata": {},
   "outputs": [],
   "source": []
  },
  {
   "cell_type": "code",
   "execution_count": null,
   "id": "bab485c6",
   "metadata": {},
   "outputs": [],
   "source": []
  },
  {
   "cell_type": "code",
   "execution_count": null,
   "id": "0bccf876",
   "metadata": {},
   "outputs": [],
   "source": []
  },
  {
   "cell_type": "code",
   "execution_count": null,
   "id": "224e0fd5",
   "metadata": {},
   "outputs": [],
   "source": []
  }
 ],
 "metadata": {
  "colab": {
   "provenance": []
  },
  "kernelspec": {
   "display_name": "Python 3 (ipykernel)",
   "language": "python",
   "name": "python3"
  },
  "language_info": {
   "codemirror_mode": {
    "name": "ipython",
    "version": 3
   },
   "file_extension": ".py",
   "mimetype": "text/x-python",
   "name": "python",
   "nbconvert_exporter": "python",
   "pygments_lexer": "ipython3",
   "version": "3.9.12"
  }
 },
 "nbformat": 4,
 "nbformat_minor": 5
}
