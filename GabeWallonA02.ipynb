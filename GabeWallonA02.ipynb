{
 "cells": [
  {
   "cell_type": "markdown",
   "id": "69abe9e7",
   "metadata": {},
   "source": [
    "# Contents: <a class=\"anchor\" id=\"top\"></a>\n",
    "### [Part A: Answering DS Methodology Questions](#p1)\n",
    "### [Part B: Web Scraping from LinkedIn and Preprocessing](#p2) \n",
    "### [Part C: Research Paper Review](#p3) "
   ]
  },
  {
   "cell_type": "code",
   "execution_count": null,
   "id": "a11c2cfd",
   "metadata": {},
   "outputs": [],
   "source": []
  },
  {
   "cell_type": "markdown",
   "id": "5cb23eb0",
   "metadata": {},
   "source": [
    "# Part A - Reasoning<a class=\"anchor\" id=\"p1\"></a>\n",
    "[back to top](#top)\n"
   ]
  },
  {
   "cell_type": "markdown",
   "id": "d69d84d8",
   "metadata": {},
   "source": [
    "**What is the Data Understanding step in the statistics step in the Data Mining Pipeline, and why do we need it?**   \n",
    "In the Data Understanding step, we aim to learn essential characteristics about the data we have gathered. Understanding the data types of the data attributes allows you to know what kinds of analyses you will be able to perform with that data. E.g., if you have numerical data, you can take averages whereas you cannot do that with categorical data. This step includes visualizing our data. Gaining knowledge of your data is useful for the next step in the data mining pipeline: data preprocessing. \n",
    "\n",
    "\n",
    "**What are the measures of central tendency (Ms)? Explain the relevance of each of them with suitable examples.**  \n",
    "Measures of central tendency aim to generalize the data, or provide an idea of what a typical member of the data set looks like. The three most common measures of central tendancy are Mean, Median, and Mode.  \n",
    "\n",
    "Mean is the standard average of a group of numerical variables. For example, if you had 5 quizzes over the course of a semester, and you scored a 75%, 80%, 85%, 100%, and 100%, then your average quiz grade for the semester would be an 88%, giving an idea for how well you did on a typical quiz for the course.   \n",
    "\n",
    "Median gives an alternative measure for the average. The median of a set of numeric data is the value at which 50% of the data are larger and 50% of the data are smaller than that value. For example, the median test grade for a class of 101 students tells us that 50 students got at least the median score and 50 students got at most the median score.  \n",
    "\n",
    "Mode tells us the most common numeric data value in the set. For example, if we looked at the salary of 100 data analysts in tens of thousands of dollars, one might find that 50 of the 100 had salaries in the 60,000-70,000 dollar range, 30 of the 100 had salaries in the 50,000-60,000 dollar range, and 20 of the 100 had salaries in the 70,000-80,000 dollar range. Then the most common, or mode, salary range would be 60,000-70,000 dollars.\n",
    "\n",
    "\n",
    "**What are the measures of dispersion? Explain the relevance of each of them with suitable examples.**  \n",
    "Measures of dispersion tell us about the spread, or distribution, of a set of numerical data. One example of such a measure if the range of the data, or the distance between the smallest and largest value. An example of this could be the difference between the largest and smallest salary for a jobs with the title \"Data Analyst\". Quantiles tell us the numerical value at which some percent of the data have values smaller than that value, e.g., the 50th quantile is the median of the data. The inter-quartile range (IQR) tells us the values between which 50% of the data points lie. If you were to apply to a data analyst position, with knowledge of this IQR, you could have an expectation of the salary you would earn.  \n",
    "Other measures of dispersion are the variance and standard deviation. The variance is a measure of  the expected or typical distance-squared between a data point and the mean of the data set. The standard deviation is the square root of the variance, thus measures how far on average a data point is from the mean of the set of data. A small standard deviation tells us that the data tend to be close to the mean. For example, in certain neighborhoods, we may find that the incomes of the inhabitants may all be very similar to eachother.  \n",
    "\n",
    "\n",
    "**What are the measures of similarity? Explain the relevance of each of them with suitable examples.**  \n",
    "Measures of similarity assess how alike or unalike data points are in comparison to one another, and depend on the data types in question. No matter the data type though, we can store information about similarity in a similarity matrix: a square matrix where each data point has a row and a column, and the intersection between each row and column holds a value describing the similarity between the two data points. The values along the diagonal of this matrix are always 1, because data points are perfectly similar to themselves.  \n",
    "\n",
    "If our data are nominal (aka categorical), we would measure the similarity between two data points by checking whether their values are equal. We would then assign either a 1 or 0 to the intersection value between the two data points.  \n",
    "\n",
    "If our data are binary variables, we can measure the similarity between two data points via symmetric or assymetric binary dissimilarity. This measure is referred to as the Jaccard coefficient. This can be calculated by summing the number of binary attributes a pair of data points have equal values in. For example, if doctors were trying to determine whether three patients at the hospital were suffering from the same or different diseases, they could perform 10 binary tests on the patients. If two of the patients both tested positive on 6 of the 10 tests, negative on 3, and their results were different for the 1 remaining test, this pair of patients would have a dissimilarity score of 1/6=0.167. This relatively small score indicates that the patients are likely suffering from the same illness. \n",
    "\n",
    "If our data are numeric, we can measure their similarity using the L_2 norm, i.e. Euclidean distance. This is the square root of the sum of the squares of the differences between each numeric attribute between two data points. This is the same way you measure the proximity between two points on a two dimensional graph. For example, if you wanted to know how similar two football players were according to height and weight, you could use the L_2 norm. Other ways to measure similarity of numeric data are the Manhattan distance, and Minkowski distance. "
   ]
  },
  {
   "cell_type": "code",
   "execution_count": null,
   "id": "686b4fe5",
   "metadata": {},
   "outputs": [],
   "source": []
  },
  {
   "cell_type": "code",
   "execution_count": null,
   "id": "c06bd742",
   "metadata": {},
   "outputs": [],
   "source": []
  },
  {
   "cell_type": "markdown",
   "id": "96be4971",
   "metadata": {},
   "source": [
    "# Part B - Application<a class=\"anchor\" id=\"p2\"></a>\n",
    "[back to top](#top)\n"
   ]
  },
  {
   "cell_type": "markdown",
   "id": "6f0e04fc",
   "metadata": {},
   "source": [
    "### Scraping Job Data from LinkedIn"
   ]
  },
  {
   "cell_type": "code",
   "execution_count": 1,
   "id": "846b8c50",
   "metadata": {},
   "outputs": [],
   "source": [
    "import requests\n",
    "from bs4 import BeautifulSoup\n",
    "import pandas as pd"
   ]
  },
  {
   "cell_type": "code",
   "execution_count": 92,
   "id": "9114af37",
   "metadata": {},
   "outputs": [],
   "source": [
    "df = pd.DataFrame({'Job Title':[], 'Company': [], 'Location':[], 'Post Date':[], 'Days Since Post':[]})"
   ]
  },
  {
   "cell_type": "code",
   "execution_count": 93,
   "id": "0c1a2718",
   "metadata": {},
   "outputs": [],
   "source": [
    "URL = 'https://www.linkedin.com/jobs/search/?currentJobId=3780543797&distance=25&f_E=1%2C2&geoId=103112676&keywords=data&origin=JOBS_HOME_KEYWORD_HISTORY&refresh=true&start='\n",
    "for i in range(10):\n",
    "    url2 = URL + str(25*i)\n",
    "    page = requests.get(url2)\n",
    "    page_soup = BeautifulSoup(page.content, \"html.parser\")\n",
    "    \n",
    "    # retrieve job info from soup\n",
    "    jobs = page_soup.find_all(\"div\", {\"class\": \"base-search-card__info\"})\n",
    "    for job in jobs:\n",
    "        title = job.find('h3').string.strip()\n",
    "        company = job.find('h4').find('a').string.strip()\n",
    "        location = job.find('span', {'class': \"job-search-card__location\"}).string.strip()\n",
    "        post_date = job.find('time')['datetime']\n",
    "        date_diff = pd.to_datetime('today').normalize() - pd.to_datetime(post_date)\n",
    "        num_days = date_diff.days\n",
    "        \n",
    "        # add info to dataframe\n",
    "        new_row = [title, company, location, post_date, num_days]\n",
    "        df.loc[len(df.index)] = new_row"
   ]
  },
  {
   "cell_type": "code",
   "execution_count": 94,
   "id": "5e5fe547",
   "metadata": {},
   "outputs": [
    {
     "data": {
      "text/html": [
       "<div>\n",
       "<style scoped>\n",
       "    .dataframe tbody tr th:only-of-type {\n",
       "        vertical-align: middle;\n",
       "    }\n",
       "\n",
       "    .dataframe tbody tr th {\n",
       "        vertical-align: top;\n",
       "    }\n",
       "\n",
       "    .dataframe thead th {\n",
       "        text-align: right;\n",
       "    }\n",
       "</style>\n",
       "<table border=\"1\" class=\"dataframe\">\n",
       "  <thead>\n",
       "    <tr style=\"text-align: right;\">\n",
       "      <th></th>\n",
       "      <th>Job Title</th>\n",
       "      <th>Company</th>\n",
       "      <th>Location</th>\n",
       "      <th>Post Date</th>\n",
       "      <th>Days Since Post</th>\n",
       "    </tr>\n",
       "  </thead>\n",
       "  <tbody>\n",
       "    <tr>\n",
       "      <th>0</th>\n",
       "      <td>Admissions Associate</td>\n",
       "      <td>Saint Ignatius College Prep</td>\n",
       "      <td>Chicago, IL</td>\n",
       "      <td>2024-01-30</td>\n",
       "      <td>2.0</td>\n",
       "    </tr>\n",
       "    <tr>\n",
       "      <th>1</th>\n",
       "      <td>Data Analyst</td>\n",
       "      <td>Lever Middleware Test Company 2</td>\n",
       "      <td>Chicago, IL</td>\n",
       "      <td>2023-12-15</td>\n",
       "      <td>48.0</td>\n",
       "    </tr>\n",
       "    <tr>\n",
       "      <th>2</th>\n",
       "      <td>Jr Data Entry Assistant (No Experience)</td>\n",
       "      <td>Sitters Match</td>\n",
       "      <td>Chicago, IL</td>\n",
       "      <td>2024-01-18</td>\n",
       "      <td>14.0</td>\n",
       "    </tr>\n",
       "    <tr>\n",
       "      <th>3</th>\n",
       "      <td>Customer Experience Specialist</td>\n",
       "      <td>Air Canada</td>\n",
       "      <td>Chicago, IL</td>\n",
       "      <td>2023-08-01</td>\n",
       "      <td>184.0</td>\n",
       "    </tr>\n",
       "    <tr>\n",
       "      <th>4</th>\n",
       "      <td>Assistant, Data Entry (Part-Time) | Remote</td>\n",
       "      <td>Sitters Match</td>\n",
       "      <td>Chicago, IL</td>\n",
       "      <td>2024-01-27</td>\n",
       "      <td>5.0</td>\n",
       "    </tr>\n",
       "  </tbody>\n",
       "</table>\n",
       "</div>"
      ],
      "text/plain": [
       "                                    Job Title  \\\n",
       "0                        Admissions Associate   \n",
       "1                                Data Analyst   \n",
       "2     Jr Data Entry Assistant (No Experience)   \n",
       "3              Customer Experience Specialist   \n",
       "4  Assistant, Data Entry (Part-Time) | Remote   \n",
       "\n",
       "                           Company     Location   Post Date  Days Since Post  \n",
       "0      Saint Ignatius College Prep  Chicago, IL  2024-01-30              2.0  \n",
       "1  Lever Middleware Test Company 2  Chicago, IL  2023-12-15             48.0  \n",
       "2                    Sitters Match  Chicago, IL  2024-01-18             14.0  \n",
       "3                       Air Canada  Chicago, IL  2023-08-01            184.0  \n",
       "4                    Sitters Match  Chicago, IL  2024-01-27              5.0  "
      ]
     },
     "execution_count": 94,
     "metadata": {},
     "output_type": "execute_result"
    }
   ],
   "source": [
    "df.head()"
   ]
  },
  {
   "cell_type": "code",
   "execution_count": 49,
   "id": "bd1506f3",
   "metadata": {},
   "outputs": [],
   "source": [
    "df.to_csv('scraped_linkedin_jobs.csv')"
   ]
  },
  {
   "cell_type": "code",
   "execution_count": null,
   "id": "829ae96b",
   "metadata": {},
   "outputs": [],
   "source": []
  },
  {
   "cell_type": "markdown",
   "id": "3fe36695",
   "metadata": {},
   "source": [
    "### Data Processing"
   ]
  },
  {
   "cell_type": "code",
   "execution_count": 82,
   "id": "b01ae96e",
   "metadata": {},
   "outputs": [],
   "source": [
    "jobsdf = pd.read_csv('scraped_linkedin_jobs.csv')"
   ]
  },
  {
   "cell_type": "code",
   "execution_count": 83,
   "id": "327dc240",
   "metadata": {},
   "outputs": [
    {
     "data": {
      "text/html": [
       "<div>\n",
       "<style scoped>\n",
       "    .dataframe tbody tr th:only-of-type {\n",
       "        vertical-align: middle;\n",
       "    }\n",
       "\n",
       "    .dataframe tbody tr th {\n",
       "        vertical-align: top;\n",
       "    }\n",
       "\n",
       "    .dataframe thead th {\n",
       "        text-align: right;\n",
       "    }\n",
       "</style>\n",
       "<table border=\"1\" class=\"dataframe\">\n",
       "  <thead>\n",
       "    <tr style=\"text-align: right;\">\n",
       "      <th></th>\n",
       "      <th>Unnamed: 0</th>\n",
       "      <th>Job Title</th>\n",
       "      <th>Company</th>\n",
       "      <th>Location</th>\n",
       "      <th>Post Date</th>\n",
       "      <th>Days Since Post</th>\n",
       "    </tr>\n",
       "  </thead>\n",
       "  <tbody>\n",
       "    <tr>\n",
       "      <th>0</th>\n",
       "      <td>0</td>\n",
       "      <td>Admissions Associate</td>\n",
       "      <td>Saint Ignatius College Prep</td>\n",
       "      <td>Chicago, IL</td>\n",
       "      <td>2024-01-30</td>\n",
       "      <td>2.0</td>\n",
       "    </tr>\n",
       "    <tr>\n",
       "      <th>1</th>\n",
       "      <td>1</td>\n",
       "      <td>Data Analyst</td>\n",
       "      <td>Lever Middleware Test Company 2</td>\n",
       "      <td>Chicago, IL</td>\n",
       "      <td>2023-12-15</td>\n",
       "      <td>48.0</td>\n",
       "    </tr>\n",
       "    <tr>\n",
       "      <th>2</th>\n",
       "      <td>2</td>\n",
       "      <td>Jr Data Entry Assistant (No Experience)</td>\n",
       "      <td>Sitters Match</td>\n",
       "      <td>Chicago, IL</td>\n",
       "      <td>2024-01-18</td>\n",
       "      <td>14.0</td>\n",
       "    </tr>\n",
       "    <tr>\n",
       "      <th>3</th>\n",
       "      <td>3</td>\n",
       "      <td>Customer Experience Specialist</td>\n",
       "      <td>Air Canada</td>\n",
       "      <td>Chicago, IL</td>\n",
       "      <td>2023-08-01</td>\n",
       "      <td>184.0</td>\n",
       "    </tr>\n",
       "    <tr>\n",
       "      <th>4</th>\n",
       "      <td>4</td>\n",
       "      <td>Data</td>\n",
       "      <td>Lever Middleware Test Company 2</td>\n",
       "      <td>Chicago, IL</td>\n",
       "      <td>2023-12-15</td>\n",
       "      <td>48.0</td>\n",
       "    </tr>\n",
       "  </tbody>\n",
       "</table>\n",
       "</div>"
      ],
      "text/plain": [
       "   Unnamed: 0                                Job Title  \\\n",
       "0           0                     Admissions Associate   \n",
       "1           1                             Data Analyst   \n",
       "2           2  Jr Data Entry Assistant (No Experience)   \n",
       "3           3           Customer Experience Specialist   \n",
       "4           4                                     Data   \n",
       "\n",
       "                           Company     Location   Post Date  Days Since Post  \n",
       "0      Saint Ignatius College Prep  Chicago, IL  2024-01-30              2.0  \n",
       "1  Lever Middleware Test Company 2  Chicago, IL  2023-12-15             48.0  \n",
       "2                    Sitters Match  Chicago, IL  2024-01-18             14.0  \n",
       "3                       Air Canada  Chicago, IL  2023-08-01            184.0  \n",
       "4  Lever Middleware Test Company 2  Chicago, IL  2023-12-15             48.0  "
      ]
     },
     "execution_count": 83,
     "metadata": {},
     "output_type": "execute_result"
    }
   ],
   "source": [
    "jobsdf.head()"
   ]
  },
  {
   "cell_type": "code",
   "execution_count": 84,
   "id": "2a9eee0d",
   "metadata": {},
   "outputs": [
    {
     "data": {
      "text/html": [
       "<div>\n",
       "<style scoped>\n",
       "    .dataframe tbody tr th:only-of-type {\n",
       "        vertical-align: middle;\n",
       "    }\n",
       "\n",
       "    .dataframe tbody tr th {\n",
       "        vertical-align: top;\n",
       "    }\n",
       "\n",
       "    .dataframe thead th {\n",
       "        text-align: right;\n",
       "    }\n",
       "</style>\n",
       "<table border=\"1\" class=\"dataframe\">\n",
       "  <thead>\n",
       "    <tr style=\"text-align: right;\">\n",
       "      <th></th>\n",
       "      <th>Job Title</th>\n",
       "      <th>Company</th>\n",
       "      <th>Location</th>\n",
       "      <th>Post Date</th>\n",
       "      <th>Days Since Post</th>\n",
       "    </tr>\n",
       "  </thead>\n",
       "  <tbody>\n",
       "    <tr>\n",
       "      <th>0</th>\n",
       "      <td>Admissions Associate</td>\n",
       "      <td>Saint Ignatius College Prep</td>\n",
       "      <td>Chicago, IL</td>\n",
       "      <td>2024-01-30</td>\n",
       "      <td>2.0</td>\n",
       "    </tr>\n",
       "    <tr>\n",
       "      <th>1</th>\n",
       "      <td>Data Analyst</td>\n",
       "      <td>Lever Middleware Test Company 2</td>\n",
       "      <td>Chicago, IL</td>\n",
       "      <td>2023-12-15</td>\n",
       "      <td>48.0</td>\n",
       "    </tr>\n",
       "    <tr>\n",
       "      <th>2</th>\n",
       "      <td>Jr Data Entry Assistant (No Experience)</td>\n",
       "      <td>Sitters Match</td>\n",
       "      <td>Chicago, IL</td>\n",
       "      <td>2024-01-18</td>\n",
       "      <td>14.0</td>\n",
       "    </tr>\n",
       "    <tr>\n",
       "      <th>3</th>\n",
       "      <td>Customer Experience Specialist</td>\n",
       "      <td>Air Canada</td>\n",
       "      <td>Chicago, IL</td>\n",
       "      <td>2023-08-01</td>\n",
       "      <td>184.0</td>\n",
       "    </tr>\n",
       "    <tr>\n",
       "      <th>4</th>\n",
       "      <td>Data</td>\n",
       "      <td>Lever Middleware Test Company 2</td>\n",
       "      <td>Chicago, IL</td>\n",
       "      <td>2023-12-15</td>\n",
       "      <td>48.0</td>\n",
       "    </tr>\n",
       "  </tbody>\n",
       "</table>\n",
       "</div>"
      ],
      "text/plain": [
       "                                 Job Title                          Company  \\\n",
       "0                     Admissions Associate      Saint Ignatius College Prep   \n",
       "1                             Data Analyst  Lever Middleware Test Company 2   \n",
       "2  Jr Data Entry Assistant (No Experience)                    Sitters Match   \n",
       "3           Customer Experience Specialist                       Air Canada   \n",
       "4                                     Data  Lever Middleware Test Company 2   \n",
       "\n",
       "      Location   Post Date  Days Since Post  \n",
       "0  Chicago, IL  2024-01-30              2.0  \n",
       "1  Chicago, IL  2023-12-15             48.0  \n",
       "2  Chicago, IL  2024-01-18             14.0  \n",
       "3  Chicago, IL  2023-08-01            184.0  \n",
       "4  Chicago, IL  2023-12-15             48.0  "
      ]
     },
     "execution_count": 84,
     "metadata": {},
     "output_type": "execute_result"
    }
   ],
   "source": [
    "# remove first column\n",
    "jobsdf.drop(jobsdf.columns[0], axis=1, inplace=True)\n",
    "jobsdf.head()"
   ]
  },
  {
   "cell_type": "code",
   "execution_count": 85,
   "id": "1bcadd06",
   "metadata": {},
   "outputs": [],
   "source": [
    "# add columns\n",
    "def title_contains(title, keyword):\n",
    "    return int(keyword.lower() in title.lower())\n",
    "\n",
    "jobsdf['Analyst Role'] = jobsdf['Job Title'].apply(title_contains, args=['analyst'])\n",
    "jobsdf['Data Role'] = jobsdf['Job Title'].apply(title_contains, args=['data'])\n",
    "jobsdf['Scientist Role'] = jobsdf['Job Title'].apply(title_contains, args=['scientist'])\n",
    "jobsdf['Intern Role'] = jobsdf['Job Title'].apply(title_contains, args=['intern'])"
   ]
  },
  {
   "cell_type": "code",
   "execution_count": 86,
   "id": "1ca21628",
   "metadata": {},
   "outputs": [
    {
     "data": {
      "text/html": [
       "<div>\n",
       "<style scoped>\n",
       "    .dataframe tbody tr th:only-of-type {\n",
       "        vertical-align: middle;\n",
       "    }\n",
       "\n",
       "    .dataframe tbody tr th {\n",
       "        vertical-align: top;\n",
       "    }\n",
       "\n",
       "    .dataframe thead th {\n",
       "        text-align: right;\n",
       "    }\n",
       "</style>\n",
       "<table border=\"1\" class=\"dataframe\">\n",
       "  <thead>\n",
       "    <tr style=\"text-align: right;\">\n",
       "      <th></th>\n",
       "      <th>Job Title</th>\n",
       "      <th>Company</th>\n",
       "      <th>Location</th>\n",
       "      <th>Post Date</th>\n",
       "      <th>Days Since Post</th>\n",
       "      <th>Analyst Role</th>\n",
       "      <th>Data Role</th>\n",
       "      <th>Scientist Role</th>\n",
       "      <th>Intern Role</th>\n",
       "    </tr>\n",
       "  </thead>\n",
       "  <tbody>\n",
       "    <tr>\n",
       "      <th>0</th>\n",
       "      <td>Admissions Associate</td>\n",
       "      <td>Saint Ignatius College Prep</td>\n",
       "      <td>Chicago, IL</td>\n",
       "      <td>2024-01-30</td>\n",
       "      <td>2.0</td>\n",
       "      <td>0</td>\n",
       "      <td>0</td>\n",
       "      <td>0</td>\n",
       "      <td>0</td>\n",
       "    </tr>\n",
       "    <tr>\n",
       "      <th>1</th>\n",
       "      <td>Data Analyst</td>\n",
       "      <td>Lever Middleware Test Company 2</td>\n",
       "      <td>Chicago, IL</td>\n",
       "      <td>2023-12-15</td>\n",
       "      <td>48.0</td>\n",
       "      <td>1</td>\n",
       "      <td>1</td>\n",
       "      <td>0</td>\n",
       "      <td>0</td>\n",
       "    </tr>\n",
       "    <tr>\n",
       "      <th>2</th>\n",
       "      <td>Jr Data Entry Assistant (No Experience)</td>\n",
       "      <td>Sitters Match</td>\n",
       "      <td>Chicago, IL</td>\n",
       "      <td>2024-01-18</td>\n",
       "      <td>14.0</td>\n",
       "      <td>0</td>\n",
       "      <td>1</td>\n",
       "      <td>0</td>\n",
       "      <td>0</td>\n",
       "    </tr>\n",
       "    <tr>\n",
       "      <th>3</th>\n",
       "      <td>Customer Experience Specialist</td>\n",
       "      <td>Air Canada</td>\n",
       "      <td>Chicago, IL</td>\n",
       "      <td>2023-08-01</td>\n",
       "      <td>184.0</td>\n",
       "      <td>0</td>\n",
       "      <td>0</td>\n",
       "      <td>0</td>\n",
       "      <td>0</td>\n",
       "    </tr>\n",
       "    <tr>\n",
       "      <th>4</th>\n",
       "      <td>Data</td>\n",
       "      <td>Lever Middleware Test Company 2</td>\n",
       "      <td>Chicago, IL</td>\n",
       "      <td>2023-12-15</td>\n",
       "      <td>48.0</td>\n",
       "      <td>0</td>\n",
       "      <td>1</td>\n",
       "      <td>0</td>\n",
       "      <td>0</td>\n",
       "    </tr>\n",
       "  </tbody>\n",
       "</table>\n",
       "</div>"
      ],
      "text/plain": [
       "                                 Job Title                          Company  \\\n",
       "0                     Admissions Associate      Saint Ignatius College Prep   \n",
       "1                             Data Analyst  Lever Middleware Test Company 2   \n",
       "2  Jr Data Entry Assistant (No Experience)                    Sitters Match   \n",
       "3           Customer Experience Specialist                       Air Canada   \n",
       "4                                     Data  Lever Middleware Test Company 2   \n",
       "\n",
       "      Location   Post Date  Days Since Post  Analyst Role  Data Role  \\\n",
       "0  Chicago, IL  2024-01-30              2.0             0          0   \n",
       "1  Chicago, IL  2023-12-15             48.0             1          1   \n",
       "2  Chicago, IL  2024-01-18             14.0             0          1   \n",
       "3  Chicago, IL  2023-08-01            184.0             0          0   \n",
       "4  Chicago, IL  2023-12-15             48.0             0          1   \n",
       "\n",
       "   Scientist Role  Intern Role  \n",
       "0               0            0  \n",
       "1               0            0  \n",
       "2               0            0  \n",
       "3               0            0  \n",
       "4               0            0  "
      ]
     },
     "execution_count": 86,
     "metadata": {},
     "output_type": "execute_result"
    }
   ],
   "source": [
    "jobsdf.head()"
   ]
  },
  {
   "cell_type": "code",
   "execution_count": 87,
   "id": "2c9b3dbd",
   "metadata": {
    "scrolled": true
   },
   "outputs": [
    {
     "name": "stdout",
     "output_type": "stream",
     "text": [
      "<class 'pandas.core.frame.DataFrame'>\n",
      "RangeIndex: 250 entries, 0 to 249\n",
      "Data columns (total 9 columns):\n",
      " #   Column           Non-Null Count  Dtype  \n",
      "---  ------           --------------  -----  \n",
      " 0   Job Title        250 non-null    object \n",
      " 1   Company          250 non-null    object \n",
      " 2   Location         250 non-null    object \n",
      " 3   Post Date        250 non-null    object \n",
      " 4   Days Since Post  250 non-null    float64\n",
      " 5   Analyst Role     250 non-null    int64  \n",
      " 6   Data Role        250 non-null    int64  \n",
      " 7   Scientist Role   250 non-null    int64  \n",
      " 8   Intern Role      250 non-null    int64  \n",
      "dtypes: float64(1), int64(4), object(4)\n",
      "memory usage: 17.7+ KB\n"
     ]
    }
   ],
   "source": [
    "# 2. Basic Info\n",
    "jobsdf.info()"
   ]
  },
  {
   "cell_type": "code",
   "execution_count": 91,
   "id": "e1046eee",
   "metadata": {},
   "outputs": [
    {
     "data": {
      "text/plain": [
       "Sitters Match                                           135\n",
       "Jobconversion                                            35\n",
       "Lever Middleware Test Company 2                          16\n",
       "fairlife, LLC                                            10\n",
       "Redwood Logistics                                         8\n",
       "Saint Ignatius College Prep                               8\n",
       "Air Canada                                                8\n",
       "Chicago Bulls                                             7\n",
       "FreedomRoads                                              4\n",
       "University of Chicago                                     2\n",
       "Your Perfect Match                                        1\n",
       "SynergisticIT                                             1\n",
       "AdTheorent                                                1\n",
       "Loop Capital                                              1\n",
       "Phaidon International                                     1\n",
       "UChicago Medicine                                         1\n",
       "Fooda                                                     1\n",
       "Chicago Metropolitan Agency for Planning                  1\n",
       "Colla Born Wise                                           1\n",
       "NXT Capital                                               1\n",
       "Oak Street Health                                         1\n",
       "Arrow Search Partners                                     1\n",
       "Fitness Formula Clubs (FFC)                               1\n",
       "Strata Decision Technology                                1\n",
       "LanzaJet                                                  1\n",
       "RKON                                                      1\n",
       "Ann & Robert H. Lurie Children's Hospital of Chicago      1\n",
       "Name: Company, dtype: int64"
      ]
     },
     "execution_count": 91,
     "metadata": {},
     "output_type": "execute_result"
    }
   ],
   "source": [
    "# 3. For a categorical attribute: Value counts\n",
    "jobsdf['Company'].value_counts()"
   ]
  },
  {
   "cell_type": "code",
   "execution_count": 98,
   "id": "84df9aba",
   "metadata": {},
   "outputs": [
    {
     "data": {
      "text/plain": [
       "250"
      ]
     },
     "execution_count": 98,
     "metadata": {},
     "output_type": "execute_result"
    }
   ],
   "source": [
    "jobsdf.shape[0]"
   ]
  },
  {
   "cell_type": "code",
   "execution_count": 99,
   "id": "9eb9235c",
   "metadata": {},
   "outputs": [
    {
     "name": "stdout",
     "output_type": "stream",
     "text": [
      "Number of Analyst Roles: 15\n",
      "Proportion of Analyst Roles: 0.06\n",
      "\n",
      "Number of Data Roles: 218\n",
      "Proportion of Data Roles: 0.872\n",
      "\n",
      "Number of Scientist Roles: 12\n",
      "Proportion of Scientist Roles: 0.048\n",
      "\n",
      "Number of Intern Roles: 7\n",
      "Proportion of Intern Roles: 0.028\n"
     ]
    }
   ],
   "source": [
    "# 3. For a binary attribute: Value counts and proportions\n",
    "\n",
    "total_jobs = jobsdf.shape[0]\n",
    "\n",
    "num_analyst_roles = jobsdf['Analyst Role'].sum()\n",
    "print('Number of Analyst Roles:', num_analyst_roles)\n",
    "print('Proportion of Analyst Roles:', num_analyst_roles/total_jobs)\n",
    "print()\n",
    "\n",
    "num_data_roles = jobsdf['Data Role'].sum()\n",
    "print('Number of Data Roles:', num_data_roles)\n",
    "print('Proportion of Data Roles:', num_data_roles/total_jobs)\n",
    "print()\n",
    "\n",
    "num_scientist_roles = jobsdf['Scientist Role'].sum()\n",
    "print('Number of Scientist Roles:', num_scientist_roles)\n",
    "print('Proportion of Scientist Roles:', num_scientist_roles/total_jobs)\n",
    "print()\n",
    "\n",
    "num_intern_roles = jobsdf['Intern Role'].sum()\n",
    "print('Number of Intern Roles:', num_intern_roles)\n",
    "print('Proportion of Intern Roles:', num_intern_roles/total_jobs)"
   ]
  },
  {
   "cell_type": "code",
   "execution_count": 100,
   "id": "d27da664",
   "metadata": {},
   "outputs": [
    {
     "name": "stdout",
     "output_type": "stream",
     "text": [
      "Least Number of Days Since Post 0.0\n",
      "\n",
      "Largest Number of Days Since Post 202.0\n",
      "\n",
      "Average Number of Days Since Post 28.476\n"
     ]
    }
   ],
   "source": [
    "# 4. For a numerical attribute: Data basics: Min, Max\n",
    "\n",
    "min_days = jobsdf['Days Since Post'].min()\n",
    "max_days = jobsdf['Days Since Post'].max()\n",
    "avg_days = jobsdf['Days Since Post'].mean()\n",
    "\n",
    "print('Least Number of Days Since Post', min_days)\n",
    "print()\n",
    "print('Largest Number of Days Since Post', max_days)\n",
    "print()\n",
    "print('Average Number of Days Since Post', avg_days)"
   ]
  },
  {
   "cell_type": "code",
   "execution_count": 105,
   "id": "8783e428",
   "metadata": {},
   "outputs": [
    {
     "name": "stdout",
     "output_type": "stream",
     "text": [
      "Median Number of Days Since Post 12.0\n",
      "\n",
      "Most Common Number of Days Since Post 14.0\n"
     ]
    }
   ],
   "source": [
    "# 5. Data Central Tendency: Mean, Median, Mode\n",
    "\n",
    "median = jobsdf['Days Since Post'].median()\n",
    "most_common = jobsdf['Days Since Post'].mode()[0]\n",
    "\n",
    "print('Median Number of Days Since Post', median)\n",
    "print()\n",
    "print('Most Common Number of Days Since Post', most_common)"
   ]
  },
  {
   "cell_type": "code",
   "execution_count": 113,
   "id": "6688d277",
   "metadata": {},
   "outputs": [
    {
     "name": "stdout",
     "output_type": "stream",
     "text": [
      "Days Since Post \n",
      "Range: 202.0 \n",
      "IQR: 43.0 \n",
      "Variance: 1738.1620722891585 \n",
      "Standard Deviation: 41.69127093636219\n"
     ]
    }
   ],
   "source": [
    "# 6. Data Dispersion: Range, MidRange, Quartiles, IQR, Variance, Std.\n",
    "\n",
    "col = 'Days Since Post'\n",
    "rang = jobsdf[col].max() - jobsdf[col].min()\n",
    "quantiles = jobsdf[col].quantile([.25, .5, .75])\n",
    "IQR = quantiles[.75] - quantiles[.25]\n",
    "var = jobsdf[col].var()\n",
    "std = jobsdf[col].std()\n",
    "print(col, '\\nRange:', rang, '\\nIQR:', IQR, '\\nVariance:', var, '\\nStandard Deviation:', std)"
   ]
  },
  {
   "cell_type": "code",
   "execution_count": 119,
   "id": "67e9a37c",
   "metadata": {},
   "outputs": [
    {
     "data": {
      "text/plain": [
       "<AxesSubplot:>"
      ]
     },
     "execution_count": 119,
     "metadata": {},
     "output_type": "execute_result"
    },
    {
     "data": {
      "image/png": "[encoded data removed]",
      "text/plain": [
       "<Figure size 432x288 with 1 Axes>"
      ]
     },
     "metadata": {
      "needs_background": "light"
     },
     "output_type": "display_data"
    }
   ],
   "source": [
    "# 6. Outliers\n",
    "col = 'Days Since Post'\n",
    "jobsdf.boxplot(col)"
   ]
  },
  {
   "cell_type": "code",
   "execution_count": null,
   "id": "8d3eb5aa",
   "metadata": {},
   "outputs": [],
   "source": []
  },
  {
   "cell_type": "markdown",
   "id": "9a340fb1",
   "metadata": {},
   "source": [
    "# Part C - Reading<a class=\"anchor\" id=\"p3\"></a>\n",
    "[back to top](#top)\n"
   ]
  },
  {
   "cell_type": "markdown",
   "id": "eba82d72",
   "metadata": {},
   "source": [
    "**What problem is addressed? Why is the problem important and challenging?**  \n",
    "The problem being addressed is the lack of appreciation for the importance of exploratory data analysis (EDA) in data science and statistical modeling. Among other things, the author argues that EDA is crucial to assessing whether data meet the assumptions necessary for inferential statistics. There can be grave consequences in drawing inferences from data that have not met the theoretical assumptions. EDA helps to solve the challenge of working with real world data, which in contrast to data generated in a controlled lab environment, may be contaminated with noise and/or bias. Furthermore, when researchers are face to face with the vast amounts of available data, EDA can help them learn which questions to ask. \n",
    "\n",
    "**A high-level, brief description of the proposed solution (no need to include the details).**  \n",
    "The author provides examples which motivate the need for EDA, and illustrate the vital role it plays in data science and statistics. With an emphasis on data visualization, EDA allows one to understand the general shape of the data at hand, as well as pick out details within the data. This method therefore helps modelers visualize signal and noise within their data. \n",
    "\n",
    "**Discuss in detail one point with the author on which you agree most. What is it, and why do you agree with the author?**  \n",
    "I agree with the author that data visualization, a major aspect of EDA, is more engaging for an audience than looking at tables of numbers. Holding the attention of an audience which you are making an argument to can have a profound impact on the effectiveness of your presentation. "
   ]
  },
  {
   "cell_type": "code",
   "execution_count": null,
   "id": "92400cdc",
   "metadata": {},
   "outputs": [],
   "source": []
  },
  {
   "cell_type": "code",
   "execution_count": null,
   "id": "2705c76c",
   "metadata": {},
   "outputs": [],
   "source": []
  },
  {
   "cell_type": "code",
   "execution_count": null,
   "id": "30c5af12",
   "metadata": {},
   "outputs": [],
   "source": []
  },
  {
   "cell_type": "code",
   "execution_count": null,
   "id": "4fbae8d1",
   "metadata": {},
   "outputs": [],
   "source": []
  },
  {
   "cell_type": "code",
   "execution_count": null,
   "id": "cef54b95",
   "metadata": {},
   "outputs": [],
   "source": []
  },
  {
   "cell_type": "code",
   "execution_count": null,
   "id": "e76a05cd",
   "metadata": {},
   "outputs": [],
   "source": []
  },
  {
   "cell_type": "code",
   "execution_count": null,
   "id": "455a45af",
   "metadata": {},
   "outputs": [],
   "source": []
  },
  {
   "cell_type": "code",
   "execution_count": null,
   "id": "bb968915",
   "metadata": {},
   "outputs": [],
   "source": []
  },
  {
   "cell_type": "code",
   "execution_count": null,
   "id": "601075f6",
   "metadata": {},
   "outputs": [],
   "source": []
  },
  {
   "cell_type": "code",
   "execution_count": null,
   "id": "f3f4867f",
   "metadata": {},
   "outputs": [],
   "source": []
  },
  {
   "cell_type": "code",
   "execution_count": null,
   "id": "1efba755",
   "metadata": {},
   "outputs": [],
   "source": []
  },
  {
   "cell_type": "code",
   "execution_count": null,
   "id": "53348715",
   "metadata": {},
   "outputs": [],
   "source": []
  },
  {
   "cell_type": "code",
   "execution_count": null,
   "id": "fe5b201a",
   "metadata": {},
   "outputs": [],
   "source": []
  }
 ],
 "metadata": {
  "kernelspec": {
   "display_name": "Python 3 (ipykernel)",
   "language": "python",
   "name": "python3"
  },
  "language_info": {
   "codemirror_mode": {
    "name": "ipython",
    "version": 3
   },
   "file_extension": ".py",
   "mimetype": "text/x-python",
   "name": "python",
   "nbconvert_exporter": "python",
   "pygments_lexer": "ipython3",
   "version": "3.9.12"
  }
 },
 "nbformat": 4,
 "nbformat_minor": 5
}
