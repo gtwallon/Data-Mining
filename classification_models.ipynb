{
 "cells": [
  {
   "cell_type": "markdown",
   "id": "c8c1cad2",
   "metadata": {},
   "source": [
    "# Classification Applications"
   ]
  },
  {
   "cell_type": "markdown",
   "id": "91a5d5f6",
   "metadata": {},
   "source": [
    "### Contents: <a class=\"anchor\" id=\"top\"></a>\n",
    "### [Credit Fraud Feature Engineering](#p1)\n",
    "### [Credit Fraud Modeling](#p2) \n",
    "### [Diabetes Prediction Modeling](#p3) \n",
    "---\n"
   ]
  },
  {
   "cell_type": "code",
   "execution_count": 98,
   "id": "0e748b8e",
   "metadata": {},
   "outputs": [],
   "source": [
    "import numpy as np\n",
    "import pandas as pd\n",
    "\n",
    "from datetime import datetime, date "
   ]
  },
  {
   "cell_type": "code",
   "execution_count": null,
   "id": "55240492",
   "metadata": {},
   "outputs": [],
   "source": []
  },
  {
   "cell_type": "markdown",
   "id": "8de6a3a9",
   "metadata": {},
   "source": [
    "# PART A. Credit Fraud"
   ]
  },
  {
   "cell_type": "code",
   "execution_count": 99,
   "id": "abea71a0",
   "metadata": {},
   "outputs": [],
   "source": [
    "df = pd.read_csv('../data/fraud_credit_card.csv')"
   ]
  },
  {
   "cell_type": "markdown",
   "id": "c6595f90",
   "metadata": {},
   "source": [
    "### Feature Engineering <a class=\"anchor\" id=\"p1\"></a>\n",
    "[back to top](#top)  \n",
    "Run the following code chunks in order, all only once"
   ]
  },
  {
   "cell_type": "code",
   "execution_count": 100,
   "id": "028bfc78",
   "metadata": {},
   "outputs": [
    {
     "data": {
      "text/html": [
       "<div>\n",
       "<style scoped>\n",
       "    .dataframe tbody tr th:only-of-type {\n",
       "        vertical-align: middle;\n",
       "    }\n",
       "\n",
       "    .dataframe tbody tr th {\n",
       "        vertical-align: top;\n",
       "    }\n",
       "\n",
       "    .dataframe thead th {\n",
       "        text-align: right;\n",
       "    }\n",
       "</style>\n",
       "<table border=\"1\" class=\"dataframe\">\n",
       "  <thead>\n",
       "    <tr style=\"text-align: right;\">\n",
       "      <th></th>\n",
       "      <th>Unnamed: 0</th>\n",
       "      <th>trans_date_trans_time</th>\n",
       "      <th>cc_num</th>\n",
       "      <th>merchant</th>\n",
       "      <th>category</th>\n",
       "      <th>amt</th>\n",
       "      <th>first</th>\n",
       "      <th>last</th>\n",
       "      <th>gender</th>\n",
       "      <th>street</th>\n",
       "      <th>...</th>\n",
       "      <th>lat</th>\n",
       "      <th>long</th>\n",
       "      <th>city_pop</th>\n",
       "      <th>job</th>\n",
       "      <th>dob</th>\n",
       "      <th>trans_num</th>\n",
       "      <th>unix_time</th>\n",
       "      <th>merch_lat</th>\n",
       "      <th>merch_long</th>\n",
       "      <th>is_fraud</th>\n",
       "    </tr>\n",
       "  </thead>\n",
       "  <tbody>\n",
       "    <tr>\n",
       "      <th>0</th>\n",
       "      <td>0</td>\n",
       "      <td>21/06/2020 12:14</td>\n",
       "      <td>2.291160e+15</td>\n",
       "      <td>fraud_Kirlin and Sons</td>\n",
       "      <td>personal_care</td>\n",
       "      <td>2.86</td>\n",
       "      <td>Jeff</td>\n",
       "      <td>Elliott</td>\n",
       "      <td>M</td>\n",
       "      <td>351 Darlene Green</td>\n",
       "      <td>...</td>\n",
       "      <td>33.9659</td>\n",
       "      <td>-80.9355</td>\n",
       "      <td>333497</td>\n",
       "      <td>Mechanical engineer</td>\n",
       "      <td>19/03/1968</td>\n",
       "      <td>2da90c7d74bd46a0caf3777415b3ebd3</td>\n",
       "      <td>1371816865</td>\n",
       "      <td>33.986391</td>\n",
       "      <td>-81.200714</td>\n",
       "      <td>0</td>\n",
       "    </tr>\n",
       "    <tr>\n",
       "      <th>1</th>\n",
       "      <td>1</td>\n",
       "      <td>21/06/2020 12:14</td>\n",
       "      <td>3.573030e+15</td>\n",
       "      <td>fraud_Sporer-Keebler</td>\n",
       "      <td>personal_care</td>\n",
       "      <td>29.84</td>\n",
       "      <td>Joanne</td>\n",
       "      <td>Williams</td>\n",
       "      <td>F</td>\n",
       "      <td>3638 Marsh Union</td>\n",
       "      <td>...</td>\n",
       "      <td>40.3207</td>\n",
       "      <td>-110.4360</td>\n",
       "      <td>302</td>\n",
       "      <td>Sales professional, IT</td>\n",
       "      <td>17/01/1990</td>\n",
       "      <td>324cc204407e99f51b0d6ca0055005e7</td>\n",
       "      <td>1371816873</td>\n",
       "      <td>39.450498</td>\n",
       "      <td>-109.960431</td>\n",
       "      <td>0</td>\n",
       "    </tr>\n",
       "    <tr>\n",
       "      <th>2</th>\n",
       "      <td>2</td>\n",
       "      <td>21/06/2020 12:14</td>\n",
       "      <td>3.598220e+15</td>\n",
       "      <td>fraud_Swaniawski, Nitzsche and Welch</td>\n",
       "      <td>health_fitness</td>\n",
       "      <td>41.28</td>\n",
       "      <td>Ashley</td>\n",
       "      <td>Lopez</td>\n",
       "      <td>F</td>\n",
       "      <td>9333 Valentine Point</td>\n",
       "      <td>...</td>\n",
       "      <td>40.6729</td>\n",
       "      <td>-73.5365</td>\n",
       "      <td>34496</td>\n",
       "      <td>Librarian, public</td>\n",
       "      <td>21/10/1970</td>\n",
       "      <td>c81755dbbbea9d5c77f094348a7579be</td>\n",
       "      <td>1371816893</td>\n",
       "      <td>40.495810</td>\n",
       "      <td>-74.196111</td>\n",
       "      <td>0</td>\n",
       "    </tr>\n",
       "    <tr>\n",
       "      <th>3</th>\n",
       "      <td>3</td>\n",
       "      <td>21/06/2020 12:15</td>\n",
       "      <td>3.591920e+15</td>\n",
       "      <td>fraud_Haley Group</td>\n",
       "      <td>misc_pos</td>\n",
       "      <td>60.05</td>\n",
       "      <td>Brian</td>\n",
       "      <td>Williams</td>\n",
       "      <td>M</td>\n",
       "      <td>32941 Krystal Mill Apt. 552</td>\n",
       "      <td>...</td>\n",
       "      <td>28.5697</td>\n",
       "      <td>-80.8191</td>\n",
       "      <td>54767</td>\n",
       "      <td>Set designer</td>\n",
       "      <td>25/07/1987</td>\n",
       "      <td>2159175b9efe66dc301f149d3d5abf8c</td>\n",
       "      <td>1371816915</td>\n",
       "      <td>28.812398</td>\n",
       "      <td>-80.883061</td>\n",
       "      <td>0</td>\n",
       "    </tr>\n",
       "    <tr>\n",
       "      <th>4</th>\n",
       "      <td>4</td>\n",
       "      <td>21/06/2020 12:15</td>\n",
       "      <td>3.526830e+15</td>\n",
       "      <td>fraud_Johnston-Casper</td>\n",
       "      <td>travel</td>\n",
       "      <td>3.19</td>\n",
       "      <td>Nathan</td>\n",
       "      <td>Massey</td>\n",
       "      <td>M</td>\n",
       "      <td>5783 Evan Roads Apt. 465</td>\n",
       "      <td>...</td>\n",
       "      <td>44.2529</td>\n",
       "      <td>-85.0170</td>\n",
       "      <td>1126</td>\n",
       "      <td>Furniture designer</td>\n",
       "      <td>06/07/1955</td>\n",
       "      <td>57ff021bd3f328f8738bb535c302a31b</td>\n",
       "      <td>1371816917</td>\n",
       "      <td>44.959148</td>\n",
       "      <td>-85.884734</td>\n",
       "      <td>0</td>\n",
       "    </tr>\n",
       "  </tbody>\n",
       "</table>\n",
       "<p>5 rows × 23 columns</p>\n",
       "</div>"
      ],
      "text/plain": [
       "   Unnamed: 0 trans_date_trans_time        cc_num  \\\n",
       "0           0      21/06/2020 12:14  2.291160e+15   \n",
       "1           1      21/06/2020 12:14  3.573030e+15   \n",
       "2           2      21/06/2020 12:14  3.598220e+15   \n",
       "3           3      21/06/2020 12:15  3.591920e+15   \n",
       "4           4      21/06/2020 12:15  3.526830e+15   \n",
       "\n",
       "                               merchant        category    amt   first  \\\n",
       "0                 fraud_Kirlin and Sons   personal_care   2.86    Jeff   \n",
       "1                  fraud_Sporer-Keebler   personal_care  29.84  Joanne   \n",
       "2  fraud_Swaniawski, Nitzsche and Welch  health_fitness  41.28  Ashley   \n",
       "3                     fraud_Haley Group        misc_pos  60.05   Brian   \n",
       "4                 fraud_Johnston-Casper          travel   3.19  Nathan   \n",
       "\n",
       "       last gender                       street  ...      lat      long  \\\n",
       "0   Elliott      M            351 Darlene Green  ...  33.9659  -80.9355   \n",
       "1  Williams      F             3638 Marsh Union  ...  40.3207 -110.4360   \n",
       "2     Lopez      F         9333 Valentine Point  ...  40.6729  -73.5365   \n",
       "3  Williams      M  32941 Krystal Mill Apt. 552  ...  28.5697  -80.8191   \n",
       "4    Massey      M     5783 Evan Roads Apt. 465  ...  44.2529  -85.0170   \n",
       "\n",
       "   city_pop                     job         dob  \\\n",
       "0    333497     Mechanical engineer  19/03/1968   \n",
       "1       302  Sales professional, IT  17/01/1990   \n",
       "2     34496       Librarian, public  21/10/1970   \n",
       "3     54767            Set designer  25/07/1987   \n",
       "4      1126      Furniture designer  06/07/1955   \n",
       "\n",
       "                          trans_num   unix_time  merch_lat  merch_long  \\\n",
       "0  2da90c7d74bd46a0caf3777415b3ebd3  1371816865  33.986391  -81.200714   \n",
       "1  324cc204407e99f51b0d6ca0055005e7  1371816873  39.450498 -109.960431   \n",
       "2  c81755dbbbea9d5c77f094348a7579be  1371816893  40.495810  -74.196111   \n",
       "3  2159175b9efe66dc301f149d3d5abf8c  1371816915  28.812398  -80.883061   \n",
       "4  57ff021bd3f328f8738bb535c302a31b  1371816917  44.959148  -85.884734   \n",
       "\n",
       "   is_fraud  \n",
       "0         0  \n",
       "1         0  \n",
       "2         0  \n",
       "3         0  \n",
       "4         0  \n",
       "\n",
       "[5 rows x 23 columns]"
      ]
     },
     "execution_count": 100,
     "metadata": {},
     "output_type": "execute_result"
    }
   ],
   "source": [
    "df.head()"
   ]
  },
  {
   "cell_type": "code",
   "execution_count": 101,
   "id": "24c0f06f",
   "metadata": {},
   "outputs": [
    {
     "data": {
      "text/plain": [
       "Index(['Unnamed: 0', 'trans_date_trans_time', 'cc_num', 'merchant', 'category',\n",
       "       'amt', 'first', 'last', 'gender', 'street', 'city', 'state', 'zip',\n",
       "       'lat', 'long', 'city_pop', 'job', 'dob', 'trans_num', 'unix_time',\n",
       "       'merch_lat', 'merch_long', 'is_fraud'],\n",
       "      dtype='object')"
      ]
     },
     "execution_count": 101,
     "metadata": {},
     "output_type": "execute_result"
    }
   ],
   "source": [
    "df.columns"
   ]
  },
  {
   "cell_type": "code",
   "execution_count": 102,
   "id": "7117428a",
   "metadata": {},
   "outputs": [],
   "source": [
    "# drop unnecessary or redundant columns \n",
    "df = df.drop(columns=['Unnamed: 0', 'cc_num', 'first', 'last', 'trans_num', 'unix_time'])\n",
    "\n",
    "# customerID, customer name ('first', 'last'), and transaction number should not influence whether the transaction \n",
    "## was a fraud. the transaction timestamp in unix format, `unix_time`, holds the same information as \n",
    "### trans_date_trans_time, thus it is redundant. "
   ]
  },
  {
   "cell_type": "code",
   "execution_count": 103,
   "id": "3d168001",
   "metadata": {},
   "outputs": [
    {
     "data": {
      "text/html": [
       "<div>\n",
       "<style scoped>\n",
       "    .dataframe tbody tr th:only-of-type {\n",
       "        vertical-align: middle;\n",
       "    }\n",
       "\n",
       "    .dataframe tbody tr th {\n",
       "        vertical-align: top;\n",
       "    }\n",
       "\n",
       "    .dataframe thead th {\n",
       "        text-align: right;\n",
       "    }\n",
       "</style>\n",
       "<table border=\"1\" class=\"dataframe\">\n",
       "  <thead>\n",
       "    <tr style=\"text-align: right;\">\n",
       "      <th></th>\n",
       "      <th>trans_date_trans_time</th>\n",
       "      <th>merchant</th>\n",
       "      <th>category</th>\n",
       "      <th>amt</th>\n",
       "      <th>gender</th>\n",
       "      <th>street</th>\n",
       "      <th>city</th>\n",
       "      <th>state</th>\n",
       "      <th>zip</th>\n",
       "      <th>lat</th>\n",
       "      <th>long</th>\n",
       "      <th>city_pop</th>\n",
       "      <th>job</th>\n",
       "      <th>dob</th>\n",
       "      <th>merch_lat</th>\n",
       "      <th>merch_long</th>\n",
       "      <th>is_fraud</th>\n",
       "    </tr>\n",
       "  </thead>\n",
       "  <tbody>\n",
       "    <tr>\n",
       "      <th>0</th>\n",
       "      <td>21/06/2020 12:14</td>\n",
       "      <td>fraud_Kirlin and Sons</td>\n",
       "      <td>personal_care</td>\n",
       "      <td>2.86</td>\n",
       "      <td>M</td>\n",
       "      <td>351 Darlene Green</td>\n",
       "      <td>Columbia</td>\n",
       "      <td>SC</td>\n",
       "      <td>29209</td>\n",
       "      <td>33.9659</td>\n",
       "      <td>-80.9355</td>\n",
       "      <td>333497</td>\n",
       "      <td>Mechanical engineer</td>\n",
       "      <td>19/03/1968</td>\n",
       "      <td>33.986391</td>\n",
       "      <td>-81.200714</td>\n",
       "      <td>0</td>\n",
       "    </tr>\n",
       "    <tr>\n",
       "      <th>1</th>\n",
       "      <td>21/06/2020 12:14</td>\n",
       "      <td>fraud_Sporer-Keebler</td>\n",
       "      <td>personal_care</td>\n",
       "      <td>29.84</td>\n",
       "      <td>F</td>\n",
       "      <td>3638 Marsh Union</td>\n",
       "      <td>Altonah</td>\n",
       "      <td>UT</td>\n",
       "      <td>84002</td>\n",
       "      <td>40.3207</td>\n",
       "      <td>-110.4360</td>\n",
       "      <td>302</td>\n",
       "      <td>Sales professional, IT</td>\n",
       "      <td>17/01/1990</td>\n",
       "      <td>39.450498</td>\n",
       "      <td>-109.960431</td>\n",
       "      <td>0</td>\n",
       "    </tr>\n",
       "    <tr>\n",
       "      <th>2</th>\n",
       "      <td>21/06/2020 12:14</td>\n",
       "      <td>fraud_Swaniawski, Nitzsche and Welch</td>\n",
       "      <td>health_fitness</td>\n",
       "      <td>41.28</td>\n",
       "      <td>F</td>\n",
       "      <td>9333 Valentine Point</td>\n",
       "      <td>Bellmore</td>\n",
       "      <td>NY</td>\n",
       "      <td>11710</td>\n",
       "      <td>40.6729</td>\n",
       "      <td>-73.5365</td>\n",
       "      <td>34496</td>\n",
       "      <td>Librarian, public</td>\n",
       "      <td>21/10/1970</td>\n",
       "      <td>40.495810</td>\n",
       "      <td>-74.196111</td>\n",
       "      <td>0</td>\n",
       "    </tr>\n",
       "    <tr>\n",
       "      <th>3</th>\n",
       "      <td>21/06/2020 12:15</td>\n",
       "      <td>fraud_Haley Group</td>\n",
       "      <td>misc_pos</td>\n",
       "      <td>60.05</td>\n",
       "      <td>M</td>\n",
       "      <td>32941 Krystal Mill Apt. 552</td>\n",
       "      <td>Titusville</td>\n",
       "      <td>FL</td>\n",
       "      <td>32780</td>\n",
       "      <td>28.5697</td>\n",
       "      <td>-80.8191</td>\n",
       "      <td>54767</td>\n",
       "      <td>Set designer</td>\n",
       "      <td>25/07/1987</td>\n",
       "      <td>28.812398</td>\n",
       "      <td>-80.883061</td>\n",
       "      <td>0</td>\n",
       "    </tr>\n",
       "    <tr>\n",
       "      <th>4</th>\n",
       "      <td>21/06/2020 12:15</td>\n",
       "      <td>fraud_Johnston-Casper</td>\n",
       "      <td>travel</td>\n",
       "      <td>3.19</td>\n",
       "      <td>M</td>\n",
       "      <td>5783 Evan Roads Apt. 465</td>\n",
       "      <td>Falmouth</td>\n",
       "      <td>MI</td>\n",
       "      <td>49632</td>\n",
       "      <td>44.2529</td>\n",
       "      <td>-85.0170</td>\n",
       "      <td>1126</td>\n",
       "      <td>Furniture designer</td>\n",
       "      <td>06/07/1955</td>\n",
       "      <td>44.959148</td>\n",
       "      <td>-85.884734</td>\n",
       "      <td>0</td>\n",
       "    </tr>\n",
       "  </tbody>\n",
       "</table>\n",
       "</div>"
      ],
      "text/plain": [
       "  trans_date_trans_time                              merchant        category  \\\n",
       "0      21/06/2020 12:14                 fraud_Kirlin and Sons   personal_care   \n",
       "1      21/06/2020 12:14                  fraud_Sporer-Keebler   personal_care   \n",
       "2      21/06/2020 12:14  fraud_Swaniawski, Nitzsche and Welch  health_fitness   \n",
       "3      21/06/2020 12:15                     fraud_Haley Group        misc_pos   \n",
       "4      21/06/2020 12:15                 fraud_Johnston-Casper          travel   \n",
       "\n",
       "     amt gender                       street        city state    zip  \\\n",
       "0   2.86      M            351 Darlene Green    Columbia    SC  29209   \n",
       "1  29.84      F             3638 Marsh Union     Altonah    UT  84002   \n",
       "2  41.28      F         9333 Valentine Point    Bellmore    NY  11710   \n",
       "3  60.05      M  32941 Krystal Mill Apt. 552  Titusville    FL  32780   \n",
       "4   3.19      M     5783 Evan Roads Apt. 465    Falmouth    MI  49632   \n",
       "\n",
       "       lat      long  city_pop                     job         dob  merch_lat  \\\n",
       "0  33.9659  -80.9355    333497     Mechanical engineer  19/03/1968  33.986391   \n",
       "1  40.3207 -110.4360       302  Sales professional, IT  17/01/1990  39.450498   \n",
       "2  40.6729  -73.5365     34496       Librarian, public  21/10/1970  40.495810   \n",
       "3  28.5697  -80.8191     54767            Set designer  25/07/1987  28.812398   \n",
       "4  44.2529  -85.0170      1126      Furniture designer  06/07/1955  44.959148   \n",
       "\n",
       "   merch_long  is_fraud  \n",
       "0  -81.200714         0  \n",
       "1 -109.960431         0  \n",
       "2  -74.196111         0  \n",
       "3  -80.883061         0  \n",
       "4  -85.884734         0  "
      ]
     },
     "execution_count": 103,
     "metadata": {},
     "output_type": "execute_result"
    }
   ],
   "source": [
    "df.head()"
   ]
  },
  {
   "cell_type": "code",
   "execution_count": null,
   "id": "79d53369",
   "metadata": {},
   "outputs": [],
   "source": []
  },
  {
   "cell_type": "code",
   "execution_count": 104,
   "id": "04f34833",
   "metadata": {},
   "outputs": [
    {
     "data": {
      "text/html": [
       "<div>\n",
       "<style scoped>\n",
       "    .dataframe tbody tr th:only-of-type {\n",
       "        vertical-align: middle;\n",
       "    }\n",
       "\n",
       "    .dataframe tbody tr th {\n",
       "        vertical-align: top;\n",
       "    }\n",
       "\n",
       "    .dataframe thead th {\n",
       "        text-align: right;\n",
       "    }\n",
       "</style>\n",
       "<table border=\"1\" class=\"dataframe\">\n",
       "  <thead>\n",
       "    <tr style=\"text-align: right;\">\n",
       "      <th></th>\n",
       "      <th>merchant</th>\n",
       "      <th>category</th>\n",
       "      <th>amt</th>\n",
       "      <th>gender</th>\n",
       "      <th>street</th>\n",
       "      <th>city</th>\n",
       "      <th>state</th>\n",
       "      <th>zip</th>\n",
       "      <th>lat</th>\n",
       "      <th>long</th>\n",
       "      <th>city_pop</th>\n",
       "      <th>job</th>\n",
       "      <th>dob</th>\n",
       "      <th>merch_lat</th>\n",
       "      <th>merch_long</th>\n",
       "      <th>is_fraud</th>\n",
       "      <th>date</th>\n",
       "      <th>time</th>\n",
       "    </tr>\n",
       "  </thead>\n",
       "  <tbody>\n",
       "    <tr>\n",
       "      <th>0</th>\n",
       "      <td>fraud_Kirlin and Sons</td>\n",
       "      <td>personal_care</td>\n",
       "      <td>2.86</td>\n",
       "      <td>M</td>\n",
       "      <td>351 Darlene Green</td>\n",
       "      <td>Columbia</td>\n",
       "      <td>SC</td>\n",
       "      <td>29209</td>\n",
       "      <td>33.9659</td>\n",
       "      <td>-80.9355</td>\n",
       "      <td>333497</td>\n",
       "      <td>Mechanical engineer</td>\n",
       "      <td>19/03/1968</td>\n",
       "      <td>33.986391</td>\n",
       "      <td>-81.200714</td>\n",
       "      <td>0</td>\n",
       "      <td>2020-06-21</td>\n",
       "      <td>12:14:00</td>\n",
       "    </tr>\n",
       "    <tr>\n",
       "      <th>1</th>\n",
       "      <td>fraud_Sporer-Keebler</td>\n",
       "      <td>personal_care</td>\n",
       "      <td>29.84</td>\n",
       "      <td>F</td>\n",
       "      <td>3638 Marsh Union</td>\n",
       "      <td>Altonah</td>\n",
       "      <td>UT</td>\n",
       "      <td>84002</td>\n",
       "      <td>40.3207</td>\n",
       "      <td>-110.4360</td>\n",
       "      <td>302</td>\n",
       "      <td>Sales professional, IT</td>\n",
       "      <td>17/01/1990</td>\n",
       "      <td>39.450498</td>\n",
       "      <td>-109.960431</td>\n",
       "      <td>0</td>\n",
       "      <td>2020-06-21</td>\n",
       "      <td>12:14:00</td>\n",
       "    </tr>\n",
       "    <tr>\n",
       "      <th>2</th>\n",
       "      <td>fraud_Swaniawski, Nitzsche and Welch</td>\n",
       "      <td>health_fitness</td>\n",
       "      <td>41.28</td>\n",
       "      <td>F</td>\n",
       "      <td>9333 Valentine Point</td>\n",
       "      <td>Bellmore</td>\n",
       "      <td>NY</td>\n",
       "      <td>11710</td>\n",
       "      <td>40.6729</td>\n",
       "      <td>-73.5365</td>\n",
       "      <td>34496</td>\n",
       "      <td>Librarian, public</td>\n",
       "      <td>21/10/1970</td>\n",
       "      <td>40.495810</td>\n",
       "      <td>-74.196111</td>\n",
       "      <td>0</td>\n",
       "      <td>2020-06-21</td>\n",
       "      <td>12:14:00</td>\n",
       "    </tr>\n",
       "    <tr>\n",
       "      <th>3</th>\n",
       "      <td>fraud_Haley Group</td>\n",
       "      <td>misc_pos</td>\n",
       "      <td>60.05</td>\n",
       "      <td>M</td>\n",
       "      <td>32941 Krystal Mill Apt. 552</td>\n",
       "      <td>Titusville</td>\n",
       "      <td>FL</td>\n",
       "      <td>32780</td>\n",
       "      <td>28.5697</td>\n",
       "      <td>-80.8191</td>\n",
       "      <td>54767</td>\n",
       "      <td>Set designer</td>\n",
       "      <td>25/07/1987</td>\n",
       "      <td>28.812398</td>\n",
       "      <td>-80.883061</td>\n",
       "      <td>0</td>\n",
       "      <td>2020-06-21</td>\n",
       "      <td>12:15:00</td>\n",
       "    </tr>\n",
       "    <tr>\n",
       "      <th>4</th>\n",
       "      <td>fraud_Johnston-Casper</td>\n",
       "      <td>travel</td>\n",
       "      <td>3.19</td>\n",
       "      <td>M</td>\n",
       "      <td>5783 Evan Roads Apt. 465</td>\n",
       "      <td>Falmouth</td>\n",
       "      <td>MI</td>\n",
       "      <td>49632</td>\n",
       "      <td>44.2529</td>\n",
       "      <td>-85.0170</td>\n",
       "      <td>1126</td>\n",
       "      <td>Furniture designer</td>\n",
       "      <td>06/07/1955</td>\n",
       "      <td>44.959148</td>\n",
       "      <td>-85.884734</td>\n",
       "      <td>0</td>\n",
       "      <td>2020-06-21</td>\n",
       "      <td>12:15:00</td>\n",
       "    </tr>\n",
       "  </tbody>\n",
       "</table>\n",
       "</div>"
      ],
      "text/plain": [
       "                               merchant        category    amt gender  \\\n",
       "0                 fraud_Kirlin and Sons   personal_care   2.86      M   \n",
       "1                  fraud_Sporer-Keebler   personal_care  29.84      F   \n",
       "2  fraud_Swaniawski, Nitzsche and Welch  health_fitness  41.28      F   \n",
       "3                     fraud_Haley Group        misc_pos  60.05      M   \n",
       "4                 fraud_Johnston-Casper          travel   3.19      M   \n",
       "\n",
       "                        street        city state    zip      lat      long  \\\n",
       "0            351 Darlene Green    Columbia    SC  29209  33.9659  -80.9355   \n",
       "1             3638 Marsh Union     Altonah    UT  84002  40.3207 -110.4360   \n",
       "2         9333 Valentine Point    Bellmore    NY  11710  40.6729  -73.5365   \n",
       "3  32941 Krystal Mill Apt. 552  Titusville    FL  32780  28.5697  -80.8191   \n",
       "4     5783 Evan Roads Apt. 465    Falmouth    MI  49632  44.2529  -85.0170   \n",
       "\n",
       "   city_pop                     job         dob  merch_lat  merch_long  \\\n",
       "0    333497     Mechanical engineer  19/03/1968  33.986391  -81.200714   \n",
       "1       302  Sales professional, IT  17/01/1990  39.450498 -109.960431   \n",
       "2     34496       Librarian, public  21/10/1970  40.495810  -74.196111   \n",
       "3     54767            Set designer  25/07/1987  28.812398  -80.883061   \n",
       "4      1126      Furniture designer  06/07/1955  44.959148  -85.884734   \n",
       "\n",
       "   is_fraud        date      time  \n",
       "0         0  2020-06-21  12:14:00  \n",
       "1         0  2020-06-21  12:14:00  \n",
       "2         0  2020-06-21  12:14:00  \n",
       "3         0  2020-06-21  12:15:00  \n",
       "4         0  2020-06-21  12:15:00  "
      ]
     },
     "execution_count": 104,
     "metadata": {},
     "output_type": "execute_result"
    }
   ],
   "source": [
    "# create distint time and date features \n",
    "trans_datetime_series = pd.to_datetime(df['trans_date_trans_time'])\n",
    "df['trans_date_trans_time'] = trans_datetime_series\n",
    "df['date'] = df['trans_date_trans_time'].dt.date\n",
    "df['time'] = df['trans_date_trans_time'].dt.time\n",
    "\n",
    "df = df.drop('trans_date_trans_time', axis=1)\n",
    "df.head()"
   ]
  },
  {
   "cell_type": "code",
   "execution_count": null,
   "id": "692d2793",
   "metadata": {},
   "outputs": [],
   "source": []
  },
  {
   "cell_type": "code",
   "execution_count": 105,
   "id": "e7ceadd7",
   "metadata": {},
   "outputs": [
    {
     "name": "stdout",
     "output_type": "stream",
     "text": [
      "val = 1\n"
     ]
    }
   ],
   "source": [
    "# determine that 'fraud' precedes the merchant name for every record, and remove \n",
    "val = 1\n",
    "for m in df.merchant:\n",
    "    if m[:5] != 'fraud':\n",
    "        val *= 0\n",
    "print('val =', val)\n",
    "\n",
    "df['merchant'] = df['merchant'].apply(lambda x: x[6:])"
   ]
  },
  {
   "cell_type": "code",
   "execution_count": 106,
   "id": "b9a5591a",
   "metadata": {},
   "outputs": [
    {
     "data": {
      "text/html": [
       "<div>\n",
       "<style scoped>\n",
       "    .dataframe tbody tr th:only-of-type {\n",
       "        vertical-align: middle;\n",
       "    }\n",
       "\n",
       "    .dataframe tbody tr th {\n",
       "        vertical-align: top;\n",
       "    }\n",
       "\n",
       "    .dataframe thead th {\n",
       "        text-align: right;\n",
       "    }\n",
       "</style>\n",
       "<table border=\"1\" class=\"dataframe\">\n",
       "  <thead>\n",
       "    <tr style=\"text-align: right;\">\n",
       "      <th></th>\n",
       "      <th>merchant</th>\n",
       "      <th>category</th>\n",
       "      <th>amt</th>\n",
       "      <th>gender</th>\n",
       "      <th>street</th>\n",
       "      <th>city</th>\n",
       "      <th>state</th>\n",
       "      <th>zip</th>\n",
       "      <th>lat</th>\n",
       "      <th>long</th>\n",
       "      <th>city_pop</th>\n",
       "      <th>job</th>\n",
       "      <th>dob</th>\n",
       "      <th>merch_lat</th>\n",
       "      <th>merch_long</th>\n",
       "      <th>is_fraud</th>\n",
       "      <th>date</th>\n",
       "      <th>time</th>\n",
       "    </tr>\n",
       "  </thead>\n",
       "  <tbody>\n",
       "    <tr>\n",
       "      <th>0</th>\n",
       "      <td>Kirlin and Sons</td>\n",
       "      <td>personal_care</td>\n",
       "      <td>2.86</td>\n",
       "      <td>M</td>\n",
       "      <td>351 Darlene Green</td>\n",
       "      <td>Columbia</td>\n",
       "      <td>SC</td>\n",
       "      <td>29209</td>\n",
       "      <td>33.9659</td>\n",
       "      <td>-80.9355</td>\n",
       "      <td>333497</td>\n",
       "      <td>Mechanical engineer</td>\n",
       "      <td>19/03/1968</td>\n",
       "      <td>33.986391</td>\n",
       "      <td>-81.200714</td>\n",
       "      <td>0</td>\n",
       "      <td>2020-06-21</td>\n",
       "      <td>12:14:00</td>\n",
       "    </tr>\n",
       "    <tr>\n",
       "      <th>1</th>\n",
       "      <td>Sporer-Keebler</td>\n",
       "      <td>personal_care</td>\n",
       "      <td>29.84</td>\n",
       "      <td>F</td>\n",
       "      <td>3638 Marsh Union</td>\n",
       "      <td>Altonah</td>\n",
       "      <td>UT</td>\n",
       "      <td>84002</td>\n",
       "      <td>40.3207</td>\n",
       "      <td>-110.4360</td>\n",
       "      <td>302</td>\n",
       "      <td>Sales professional, IT</td>\n",
       "      <td>17/01/1990</td>\n",
       "      <td>39.450498</td>\n",
       "      <td>-109.960431</td>\n",
       "      <td>0</td>\n",
       "      <td>2020-06-21</td>\n",
       "      <td>12:14:00</td>\n",
       "    </tr>\n",
       "    <tr>\n",
       "      <th>2</th>\n",
       "      <td>Swaniawski, Nitzsche and Welch</td>\n",
       "      <td>health_fitness</td>\n",
       "      <td>41.28</td>\n",
       "      <td>F</td>\n",
       "      <td>9333 Valentine Point</td>\n",
       "      <td>Bellmore</td>\n",
       "      <td>NY</td>\n",
       "      <td>11710</td>\n",
       "      <td>40.6729</td>\n",
       "      <td>-73.5365</td>\n",
       "      <td>34496</td>\n",
       "      <td>Librarian, public</td>\n",
       "      <td>21/10/1970</td>\n",
       "      <td>40.495810</td>\n",
       "      <td>-74.196111</td>\n",
       "      <td>0</td>\n",
       "      <td>2020-06-21</td>\n",
       "      <td>12:14:00</td>\n",
       "    </tr>\n",
       "    <tr>\n",
       "      <th>3</th>\n",
       "      <td>Haley Group</td>\n",
       "      <td>misc_pos</td>\n",
       "      <td>60.05</td>\n",
       "      <td>M</td>\n",
       "      <td>32941 Krystal Mill Apt. 552</td>\n",
       "      <td>Titusville</td>\n",
       "      <td>FL</td>\n",
       "      <td>32780</td>\n",
       "      <td>28.5697</td>\n",
       "      <td>-80.8191</td>\n",
       "      <td>54767</td>\n",
       "      <td>Set designer</td>\n",
       "      <td>25/07/1987</td>\n",
       "      <td>28.812398</td>\n",
       "      <td>-80.883061</td>\n",
       "      <td>0</td>\n",
       "      <td>2020-06-21</td>\n",
       "      <td>12:15:00</td>\n",
       "    </tr>\n",
       "    <tr>\n",
       "      <th>4</th>\n",
       "      <td>Johnston-Casper</td>\n",
       "      <td>travel</td>\n",
       "      <td>3.19</td>\n",
       "      <td>M</td>\n",
       "      <td>5783 Evan Roads Apt. 465</td>\n",
       "      <td>Falmouth</td>\n",
       "      <td>MI</td>\n",
       "      <td>49632</td>\n",
       "      <td>44.2529</td>\n",
       "      <td>-85.0170</td>\n",
       "      <td>1126</td>\n",
       "      <td>Furniture designer</td>\n",
       "      <td>06/07/1955</td>\n",
       "      <td>44.959148</td>\n",
       "      <td>-85.884734</td>\n",
       "      <td>0</td>\n",
       "      <td>2020-06-21</td>\n",
       "      <td>12:15:00</td>\n",
       "    </tr>\n",
       "  </tbody>\n",
       "</table>\n",
       "</div>"
      ],
      "text/plain": [
       "                         merchant        category    amt gender  \\\n",
       "0                 Kirlin and Sons   personal_care   2.86      M   \n",
       "1                  Sporer-Keebler   personal_care  29.84      F   \n",
       "2  Swaniawski, Nitzsche and Welch  health_fitness  41.28      F   \n",
       "3                     Haley Group        misc_pos  60.05      M   \n",
       "4                 Johnston-Casper          travel   3.19      M   \n",
       "\n",
       "                        street        city state    zip      lat      long  \\\n",
       "0            351 Darlene Green    Columbia    SC  29209  33.9659  -80.9355   \n",
       "1             3638 Marsh Union     Altonah    UT  84002  40.3207 -110.4360   \n",
       "2         9333 Valentine Point    Bellmore    NY  11710  40.6729  -73.5365   \n",
       "3  32941 Krystal Mill Apt. 552  Titusville    FL  32780  28.5697  -80.8191   \n",
       "4     5783 Evan Roads Apt. 465    Falmouth    MI  49632  44.2529  -85.0170   \n",
       "\n",
       "   city_pop                     job         dob  merch_lat  merch_long  \\\n",
       "0    333497     Mechanical engineer  19/03/1968  33.986391  -81.200714   \n",
       "1       302  Sales professional, IT  17/01/1990  39.450498 -109.960431   \n",
       "2     34496       Librarian, public  21/10/1970  40.495810  -74.196111   \n",
       "3     54767            Set designer  25/07/1987  28.812398  -80.883061   \n",
       "4      1126      Furniture designer  06/07/1955  44.959148  -85.884734   \n",
       "\n",
       "   is_fraud        date      time  \n",
       "0         0  2020-06-21  12:14:00  \n",
       "1         0  2020-06-21  12:14:00  \n",
       "2         0  2020-06-21  12:14:00  \n",
       "3         0  2020-06-21  12:15:00  \n",
       "4         0  2020-06-21  12:15:00  "
      ]
     },
     "execution_count": 106,
     "metadata": {},
     "output_type": "execute_result"
    }
   ],
   "source": [
    "df.head()"
   ]
  },
  {
   "cell_type": "code",
   "execution_count": null,
   "id": "fb6cfadc",
   "metadata": {},
   "outputs": [],
   "source": []
  },
  {
   "cell_type": "code",
   "execution_count": 107,
   "id": "cd5fa83a",
   "metadata": {},
   "outputs": [],
   "source": [
    "# difference in latitude between cardholder and merchant\n",
    "df['lat_diff'] = np.abs(df['lat'] - df['merch_lat'])\n",
    "\n",
    "# difference in logitude between cardholder and merchant\n",
    "df['long_diff'] = np.abs(df['long'] - df['merch_long'])\n",
    "\n",
    "# compute the manhattan distance between carholder and merchant\n",
    "df['dist'] = df['lat_diff'] + df['long_diff']\n",
    "\n",
    "\n",
    "# remove the lat and long variables since we are using that information in the distance feature\n",
    "# remove the street and zipcode variable since that is too fine grained\n",
    "df = df.drop(['lat', 'long', 'street', 'zip', 'lat_diff', 'long_diff', 'merch_lat', 'merch_long'], axis=1)"
   ]
  },
  {
   "cell_type": "code",
   "execution_count": 108,
   "id": "5804c196",
   "metadata": {},
   "outputs": [
    {
     "data": {
      "text/html": [
       "<div>\n",
       "<style scoped>\n",
       "    .dataframe tbody tr th:only-of-type {\n",
       "        vertical-align: middle;\n",
       "    }\n",
       "\n",
       "    .dataframe tbody tr th {\n",
       "        vertical-align: top;\n",
       "    }\n",
       "\n",
       "    .dataframe thead th {\n",
       "        text-align: right;\n",
       "    }\n",
       "</style>\n",
       "<table border=\"1\" class=\"dataframe\">\n",
       "  <thead>\n",
       "    <tr style=\"text-align: right;\">\n",
       "      <th></th>\n",
       "      <th>merchant</th>\n",
       "      <th>category</th>\n",
       "      <th>amt</th>\n",
       "      <th>gender</th>\n",
       "      <th>city</th>\n",
       "      <th>state</th>\n",
       "      <th>city_pop</th>\n",
       "      <th>job</th>\n",
       "      <th>dob</th>\n",
       "      <th>is_fraud</th>\n",
       "      <th>date</th>\n",
       "      <th>time</th>\n",
       "      <th>dist</th>\n",
       "    </tr>\n",
       "  </thead>\n",
       "  <tbody>\n",
       "    <tr>\n",
       "      <th>0</th>\n",
       "      <td>Kirlin and Sons</td>\n",
       "      <td>personal_care</td>\n",
       "      <td>2.86</td>\n",
       "      <td>M</td>\n",
       "      <td>Columbia</td>\n",
       "      <td>SC</td>\n",
       "      <td>333497</td>\n",
       "      <td>Mechanical engineer</td>\n",
       "      <td>19/03/1968</td>\n",
       "      <td>0</td>\n",
       "      <td>2020-06-21</td>\n",
       "      <td>12:14:00</td>\n",
       "      <td>0.285705</td>\n",
       "    </tr>\n",
       "    <tr>\n",
       "      <th>1</th>\n",
       "      <td>Sporer-Keebler</td>\n",
       "      <td>personal_care</td>\n",
       "      <td>29.84</td>\n",
       "      <td>F</td>\n",
       "      <td>Altonah</td>\n",
       "      <td>UT</td>\n",
       "      <td>302</td>\n",
       "      <td>Sales professional, IT</td>\n",
       "      <td>17/01/1990</td>\n",
       "      <td>0</td>\n",
       "      <td>2020-06-21</td>\n",
       "      <td>12:14:00</td>\n",
       "      <td>1.345771</td>\n",
       "    </tr>\n",
       "    <tr>\n",
       "      <th>2</th>\n",
       "      <td>Swaniawski, Nitzsche and Welch</td>\n",
       "      <td>health_fitness</td>\n",
       "      <td>41.28</td>\n",
       "      <td>F</td>\n",
       "      <td>Bellmore</td>\n",
       "      <td>NY</td>\n",
       "      <td>34496</td>\n",
       "      <td>Librarian, public</td>\n",
       "      <td>21/10/1970</td>\n",
       "      <td>0</td>\n",
       "      <td>2020-06-21</td>\n",
       "      <td>12:14:00</td>\n",
       "      <td>0.836701</td>\n",
       "    </tr>\n",
       "    <tr>\n",
       "      <th>3</th>\n",
       "      <td>Haley Group</td>\n",
       "      <td>misc_pos</td>\n",
       "      <td>60.05</td>\n",
       "      <td>M</td>\n",
       "      <td>Titusville</td>\n",
       "      <td>FL</td>\n",
       "      <td>54767</td>\n",
       "      <td>Set designer</td>\n",
       "      <td>25/07/1987</td>\n",
       "      <td>0</td>\n",
       "      <td>2020-06-21</td>\n",
       "      <td>12:15:00</td>\n",
       "      <td>0.306659</td>\n",
       "    </tr>\n",
       "    <tr>\n",
       "      <th>4</th>\n",
       "      <td>Johnston-Casper</td>\n",
       "      <td>travel</td>\n",
       "      <td>3.19</td>\n",
       "      <td>M</td>\n",
       "      <td>Falmouth</td>\n",
       "      <td>MI</td>\n",
       "      <td>1126</td>\n",
       "      <td>Furniture designer</td>\n",
       "      <td>06/07/1955</td>\n",
       "      <td>0</td>\n",
       "      <td>2020-06-21</td>\n",
       "      <td>12:15:00</td>\n",
       "      <td>1.573982</td>\n",
       "    </tr>\n",
       "  </tbody>\n",
       "</table>\n",
       "</div>"
      ],
      "text/plain": [
       "                         merchant        category    amt gender        city  \\\n",
       "0                 Kirlin and Sons   personal_care   2.86      M    Columbia   \n",
       "1                  Sporer-Keebler   personal_care  29.84      F     Altonah   \n",
       "2  Swaniawski, Nitzsche and Welch  health_fitness  41.28      F    Bellmore   \n",
       "3                     Haley Group        misc_pos  60.05      M  Titusville   \n",
       "4                 Johnston-Casper          travel   3.19      M    Falmouth   \n",
       "\n",
       "  state  city_pop                     job         dob  is_fraud        date  \\\n",
       "0    SC    333497     Mechanical engineer  19/03/1968         0  2020-06-21   \n",
       "1    UT       302  Sales professional, IT  17/01/1990         0  2020-06-21   \n",
       "2    NY     34496       Librarian, public  21/10/1970         0  2020-06-21   \n",
       "3    FL     54767            Set designer  25/07/1987         0  2020-06-21   \n",
       "4    MI      1126      Furniture designer  06/07/1955         0  2020-06-21   \n",
       "\n",
       "       time      dist  \n",
       "0  12:14:00  0.285705  \n",
       "1  12:14:00  1.345771  \n",
       "2  12:14:00  0.836701  \n",
       "3  12:15:00  0.306659  \n",
       "4  12:15:00  1.573982  "
      ]
     },
     "execution_count": 108,
     "metadata": {},
     "output_type": "execute_result"
    }
   ],
   "source": [
    "df.head()"
   ]
  },
  {
   "cell_type": "code",
   "execution_count": null,
   "id": "8a39c3b2",
   "metadata": {},
   "outputs": [],
   "source": []
  },
  {
   "cell_type": "code",
   "execution_count": 109,
   "id": "8fe52169",
   "metadata": {},
   "outputs": [
    {
     "name": "stdout",
     "output_type": "stream",
     "text": [
      "distinct city,state locations:  880\n",
      "distinct cities:  849\n",
      "thus combining the city and state features in this way was justified\n"
     ]
    }
   ],
   "source": [
    "# combine cardholders city and state information as a cardholder_loc variable\n",
    "df['cardholder_loc'] = df['city'] + ' ' + df['state']\n",
    "\n",
    "# notice that some cities are located in different states and have the same name\n",
    "print('distinct city,state locations: ', df['cardholder_loc'].unique().size)\n",
    "print('distinct cities: ', df['city'].unique().size)\n",
    "print('thus combining the city and state features in this way was justified')\n",
    "\n",
    "# now drop these columns\n",
    "df = df.drop(['city', 'state'], axis=1)"
   ]
  },
  {
   "cell_type": "code",
   "execution_count": 110,
   "id": "020baaff",
   "metadata": {},
   "outputs": [
    {
     "data": {
      "text/html": [
       "<div>\n",
       "<style scoped>\n",
       "    .dataframe tbody tr th:only-of-type {\n",
       "        vertical-align: middle;\n",
       "    }\n",
       "\n",
       "    .dataframe tbody tr th {\n",
       "        vertical-align: top;\n",
       "    }\n",
       "\n",
       "    .dataframe thead th {\n",
       "        text-align: right;\n",
       "    }\n",
       "</style>\n",
       "<table border=\"1\" class=\"dataframe\">\n",
       "  <thead>\n",
       "    <tr style=\"text-align: right;\">\n",
       "      <th></th>\n",
       "      <th>merchant</th>\n",
       "      <th>category</th>\n",
       "      <th>amt</th>\n",
       "      <th>gender</th>\n",
       "      <th>city_pop</th>\n",
       "      <th>job</th>\n",
       "      <th>dob</th>\n",
       "      <th>is_fraud</th>\n",
       "      <th>date</th>\n",
       "      <th>time</th>\n",
       "      <th>dist</th>\n",
       "      <th>cardholder_loc</th>\n",
       "    </tr>\n",
       "  </thead>\n",
       "  <tbody>\n",
       "    <tr>\n",
       "      <th>0</th>\n",
       "      <td>Kirlin and Sons</td>\n",
       "      <td>personal_care</td>\n",
       "      <td>2.86</td>\n",
       "      <td>M</td>\n",
       "      <td>333497</td>\n",
       "      <td>Mechanical engineer</td>\n",
       "      <td>19/03/1968</td>\n",
       "      <td>0</td>\n",
       "      <td>2020-06-21</td>\n",
       "      <td>12:14:00</td>\n",
       "      <td>0.285705</td>\n",
       "      <td>Columbia SC</td>\n",
       "    </tr>\n",
       "    <tr>\n",
       "      <th>1</th>\n",
       "      <td>Sporer-Keebler</td>\n",
       "      <td>personal_care</td>\n",
       "      <td>29.84</td>\n",
       "      <td>F</td>\n",
       "      <td>302</td>\n",
       "      <td>Sales professional, IT</td>\n",
       "      <td>17/01/1990</td>\n",
       "      <td>0</td>\n",
       "      <td>2020-06-21</td>\n",
       "      <td>12:14:00</td>\n",
       "      <td>1.345771</td>\n",
       "      <td>Altonah UT</td>\n",
       "    </tr>\n",
       "    <tr>\n",
       "      <th>2</th>\n",
       "      <td>Swaniawski, Nitzsche and Welch</td>\n",
       "      <td>health_fitness</td>\n",
       "      <td>41.28</td>\n",
       "      <td>F</td>\n",
       "      <td>34496</td>\n",
       "      <td>Librarian, public</td>\n",
       "      <td>21/10/1970</td>\n",
       "      <td>0</td>\n",
       "      <td>2020-06-21</td>\n",
       "      <td>12:14:00</td>\n",
       "      <td>0.836701</td>\n",
       "      <td>Bellmore NY</td>\n",
       "    </tr>\n",
       "    <tr>\n",
       "      <th>3</th>\n",
       "      <td>Haley Group</td>\n",
       "      <td>misc_pos</td>\n",
       "      <td>60.05</td>\n",
       "      <td>M</td>\n",
       "      <td>54767</td>\n",
       "      <td>Set designer</td>\n",
       "      <td>25/07/1987</td>\n",
       "      <td>0</td>\n",
       "      <td>2020-06-21</td>\n",
       "      <td>12:15:00</td>\n",
       "      <td>0.306659</td>\n",
       "      <td>Titusville FL</td>\n",
       "    </tr>\n",
       "    <tr>\n",
       "      <th>4</th>\n",
       "      <td>Johnston-Casper</td>\n",
       "      <td>travel</td>\n",
       "      <td>3.19</td>\n",
       "      <td>M</td>\n",
       "      <td>1126</td>\n",
       "      <td>Furniture designer</td>\n",
       "      <td>06/07/1955</td>\n",
       "      <td>0</td>\n",
       "      <td>2020-06-21</td>\n",
       "      <td>12:15:00</td>\n",
       "      <td>1.573982</td>\n",
       "      <td>Falmouth MI</td>\n",
       "    </tr>\n",
       "  </tbody>\n",
       "</table>\n",
       "</div>"
      ],
      "text/plain": [
       "                         merchant        category    amt gender  city_pop  \\\n",
       "0                 Kirlin and Sons   personal_care   2.86      M    333497   \n",
       "1                  Sporer-Keebler   personal_care  29.84      F       302   \n",
       "2  Swaniawski, Nitzsche and Welch  health_fitness  41.28      F     34496   \n",
       "3                     Haley Group        misc_pos  60.05      M     54767   \n",
       "4                 Johnston-Casper          travel   3.19      M      1126   \n",
       "\n",
       "                      job         dob  is_fraud        date      time  \\\n",
       "0     Mechanical engineer  19/03/1968         0  2020-06-21  12:14:00   \n",
       "1  Sales professional, IT  17/01/1990         0  2020-06-21  12:14:00   \n",
       "2       Librarian, public  21/10/1970         0  2020-06-21  12:14:00   \n",
       "3            Set designer  25/07/1987         0  2020-06-21  12:15:00   \n",
       "4      Furniture designer  06/07/1955         0  2020-06-21  12:15:00   \n",
       "\n",
       "       dist cardholder_loc  \n",
       "0  0.285705    Columbia SC  \n",
       "1  1.345771     Altonah UT  \n",
       "2  0.836701    Bellmore NY  \n",
       "3  0.306659  Titusville FL  \n",
       "4  1.573982    Falmouth MI  "
      ]
     },
     "execution_count": 110,
     "metadata": {},
     "output_type": "execute_result"
    }
   ],
   "source": [
    "df.head()"
   ]
  },
  {
   "cell_type": "code",
   "execution_count": null,
   "id": "d443dede",
   "metadata": {},
   "outputs": [],
   "source": []
  },
  {
   "cell_type": "code",
   "execution_count": null,
   "id": "b29fea99",
   "metadata": {},
   "outputs": [],
   "source": []
  },
  {
   "cell_type": "code",
   "execution_count": null,
   "id": "c2e928a5",
   "metadata": {},
   "outputs": [],
   "source": [
    " "
   ]
  },
  {
   "cell_type": "code",
   "execution_count": 111,
   "id": "d2757c56",
   "metadata": {},
   "outputs": [
    {
     "data": {
      "text/html": [
       "<div>\n",
       "<style scoped>\n",
       "    .dataframe tbody tr th:only-of-type {\n",
       "        vertical-align: middle;\n",
       "    }\n",
       "\n",
       "    .dataframe tbody tr th {\n",
       "        vertical-align: top;\n",
       "    }\n",
       "\n",
       "    .dataframe thead th {\n",
       "        text-align: right;\n",
       "    }\n",
       "</style>\n",
       "<table border=\"1\" class=\"dataframe\">\n",
       "  <thead>\n",
       "    <tr style=\"text-align: right;\">\n",
       "      <th></th>\n",
       "      <th>merchant</th>\n",
       "      <th>category</th>\n",
       "      <th>amt</th>\n",
       "      <th>gender</th>\n",
       "      <th>city_pop</th>\n",
       "      <th>job</th>\n",
       "      <th>is_fraud</th>\n",
       "      <th>date</th>\n",
       "      <th>time</th>\n",
       "      <th>dist</th>\n",
       "      <th>cardholder_loc</th>\n",
       "      <th>cardholder_age</th>\n",
       "    </tr>\n",
       "  </thead>\n",
       "  <tbody>\n",
       "    <tr>\n",
       "      <th>0</th>\n",
       "      <td>Kirlin and Sons</td>\n",
       "      <td>personal_care</td>\n",
       "      <td>2.86</td>\n",
       "      <td>M</td>\n",
       "      <td>333497</td>\n",
       "      <td>Mechanical engineer</td>\n",
       "      <td>0</td>\n",
       "      <td>2020-06-21</td>\n",
       "      <td>12:14:00</td>\n",
       "      <td>0.285705</td>\n",
       "      <td>Columbia SC</td>\n",
       "      <td>56</td>\n",
       "    </tr>\n",
       "    <tr>\n",
       "      <th>1</th>\n",
       "      <td>Sporer-Keebler</td>\n",
       "      <td>personal_care</td>\n",
       "      <td>29.84</td>\n",
       "      <td>F</td>\n",
       "      <td>302</td>\n",
       "      <td>Sales professional, IT</td>\n",
       "      <td>0</td>\n",
       "      <td>2020-06-21</td>\n",
       "      <td>12:14:00</td>\n",
       "      <td>1.345771</td>\n",
       "      <td>Altonah UT</td>\n",
       "      <td>34</td>\n",
       "    </tr>\n",
       "    <tr>\n",
       "      <th>2</th>\n",
       "      <td>Swaniawski, Nitzsche and Welch</td>\n",
       "      <td>health_fitness</td>\n",
       "      <td>41.28</td>\n",
       "      <td>F</td>\n",
       "      <td>34496</td>\n",
       "      <td>Librarian, public</td>\n",
       "      <td>0</td>\n",
       "      <td>2020-06-21</td>\n",
       "      <td>12:14:00</td>\n",
       "      <td>0.836701</td>\n",
       "      <td>Bellmore NY</td>\n",
       "      <td>53</td>\n",
       "    </tr>\n",
       "    <tr>\n",
       "      <th>3</th>\n",
       "      <td>Haley Group</td>\n",
       "      <td>misc_pos</td>\n",
       "      <td>60.05</td>\n",
       "      <td>M</td>\n",
       "      <td>54767</td>\n",
       "      <td>Set designer</td>\n",
       "      <td>0</td>\n",
       "      <td>2020-06-21</td>\n",
       "      <td>12:15:00</td>\n",
       "      <td>0.306659</td>\n",
       "      <td>Titusville FL</td>\n",
       "      <td>36</td>\n",
       "    </tr>\n",
       "    <tr>\n",
       "      <th>4</th>\n",
       "      <td>Johnston-Casper</td>\n",
       "      <td>travel</td>\n",
       "      <td>3.19</td>\n",
       "      <td>M</td>\n",
       "      <td>1126</td>\n",
       "      <td>Furniture designer</td>\n",
       "      <td>0</td>\n",
       "      <td>2020-06-21</td>\n",
       "      <td>12:15:00</td>\n",
       "      <td>1.573982</td>\n",
       "      <td>Falmouth MI</td>\n",
       "      <td>68</td>\n",
       "    </tr>\n",
       "  </tbody>\n",
       "</table>\n",
       "</div>"
      ],
      "text/plain": [
       "                         merchant        category    amt gender  city_pop  \\\n",
       "0                 Kirlin and Sons   personal_care   2.86      M    333497   \n",
       "1                  Sporer-Keebler   personal_care  29.84      F       302   \n",
       "2  Swaniawski, Nitzsche and Welch  health_fitness  41.28      F     34496   \n",
       "3                     Haley Group        misc_pos  60.05      M     54767   \n",
       "4                 Johnston-Casper          travel   3.19      M      1126   \n",
       "\n",
       "                      job  is_fraud        date      time      dist  \\\n",
       "0     Mechanical engineer         0  2020-06-21  12:14:00  0.285705   \n",
       "1  Sales professional, IT         0  2020-06-21  12:14:00  1.345771   \n",
       "2       Librarian, public         0  2020-06-21  12:14:00  0.836701   \n",
       "3            Set designer         0  2020-06-21  12:15:00  0.306659   \n",
       "4      Furniture designer         0  2020-06-21  12:15:00  1.573982   \n",
       "\n",
       "  cardholder_loc  cardholder_age  \n",
       "0    Columbia SC              56  \n",
       "1     Altonah UT              34  \n",
       "2    Bellmore NY              53  \n",
       "3  Titusville FL              36  \n",
       "4    Falmouth MI              68  "
      ]
     },
     "execution_count": 111,
     "metadata": {},
     "output_type": "execute_result"
    }
   ],
   "source": [
    "# create an age feature from 'dob' then drop 'dob'\n",
    "\n",
    "# helper function\n",
    "def age(born): \n",
    "    '''Convert DOB to age.'''\n",
    "    today = date.today() \n",
    "    return today.year - born.year - ((today.month,  \n",
    "                                      today.day) < (born.month,  \n",
    "                                                    born.day))\n",
    "\n",
    "dob_series = pd.to_datetime(df['dob'])\n",
    "df['dob'] = dob_series\n",
    "df['cardholder_age'] = df['dob'].apply(age)\n",
    "df = df.drop(['dob'], axis=1)\n",
    "df.head()"
   ]
  },
  {
   "cell_type": "code",
   "execution_count": null,
   "id": "6169e261",
   "metadata": {},
   "outputs": [],
   "source": []
  },
  {
   "cell_type": "code",
   "execution_count": 112,
   "id": "157cfadb",
   "metadata": {},
   "outputs": [],
   "source": [
    "# round time feature to hour of the day then replace\n",
    "\n",
    "# helper function\n",
    "def hour_round(dt):\n",
    "    h = dt.hour\n",
    "    m = dt.minute\n",
    "    if m>30:\n",
    "        if h==23:\n",
    "            return 0\n",
    "        else:\n",
    "            return h+1\n",
    "    return h\n",
    "\n",
    "df['hour_of_day'] = df['time'].apply(hour_round)\n",
    "df = df.drop(['time'], axis=1)"
   ]
  },
  {
   "cell_type": "code",
   "execution_count": 113,
   "id": "c016cfb5",
   "metadata": {},
   "outputs": [
    {
     "data": {
      "text/html": [
       "<div>\n",
       "<style scoped>\n",
       "    .dataframe tbody tr th:only-of-type {\n",
       "        vertical-align: middle;\n",
       "    }\n",
       "\n",
       "    .dataframe tbody tr th {\n",
       "        vertical-align: top;\n",
       "    }\n",
       "\n",
       "    .dataframe thead th {\n",
       "        text-align: right;\n",
       "    }\n",
       "</style>\n",
       "<table border=\"1\" class=\"dataframe\">\n",
       "  <thead>\n",
       "    <tr style=\"text-align: right;\">\n",
       "      <th></th>\n",
       "      <th>merchant</th>\n",
       "      <th>category</th>\n",
       "      <th>amt</th>\n",
       "      <th>gender</th>\n",
       "      <th>city_pop</th>\n",
       "      <th>job</th>\n",
       "      <th>is_fraud</th>\n",
       "      <th>date</th>\n",
       "      <th>dist</th>\n",
       "      <th>cardholder_loc</th>\n",
       "      <th>cardholder_age</th>\n",
       "      <th>hour_of_day</th>\n",
       "    </tr>\n",
       "  </thead>\n",
       "  <tbody>\n",
       "    <tr>\n",
       "      <th>555714</th>\n",
       "      <td>Reilly and Sons</td>\n",
       "      <td>health_fitness</td>\n",
       "      <td>43.77</td>\n",
       "      <td>M</td>\n",
       "      <td>519</td>\n",
       "      <td>Town planner</td>\n",
       "      <td>0</td>\n",
       "      <td>2020-12-31</td>\n",
       "      <td>1.104132</td>\n",
       "      <td>Luray MO</td>\n",
       "      <td>58</td>\n",
       "      <td>0</td>\n",
       "    </tr>\n",
       "    <tr>\n",
       "      <th>555715</th>\n",
       "      <td>Hoppe-Parisian</td>\n",
       "      <td>kids_pets</td>\n",
       "      <td>111.84</td>\n",
       "      <td>M</td>\n",
       "      <td>28739</td>\n",
       "      <td>Futures trader</td>\n",
       "      <td>0</td>\n",
       "      <td>2020-12-31</td>\n",
       "      <td>1.368282</td>\n",
       "      <td>Lake Jackson TX</td>\n",
       "      <td>24</td>\n",
       "      <td>0</td>\n",
       "    </tr>\n",
       "    <tr>\n",
       "      <th>555716</th>\n",
       "      <td>Rau-Robel</td>\n",
       "      <td>kids_pets</td>\n",
       "      <td>86.88</td>\n",
       "      <td>F</td>\n",
       "      <td>3684</td>\n",
       "      <td>Musician</td>\n",
       "      <td>0</td>\n",
       "      <td>2020-12-31</td>\n",
       "      <td>1.275094</td>\n",
       "      <td>Burbank WA</td>\n",
       "      <td>42</td>\n",
       "      <td>0</td>\n",
       "    </tr>\n",
       "    <tr>\n",
       "      <th>555717</th>\n",
       "      <td>Breitenberg LLC</td>\n",
       "      <td>travel</td>\n",
       "      <td>7.99</td>\n",
       "      <td>M</td>\n",
       "      <td>129</td>\n",
       "      <td>Cartographer</td>\n",
       "      <td>0</td>\n",
       "      <td>2020-12-31</td>\n",
       "      <td>0.786563</td>\n",
       "      <td>Mesa ID</td>\n",
       "      <td>58</td>\n",
       "      <td>0</td>\n",
       "    </tr>\n",
       "    <tr>\n",
       "      <th>555718</th>\n",
       "      <td>Dare-Marvin</td>\n",
       "      <td>entertainment</td>\n",
       "      <td>38.13</td>\n",
       "      <td>M</td>\n",
       "      <td>116001</td>\n",
       "      <td>Media buyer</td>\n",
       "      <td>0</td>\n",
       "      <td>2020-12-31</td>\n",
       "      <td>0.987025</td>\n",
       "      <td>Edmond OK</td>\n",
       "      <td>30</td>\n",
       "      <td>0</td>\n",
       "    </tr>\n",
       "  </tbody>\n",
       "</table>\n",
       "</div>"
      ],
      "text/plain": [
       "               merchant        category     amt gender  city_pop  \\\n",
       "555714  Reilly and Sons  health_fitness   43.77      M       519   \n",
       "555715   Hoppe-Parisian       kids_pets  111.84      M     28739   \n",
       "555716        Rau-Robel       kids_pets   86.88      F      3684   \n",
       "555717  Breitenberg LLC          travel    7.99      M       129   \n",
       "555718      Dare-Marvin   entertainment   38.13      M    116001   \n",
       "\n",
       "                   job  is_fraud        date      dist   cardholder_loc  \\\n",
       "555714    Town planner         0  2020-12-31  1.104132         Luray MO   \n",
       "555715  Futures trader         0  2020-12-31  1.368282  Lake Jackson TX   \n",
       "555716        Musician         0  2020-12-31  1.275094       Burbank WA   \n",
       "555717    Cartographer         0  2020-12-31  0.786563          Mesa ID   \n",
       "555718     Media buyer         0  2020-12-31  0.987025        Edmond OK   \n",
       "\n",
       "        cardholder_age  hour_of_day  \n",
       "555714              58            0  \n",
       "555715              24            0  \n",
       "555716              42            0  \n",
       "555717              58            0  \n",
       "555718              30            0  "
      ]
     },
     "execution_count": 113,
     "metadata": {},
     "output_type": "execute_result"
    }
   ],
   "source": [
    "df.tail()"
   ]
  },
  {
   "cell_type": "code",
   "execution_count": null,
   "id": "2c757087",
   "metadata": {},
   "outputs": [],
   "source": []
  },
  {
   "cell_type": "code",
   "execution_count": 114,
   "id": "3230b6ad",
   "metadata": {},
   "outputs": [
    {
     "data": {
      "text/html": [
       "<div>\n",
       "<style scoped>\n",
       "    .dataframe tbody tr th:only-of-type {\n",
       "        vertical-align: middle;\n",
       "    }\n",
       "\n",
       "    .dataframe tbody tr th {\n",
       "        vertical-align: top;\n",
       "    }\n",
       "\n",
       "    .dataframe thead th {\n",
       "        text-align: right;\n",
       "    }\n",
       "</style>\n",
       "<table border=\"1\" class=\"dataframe\">\n",
       "  <thead>\n",
       "    <tr style=\"text-align: right;\">\n",
       "      <th></th>\n",
       "      <th>amt</th>\n",
       "      <th>city_pop</th>\n",
       "      <th>is_fraud</th>\n",
       "      <th>dist</th>\n",
       "      <th>cardholder_age</th>\n",
       "      <th>hour_of_day</th>\n",
       "      <th>merchant_Abbott-Rogahn</th>\n",
       "      <th>merchant_Abbott-Steuber</th>\n",
       "      <th>merchant_Abernathy and Sons</th>\n",
       "      <th>merchant_Abshire PLC</th>\n",
       "      <th>...</th>\n",
       "      <th>cardholder_loc_Winger MN</th>\n",
       "      <th>cardholder_loc_Winslow AR</th>\n",
       "      <th>cardholder_loc_Winter WI</th>\n",
       "      <th>cardholder_loc_Winthrop ME</th>\n",
       "      <th>cardholder_loc_Wittenberg WI</th>\n",
       "      <th>cardholder_loc_Woods Cross UT</th>\n",
       "      <th>cardholder_loc_Woodville AL</th>\n",
       "      <th>cardholder_loc_Yellowstone National Park WY</th>\n",
       "      <th>cardholder_loc_Zaleski OH</th>\n",
       "      <th>cardholder_loc_Zavalla TX</th>\n",
       "    </tr>\n",
       "  </thead>\n",
       "  <tbody>\n",
       "    <tr>\n",
       "      <th>0</th>\n",
       "      <td>2.86</td>\n",
       "      <td>333497</td>\n",
       "      <td>0</td>\n",
       "      <td>0.285705</td>\n",
       "      <td>56</td>\n",
       "      <td>12</td>\n",
       "      <td>0</td>\n",
       "      <td>0</td>\n",
       "      <td>0</td>\n",
       "      <td>0</td>\n",
       "      <td>...</td>\n",
       "      <td>0</td>\n",
       "      <td>0</td>\n",
       "      <td>0</td>\n",
       "      <td>0</td>\n",
       "      <td>0</td>\n",
       "      <td>0</td>\n",
       "      <td>0</td>\n",
       "      <td>0</td>\n",
       "      <td>0</td>\n",
       "      <td>0</td>\n",
       "    </tr>\n",
       "    <tr>\n",
       "      <th>1</th>\n",
       "      <td>29.84</td>\n",
       "      <td>302</td>\n",
       "      <td>0</td>\n",
       "      <td>1.345771</td>\n",
       "      <td>34</td>\n",
       "      <td>12</td>\n",
       "      <td>0</td>\n",
       "      <td>0</td>\n",
       "      <td>0</td>\n",
       "      <td>0</td>\n",
       "      <td>...</td>\n",
       "      <td>0</td>\n",
       "      <td>0</td>\n",
       "      <td>0</td>\n",
       "      <td>0</td>\n",
       "      <td>0</td>\n",
       "      <td>0</td>\n",
       "      <td>0</td>\n",
       "      <td>0</td>\n",
       "      <td>0</td>\n",
       "      <td>0</td>\n",
       "    </tr>\n",
       "    <tr>\n",
       "      <th>2</th>\n",
       "      <td>41.28</td>\n",
       "      <td>34496</td>\n",
       "      <td>0</td>\n",
       "      <td>0.836701</td>\n",
       "      <td>53</td>\n",
       "      <td>12</td>\n",
       "      <td>0</td>\n",
       "      <td>0</td>\n",
       "      <td>0</td>\n",
       "      <td>0</td>\n",
       "      <td>...</td>\n",
       "      <td>0</td>\n",
       "      <td>0</td>\n",
       "      <td>0</td>\n",
       "      <td>0</td>\n",
       "      <td>0</td>\n",
       "      <td>0</td>\n",
       "      <td>0</td>\n",
       "      <td>0</td>\n",
       "      <td>0</td>\n",
       "      <td>0</td>\n",
       "    </tr>\n",
       "    <tr>\n",
       "      <th>3</th>\n",
       "      <td>60.05</td>\n",
       "      <td>54767</td>\n",
       "      <td>0</td>\n",
       "      <td>0.306659</td>\n",
       "      <td>36</td>\n",
       "      <td>12</td>\n",
       "      <td>0</td>\n",
       "      <td>0</td>\n",
       "      <td>0</td>\n",
       "      <td>0</td>\n",
       "      <td>...</td>\n",
       "      <td>0</td>\n",
       "      <td>0</td>\n",
       "      <td>0</td>\n",
       "      <td>0</td>\n",
       "      <td>0</td>\n",
       "      <td>0</td>\n",
       "      <td>0</td>\n",
       "      <td>0</td>\n",
       "      <td>0</td>\n",
       "      <td>0</td>\n",
       "    </tr>\n",
       "    <tr>\n",
       "      <th>4</th>\n",
       "      <td>3.19</td>\n",
       "      <td>1126</td>\n",
       "      <td>0</td>\n",
       "      <td>1.573982</td>\n",
       "      <td>68</td>\n",
       "      <td>12</td>\n",
       "      <td>0</td>\n",
       "      <td>0</td>\n",
       "      <td>0</td>\n",
       "      <td>0</td>\n",
       "      <td>...</td>\n",
       "      <td>0</td>\n",
       "      <td>0</td>\n",
       "      <td>0</td>\n",
       "      <td>0</td>\n",
       "      <td>0</td>\n",
       "      <td>0</td>\n",
       "      <td>0</td>\n",
       "      <td>0</td>\n",
       "      <td>0</td>\n",
       "      <td>0</td>\n",
       "    </tr>\n",
       "  </tbody>\n",
       "</table>\n",
       "<p>5 rows × 2267 columns</p>\n",
       "</div>"
      ],
      "text/plain": [
       "     amt  city_pop  is_fraud      dist  cardholder_age  hour_of_day  \\\n",
       "0   2.86    333497         0  0.285705              56           12   \n",
       "1  29.84       302         0  1.345771              34           12   \n",
       "2  41.28     34496         0  0.836701              53           12   \n",
       "3  60.05     54767         0  0.306659              36           12   \n",
       "4   3.19      1126         0  1.573982              68           12   \n",
       "\n",
       "   merchant_Abbott-Rogahn  merchant_Abbott-Steuber  \\\n",
       "0                       0                        0   \n",
       "1                       0                        0   \n",
       "2                       0                        0   \n",
       "3                       0                        0   \n",
       "4                       0                        0   \n",
       "\n",
       "   merchant_Abernathy and Sons  merchant_Abshire PLC  ...  \\\n",
       "0                            0                     0  ...   \n",
       "1                            0                     0  ...   \n",
       "2                            0                     0  ...   \n",
       "3                            0                     0  ...   \n",
       "4                            0                     0  ...   \n",
       "\n",
       "   cardholder_loc_Winger MN  cardholder_loc_Winslow AR  \\\n",
       "0                         0                          0   \n",
       "1                         0                          0   \n",
       "2                         0                          0   \n",
       "3                         0                          0   \n",
       "4                         0                          0   \n",
       "\n",
       "   cardholder_loc_Winter WI  cardholder_loc_Winthrop ME  \\\n",
       "0                         0                           0   \n",
       "1                         0                           0   \n",
       "2                         0                           0   \n",
       "3                         0                           0   \n",
       "4                         0                           0   \n",
       "\n",
       "   cardholder_loc_Wittenberg WI  cardholder_loc_Woods Cross UT  \\\n",
       "0                             0                              0   \n",
       "1                             0                              0   \n",
       "2                             0                              0   \n",
       "3                             0                              0   \n",
       "4                             0                              0   \n",
       "\n",
       "   cardholder_loc_Woodville AL  cardholder_loc_Yellowstone National Park WY  \\\n",
       "0                            0                                            0   \n",
       "1                            0                                            0   \n",
       "2                            0                                            0   \n",
       "3                            0                                            0   \n",
       "4                            0                                            0   \n",
       "\n",
       "   cardholder_loc_Zaleski OH  cardholder_loc_Zavalla TX  \n",
       "0                          0                          0  \n",
       "1                          0                          0  \n",
       "2                          0                          0  \n",
       "3                          0                          0  \n",
       "4                          0                          0  \n",
       "\n",
       "[5 rows x 2267 columns]"
      ]
     },
     "execution_count": 114,
     "metadata": {},
     "output_type": "execute_result"
    }
   ],
   "source": [
    "# oneHot encode the merchant, category, gender, job, date, and cardholder_loc features\n",
    "df = pd.get_dummies(df, columns=['merchant', 'category', 'gender', 'job', 'date', 'cardholder_loc'])\n",
    "df.head()"
   ]
  },
  {
   "cell_type": "code",
   "execution_count": null,
   "id": "1f2c64a7",
   "metadata": {},
   "outputs": [],
   "source": []
  },
  {
   "cell_type": "code",
   "execution_count": null,
   "id": "416b96fa",
   "metadata": {},
   "outputs": [],
   "source": []
  },
  {
   "cell_type": "markdown",
   "id": "0b0c59fd",
   "metadata": {},
   "source": [
    "## Modeling <a class=\"anchor\" id=\"p2\"></a>\n",
    "[back to top](#top)  \n",
    "Only using part of the dataframe because otherwise the code chunks take too long to run."
   ]
  },
  {
   "cell_type": "code",
   "execution_count": 115,
   "id": "1ad38c6a",
   "metadata": {},
   "outputs": [],
   "source": [
    "from sklearn.model_selection import train_test_split\n",
    "from sklearn import tree\n",
    "from sklearn.linear_model import LogisticRegression\n",
    "from sklearn.neighbors import KNeighborsClassifier\n",
    "from sklearn import svm\n",
    "\n",
    "from sklearn.metrics import confusion_matrix\n",
    "from sklearn.metrics import f1_score"
   ]
  },
  {
   "cell_type": "code",
   "execution_count": 116,
   "id": "9394843e",
   "metadata": {},
   "outputs": [],
   "source": [
    "# selecting only a subset of the columns and rows\n",
    "df_subset = df.iloc[:10000,:20]\n",
    "y = df_subset['is_fraud']\n",
    "X = df_subset.drop(['is_fraud'], axis=1)"
   ]
  },
  {
   "cell_type": "code",
   "execution_count": 117,
   "id": "4a5aaa0b",
   "metadata": {},
   "outputs": [
    {
     "data": {
      "text/plain": [
       "(10000, 19)"
      ]
     },
     "execution_count": 117,
     "metadata": {},
     "output_type": "execute_result"
    }
   ],
   "source": [
    "X.shape"
   ]
  },
  {
   "cell_type": "code",
   "execution_count": 157,
   "id": "b2a15525",
   "metadata": {},
   "outputs": [
    {
     "name": "stdout",
     "output_type": "stream",
     "text": [
      "original ratio: 0.0038598644278853163\n",
      "subsetted ratio: 0.0022\n"
     ]
    }
   ],
   "source": [
    "# we can observe below how the subsetting keeps a similar ratio of fraudulent transactions as the origial data\n",
    "print('original ratio:', sum(df['is_fraud']==1)/df['is_fraud'].size)\n",
    "print('subsetted ratio:', sum(y==1)/y.size)"
   ]
  },
  {
   "cell_type": "code",
   "execution_count": 118,
   "id": "ae2a0a23",
   "metadata": {},
   "outputs": [],
   "source": [
    "X_train, X_test, y_train, y_test = train_test_split(X, y, test_size=0.30, random_state=2001)"
   ]
  },
  {
   "cell_type": "code",
   "execution_count": null,
   "id": "2ee6120d",
   "metadata": {},
   "outputs": [],
   "source": []
  },
  {
   "cell_type": "markdown",
   "id": "544dbba7",
   "metadata": {},
   "source": [
    "### Decision Tree"
   ]
  },
  {
   "cell_type": "code",
   "execution_count": 120,
   "id": "4c416ea1",
   "metadata": {},
   "outputs": [],
   "source": [
    "# Create a Decision Tree using entropy as attribute selection\n",
    "DT_clf = tree.DecisionTreeClassifier(criterion = 'entropy')"
   ]
  },
  {
   "cell_type": "code",
   "execution_count": 121,
   "id": "015f6004",
   "metadata": {},
   "outputs": [],
   "source": [
    "#Training the tree\n",
    "DT_clf = DT_clf.fit(X_train, y_train)"
   ]
  },
  {
   "cell_type": "code",
   "execution_count": 122,
   "id": "ba46e913",
   "metadata": {},
   "outputs": [],
   "source": [
    "y_pred = DT_clf.predict(X_test)"
   ]
  },
  {
   "cell_type": "code",
   "execution_count": 123,
   "id": "a433414d",
   "metadata": {},
   "outputs": [
    {
     "name": "stdout",
     "output_type": "stream",
     "text": [
      "Decision Tree Accuracy: 0.9963333333333333\n"
     ]
    }
   ],
   "source": [
    "print('Decision Tree Accuracy:', sum(y_pred == y_test)/len(y_pred))"
   ]
  },
  {
   "cell_type": "code",
   "execution_count": 124,
   "id": "32d815f2",
   "metadata": {},
   "outputs": [
    {
     "data": {
      "text/plain": [
       "array([[2988,    6],\n",
       "       [   5,    1]])"
      ]
     },
     "execution_count": 124,
     "metadata": {},
     "output_type": "execute_result"
    }
   ],
   "source": [
    "c_mat = confusion_matrix(y_test, y_pred)\n",
    "c_mat"
   ]
  },
  {
   "cell_type": "code",
   "execution_count": 125,
   "id": "2815f9c2",
   "metadata": {},
   "outputs": [
    {
     "name": "stdout",
     "output_type": "stream",
     "text": [
      "DT F1 Score: 0.15384615384615383\n",
      "DT Precision: 0.998329435349148\n",
      "DT Recall: 0.9979959919839679\n"
     ]
    }
   ],
   "source": [
    "F1_score = f1_score(y_test, y_pred)\n",
    "precision = c_mat[0,0] / (c_mat[0,0]+c_mat[1,0])\n",
    "recall = c_mat[0,0] / (c_mat[0,0]+c_mat[0,1])\n",
    "\n",
    "print('DT F1 Score:', F1_score)\n",
    "print('DT Precision:', precision)\n",
    "print('DT Recall:', recall)"
   ]
  },
  {
   "cell_type": "code",
   "execution_count": null,
   "id": "a6bbc6cd",
   "metadata": {},
   "outputs": [],
   "source": []
  },
  {
   "cell_type": "code",
   "execution_count": null,
   "id": "13dd1b54",
   "metadata": {},
   "outputs": [],
   "source": []
  },
  {
   "cell_type": "markdown",
   "id": "6c7887b2",
   "metadata": {},
   "source": [
    "### Logistic Regression"
   ]
  },
  {
   "cell_type": "code",
   "execution_count": 147,
   "id": "542c8c7a",
   "metadata": {},
   "outputs": [],
   "source": [
    "LR_clf = LogisticRegression(random_state=0).fit(X_train, y_train)"
   ]
  },
  {
   "cell_type": "code",
   "execution_count": 148,
   "id": "345feca1",
   "metadata": {},
   "outputs": [],
   "source": [
    "y_pred = LR_clf.predict(X_test)"
   ]
  },
  {
   "cell_type": "code",
   "execution_count": 149,
   "id": "819d6c12",
   "metadata": {},
   "outputs": [
    {
     "name": "stdout",
     "output_type": "stream",
     "text": [
      "Logistic Reg. Accuracy: 0.9973333333333333\n"
     ]
    }
   ],
   "source": [
    "print('Logistic Reg. Accuracy:', sum(y_pred == y_test)/len(y_pred))"
   ]
  },
  {
   "cell_type": "code",
   "execution_count": 150,
   "id": "e005ce47",
   "metadata": {},
   "outputs": [
    {
     "data": {
      "text/plain": [
       "array([[2992,    2],\n",
       "       [   6,    0]])"
      ]
     },
     "execution_count": 150,
     "metadata": {},
     "output_type": "execute_result"
    }
   ],
   "source": [
    "c_mat = confusion_matrix(y_test, y_pred)\n",
    "c_mat"
   ]
  },
  {
   "cell_type": "code",
   "execution_count": 151,
   "id": "1c7acd56",
   "metadata": {},
   "outputs": [
    {
     "name": "stdout",
     "output_type": "stream",
     "text": [
      "LR F1 Score: 0.0\n",
      "LR Precision: 0.9979986657771848\n",
      "LR Recall: 0.9993319973279893\n"
     ]
    }
   ],
   "source": [
    "F1_score = f1_score(y_test, y_pred)\n",
    "precision = c_mat[0,0] / (c_mat[0,0]+c_mat[1,0])\n",
    "recall = c_mat[0,0] / (c_mat[0,0]+c_mat[0,1])\n",
    "\n",
    "print('LR F1 Score:', F1_score)\n",
    "print('LR Precision:', precision)\n",
    "print('LR Recall:', recall)"
   ]
  },
  {
   "cell_type": "code",
   "execution_count": null,
   "id": "128f7cbd",
   "metadata": {},
   "outputs": [],
   "source": []
  },
  {
   "cell_type": "code",
   "execution_count": null,
   "id": "fdfb71bc",
   "metadata": {},
   "outputs": [],
   "source": []
  },
  {
   "cell_type": "markdown",
   "id": "13c96d36",
   "metadata": {},
   "source": [
    "### KNN"
   ]
  },
  {
   "cell_type": "code",
   "execution_count": 142,
   "id": "8cd20ebc",
   "metadata": {},
   "outputs": [
    {
     "data": {
      "text/plain": [
       "KNeighborsClassifier(n_neighbors=1)"
      ]
     },
     "execution_count": 142,
     "metadata": {},
     "output_type": "execute_result"
    }
   ],
   "source": [
    "neigh = KNeighborsClassifier(n_neighbors=1)\n",
    "neigh.fit(X_train, y_train)"
   ]
  },
  {
   "cell_type": "code",
   "execution_count": 143,
   "id": "37ca8723",
   "metadata": {},
   "outputs": [],
   "source": [
    "predictions = neigh.predict(X_test)"
   ]
  },
  {
   "cell_type": "code",
   "execution_count": 144,
   "id": "6521f1fc",
   "metadata": {},
   "outputs": [
    {
     "name": "stdout",
     "output_type": "stream",
     "text": [
      "KNN accuracy: 0.998\n"
     ]
    }
   ],
   "source": [
    "#print(predictions)\n",
    "acc = np.sum(predictions == y_test) / len(y_test)\n",
    "print('KNN accuracy:', acc)"
   ]
  },
  {
   "cell_type": "code",
   "execution_count": 145,
   "id": "0da48ceb",
   "metadata": {},
   "outputs": [
    {
     "data": {
      "text/plain": [
       "array([[2989,    5],\n",
       "       [   1,    5]])"
      ]
     },
     "execution_count": 145,
     "metadata": {},
     "output_type": "execute_result"
    }
   ],
   "source": [
    "c_mat = confusion_matrix(y_test, predictions)\n",
    "c_mat"
   ]
  },
  {
   "cell_type": "code",
   "execution_count": 146,
   "id": "41c3cbc9",
   "metadata": {},
   "outputs": [
    {
     "name": "stdout",
     "output_type": "stream",
     "text": [
      "KNN F1 Score: 0.625\n",
      "KNN Precision: 0.9996655518394649\n",
      "KNN Recall: 0.9983299933199733\n"
     ]
    }
   ],
   "source": [
    "F1_score = f1_score(y_test, predictions)\n",
    "precision = c_mat[0,0] / (c_mat[0,0]+c_mat[1,0])\n",
    "recall = c_mat[0,0] / (c_mat[0,0]+c_mat[0,1])\n",
    "\n",
    "print('KNN F1 Score:', F1_score)\n",
    "print('KNN Precision:', precision)\n",
    "print('KNN Recall:', recall)"
   ]
  },
  {
   "cell_type": "code",
   "execution_count": null,
   "id": "73c9428b",
   "metadata": {},
   "outputs": [],
   "source": []
  },
  {
   "cell_type": "code",
   "execution_count": null,
   "id": "543eeeda",
   "metadata": {},
   "outputs": [],
   "source": []
  },
  {
   "cell_type": "markdown",
   "id": "ae173e3c",
   "metadata": {},
   "source": [
    "### SVM"
   ]
  },
  {
   "cell_type": "code",
   "execution_count": 136,
   "id": "eee2d0a8",
   "metadata": {},
   "outputs": [],
   "source": [
    "svm_clf = svm.SVC(kernel='linear').fit(X_train,y_train)"
   ]
  },
  {
   "cell_type": "code",
   "execution_count": 137,
   "id": "3cfc376e",
   "metadata": {},
   "outputs": [],
   "source": [
    "predictions = svm_clf.predict(X_test)"
   ]
  },
  {
   "cell_type": "code",
   "execution_count": 138,
   "id": "81e498ce",
   "metadata": {},
   "outputs": [
    {
     "name": "stdout",
     "output_type": "stream",
     "text": [
      "SVM accuracy: 0.9946666666666667\n"
     ]
    }
   ],
   "source": [
    "acc = np.sum(predictions == y_test) / len(y_test)\n",
    "print('SVM accuracy:', acc)"
   ]
  },
  {
   "cell_type": "code",
   "execution_count": 139,
   "id": "64e2101e",
   "metadata": {},
   "outputs": [
    {
     "data": {
      "text/plain": [
       "array([[2984,   10],\n",
       "       [   6,    0]])"
      ]
     },
     "execution_count": 139,
     "metadata": {},
     "output_type": "execute_result"
    }
   ],
   "source": [
    "c_mat = confusion_matrix(y_test, predictions)\n",
    "c_mat"
   ]
  },
  {
   "cell_type": "code",
   "execution_count": 141,
   "id": "79662a55",
   "metadata": {},
   "outputs": [
    {
     "name": "stdout",
     "output_type": "stream",
     "text": [
      "SVM F1 Score: 0.0\n",
      "SVM Precision: 0.9979933110367893\n",
      "SVM Recall: 0.9966599866399466\n"
     ]
    }
   ],
   "source": [
    "F1_score = f1_score(y_test, predictions)\n",
    "precision = c_mat[0,0] / (c_mat[0,0]+c_mat[1,0])\n",
    "recall = c_mat[0,0] / (c_mat[0,0]+c_mat[0,1])\n",
    "\n",
    "print('SVM F1 Score:', F1_score)\n",
    "print('SVM Precision:', precision)\n",
    "print('SVM Recall:', recall)"
   ]
  },
  {
   "cell_type": "code",
   "execution_count": null,
   "id": "215f0840",
   "metadata": {},
   "outputs": [],
   "source": []
  },
  {
   "cell_type": "markdown",
   "id": "292703f8",
   "metadata": {},
   "source": [
    "### Comparison\n",
    "In the context of predicting credit fraud, the most important metric to consider is F1 Score. We ideally want a high sensitivity, because we want to make sure we catch any fraudulent behavior as it can result in losses of cardholders. However, we are also interested in a high specificity, or a small number of false positives. This is because it can be a real detriment to a cardholder to not be able to use their card if they need it in some situation, i.e. by classifying a non-fraudulent transaction as fraudulent, the cardholder would be denied access to their funds for no good reason. F1-score takes both of these into account. Therefore, in this context, the KNN model performs the best. \n",
    "\n",
    "One con I noticed was that the SVM took a very long time to train. All the other models took a relatively short time to train and predict compared to the SVM. Originally, the KNN model was taking a very long time to create predictions, however, upon subsetting the data and reducing the number of neighbors utilized in the prediction calculations, the runtime sped up."
   ]
  },
  {
   "cell_type": "code",
   "execution_count": null,
   "id": "024e9527",
   "metadata": {},
   "outputs": [],
   "source": []
  },
  {
   "cell_type": "code",
   "execution_count": null,
   "id": "858d51fb",
   "metadata": {},
   "outputs": [],
   "source": []
  },
  {
   "cell_type": "code",
   "execution_count": null,
   "id": "517c6928",
   "metadata": {},
   "outputs": [],
   "source": []
  },
  {
   "cell_type": "markdown",
   "id": "8f9b1610",
   "metadata": {},
   "source": [
    "# PART B. Diabetes <a class=\"anchor\" id=\"p3\"></a>\n",
    "[back to top](#top)"
   ]
  },
  {
   "cell_type": "code",
   "execution_count": 67,
   "id": "45adf12b",
   "metadata": {},
   "outputs": [],
   "source": [
    "dfb = pd.read_csv('../data/diabetes.csv')"
   ]
  },
  {
   "cell_type": "code",
   "execution_count": 68,
   "id": "6fc0673f",
   "metadata": {},
   "outputs": [
    {
     "data": {
      "text/html": [
       "<div>\n",
       "<style scoped>\n",
       "    .dataframe tbody tr th:only-of-type {\n",
       "        vertical-align: middle;\n",
       "    }\n",
       "\n",
       "    .dataframe tbody tr th {\n",
       "        vertical-align: top;\n",
       "    }\n",
       "\n",
       "    .dataframe thead th {\n",
       "        text-align: right;\n",
       "    }\n",
       "</style>\n",
       "<table border=\"1\" class=\"dataframe\">\n",
       "  <thead>\n",
       "    <tr style=\"text-align: right;\">\n",
       "      <th></th>\n",
       "      <th>Pregnancies</th>\n",
       "      <th>Glucose</th>\n",
       "      <th>BloodPressure</th>\n",
       "      <th>SkinThickness</th>\n",
       "      <th>Insulin</th>\n",
       "      <th>BMI</th>\n",
       "      <th>DiabetesPedigreeFunction</th>\n",
       "      <th>Age</th>\n",
       "      <th>Outcome</th>\n",
       "    </tr>\n",
       "  </thead>\n",
       "  <tbody>\n",
       "    <tr>\n",
       "      <th>0</th>\n",
       "      <td>6</td>\n",
       "      <td>148</td>\n",
       "      <td>72</td>\n",
       "      <td>35</td>\n",
       "      <td>0</td>\n",
       "      <td>33.6</td>\n",
       "      <td>0.627</td>\n",
       "      <td>50</td>\n",
       "      <td>1</td>\n",
       "    </tr>\n",
       "    <tr>\n",
       "      <th>1</th>\n",
       "      <td>1</td>\n",
       "      <td>85</td>\n",
       "      <td>66</td>\n",
       "      <td>29</td>\n",
       "      <td>0</td>\n",
       "      <td>26.6</td>\n",
       "      <td>0.351</td>\n",
       "      <td>31</td>\n",
       "      <td>0</td>\n",
       "    </tr>\n",
       "    <tr>\n",
       "      <th>2</th>\n",
       "      <td>8</td>\n",
       "      <td>183</td>\n",
       "      <td>64</td>\n",
       "      <td>0</td>\n",
       "      <td>0</td>\n",
       "      <td>23.3</td>\n",
       "      <td>0.672</td>\n",
       "      <td>32</td>\n",
       "      <td>1</td>\n",
       "    </tr>\n",
       "    <tr>\n",
       "      <th>3</th>\n",
       "      <td>1</td>\n",
       "      <td>89</td>\n",
       "      <td>66</td>\n",
       "      <td>23</td>\n",
       "      <td>94</td>\n",
       "      <td>28.1</td>\n",
       "      <td>0.167</td>\n",
       "      <td>21</td>\n",
       "      <td>0</td>\n",
       "    </tr>\n",
       "    <tr>\n",
       "      <th>4</th>\n",
       "      <td>0</td>\n",
       "      <td>137</td>\n",
       "      <td>40</td>\n",
       "      <td>35</td>\n",
       "      <td>168</td>\n",
       "      <td>43.1</td>\n",
       "      <td>2.288</td>\n",
       "      <td>33</td>\n",
       "      <td>1</td>\n",
       "    </tr>\n",
       "  </tbody>\n",
       "</table>\n",
       "</div>"
      ],
      "text/plain": [
       "   Pregnancies  Glucose  BloodPressure  SkinThickness  Insulin   BMI  \\\n",
       "0            6      148             72             35        0  33.6   \n",
       "1            1       85             66             29        0  26.6   \n",
       "2            8      183             64              0        0  23.3   \n",
       "3            1       89             66             23       94  28.1   \n",
       "4            0      137             40             35      168  43.1   \n",
       "\n",
       "   DiabetesPedigreeFunction  Age  Outcome  \n",
       "0                     0.627   50        1  \n",
       "1                     0.351   31        0  \n",
       "2                     0.672   32        1  \n",
       "3                     0.167   21        0  \n",
       "4                     2.288   33        1  "
      ]
     },
     "execution_count": 68,
     "metadata": {},
     "output_type": "execute_result"
    }
   ],
   "source": [
    "dfb.head()"
   ]
  },
  {
   "cell_type": "code",
   "execution_count": 69,
   "id": "0d2f543d",
   "metadata": {},
   "outputs": [
    {
     "data": {
      "text/plain": [
       "(768, 9)"
      ]
     },
     "execution_count": 69,
     "metadata": {},
     "output_type": "execute_result"
    }
   ],
   "source": [
    "dfb.shape"
   ]
  },
  {
   "cell_type": "code",
   "execution_count": null,
   "id": "181c8f1d",
   "metadata": {},
   "outputs": [],
   "source": []
  },
  {
   "cell_type": "code",
   "execution_count": 70,
   "id": "1bbfebec",
   "metadata": {},
   "outputs": [],
   "source": [
    "y = dfb['Outcome']\n",
    "X = dfb.drop(['Outcome'], axis=1)"
   ]
  },
  {
   "cell_type": "code",
   "execution_count": 71,
   "id": "62b9c6ed",
   "metadata": {},
   "outputs": [],
   "source": [
    "X_train, X_test, y_train, y_test = train_test_split(X, y, test_size=0.30, random_state=2001)"
   ]
  },
  {
   "cell_type": "code",
   "execution_count": null,
   "id": "59033c13",
   "metadata": {},
   "outputs": [],
   "source": []
  },
  {
   "cell_type": "markdown",
   "id": "39746c63",
   "metadata": {},
   "source": [
    "### Decision Tree"
   ]
  },
  {
   "cell_type": "code",
   "execution_count": 72,
   "id": "4f7c6b22",
   "metadata": {},
   "outputs": [],
   "source": [
    "# Create a Decision Tree using entropy as attribute selection\n",
    "DT_clf = tree.DecisionTreeClassifier(criterion = 'entropy')"
   ]
  },
  {
   "cell_type": "code",
   "execution_count": 73,
   "id": "4b70a02b",
   "metadata": {},
   "outputs": [],
   "source": [
    "#Training the tree\n",
    "DT_clf = DT_clf.fit(X_train, y_train)"
   ]
  },
  {
   "cell_type": "code",
   "execution_count": 74,
   "id": "3903e3c5",
   "metadata": {},
   "outputs": [],
   "source": [
    "y_pred = DT_clf.predict(X_test)"
   ]
  },
  {
   "cell_type": "code",
   "execution_count": 75,
   "id": "2e468349",
   "metadata": {},
   "outputs": [
    {
     "name": "stdout",
     "output_type": "stream",
     "text": [
      "Decision Tree Accuracy: 0.70995670995671\n"
     ]
    }
   ],
   "source": [
    "print('Decision Tree Accuracy:', sum(y_pred == y_test)/len(y_pred))"
   ]
  },
  {
   "cell_type": "code",
   "execution_count": 76,
   "id": "ec1833ff",
   "metadata": {},
   "outputs": [
    {
     "data": {
      "text/plain": [
       "array([[127,  28],\n",
       "       [ 39,  37]])"
      ]
     },
     "execution_count": 76,
     "metadata": {},
     "output_type": "execute_result"
    }
   ],
   "source": [
    "c_mat = confusion_matrix(y_test, y_pred)\n",
    "c_mat"
   ]
  },
  {
   "cell_type": "code",
   "execution_count": 77,
   "id": "2ad064c7",
   "metadata": {},
   "outputs": [
    {
     "name": "stdout",
     "output_type": "stream",
     "text": [
      "DT F1 Score: 0.524822695035461\n",
      "DT Precision: 0.7650602409638554\n",
      "DT Recall: 0.8193548387096774\n"
     ]
    }
   ],
   "source": [
    "F1_score = f1_score(y_test, y_pred)\n",
    "precision = c_mat[0,0] / (c_mat[0,0]+c_mat[1,0])\n",
    "recall = c_mat[0,0] / (c_mat[0,0]+c_mat[0,1])\n",
    "\n",
    "print('DT F1 Score:', F1_score)\n",
    "print('DT Precision:', precision)\n",
    "print('DT Recall:', recall)"
   ]
  },
  {
   "cell_type": "code",
   "execution_count": null,
   "id": "41f55e92",
   "metadata": {},
   "outputs": [],
   "source": []
  },
  {
   "cell_type": "markdown",
   "id": "469fc600",
   "metadata": {},
   "source": [
    "### Logistic Regression"
   ]
  },
  {
   "cell_type": "code",
   "execution_count": 78,
   "id": "cb0c1eea",
   "metadata": {},
   "outputs": [
    {
     "name": "stderr",
     "output_type": "stream",
     "text": [
      "/opt/anaconda3/lib/python3.9/site-packages/sklearn/linear_model/_logistic.py:814: ConvergenceWarning: lbfgs failed to converge (status=1):\n",
      "STOP: TOTAL NO. of ITERATIONS REACHED LIMIT.\n",
      "\n",
      "Increase the number of iterations (max_iter) or scale the data as shown in:\n",
      "    https://scikit-learn.org/stable/modules/preprocessing.html\n",
      "Please also refer to the documentation for alternative solver options:\n",
      "    https://scikit-learn.org/stable/modules/linear_model.html#logistic-regression\n",
      "  n_iter_i = _check_optimize_result(\n"
     ]
    }
   ],
   "source": [
    "LR_clf = LogisticRegression(random_state=0).fit(X_train, y_train)"
   ]
  },
  {
   "cell_type": "code",
   "execution_count": 79,
   "id": "a6d86843",
   "metadata": {},
   "outputs": [],
   "source": [
    "y_pred = LR_clf.predict(X_test)"
   ]
  },
  {
   "cell_type": "code",
   "execution_count": 80,
   "id": "1b74efdc",
   "metadata": {},
   "outputs": [
    {
     "name": "stdout",
     "output_type": "stream",
     "text": [
      "Logistic Reg. Accuracy: 0.7835497835497836\n"
     ]
    }
   ],
   "source": [
    "print('Logistic Reg. Accuracy:', sum(y_pred == y_test)/len(y_pred))"
   ]
  },
  {
   "cell_type": "code",
   "execution_count": 81,
   "id": "106362cc",
   "metadata": {},
   "outputs": [
    {
     "data": {
      "text/plain": [
       "array([[145,  10],\n",
       "       [ 40,  36]])"
      ]
     },
     "execution_count": 81,
     "metadata": {},
     "output_type": "execute_result"
    }
   ],
   "source": [
    "c_mat = confusion_matrix(y_test, y_pred)\n",
    "c_mat"
   ]
  },
  {
   "cell_type": "code",
   "execution_count": 83,
   "id": "b460806f",
   "metadata": {},
   "outputs": [
    {
     "name": "stdout",
     "output_type": "stream",
     "text": [
      "LR F1 Score: 0.5901639344262294\n",
      "LR Precision: 0.7837837837837838\n",
      "LR Recall: 0.9354838709677419\n"
     ]
    }
   ],
   "source": [
    "F1_score = f1_score(y_test, y_pred)\n",
    "precision = c_mat[0,0] / (c_mat[0,0]+c_mat[1,0])\n",
    "recall = c_mat[0,0] / (c_mat[0,0]+c_mat[0,1])\n",
    "\n",
    "print('LR F1 Score:', F1_score)\n",
    "print('LR Precision:', precision)\n",
    "print('LR Recall:', recall)"
   ]
  },
  {
   "cell_type": "code",
   "execution_count": null,
   "id": "08e69dc3",
   "metadata": {},
   "outputs": [],
   "source": []
  },
  {
   "cell_type": "code",
   "execution_count": null,
   "id": "ef1f0803",
   "metadata": {},
   "outputs": [],
   "source": []
  },
  {
   "cell_type": "markdown",
   "id": "9515ab0a",
   "metadata": {},
   "source": [
    "### KNN"
   ]
  },
  {
   "cell_type": "code",
   "execution_count": 84,
   "id": "32e98120",
   "metadata": {},
   "outputs": [
    {
     "data": {
      "text/plain": [
       "KNeighborsClassifier()"
      ]
     },
     "execution_count": 84,
     "metadata": {},
     "output_type": "execute_result"
    }
   ],
   "source": [
    "neigh = KNeighborsClassifier(n_neighbors=5)\n",
    "neigh.fit(X_train, y_train)"
   ]
  },
  {
   "cell_type": "code",
   "execution_count": 85,
   "id": "dfd1ea88",
   "metadata": {},
   "outputs": [],
   "source": [
    "predictions = neigh.predict(X_test)"
   ]
  },
  {
   "cell_type": "code",
   "execution_count": 86,
   "id": "5b8e2f35",
   "metadata": {},
   "outputs": [
    {
     "name": "stdout",
     "output_type": "stream",
     "text": [
      "KNN accuracy: 0.7186147186147186\n"
     ]
    }
   ],
   "source": [
    "#print(predictions)\n",
    "acc = np.sum(predictions == y_test) / len(y_test)\n",
    "print('KNN accuracy:', acc)"
   ]
  },
  {
   "cell_type": "code",
   "execution_count": 87,
   "id": "6b9f744d",
   "metadata": {},
   "outputs": [
    {
     "data": {
      "text/plain": [
       "array([[133,  22],\n",
       "       [ 43,  33]])"
      ]
     },
     "execution_count": 87,
     "metadata": {},
     "output_type": "execute_result"
    }
   ],
   "source": [
    "c_mat = confusion_matrix(y_test, predictions)\n",
    "c_mat"
   ]
  },
  {
   "cell_type": "code",
   "execution_count": 88,
   "id": "756f0f4e",
   "metadata": {},
   "outputs": [
    {
     "name": "stdout",
     "output_type": "stream",
     "text": [
      "KNN F1 Score: 0.5901639344262294\n",
      "KNN Precision: 0.7556818181818182\n",
      "KNN Recall: 0.8580645161290322\n"
     ]
    }
   ],
   "source": [
    "F1_score = f1_score(y_test, y_pred)\n",
    "precision = c_mat[0,0] / (c_mat[0,0]+c_mat[1,0])\n",
    "recall = c_mat[0,0] / (c_mat[0,0]+c_mat[0,1])\n",
    "\n",
    "print('KNN F1 Score:', F1_score)\n",
    "print('KNN Precision:', precision)\n",
    "print('KNN Recall:', recall)"
   ]
  },
  {
   "cell_type": "code",
   "execution_count": null,
   "id": "fe9a6029",
   "metadata": {},
   "outputs": [],
   "source": []
  },
  {
   "cell_type": "code",
   "execution_count": null,
   "id": "83db4a23",
   "metadata": {},
   "outputs": [],
   "source": []
  },
  {
   "cell_type": "markdown",
   "id": "7785fcf9",
   "metadata": {},
   "source": [
    "### SVM"
   ]
  },
  {
   "cell_type": "code",
   "execution_count": 89,
   "id": "51ef7e3c",
   "metadata": {},
   "outputs": [],
   "source": [
    "svm_clf = svm.SVC(kernel='linear').fit(X_train,y_train)"
   ]
  },
  {
   "cell_type": "code",
   "execution_count": 90,
   "id": "394551db",
   "metadata": {},
   "outputs": [],
   "source": [
    "predictions = svm_clf.predict(X_test)"
   ]
  },
  {
   "cell_type": "code",
   "execution_count": 91,
   "id": "752e1eec",
   "metadata": {},
   "outputs": [
    {
     "name": "stdout",
     "output_type": "stream",
     "text": [
      "SVM accuracy: 0.7878787878787878\n"
     ]
    }
   ],
   "source": [
    "acc = np.sum(predictions == y_test) / len(y_test)\n",
    "print('SVM accuracy:', acc)"
   ]
  },
  {
   "cell_type": "code",
   "execution_count": 92,
   "id": "3139c43b",
   "metadata": {},
   "outputs": [
    {
     "data": {
      "text/plain": [
       "array([[146,   9],\n",
       "       [ 40,  36]])"
      ]
     },
     "execution_count": 92,
     "metadata": {},
     "output_type": "execute_result"
    }
   ],
   "source": [
    "c_mat = confusion_matrix(y_test, predictions)\n",
    "c_mat"
   ]
  },
  {
   "cell_type": "code",
   "execution_count": 93,
   "id": "9d59c8c7",
   "metadata": {},
   "outputs": [
    {
     "name": "stdout",
     "output_type": "stream",
     "text": [
      "SVM F1 Score: 0.5950413223140496\n",
      "SVM Precision: 0.7849462365591398\n",
      "SVM Recall: 0.9419354838709677\n"
     ]
    }
   ],
   "source": [
    "F1_score = f1_score(y_test, predictions)\n",
    "precision = c_mat[0,0] / (c_mat[0,0]+c_mat[1,0])\n",
    "recall = c_mat[0,0] / (c_mat[0,0]+c_mat[0,1])\n",
    "\n",
    "print('SVM F1 Score:', F1_score)\n",
    "print('SVM Precision:', precision)\n",
    "print('SVM Recall:', recall)"
   ]
  },
  {
   "cell_type": "code",
   "execution_count": null,
   "id": "6c9b848b",
   "metadata": {},
   "outputs": [],
   "source": []
  },
  {
   "cell_type": "markdown",
   "id": "d2be3454",
   "metadata": {},
   "source": [
    "### Comparison\n",
    "We can see above that the model with the largest accuracy, as well as the strongest F1 score, is the SVM. Because it is very important for someone to know whether or not they have Diabetes, for this problem, we would prefer the model with the smallest false negative rate. In other words, we prefer the model with the largest Recall in this conext. Thus, this leads us to choose the SVM as the most appropriate model in this context, as it has the largest recall (and the smallest false negative rate) out of any of the models: 0.942.\n",
    "\n",
    "With this relatively small data set, all of the models were able to train and make predictions in reasonable amounts of time. "
   ]
  },
  {
   "cell_type": "code",
   "execution_count": null,
   "id": "5d0f56f5",
   "metadata": {},
   "outputs": [],
   "source": []
  },
  {
   "cell_type": "code",
   "execution_count": null,
   "id": "d2a4547d",
   "metadata": {},
   "outputs": [],
   "source": []
  },
  {
   "cell_type": "code",
   "execution_count": null,
   "id": "9aac9fd6",
   "metadata": {},
   "outputs": [],
   "source": []
  },
  {
   "cell_type": "code",
   "execution_count": null,
   "id": "eb72287c",
   "metadata": {},
   "outputs": [],
   "source": []
  },
  {
   "cell_type": "code",
   "execution_count": null,
   "id": "5a207665",
   "metadata": {},
   "outputs": [],
   "source": []
  },
  {
   "cell_type": "code",
   "execution_count": null,
   "id": "d8907625",
   "metadata": {},
   "outputs": [],
   "source": []
  },
  {
   "cell_type": "code",
   "execution_count": null,
   "id": "e2291ebb",
   "metadata": {},
   "outputs": [],
   "source": []
  },
  {
   "cell_type": "code",
   "execution_count": null,
   "id": "696b9feb",
   "metadata": {},
   "outputs": [],
   "source": []
  },
  {
   "cell_type": "code",
   "execution_count": null,
   "id": "43080859",
   "metadata": {},
   "outputs": [],
   "source": []
  },
  {
   "cell_type": "code",
   "execution_count": null,
   "id": "faadc40b",
   "metadata": {},
   "outputs": [],
   "source": []
  }
 ],
 "metadata": {
  "kernelspec": {
   "display_name": "Python 3 (ipykernel)",
   "language": "python",
   "name": "python3"
  },
  "language_info": {
   "codemirror_mode": {
    "name": "ipython",
    "version": 3
   },
   "file_extension": ".py",
   "mimetype": "text/x-python",
   "name": "python",
   "nbconvert_exporter": "python",
   "pygments_lexer": "ipython3",
   "version": "3.9.12"
  }
 },
 "nbformat": 4,
 "nbformat_minor": 5
}
