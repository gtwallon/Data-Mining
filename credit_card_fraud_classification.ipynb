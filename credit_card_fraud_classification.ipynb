{
 "cells": [
  {
   "cell_type": "markdown",
   "id": "8de6a3a9",
   "metadata": {},
   "source": [
    "# Credit Card Fraud Classification\n",
    "This data comes from Kaggle. It is simulated data. [link to dataset](https://www.kaggle.com/datasets/kelvinkelue/credit-card-fraud-prediction)"
   ]
  },
  {
   "cell_type": "code",
   "execution_count": 1,
   "id": "93f2e79d-f989-4250-a94d-5b38297f17be",
   "metadata": {},
   "outputs": [],
   "source": [
    "import pandas as pd\n",
    "import numpy as np\n",
    "import matplotlib.pyplot as plt\n",
    "from datetime import datetime, date "
   ]
  },
  {
   "cell_type": "code",
   "execution_count": 2,
   "id": "ac5965e7-9492-4d64-ace0-d9fc79e8acf5",
   "metadata": {},
   "outputs": [],
   "source": [
    "df = pd.read_csv('../../data/fraud_credit_card.csv')"
   ]
  },
  {
   "cell_type": "code",
   "execution_count": null,
   "id": "7f7faa68-7965-4aad-8406-3cdb63a3a8cc",
   "metadata": {},
   "outputs": [],
   "source": []
  },
  {
   "cell_type": "markdown",
   "id": "c6595f90",
   "metadata": {},
   "source": [
    "## Feature Engineering \n",
    "Run the following code chunks in order, all only once"
   ]
  },
  {
   "cell_type": "code",
   "execution_count": 5,
   "id": "028bfc78",
   "metadata": {},
   "outputs": [
    {
     "data": {
      "text/html": [
       "<div>\n",
       "<style scoped>\n",
       "    .dataframe tbody tr th:only-of-type {\n",
       "        vertical-align: middle;\n",
       "    }\n",
       "\n",
       "    .dataframe tbody tr th {\n",
       "        vertical-align: top;\n",
       "    }\n",
       "\n",
       "    .dataframe thead th {\n",
       "        text-align: right;\n",
       "    }\n",
       "</style>\n",
       "<table border=\"1\" class=\"dataframe\">\n",
       "  <thead>\n",
       "    <tr style=\"text-align: right;\">\n",
       "      <th></th>\n",
       "      <th>Unnamed: 0</th>\n",
       "      <th>trans_date_trans_time</th>\n",
       "      <th>cc_num</th>\n",
       "      <th>merchant</th>\n",
       "      <th>category</th>\n",
       "      <th>amt</th>\n",
       "      <th>first</th>\n",
       "      <th>last</th>\n",
       "      <th>gender</th>\n",
       "      <th>street</th>\n",
       "      <th>city</th>\n",
       "      <th>state</th>\n",
       "      <th>zip</th>\n",
       "      <th>lat</th>\n",
       "      <th>long</th>\n",
       "      <th>city_pop</th>\n",
       "      <th>job</th>\n",
       "      <th>dob</th>\n",
       "      <th>trans_num</th>\n",
       "      <th>unix_time</th>\n",
       "      <th>merch_lat</th>\n",
       "      <th>merch_long</th>\n",
       "      <th>is_fraud</th>\n",
       "    </tr>\n",
       "  </thead>\n",
       "  <tbody>\n",
       "    <tr>\n",
       "      <th>0</th>\n",
       "      <td>0</td>\n",
       "      <td>21/06/2020 12:14</td>\n",
       "      <td>2.291160e+15</td>\n",
       "      <td>fraud_Kirlin and Sons</td>\n",
       "      <td>personal_care</td>\n",
       "      <td>2.86</td>\n",
       "      <td>Jeff</td>\n",
       "      <td>Elliott</td>\n",
       "      <td>M</td>\n",
       "      <td>351 Darlene Green</td>\n",
       "      <td>Columbia</td>\n",
       "      <td>SC</td>\n",
       "      <td>29209</td>\n",
       "      <td>33.9659</td>\n",
       "      <td>-80.9355</td>\n",
       "      <td>333497</td>\n",
       "      <td>Mechanical engineer</td>\n",
       "      <td>19/03/1968</td>\n",
       "      <td>2da90c7d74bd46a0caf3777415b3ebd3</td>\n",
       "      <td>1371816865</td>\n",
       "      <td>33.986391</td>\n",
       "      <td>-81.200714</td>\n",
       "      <td>0</td>\n",
       "    </tr>\n",
       "    <tr>\n",
       "      <th>1</th>\n",
       "      <td>1</td>\n",
       "      <td>21/06/2020 12:14</td>\n",
       "      <td>3.573030e+15</td>\n",
       "      <td>fraud_Sporer-Keebler</td>\n",
       "      <td>personal_care</td>\n",
       "      <td>29.84</td>\n",
       "      <td>Joanne</td>\n",
       "      <td>Williams</td>\n",
       "      <td>F</td>\n",
       "      <td>3638 Marsh Union</td>\n",
       "      <td>Altonah</td>\n",
       "      <td>UT</td>\n",
       "      <td>84002</td>\n",
       "      <td>40.3207</td>\n",
       "      <td>-110.4360</td>\n",
       "      <td>302</td>\n",
       "      <td>Sales professional, IT</td>\n",
       "      <td>17/01/1990</td>\n",
       "      <td>324cc204407e99f51b0d6ca0055005e7</td>\n",
       "      <td>1371816873</td>\n",
       "      <td>39.450498</td>\n",
       "      <td>-109.960431</td>\n",
       "      <td>0</td>\n",
       "    </tr>\n",
       "    <tr>\n",
       "      <th>2</th>\n",
       "      <td>2</td>\n",
       "      <td>21/06/2020 12:14</td>\n",
       "      <td>3.598220e+15</td>\n",
       "      <td>fraud_Swaniawski, Nitzsche and Welch</td>\n",
       "      <td>health_fitness</td>\n",
       "      <td>41.28</td>\n",
       "      <td>Ashley</td>\n",
       "      <td>Lopez</td>\n",
       "      <td>F</td>\n",
       "      <td>9333 Valentine Point</td>\n",
       "      <td>Bellmore</td>\n",
       "      <td>NY</td>\n",
       "      <td>11710</td>\n",
       "      <td>40.6729</td>\n",
       "      <td>-73.5365</td>\n",
       "      <td>34496</td>\n",
       "      <td>Librarian, public</td>\n",
       "      <td>21/10/1970</td>\n",
       "      <td>c81755dbbbea9d5c77f094348a7579be</td>\n",
       "      <td>1371816893</td>\n",
       "      <td>40.495810</td>\n",
       "      <td>-74.196111</td>\n",
       "      <td>0</td>\n",
       "    </tr>\n",
       "    <tr>\n",
       "      <th>3</th>\n",
       "      <td>3</td>\n",
       "      <td>21/06/2020 12:15</td>\n",
       "      <td>3.591920e+15</td>\n",
       "      <td>fraud_Haley Group</td>\n",
       "      <td>misc_pos</td>\n",
       "      <td>60.05</td>\n",
       "      <td>Brian</td>\n",
       "      <td>Williams</td>\n",
       "      <td>M</td>\n",
       "      <td>32941 Krystal Mill Apt. 552</td>\n",
       "      <td>Titusville</td>\n",
       "      <td>FL</td>\n",
       "      <td>32780</td>\n",
       "      <td>28.5697</td>\n",
       "      <td>-80.8191</td>\n",
       "      <td>54767</td>\n",
       "      <td>Set designer</td>\n",
       "      <td>25/07/1987</td>\n",
       "      <td>2159175b9efe66dc301f149d3d5abf8c</td>\n",
       "      <td>1371816915</td>\n",
       "      <td>28.812398</td>\n",
       "      <td>-80.883061</td>\n",
       "      <td>0</td>\n",
       "    </tr>\n",
       "    <tr>\n",
       "      <th>4</th>\n",
       "      <td>4</td>\n",
       "      <td>21/06/2020 12:15</td>\n",
       "      <td>3.526830e+15</td>\n",
       "      <td>fraud_Johnston-Casper</td>\n",
       "      <td>travel</td>\n",
       "      <td>3.19</td>\n",
       "      <td>Nathan</td>\n",
       "      <td>Massey</td>\n",
       "      <td>M</td>\n",
       "      <td>5783 Evan Roads Apt. 465</td>\n",
       "      <td>Falmouth</td>\n",
       "      <td>MI</td>\n",
       "      <td>49632</td>\n",
       "      <td>44.2529</td>\n",
       "      <td>-85.0170</td>\n",
       "      <td>1126</td>\n",
       "      <td>Furniture designer</td>\n",
       "      <td>06/07/1955</td>\n",
       "      <td>57ff021bd3f328f8738bb535c302a31b</td>\n",
       "      <td>1371816917</td>\n",
       "      <td>44.959148</td>\n",
       "      <td>-85.884734</td>\n",
       "      <td>0</td>\n",
       "    </tr>\n",
       "  </tbody>\n",
       "</table>\n",
       "</div>"
      ],
      "text/plain": [
       "   Unnamed: 0 trans_date_trans_time        cc_num  \\\n",
       "0           0      21/06/2020 12:14  2.291160e+15   \n",
       "1           1      21/06/2020 12:14  3.573030e+15   \n",
       "2           2      21/06/2020 12:14  3.598220e+15   \n",
       "3           3      21/06/2020 12:15  3.591920e+15   \n",
       "4           4      21/06/2020 12:15  3.526830e+15   \n",
       "\n",
       "                               merchant        category    amt   first  \\\n",
       "0                 fraud_Kirlin and Sons   personal_care   2.86    Jeff   \n",
       "1                  fraud_Sporer-Keebler   personal_care  29.84  Joanne   \n",
       "2  fraud_Swaniawski, Nitzsche and Welch  health_fitness  41.28  Ashley   \n",
       "3                     fraud_Haley Group        misc_pos  60.05   Brian   \n",
       "4                 fraud_Johnston-Casper          travel   3.19  Nathan   \n",
       "\n",
       "       last gender                       street        city state    zip  \\\n",
       "0   Elliott      M            351 Darlene Green    Columbia    SC  29209   \n",
       "1  Williams      F             3638 Marsh Union     Altonah    UT  84002   \n",
       "2     Lopez      F         9333 Valentine Point    Bellmore    NY  11710   \n",
       "3  Williams      M  32941 Krystal Mill Apt. 552  Titusville    FL  32780   \n",
       "4    Massey      M     5783 Evan Roads Apt. 465    Falmouth    MI  49632   \n",
       "\n",
       "       lat      long  city_pop                     job         dob  \\\n",
       "0  33.9659  -80.9355    333497     Mechanical engineer  19/03/1968   \n",
       "1  40.3207 -110.4360       302  Sales professional, IT  17/01/1990   \n",
       "2  40.6729  -73.5365     34496       Librarian, public  21/10/1970   \n",
       "3  28.5697  -80.8191     54767            Set designer  25/07/1987   \n",
       "4  44.2529  -85.0170      1126      Furniture designer  06/07/1955   \n",
       "\n",
       "                          trans_num   unix_time  merch_lat  merch_long  \\\n",
       "0  2da90c7d74bd46a0caf3777415b3ebd3  1371816865  33.986391  -81.200714   \n",
       "1  324cc204407e99f51b0d6ca0055005e7  1371816873  39.450498 -109.960431   \n",
       "2  c81755dbbbea9d5c77f094348a7579be  1371816893  40.495810  -74.196111   \n",
       "3  2159175b9efe66dc301f149d3d5abf8c  1371816915  28.812398  -80.883061   \n",
       "4  57ff021bd3f328f8738bb535c302a31b  1371816917  44.959148  -85.884734   \n",
       "\n",
       "   is_fraud  \n",
       "0         0  \n",
       "1         0  \n",
       "2         0  \n",
       "3         0  \n",
       "4         0  "
      ]
     },
     "execution_count": 5,
     "metadata": {},
     "output_type": "execute_result"
    }
   ],
   "source": [
    "pd.set_option('display.max_columns', None)\n",
    "df.head()"
   ]
  },
  {
   "cell_type": "code",
   "execution_count": 6,
   "id": "238cbbc4-b315-47f5-bedb-c74795df15c6",
   "metadata": {},
   "outputs": [
    {
     "data": {
      "text/plain": [
       "(555719, 23)"
      ]
     },
     "execution_count": 6,
     "metadata": {},
     "output_type": "execute_result"
    }
   ],
   "source": [
    "df.shape"
   ]
  },
  {
   "cell_type": "code",
   "execution_count": 7,
   "id": "5222cb52-86b1-4596-97b6-1c1b7bbb797e",
   "metadata": {},
   "outputs": [
    {
     "data": {
      "text/plain": [
       "2145"
      ]
     },
     "execution_count": 7,
     "metadata": {},
     "output_type": "execute_result"
    }
   ],
   "source": [
    "df.is_fraud.sum()"
   ]
  },
  {
   "cell_type": "code",
   "execution_count": 8,
   "id": "10ab427c-fab2-4d2c-af4d-0652e1288c33",
   "metadata": {},
   "outputs": [
    {
     "data": {
      "text/plain": [
       "99.61401355721146"
      ]
     },
     "execution_count": 8,
     "metadata": {},
     "output_type": "execute_result"
    }
   ],
   "source": [
    "# percent of transactions NOT fraudulent\n",
    "((555719-2145)/555719)*100"
   ]
  },
  {
   "cell_type": "code",
   "execution_count": 9,
   "id": "7117428a",
   "metadata": {},
   "outputs": [],
   "source": [
    "# drop unnecessary or redundant columns \n",
    "df = df.drop(columns=['Unnamed: 0', 'cc_num', 'first', 'last', 'trans_num', 'unix_time'])\n",
    "\n",
    "# customerID, customer name ('first', 'last'), and transaction number should not influence whether the transaction \n",
    "# was a fraud. the transaction timestamp in unix format, `unix_time`, holds the same information as \n",
    "# trans_date_trans_time, thus trans_date_trans_time is redundant. "
   ]
  },
  {
   "cell_type": "code",
   "execution_count": null,
   "id": "dcbb2280-2967-49c0-9fd4-b7614b18875b",
   "metadata": {},
   "outputs": [],
   "source": []
  },
  {
   "cell_type": "markdown",
   "id": "80220e7c-eb85-4f28-8d0d-2807ac39afb1",
   "metadata": {},
   "source": [
    "#### Clean merchant name column"
   ]
  },
  {
   "cell_type": "code",
   "execution_count": 12,
   "id": "e7ceadd7",
   "metadata": {},
   "outputs": [
    {
     "name": "stdout",
     "output_type": "stream",
     "text": [
      "val = 1\n"
     ]
    }
   ],
   "source": [
    "# determine that 'fraud' precedes the merchant name for every record, and remove \n",
    "val = 1\n",
    "for m in df.merchant:\n",
    "    if m[:5] != 'fraud':\n",
    "        val *= 0\n",
    "print('val =', val)\n",
    "\n",
    "df['merchant'] = df['merchant'].apply(lambda x: x[6:])"
   ]
  },
  {
   "cell_type": "code",
   "execution_count": null,
   "id": "53f96b53-9055-4685-8ac6-0ed4b14585b0",
   "metadata": {},
   "outputs": [],
   "source": []
  },
  {
   "cell_type": "markdown",
   "id": "bd68c2f2-d7b7-495d-86f9-69c3c860252c",
   "metadata": {},
   "source": [
    "#### Encode gender variable"
   ]
  },
  {
   "cell_type": "code",
   "execution_count": 16,
   "id": "79d53369",
   "metadata": {},
   "outputs": [],
   "source": [
    "gender_map = {'F':0, 'M':1}\n",
    "df['gender'] = df['gender'].map(gender_map)\n",
    "df.rename(columns={'gender': 'is_male'}, inplace=True)"
   ]
  },
  {
   "cell_type": "code",
   "execution_count": 17,
   "id": "c9fddfb8-8387-473a-9bc3-3b8ef3f78283",
   "metadata": {},
   "outputs": [
    {
     "data": {
      "text/html": [
       "<div>\n",
       "<style scoped>\n",
       "    .dataframe tbody tr th:only-of-type {\n",
       "        vertical-align: middle;\n",
       "    }\n",
       "\n",
       "    .dataframe tbody tr th {\n",
       "        vertical-align: top;\n",
       "    }\n",
       "\n",
       "    .dataframe thead th {\n",
       "        text-align: right;\n",
       "    }\n",
       "</style>\n",
       "<table border=\"1\" class=\"dataframe\">\n",
       "  <thead>\n",
       "    <tr style=\"text-align: right;\">\n",
       "      <th></th>\n",
       "      <th>trans_date_trans_time</th>\n",
       "      <th>merchant</th>\n",
       "      <th>category</th>\n",
       "      <th>amt</th>\n",
       "      <th>is_male</th>\n",
       "      <th>street</th>\n",
       "      <th>city</th>\n",
       "      <th>state</th>\n",
       "      <th>zip</th>\n",
       "      <th>lat</th>\n",
       "      <th>long</th>\n",
       "      <th>city_pop</th>\n",
       "      <th>job</th>\n",
       "      <th>dob</th>\n",
       "      <th>merch_lat</th>\n",
       "      <th>merch_long</th>\n",
       "      <th>is_fraud</th>\n",
       "    </tr>\n",
       "  </thead>\n",
       "  <tbody>\n",
       "    <tr>\n",
       "      <th>0</th>\n",
       "      <td>21/06/2020 12:14</td>\n",
       "      <td>Kirlin and Sons</td>\n",
       "      <td>personal_care</td>\n",
       "      <td>2.86</td>\n",
       "      <td>1</td>\n",
       "      <td>351 Darlene Green</td>\n",
       "      <td>Columbia</td>\n",
       "      <td>SC</td>\n",
       "      <td>29209</td>\n",
       "      <td>33.9659</td>\n",
       "      <td>-80.9355</td>\n",
       "      <td>333497</td>\n",
       "      <td>Mechanical engineer</td>\n",
       "      <td>19/03/1968</td>\n",
       "      <td>33.986391</td>\n",
       "      <td>-81.200714</td>\n",
       "      <td>0</td>\n",
       "    </tr>\n",
       "    <tr>\n",
       "      <th>1</th>\n",
       "      <td>21/06/2020 12:14</td>\n",
       "      <td>Sporer-Keebler</td>\n",
       "      <td>personal_care</td>\n",
       "      <td>29.84</td>\n",
       "      <td>0</td>\n",
       "      <td>3638 Marsh Union</td>\n",
       "      <td>Altonah</td>\n",
       "      <td>UT</td>\n",
       "      <td>84002</td>\n",
       "      <td>40.3207</td>\n",
       "      <td>-110.4360</td>\n",
       "      <td>302</td>\n",
       "      <td>Sales professional, IT</td>\n",
       "      <td>17/01/1990</td>\n",
       "      <td>39.450498</td>\n",
       "      <td>-109.960431</td>\n",
       "      <td>0</td>\n",
       "    </tr>\n",
       "  </tbody>\n",
       "</table>\n",
       "</div>"
      ],
      "text/plain": [
       "  trans_date_trans_time         merchant       category    amt  is_male  \\\n",
       "0      21/06/2020 12:14  Kirlin and Sons  personal_care   2.86        1   \n",
       "1      21/06/2020 12:14   Sporer-Keebler  personal_care  29.84        0   \n",
       "\n",
       "              street      city state    zip      lat      long  city_pop  \\\n",
       "0  351 Darlene Green  Columbia    SC  29209  33.9659  -80.9355    333497   \n",
       "1   3638 Marsh Union   Altonah    UT  84002  40.3207 -110.4360       302   \n",
       "\n",
       "                      job         dob  merch_lat  merch_long  is_fraud  \n",
       "0     Mechanical engineer  19/03/1968  33.986391  -81.200714         0  \n",
       "1  Sales professional, IT  17/01/1990  39.450498 -109.960431         0  "
      ]
     },
     "execution_count": 17,
     "metadata": {},
     "output_type": "execute_result"
    }
   ],
   "source": [
    "df.head(2)"
   ]
  },
  {
   "cell_type": "code",
   "execution_count": null,
   "id": "6ec65f72-02e6-4ef0-9d82-03455486a5aa",
   "metadata": {},
   "outputs": [],
   "source": []
  },
  {
   "cell_type": "code",
   "execution_count": null,
   "id": "c4d77bd5-8f78-4aeb-8ec0-f1dc2f4abe32",
   "metadata": {},
   "outputs": [],
   "source": []
  },
  {
   "cell_type": "code",
   "execution_count": null,
   "id": "2ea81cdb-120a-4b8c-b6a6-fd7e1889e4ea",
   "metadata": {},
   "outputs": [],
   "source": []
  },
  {
   "cell_type": "markdown",
   "id": "e83b33e8-7ff6-4896-af82-30cd78c6c461",
   "metadata": {},
   "source": [
    "#### Create Cardholder Age Column"
   ]
  },
  {
   "cell_type": "code",
   "execution_count": 22,
   "id": "b3981747-f2ed-40aa-8add-0b301909d8b6",
   "metadata": {},
   "outputs": [],
   "source": [
    "# create an age feature from 'dob' then drop 'dob'\n",
    "df['dob'] = pd.to_datetime(df['dob'], dayfirst=True)\n",
    "\n",
    "# all transactions were made in 2020\n",
    "df['cardholder_age'] = (2020 - df['dob'].dt.year)"
   ]
  },
  {
   "cell_type": "code",
   "execution_count": 23,
   "id": "b73754d7-d75e-4f90-930b-a7ba6f6e735c",
   "metadata": {},
   "outputs": [
    {
     "data": {
      "text/html": [
       "<div>\n",
       "<style scoped>\n",
       "    .dataframe tbody tr th:only-of-type {\n",
       "        vertical-align: middle;\n",
       "    }\n",
       "\n",
       "    .dataframe tbody tr th {\n",
       "        vertical-align: top;\n",
       "    }\n",
       "\n",
       "    .dataframe thead th {\n",
       "        text-align: right;\n",
       "    }\n",
       "</style>\n",
       "<table border=\"1\" class=\"dataframe\">\n",
       "  <thead>\n",
       "    <tr style=\"text-align: right;\">\n",
       "      <th></th>\n",
       "      <th>trans_date_trans_time</th>\n",
       "      <th>merchant</th>\n",
       "      <th>category</th>\n",
       "      <th>amt</th>\n",
       "      <th>is_male</th>\n",
       "      <th>street</th>\n",
       "      <th>city</th>\n",
       "      <th>state</th>\n",
       "      <th>zip</th>\n",
       "      <th>lat</th>\n",
       "      <th>long</th>\n",
       "      <th>city_pop</th>\n",
       "      <th>job</th>\n",
       "      <th>dob</th>\n",
       "      <th>merch_lat</th>\n",
       "      <th>merch_long</th>\n",
       "      <th>is_fraud</th>\n",
       "      <th>cardholder_age</th>\n",
       "    </tr>\n",
       "  </thead>\n",
       "  <tbody>\n",
       "    <tr>\n",
       "      <th>0</th>\n",
       "      <td>21/06/2020 12:14</td>\n",
       "      <td>Kirlin and Sons</td>\n",
       "      <td>personal_care</td>\n",
       "      <td>2.86</td>\n",
       "      <td>1</td>\n",
       "      <td>351 Darlene Green</td>\n",
       "      <td>Columbia</td>\n",
       "      <td>SC</td>\n",
       "      <td>29209</td>\n",
       "      <td>33.9659</td>\n",
       "      <td>-80.9355</td>\n",
       "      <td>333497</td>\n",
       "      <td>Mechanical engineer</td>\n",
       "      <td>1968-03-19</td>\n",
       "      <td>33.986391</td>\n",
       "      <td>-81.200714</td>\n",
       "      <td>0</td>\n",
       "      <td>52</td>\n",
       "    </tr>\n",
       "    <tr>\n",
       "      <th>1</th>\n",
       "      <td>21/06/2020 12:14</td>\n",
       "      <td>Sporer-Keebler</td>\n",
       "      <td>personal_care</td>\n",
       "      <td>29.84</td>\n",
       "      <td>0</td>\n",
       "      <td>3638 Marsh Union</td>\n",
       "      <td>Altonah</td>\n",
       "      <td>UT</td>\n",
       "      <td>84002</td>\n",
       "      <td>40.3207</td>\n",
       "      <td>-110.4360</td>\n",
       "      <td>302</td>\n",
       "      <td>Sales professional, IT</td>\n",
       "      <td>1990-01-17</td>\n",
       "      <td>39.450498</td>\n",
       "      <td>-109.960431</td>\n",
       "      <td>0</td>\n",
       "      <td>30</td>\n",
       "    </tr>\n",
       "  </tbody>\n",
       "</table>\n",
       "</div>"
      ],
      "text/plain": [
       "  trans_date_trans_time         merchant       category    amt  is_male  \\\n",
       "0      21/06/2020 12:14  Kirlin and Sons  personal_care   2.86        1   \n",
       "1      21/06/2020 12:14   Sporer-Keebler  personal_care  29.84        0   \n",
       "\n",
       "              street      city state    zip      lat      long  city_pop  \\\n",
       "0  351 Darlene Green  Columbia    SC  29209  33.9659  -80.9355    333497   \n",
       "1   3638 Marsh Union   Altonah    UT  84002  40.3207 -110.4360       302   \n",
       "\n",
       "                      job        dob  merch_lat  merch_long  is_fraud  \\\n",
       "0     Mechanical engineer 1968-03-19  33.986391  -81.200714         0   \n",
       "1  Sales professional, IT 1990-01-17  39.450498 -109.960431         0   \n",
       "\n",
       "   cardholder_age  \n",
       "0              52  \n",
       "1              30  "
      ]
     },
     "execution_count": 23,
     "metadata": {},
     "output_type": "execute_result"
    }
   ],
   "source": [
    "df.head(2)"
   ]
  },
  {
   "cell_type": "code",
   "execution_count": 24,
   "id": "96cfb2b5-b07c-436a-8df8-c8bf5706926e",
   "metadata": {},
   "outputs": [],
   "source": [
    "df = df.drop(['dob'], axis=1)"
   ]
  },
  {
   "cell_type": "code",
   "execution_count": null,
   "id": "fdec6692-735a-4f2e-863b-89360076336b",
   "metadata": {},
   "outputs": [],
   "source": []
  },
  {
   "cell_type": "markdown",
   "id": "c2350db9-aeee-4e39-8b58-a06af662bdd1",
   "metadata": {},
   "source": [
    "#### Date and Time"
   ]
  },
  {
   "cell_type": "code",
   "execution_count": 27,
   "id": "dcb5ab20-37f9-42b2-a7a9-cedb95842760",
   "metadata": {},
   "outputs": [],
   "source": [
    "# create distinct time and date features \n",
    "df['trans_date_trans_time'] = pd.to_datetime(df['trans_date_trans_time'], dayfirst=True)\n",
    "df['year'] = df['trans_date_trans_time'].dt.year\n",
    "df['month'] = df['trans_date_trans_time'].dt.month\n",
    "df['day'] = df['trans_date_trans_time'].dt.day\n",
    "df['time'] = df['trans_date_trans_time'].dt.time\n",
    "df['trans_dayOfWeek'] = df['trans_date_trans_time'].dt.day_name()"
   ]
  },
  {
   "cell_type": "code",
   "execution_count": 28,
   "id": "943c9be3-0d69-4974-9e60-187463d73917",
   "metadata": {},
   "outputs": [
    {
     "data": {
      "text/html": [
       "<div>\n",
       "<style scoped>\n",
       "    .dataframe tbody tr th:only-of-type {\n",
       "        vertical-align: middle;\n",
       "    }\n",
       "\n",
       "    .dataframe tbody tr th {\n",
       "        vertical-align: top;\n",
       "    }\n",
       "\n",
       "    .dataframe thead th {\n",
       "        text-align: right;\n",
       "    }\n",
       "</style>\n",
       "<table border=\"1\" class=\"dataframe\">\n",
       "  <thead>\n",
       "    <tr style=\"text-align: right;\">\n",
       "      <th></th>\n",
       "      <th>trans_date_trans_time</th>\n",
       "      <th>merchant</th>\n",
       "      <th>category</th>\n",
       "      <th>amt</th>\n",
       "      <th>is_male</th>\n",
       "      <th>street</th>\n",
       "      <th>city</th>\n",
       "      <th>state</th>\n",
       "      <th>zip</th>\n",
       "      <th>lat</th>\n",
       "      <th>long</th>\n",
       "      <th>city_pop</th>\n",
       "      <th>job</th>\n",
       "      <th>merch_lat</th>\n",
       "      <th>merch_long</th>\n",
       "      <th>is_fraud</th>\n",
       "      <th>cardholder_age</th>\n",
       "      <th>year</th>\n",
       "      <th>month</th>\n",
       "      <th>day</th>\n",
       "      <th>time</th>\n",
       "      <th>trans_dayOfWeek</th>\n",
       "    </tr>\n",
       "  </thead>\n",
       "  <tbody>\n",
       "    <tr>\n",
       "      <th>0</th>\n",
       "      <td>2020-06-21 12:14:00</td>\n",
       "      <td>Kirlin and Sons</td>\n",
       "      <td>personal_care</td>\n",
       "      <td>2.86</td>\n",
       "      <td>1</td>\n",
       "      <td>351 Darlene Green</td>\n",
       "      <td>Columbia</td>\n",
       "      <td>SC</td>\n",
       "      <td>29209</td>\n",
       "      <td>33.9659</td>\n",
       "      <td>-80.9355</td>\n",
       "      <td>333497</td>\n",
       "      <td>Mechanical engineer</td>\n",
       "      <td>33.986391</td>\n",
       "      <td>-81.200714</td>\n",
       "      <td>0</td>\n",
       "      <td>52</td>\n",
       "      <td>2020</td>\n",
       "      <td>6</td>\n",
       "      <td>21</td>\n",
       "      <td>12:14:00</td>\n",
       "      <td>Sunday</td>\n",
       "    </tr>\n",
       "    <tr>\n",
       "      <th>1</th>\n",
       "      <td>2020-06-21 12:14:00</td>\n",
       "      <td>Sporer-Keebler</td>\n",
       "      <td>personal_care</td>\n",
       "      <td>29.84</td>\n",
       "      <td>0</td>\n",
       "      <td>3638 Marsh Union</td>\n",
       "      <td>Altonah</td>\n",
       "      <td>UT</td>\n",
       "      <td>84002</td>\n",
       "      <td>40.3207</td>\n",
       "      <td>-110.4360</td>\n",
       "      <td>302</td>\n",
       "      <td>Sales professional, IT</td>\n",
       "      <td>39.450498</td>\n",
       "      <td>-109.960431</td>\n",
       "      <td>0</td>\n",
       "      <td>30</td>\n",
       "      <td>2020</td>\n",
       "      <td>6</td>\n",
       "      <td>21</td>\n",
       "      <td>12:14:00</td>\n",
       "      <td>Sunday</td>\n",
       "    </tr>\n",
       "  </tbody>\n",
       "</table>\n",
       "</div>"
      ],
      "text/plain": [
       "  trans_date_trans_time         merchant       category    amt  is_male  \\\n",
       "0   2020-06-21 12:14:00  Kirlin and Sons  personal_care   2.86        1   \n",
       "1   2020-06-21 12:14:00   Sporer-Keebler  personal_care  29.84        0   \n",
       "\n",
       "              street      city state    zip      lat      long  city_pop  \\\n",
       "0  351 Darlene Green  Columbia    SC  29209  33.9659  -80.9355    333497   \n",
       "1   3638 Marsh Union   Altonah    UT  84002  40.3207 -110.4360       302   \n",
       "\n",
       "                      job  merch_lat  merch_long  is_fraud  cardholder_age  \\\n",
       "0     Mechanical engineer  33.986391  -81.200714         0              52   \n",
       "1  Sales professional, IT  39.450498 -109.960431         0              30   \n",
       "\n",
       "   year  month  day      time trans_dayOfWeek  \n",
       "0  2020      6   21  12:14:00          Sunday  \n",
       "1  2020      6   21  12:14:00          Sunday  "
      ]
     },
     "execution_count": 28,
     "metadata": {},
     "output_type": "execute_result"
    }
   ],
   "source": [
    "df.head(2)"
   ]
  },
  {
   "cell_type": "code",
   "execution_count": 29,
   "id": "bda7a074-0b64-4e41-b962-5318c002ee7b",
   "metadata": {},
   "outputs": [],
   "source": [
    "df = df.drop(['trans_date_trans_time'], axis=1)"
   ]
  },
  {
   "cell_type": "code",
   "execution_count": 30,
   "id": "04f34833",
   "metadata": {},
   "outputs": [],
   "source": [
    "# round time feature to hour of the day then replace\n",
    "\n",
    "# helper function\n",
    "def hour_round(dt):\n",
    "    h = dt.hour\n",
    "    m = dt.minute\n",
    "    if m>30:\n",
    "        if h==23:\n",
    "            return 0\n",
    "        else:\n",
    "            return h+1\n",
    "    return h\n",
    "\n",
    "df['hour_of_day'] = df['time'].apply(hour_round)"
   ]
  },
  {
   "cell_type": "code",
   "execution_count": 31,
   "id": "3ec53f14-c50d-4bf4-8512-12e9647916b5",
   "metadata": {},
   "outputs": [
    {
     "data": {
      "text/html": [
       "<div>\n",
       "<style scoped>\n",
       "    .dataframe tbody tr th:only-of-type {\n",
       "        vertical-align: middle;\n",
       "    }\n",
       "\n",
       "    .dataframe tbody tr th {\n",
       "        vertical-align: top;\n",
       "    }\n",
       "\n",
       "    .dataframe thead th {\n",
       "        text-align: right;\n",
       "    }\n",
       "</style>\n",
       "<table border=\"1\" class=\"dataframe\">\n",
       "  <thead>\n",
       "    <tr style=\"text-align: right;\">\n",
       "      <th></th>\n",
       "      <th>merchant</th>\n",
       "      <th>category</th>\n",
       "      <th>amt</th>\n",
       "      <th>is_male</th>\n",
       "      <th>street</th>\n",
       "      <th>city</th>\n",
       "      <th>state</th>\n",
       "      <th>zip</th>\n",
       "      <th>lat</th>\n",
       "      <th>long</th>\n",
       "      <th>city_pop</th>\n",
       "      <th>job</th>\n",
       "      <th>merch_lat</th>\n",
       "      <th>merch_long</th>\n",
       "      <th>is_fraud</th>\n",
       "      <th>cardholder_age</th>\n",
       "      <th>year</th>\n",
       "      <th>month</th>\n",
       "      <th>day</th>\n",
       "      <th>time</th>\n",
       "      <th>trans_dayOfWeek</th>\n",
       "      <th>hour_of_day</th>\n",
       "    </tr>\n",
       "  </thead>\n",
       "  <tbody>\n",
       "    <tr>\n",
       "      <th>0</th>\n",
       "      <td>Kirlin and Sons</td>\n",
       "      <td>personal_care</td>\n",
       "      <td>2.86</td>\n",
       "      <td>1</td>\n",
       "      <td>351 Darlene Green</td>\n",
       "      <td>Columbia</td>\n",
       "      <td>SC</td>\n",
       "      <td>29209</td>\n",
       "      <td>33.9659</td>\n",
       "      <td>-80.9355</td>\n",
       "      <td>333497</td>\n",
       "      <td>Mechanical engineer</td>\n",
       "      <td>33.986391</td>\n",
       "      <td>-81.200714</td>\n",
       "      <td>0</td>\n",
       "      <td>52</td>\n",
       "      <td>2020</td>\n",
       "      <td>6</td>\n",
       "      <td>21</td>\n",
       "      <td>12:14:00</td>\n",
       "      <td>Sunday</td>\n",
       "      <td>12</td>\n",
       "    </tr>\n",
       "    <tr>\n",
       "      <th>1</th>\n",
       "      <td>Sporer-Keebler</td>\n",
       "      <td>personal_care</td>\n",
       "      <td>29.84</td>\n",
       "      <td>0</td>\n",
       "      <td>3638 Marsh Union</td>\n",
       "      <td>Altonah</td>\n",
       "      <td>UT</td>\n",
       "      <td>84002</td>\n",
       "      <td>40.3207</td>\n",
       "      <td>-110.4360</td>\n",
       "      <td>302</td>\n",
       "      <td>Sales professional, IT</td>\n",
       "      <td>39.450498</td>\n",
       "      <td>-109.960431</td>\n",
       "      <td>0</td>\n",
       "      <td>30</td>\n",
       "      <td>2020</td>\n",
       "      <td>6</td>\n",
       "      <td>21</td>\n",
       "      <td>12:14:00</td>\n",
       "      <td>Sunday</td>\n",
       "      <td>12</td>\n",
       "    </tr>\n",
       "  </tbody>\n",
       "</table>\n",
       "</div>"
      ],
      "text/plain": [
       "          merchant       category    amt  is_male             street  \\\n",
       "0  Kirlin and Sons  personal_care   2.86        1  351 Darlene Green   \n",
       "1   Sporer-Keebler  personal_care  29.84        0   3638 Marsh Union   \n",
       "\n",
       "       city state    zip      lat      long  city_pop                     job  \\\n",
       "0  Columbia    SC  29209  33.9659  -80.9355    333497     Mechanical engineer   \n",
       "1   Altonah    UT  84002  40.3207 -110.4360       302  Sales professional, IT   \n",
       "\n",
       "   merch_lat  merch_long  is_fraud  cardholder_age  year  month  day  \\\n",
       "0  33.986391  -81.200714         0              52  2020      6   21   \n",
       "1  39.450498 -109.960431         0              30  2020      6   21   \n",
       "\n",
       "       time trans_dayOfWeek  hour_of_day  \n",
       "0  12:14:00          Sunday           12  \n",
       "1  12:14:00          Sunday           12  "
      ]
     },
     "execution_count": 31,
     "metadata": {},
     "output_type": "execute_result"
    }
   ],
   "source": [
    "df.head(2)"
   ]
  },
  {
   "cell_type": "code",
   "execution_count": 32,
   "id": "883da665-f35b-466e-9283-d0d4ff20333e",
   "metadata": {},
   "outputs": [],
   "source": [
    "df = df.drop(['time'], axis=1)"
   ]
  },
  {
   "cell_type": "code",
   "execution_count": null,
   "id": "ab0bec04-6737-45fb-8857-4a3c0047c47c",
   "metadata": {},
   "outputs": [],
   "source": []
  },
  {
   "cell_type": "code",
   "execution_count": 34,
   "id": "50d213e9-c31a-475a-93f9-0d0ad5c31b00",
   "metadata": {},
   "outputs": [
    {
     "name": "stdout",
     "output_type": "stream",
     "text": [
      "Unique years: [2020]\n",
      "Unique months: [ 6  7  8  9 10 11 12]\n"
     ]
    }
   ],
   "source": [
    "# all transactions occur in 2020 over the last 7 months of the year\n",
    "print('Unique years:', df['year'].unique())\n",
    "print('Unique months:', df['month'].unique())"
   ]
  },
  {
   "cell_type": "code",
   "execution_count": 35,
   "id": "3052c103-5ec5-4f04-88d9-fb17f689e225",
   "metadata": {},
   "outputs": [],
   "source": [
    "# drop year column\n",
    "df = df.drop(['year'], axis=1)"
   ]
  },
  {
   "cell_type": "code",
   "execution_count": null,
   "id": "86d5d86a-797a-43cc-a8cf-5fdfb7c61516",
   "metadata": {},
   "outputs": [],
   "source": []
  },
  {
   "cell_type": "markdown",
   "id": "b51a9ca1-5cb4-487d-8d24-bc46ecef1a10",
   "metadata": {},
   "source": [
    "## Date and Time Information"
   ]
  },
  {
   "cell_type": "markdown",
   "id": "c5ae48f1-6ba7-4596-8fee-cc92f6742db3",
   "metadata": {},
   "source": [
    "#### Month"
   ]
  },
  {
   "cell_type": "code",
   "execution_count": 43,
   "id": "5a3bb845-facd-4713-8eff-9bd2ddf3df8d",
   "metadata": {},
   "outputs": [],
   "source": [
    "month_df = pd.DataFrame({'month':df.groupby('month').is_fraud.sum().index,\n",
    "                         'num_fraud_transactions':df.groupby('month').is_fraud.sum().values,\n",
    "                         'num_total_transactions':df.groupby('month').is_fraud.count().values},\n",
    "                       )\n",
    "month_df['fraud_likelihood'] = month_df['num_fraud_transactions'] / month_df['num_total_transactions']"
   ]
  },
  {
   "cell_type": "code",
   "execution_count": 46,
   "id": "908c6520-32cc-45b0-a342-6f3c501dcea0",
   "metadata": {},
   "outputs": [
    {
     "data": {
      "text/html": [
       "<div>\n",
       "<style scoped>\n",
       "    .dataframe tbody tr th:only-of-type {\n",
       "        vertical-align: middle;\n",
       "    }\n",
       "\n",
       "    .dataframe tbody tr th {\n",
       "        vertical-align: top;\n",
       "    }\n",
       "\n",
       "    .dataframe thead th {\n",
       "        text-align: right;\n",
       "    }\n",
       "</style>\n",
       "<table border=\"1\" class=\"dataframe\">\n",
       "  <thead>\n",
       "    <tr style=\"text-align: right;\">\n",
       "      <th></th>\n",
       "      <th>month</th>\n",
       "      <th>num_fraud_transactions</th>\n",
       "      <th>num_total_transactions</th>\n",
       "      <th>fraud_likelihood</th>\n",
       "    </tr>\n",
       "  </thead>\n",
       "  <tbody>\n",
       "    <tr>\n",
       "      <th>0</th>\n",
       "      <td>6</td>\n",
       "      <td>133</td>\n",
       "      <td>30058</td>\n",
       "      <td>0.004425</td>\n",
       "    </tr>\n",
       "    <tr>\n",
       "      <th>1</th>\n",
       "      <td>7</td>\n",
       "      <td>321</td>\n",
       "      <td>85848</td>\n",
       "      <td>0.003739</td>\n",
       "    </tr>\n",
       "  </tbody>\n",
       "</table>\n",
       "</div>"
      ],
      "text/plain": [
       "   month  num_fraud_transactions  num_total_transactions  fraud_likelihood\n",
       "0      6                     133                   30058          0.004425\n",
       "1      7                     321                   85848          0.003739"
      ]
     },
     "execution_count": 46,
     "metadata": {},
     "output_type": "execute_result"
    }
   ],
   "source": [
    "month_df.head(2)"
   ]
  },
  {
   "cell_type": "code",
   "execution_count": 47,
   "id": "1aa4d6fd-ed43-4927-89fe-76221b4c7ddb",
   "metadata": {},
   "outputs": [
    {
     "data": {
      "image/png": "[encoded data removed]",
      "text/plain": [
       "<Figure size 640x480 with 1 Axes>"
      ]
     },
     "metadata": {},
     "output_type": "display_data"
    }
   ],
   "source": [
    "# observe the likelihood of fraudulent transactions by month\n",
    "month_df.plot.bar(x='month', y='fraud_likelihood');"
   ]
  },
  {
   "cell_type": "markdown",
   "id": "b409f5d5-ec3e-4ee8-9df4-591f790bdc5f",
   "metadata": {},
   "source": [
    "We can see above how the months had similar amounts of fraud relative to their total amount of transactions. It looks like december had the lowest likelihood but we would need to perform further analysis to see if this is a statistically significant difference. "
   ]
  },
  {
   "cell_type": "code",
   "execution_count": 52,
   "id": "e4a77199-af43-4b9c-9c79-eb1a04608907",
   "metadata": {},
   "outputs": [],
   "source": [
    "# add new information to the larger df\n",
    "df = pd.merge(df, month_df[['month','fraud_likelihood']], how='left', on='month')"
   ]
  },
  {
   "cell_type": "code",
   "execution_count": 68,
   "id": "a5d2bbcc-2863-4c4d-9abc-ed8a45456be9",
   "metadata": {},
   "outputs": [
    {
     "data": {
      "text/html": [
       "<div>\n",
       "<style scoped>\n",
       "    .dataframe tbody tr th:only-of-type {\n",
       "        vertical-align: middle;\n",
       "    }\n",
       "\n",
       "    .dataframe tbody tr th {\n",
       "        vertical-align: top;\n",
       "    }\n",
       "\n",
       "    .dataframe thead th {\n",
       "        text-align: right;\n",
       "    }\n",
       "</style>\n",
       "<table border=\"1\" class=\"dataframe\">\n",
       "  <thead>\n",
       "    <tr style=\"text-align: right;\">\n",
       "      <th></th>\n",
       "      <th>merchant</th>\n",
       "      <th>category</th>\n",
       "      <th>amt</th>\n",
       "      <th>is_male</th>\n",
       "      <th>street</th>\n",
       "      <th>city</th>\n",
       "      <th>state</th>\n",
       "      <th>zip</th>\n",
       "      <th>lat</th>\n",
       "      <th>long</th>\n",
       "      <th>city_pop</th>\n",
       "      <th>job</th>\n",
       "      <th>merch_lat</th>\n",
       "      <th>merch_long</th>\n",
       "      <th>is_fraud</th>\n",
       "      <th>cardholder_age</th>\n",
       "      <th>month</th>\n",
       "      <th>day</th>\n",
       "      <th>trans_dayOfWeek</th>\n",
       "      <th>hour_of_day</th>\n",
       "      <th>fraud_likelihood</th>\n",
       "    </tr>\n",
       "  </thead>\n",
       "  <tbody>\n",
       "    <tr>\n",
       "      <th>0</th>\n",
       "      <td>Kirlin and Sons</td>\n",
       "      <td>personal_care</td>\n",
       "      <td>2.86</td>\n",
       "      <td>1</td>\n",
       "      <td>351 Darlene Green</td>\n",
       "      <td>Columbia</td>\n",
       "      <td>SC</td>\n",
       "      <td>29209</td>\n",
       "      <td>33.9659</td>\n",
       "      <td>-80.9355</td>\n",
       "      <td>333497</td>\n",
       "      <td>Mechanical engineer</td>\n",
       "      <td>33.986391</td>\n",
       "      <td>-81.200714</td>\n",
       "      <td>0</td>\n",
       "      <td>52</td>\n",
       "      <td>6</td>\n",
       "      <td>21</td>\n",
       "      <td>Sunday</td>\n",
       "      <td>12</td>\n",
       "      <td>0.004425</td>\n",
       "    </tr>\n",
       "    <tr>\n",
       "      <th>1</th>\n",
       "      <td>Sporer-Keebler</td>\n",
       "      <td>personal_care</td>\n",
       "      <td>29.84</td>\n",
       "      <td>0</td>\n",
       "      <td>3638 Marsh Union</td>\n",
       "      <td>Altonah</td>\n",
       "      <td>UT</td>\n",
       "      <td>84002</td>\n",
       "      <td>40.3207</td>\n",
       "      <td>-110.4360</td>\n",
       "      <td>302</td>\n",
       "      <td>Sales professional, IT</td>\n",
       "      <td>39.450498</td>\n",
       "      <td>-109.960431</td>\n",
       "      <td>0</td>\n",
       "      <td>30</td>\n",
       "      <td>6</td>\n",
       "      <td>21</td>\n",
       "      <td>Sunday</td>\n",
       "      <td>12</td>\n",
       "      <td>0.004425</td>\n",
       "    </tr>\n",
       "  </tbody>\n",
       "</table>\n",
       "</div>"
      ],
      "text/plain": [
       "          merchant       category    amt  is_male             street  \\\n",
       "0  Kirlin and Sons  personal_care   2.86        1  351 Darlene Green   \n",
       "1   Sporer-Keebler  personal_care  29.84        0   3638 Marsh Union   \n",
       "\n",
       "       city state    zip      lat      long  city_pop                     job  \\\n",
       "0  Columbia    SC  29209  33.9659  -80.9355    333497     Mechanical engineer   \n",
       "1   Altonah    UT  84002  40.3207 -110.4360       302  Sales professional, IT   \n",
       "\n",
       "   merch_lat  merch_long  is_fraud  cardholder_age  month  day  \\\n",
       "0  33.986391  -81.200714         0              52      6   21   \n",
       "1  39.450498 -109.960431         0              30      6   21   \n",
       "\n",
       "  trans_dayOfWeek  hour_of_day  fraud_likelihood  \n",
       "0          Sunday           12          0.004425  \n",
       "1          Sunday           12          0.004425  "
      ]
     },
     "execution_count": 68,
     "metadata": {},
     "output_type": "execute_result"
    }
   ],
   "source": [
    "df.head(2)"
   ]
  },
  {
   "cell_type": "code",
   "execution_count": 70,
   "id": "8993e108-68e9-47bf-9b6c-daa6360bf73d",
   "metadata": {},
   "outputs": [],
   "source": [
    "# rename column\n",
    "df.rename(columns={'fraud_likelihood': 'month_fraud_likelihood'}, inplace=True)\n",
    "\n",
    "# remove job title\n",
    "df = df.drop(['month'], axis=1)"
   ]
  },
  {
   "cell_type": "code",
   "execution_count": null,
   "id": "2875ca41-a818-4ef0-96fe-fee68c66c661",
   "metadata": {},
   "outputs": [],
   "source": []
  },
  {
   "cell_type": "markdown",
   "id": "c1fe71f2-6c34-4cec-b583-453d8cce1584",
   "metadata": {},
   "source": [
    "#### Hour of the Day"
   ]
  },
  {
   "cell_type": "code",
   "execution_count": 74,
   "id": "76126d4d-2d99-468e-9ded-1c5615bb0a0d",
   "metadata": {},
   "outputs": [
    {
     "data": {
      "image/png": "[encoded data removed]",
      "text/plain": [
       "<Figure size 640x480 with 1 Axes>"
      ]
     },
     "metadata": {},
     "output_type": "display_data"
    }
   ],
   "source": [
    "# observe the total number of fraudulent transactions by hour of the day\n",
    "ax = df.groupby('hour_of_day').is_fraud.sum().plot(kind = 'bar', rot = 0)\n",
    "ax.set_xlabel('Hour of Day')\n",
    "ax.set_ylabel('Count of Fraud Transactions');"
   ]
  },
  {
   "cell_type": "markdown",
   "id": "bc86f2fe-cf3e-42a5-99b6-27c69383a0b1",
   "metadata": {},
   "source": [
    "We can see above how the majority of fraudulent transactions occured in the middle of the night between 10pm and 4am. We will use this information in our model by classifying orders as taking place either in the night [22-0] (labelled 2), early morning [1-4] (labelled 1), or daytime [5-21] (labelled 0).  "
   ]
  },
  {
   "cell_type": "code",
   "execution_count": 77,
   "id": "bc0187e6-ad81-40b9-8b8b-f8ca6aaecd9d",
   "metadata": {},
   "outputs": [],
   "source": [
    "# map function\n",
    "def timegroup(hour):\n",
    "    if hour in [1,2,3,4]:\n",
    "        return 1\n",
    "    elif hour in [0,22,23]:\n",
    "        return 2    \n",
    "    else:\n",
    "        return 0"
   ]
  },
  {
   "cell_type": "code",
   "execution_count": 79,
   "id": "69e7b098-7aed-421e-9c7e-0c2662be0c09",
   "metadata": {},
   "outputs": [],
   "source": [
    "df['time_group'] = df['hour_of_day'].apply(timegroup)"
   ]
  },
  {
   "cell_type": "code",
   "execution_count": 80,
   "id": "4e1cc6c6-53d0-446c-888e-5ded171ca9d4",
   "metadata": {},
   "outputs": [
    {
     "data": {
      "text/html": [
       "<div>\n",
       "<style scoped>\n",
       "    .dataframe tbody tr th:only-of-type {\n",
       "        vertical-align: middle;\n",
       "    }\n",
       "\n",
       "    .dataframe tbody tr th {\n",
       "        vertical-align: top;\n",
       "    }\n",
       "\n",
       "    .dataframe thead th {\n",
       "        text-align: right;\n",
       "    }\n",
       "</style>\n",
       "<table border=\"1\" class=\"dataframe\">\n",
       "  <thead>\n",
       "    <tr style=\"text-align: right;\">\n",
       "      <th></th>\n",
       "      <th>merchant</th>\n",
       "      <th>category</th>\n",
       "      <th>amt</th>\n",
       "      <th>is_male</th>\n",
       "      <th>street</th>\n",
       "      <th>city</th>\n",
       "      <th>state</th>\n",
       "      <th>zip</th>\n",
       "      <th>lat</th>\n",
       "      <th>long</th>\n",
       "      <th>city_pop</th>\n",
       "      <th>job</th>\n",
       "      <th>merch_lat</th>\n",
       "      <th>merch_long</th>\n",
       "      <th>is_fraud</th>\n",
       "      <th>cardholder_age</th>\n",
       "      <th>day</th>\n",
       "      <th>trans_dayOfWeek</th>\n",
       "      <th>hour_of_day</th>\n",
       "      <th>month_fraud_likelihood</th>\n",
       "      <th>time_group</th>\n",
       "    </tr>\n",
       "  </thead>\n",
       "  <tbody>\n",
       "    <tr>\n",
       "      <th>400000</th>\n",
       "      <td>Thompson-Gleason</td>\n",
       "      <td>health_fitness</td>\n",
       "      <td>41.77</td>\n",
       "      <td>0</td>\n",
       "      <td>144 Martinez Curve</td>\n",
       "      <td>Central</td>\n",
       "      <td>IN</td>\n",
       "      <td>47110</td>\n",
       "      <td>38.0970</td>\n",
       "      <td>-86.1723</td>\n",
       "      <td>350</td>\n",
       "      <td>Counsellor</td>\n",
       "      <td>38.541852</td>\n",
       "      <td>-86.985474</td>\n",
       "      <td>0</td>\n",
       "      <td>65</td>\n",
       "      <td>24</td>\n",
       "      <td>Tuesday</td>\n",
       "      <td>23</td>\n",
       "      <td>0.004048</td>\n",
       "      <td>2</td>\n",
       "    </tr>\n",
       "    <tr>\n",
       "      <th>400001</th>\n",
       "      <td>Metz, Russel and Metz</td>\n",
       "      <td>kids_pets</td>\n",
       "      <td>83.20</td>\n",
       "      <td>1</td>\n",
       "      <td>969 Huerta Path Apt. 270</td>\n",
       "      <td>Valentine</td>\n",
       "      <td>NE</td>\n",
       "      <td>69201</td>\n",
       "      <td>42.8062</td>\n",
       "      <td>-100.6215</td>\n",
       "      <td>4005</td>\n",
       "      <td>Network engineer</td>\n",
       "      <td>42.983381</td>\n",
       "      <td>-100.167981</td>\n",
       "      <td>0</td>\n",
       "      <td>75</td>\n",
       "      <td>24</td>\n",
       "      <td>Tuesday</td>\n",
       "      <td>23</td>\n",
       "      <td>0.004048</td>\n",
       "      <td>2</td>\n",
       "    </tr>\n",
       "  </tbody>\n",
       "</table>\n",
       "</div>"
      ],
      "text/plain": [
       "                     merchant        category    amt  is_male  \\\n",
       "400000       Thompson-Gleason  health_fitness  41.77        0   \n",
       "400001  Metz, Russel and Metz       kids_pets  83.20        1   \n",
       "\n",
       "                          street       city state    zip      lat      long  \\\n",
       "400000        144 Martinez Curve    Central    IN  47110  38.0970  -86.1723   \n",
       "400001  969 Huerta Path Apt. 270  Valentine    NE  69201  42.8062 -100.6215   \n",
       "\n",
       "        city_pop               job  merch_lat  merch_long  is_fraud  \\\n",
       "400000       350        Counsellor  38.541852  -86.985474         0   \n",
       "400001      4005  Network engineer  42.983381 -100.167981         0   \n",
       "\n",
       "        cardholder_age  day trans_dayOfWeek  hour_of_day  \\\n",
       "400000              65   24         Tuesday           23   \n",
       "400001              75   24         Tuesday           23   \n",
       "\n",
       "        month_fraud_likelihood  time_group  \n",
       "400000                0.004048           2  \n",
       "400001                0.004048           2  "
      ]
     },
     "execution_count": 80,
     "metadata": {},
     "output_type": "execute_result"
    }
   ],
   "source": [
    "# look at data\n",
    "df.iloc[400000:400002]"
   ]
  },
  {
   "cell_type": "code",
   "execution_count": 81,
   "id": "5daa8d40-46ec-403b-a606-cfdaca6ad119",
   "metadata": {},
   "outputs": [
    {
     "data": {
      "text/html": [
       "<div>\n",
       "<style scoped>\n",
       "    .dataframe tbody tr th:only-of-type {\n",
       "        vertical-align: middle;\n",
       "    }\n",
       "\n",
       "    .dataframe tbody tr th {\n",
       "        vertical-align: top;\n",
       "    }\n",
       "\n",
       "    .dataframe thead th {\n",
       "        text-align: right;\n",
       "    }\n",
       "</style>\n",
       "<table border=\"1\" class=\"dataframe\">\n",
       "  <thead>\n",
       "    <tr style=\"text-align: right;\">\n",
       "      <th></th>\n",
       "      <th>merchant</th>\n",
       "      <th>category</th>\n",
       "      <th>amt</th>\n",
       "      <th>is_male</th>\n",
       "      <th>street</th>\n",
       "      <th>city</th>\n",
       "      <th>state</th>\n",
       "      <th>zip</th>\n",
       "      <th>lat</th>\n",
       "      <th>long</th>\n",
       "      <th>city_pop</th>\n",
       "      <th>job</th>\n",
       "      <th>merch_lat</th>\n",
       "      <th>merch_long</th>\n",
       "      <th>is_fraud</th>\n",
       "      <th>cardholder_age</th>\n",
       "      <th>day</th>\n",
       "      <th>trans_dayOfWeek</th>\n",
       "      <th>hour_of_day</th>\n",
       "      <th>month_fraud_likelihood</th>\n",
       "      <th>time_group</th>\n",
       "    </tr>\n",
       "  </thead>\n",
       "  <tbody>\n",
       "    <tr>\n",
       "      <th>2074</th>\n",
       "      <td>Eichmann, Bogan and Rodriguez</td>\n",
       "      <td>gas_transport</td>\n",
       "      <td>50.3</td>\n",
       "      <td>0</td>\n",
       "      <td>4970 Michelle Burgs</td>\n",
       "      <td>Brooklyn</td>\n",
       "      <td>NY</td>\n",
       "      <td>11217</td>\n",
       "      <td>40.6816</td>\n",
       "      <td>-73.9798</td>\n",
       "      <td>2504700</td>\n",
       "      <td>Medical sales representative</td>\n",
       "      <td>41.483531</td>\n",
       "      <td>-73.520897</td>\n",
       "      <td>0</td>\n",
       "      <td>21</td>\n",
       "      <td>22</td>\n",
       "      <td>Monday</td>\n",
       "      <td>1</td>\n",
       "      <td>0.004425</td>\n",
       "      <td>1</td>\n",
       "    </tr>\n",
       "    <tr>\n",
       "      <th>2075</th>\n",
       "      <td>Weber and Sons</td>\n",
       "      <td>food_dining</td>\n",
       "      <td>151.1</td>\n",
       "      <td>1</td>\n",
       "      <td>923 Jordan Road</td>\n",
       "      <td>Afton</td>\n",
       "      <td>MN</td>\n",
       "      <td>55001</td>\n",
       "      <td>44.8696</td>\n",
       "      <td>-92.8234</td>\n",
       "      <td>2916</td>\n",
       "      <td>Barrister's clerk</td>\n",
       "      <td>45.000289</td>\n",
       "      <td>-93.132784</td>\n",
       "      <td>0</td>\n",
       "      <td>85</td>\n",
       "      <td>22</td>\n",
       "      <td>Monday</td>\n",
       "      <td>1</td>\n",
       "      <td>0.004425</td>\n",
       "      <td>1</td>\n",
       "    </tr>\n",
       "  </tbody>\n",
       "</table>\n",
       "</div>"
      ],
      "text/plain": [
       "                           merchant       category    amt  is_male  \\\n",
       "2074  Eichmann, Bogan and Rodriguez  gas_transport   50.3        0   \n",
       "2075                 Weber and Sons    food_dining  151.1        1   \n",
       "\n",
       "                   street      city state    zip      lat     long  city_pop  \\\n",
       "2074  4970 Michelle Burgs  Brooklyn    NY  11217  40.6816 -73.9798   2504700   \n",
       "2075      923 Jordan Road     Afton    MN  55001  44.8696 -92.8234      2916   \n",
       "\n",
       "                               job  merch_lat  merch_long  is_fraud  \\\n",
       "2074  Medical sales representative  41.483531  -73.520897         0   \n",
       "2075             Barrister's clerk  45.000289  -93.132784         0   \n",
       "\n",
       "      cardholder_age  day trans_dayOfWeek  hour_of_day  \\\n",
       "2074              21   22          Monday            1   \n",
       "2075              85   22          Monday            1   \n",
       "\n",
       "      month_fraud_likelihood  time_group  \n",
       "2074                0.004425           1  \n",
       "2075                0.004425           1  "
      ]
     },
     "execution_count": 81,
     "metadata": {},
     "output_type": "execute_result"
    }
   ],
   "source": [
    "df.loc[df['time_group']==1].head(2)"
   ]
  },
  {
   "cell_type": "code",
   "execution_count": 83,
   "id": "570101a2-a594-439b-8ef8-f9e3e4b67687",
   "metadata": {},
   "outputs": [],
   "source": [
    "df = df.drop(['hour_of_day'], axis=1)"
   ]
  },
  {
   "cell_type": "code",
   "execution_count": null,
   "id": "396f5ed3-7de1-4daf-a1e0-be1141068eda",
   "metadata": {},
   "outputs": [],
   "source": []
  },
  {
   "cell_type": "code",
   "execution_count": 87,
   "id": "1d29cf14-9251-4e28-844b-c9b186b23290",
   "metadata": {},
   "outputs": [
    {
     "data": {
      "text/plain": [
       "Index(['merchant', 'category', 'amt', 'is_male', 'street', 'city', 'state',\n",
       "       'zip', 'lat', 'long', 'city_pop', 'job', 'merch_lat', 'merch_long',\n",
       "       'is_fraud', 'cardholder_age', 'day', 'trans_dayOfWeek',\n",
       "       'month_fraud_likelihood', 'time_group'],\n",
       "      dtype='object')"
      ]
     },
     "execution_count": 87,
     "metadata": {},
     "output_type": "execute_result"
    }
   ],
   "source": [
    "df.columns"
   ]
  },
  {
   "cell_type": "markdown",
   "id": "29a3ad39-d4ca-40b9-9f78-663e50fcac4d",
   "metadata": {},
   "source": [
    "#### Day of the Week"
   ]
  },
  {
   "cell_type": "code",
   "execution_count": 91,
   "id": "c0f899cf-628a-4367-940c-9f76c89fe74d",
   "metadata": {},
   "outputs": [
    {
     "data": {
      "image/png": "[encoded data removed]",
      "text/plain": [
       "<Figure size 640x480 with 1 Axes>"
      ]
     },
     "metadata": {},
     "output_type": "display_data"
    }
   ],
   "source": [
    "# observe the total number of fraudulent transactions by day of the week\n",
    "ax = df.groupby('trans_dayOfWeek').is_fraud.sum().plot(kind = 'bar', rot = 0)\n",
    "ax.set_xlabel('Day of the Week')\n",
    "ax.set_ylabel('Count of Fraud Transactions');"
   ]
  },
  {
   "cell_type": "markdown",
   "id": "781e1277-70b5-40c9-b9fb-baf8a54c92db",
   "metadata": {},
   "source": [
    "We can observe no significant difference between the amount of fraud occuring on different days of the week."
   ]
  },
  {
   "cell_type": "markdown",
   "id": "9d9fddca-4569-4f8c-b4f2-602dcd321796",
   "metadata": {},
   "source": [
    "#### Day of Month"
   ]
  },
  {
   "cell_type": "code",
   "execution_count": 95,
   "id": "b1c46086-fe0f-4047-86a9-96c54f4a705a",
   "metadata": {},
   "outputs": [
    {
     "data": {
      "image/png": "[encoded data removed]",
      "text/plain": [
       "<Figure size 640x480 with 1 Axes>"
      ]
     },
     "metadata": {},
     "output_type": "display_data"
    }
   ],
   "source": [
    "# observe the total number of fraudulent transactions by day of the week\n",
    "ax = df.groupby('day').is_fraud.sum().plot(kind = 'bar', rot = 0)\n",
    "ax.set_xlabel('Day of the Month')\n",
    "ax.set_ylabel('Count of Fraud Transactions');"
   ]
  },
  {
   "cell_type": "markdown",
   "id": "25a2f2cd-9d7c-48bc-93b3-98a79aa18c63",
   "metadata": {},
   "source": [
    "We can observe no significant difference between the amount of fraud occuring on different days of the month."
   ]
  },
  {
   "cell_type": "code",
   "execution_count": 97,
   "id": "d7ae5edc-7d82-4158-9360-40ffc1cd37a6",
   "metadata": {},
   "outputs": [],
   "source": [
    "df = df.drop(['trans_dayOfWeek', 'day'], axis=1)"
   ]
  },
  {
   "cell_type": "code",
   "execution_count": null,
   "id": "5c325c2c-8a6c-4fac-b8fa-9cdb2a48fcbc",
   "metadata": {},
   "outputs": [],
   "source": []
  },
  {
   "cell_type": "code",
   "execution_count": null,
   "id": "0e904389-68da-40fe-ab97-e03aabddd039",
   "metadata": {},
   "outputs": [],
   "source": []
  },
  {
   "cell_type": "markdown",
   "id": "075d3004-3286-4eac-96b7-f18d311465bb",
   "metadata": {},
   "source": [
    "## Transaction Location Information"
   ]
  },
  {
   "cell_type": "markdown",
   "id": "2b035b47-f0a9-4ebb-853b-43f1c210ea2b",
   "metadata": {},
   "source": [
    "#### State"
   ]
  },
  {
   "cell_type": "markdown",
   "id": "20cf1977-380b-4d5c-a83c-9e251938cbce",
   "metadata": {},
   "source": [
    "Q: Is there a correlation between the population of the state and the amount of fraudulent transactions originating there?"
   ]
  },
  {
   "cell_type": "code",
   "execution_count": 105,
   "id": "fe2b079a-c41d-43a2-b293-e055d9fa8944",
   "metadata": {},
   "outputs": [
    {
     "data": {
      "text/html": [
       "<div>\n",
       "<style scoped>\n",
       "    .dataframe tbody tr th:only-of-type {\n",
       "        vertical-align: middle;\n",
       "    }\n",
       "\n",
       "    .dataframe tbody tr th {\n",
       "        vertical-align: top;\n",
       "    }\n",
       "\n",
       "    .dataframe thead th {\n",
       "        text-align: right;\n",
       "    }\n",
       "</style>\n",
       "<table border=\"1\" class=\"dataframe\">\n",
       "  <thead>\n",
       "    <tr style=\"text-align: right;\">\n",
       "      <th></th>\n",
       "      <th></th>\n",
       "      <th>city_pop</th>\n",
       "    </tr>\n",
       "    <tr>\n",
       "      <th>state</th>\n",
       "      <th>city</th>\n",
       "      <th></th>\n",
       "    </tr>\n",
       "  </thead>\n",
       "  <tbody>\n",
       "    <tr>\n",
       "      <th rowspan=\"3\" valign=\"top\">AK</th>\n",
       "      <th>Craig</th>\n",
       "      <td>1920.0</td>\n",
       "    </tr>\n",
       "    <tr>\n",
       "      <th>Huslia</th>\n",
       "      <td>277.0</td>\n",
       "    </tr>\n",
       "    <tr>\n",
       "      <th>Wales</th>\n",
       "      <td>145.0</td>\n",
       "    </tr>\n",
       "    <tr>\n",
       "      <th rowspan=\"2\" valign=\"top\">AL</th>\n",
       "      <th>Bay Minette</th>\n",
       "      <td>19090.0</td>\n",
       "    </tr>\n",
       "    <tr>\n",
       "      <th>Bessemer</th>\n",
       "      <td>71463.0</td>\n",
       "    </tr>\n",
       "  </tbody>\n",
       "</table>\n",
       "</div>"
      ],
      "text/plain": [
       "                   city_pop\n",
       "state city                 \n",
       "AK    Craig          1920.0\n",
       "      Huslia          277.0\n",
       "      Wales           145.0\n",
       "AL    Bay Minette   19090.0\n",
       "      Bessemer      71463.0"
      ]
     },
     "execution_count": 105,
     "metadata": {},
     "output_type": "execute_result"
    }
   ],
   "source": [
    "# group data by state and city\n",
    "state_df_1 = pd.DataFrame(df.groupby(['state', 'city']).city_pop.mean())\n",
    "state_df_1.head()"
   ]
  },
  {
   "cell_type": "code",
   "execution_count": 107,
   "id": "1de50b8c-6a21-4061-b7df-f42c78fb7746",
   "metadata": {},
   "outputs": [],
   "source": [
    "# find the population of each state\n",
    "state_pop_df = pd.DataFrame({'state':[], 'pop':[]})\n",
    "for state in df['state'].unique():\n",
    "    state_pop = state_df_1.loc[state].city_pop.sum()\n",
    "    info = [state, state_pop]\n",
    "    state_pop_df.loc[len(state_pop_df.index)] = info"
   ]
  },
  {
   "cell_type": "code",
   "execution_count": 109,
   "id": "4c479489-133d-4693-98fb-0aae77db0523",
   "metadata": {},
   "outputs": [
    {
     "data": {
      "text/html": [
       "<div>\n",
       "<style scoped>\n",
       "    .dataframe tbody tr th:only-of-type {\n",
       "        vertical-align: middle;\n",
       "    }\n",
       "\n",
       "    .dataframe tbody tr th {\n",
       "        vertical-align: top;\n",
       "    }\n",
       "\n",
       "    .dataframe thead th {\n",
       "        text-align: right;\n",
       "    }\n",
       "</style>\n",
       "<table border=\"1\" class=\"dataframe\">\n",
       "  <thead>\n",
       "    <tr style=\"text-align: right;\">\n",
       "      <th></th>\n",
       "      <th>state</th>\n",
       "      <th>pop</th>\n",
       "    </tr>\n",
       "  </thead>\n",
       "  <tbody>\n",
       "    <tr>\n",
       "      <th>0</th>\n",
       "      <td>SC</td>\n",
       "      <td>506278.0</td>\n",
       "    </tr>\n",
       "    <tr>\n",
       "      <th>1</th>\n",
       "      <td>UT</td>\n",
       "      <td>68823.0</td>\n",
       "    </tr>\n",
       "    <tr>\n",
       "      <th>2</th>\n",
       "      <td>NY</td>\n",
       "      <td>6003688.0</td>\n",
       "    </tr>\n",
       "    <tr>\n",
       "      <th>3</th>\n",
       "      <td>FL</td>\n",
       "      <td>3593018.0</td>\n",
       "    </tr>\n",
       "    <tr>\n",
       "      <th>4</th>\n",
       "      <td>MI</td>\n",
       "      <td>1299880.0</td>\n",
       "    </tr>\n",
       "  </tbody>\n",
       "</table>\n",
       "</div>"
      ],
      "text/plain": [
       "  state        pop\n",
       "0    SC   506278.0\n",
       "1    UT    68823.0\n",
       "2    NY  6003688.0\n",
       "3    FL  3593018.0\n",
       "4    MI  1299880.0"
      ]
     },
     "execution_count": 109,
     "metadata": {},
     "output_type": "execute_result"
    }
   ],
   "source": [
    "state_pop_df.head()"
   ]
  },
  {
   "cell_type": "code",
   "execution_count": 111,
   "id": "1fe37d55-eccd-4461-bbe3-15f4431f8a71",
   "metadata": {},
   "outputs": [],
   "source": [
    "state_df = pd.DataFrame({'state':df.groupby('state').is_fraud.sum().index,\n",
    "                         'num_fraud_transactions':df.groupby('state').is_fraud.sum().values,\n",
    "                         'num_total_transactions':df.groupby('state').is_fraud.count().values}\n",
    "                       )"
   ]
  },
  {
   "cell_type": "code",
   "execution_count": 112,
   "id": "0610d4e5-e4d7-49d3-95d6-f3b47e6d840a",
   "metadata": {},
   "outputs": [
    {
     "data": {
      "text/html": [
       "<div>\n",
       "<style scoped>\n",
       "    .dataframe tbody tr th:only-of-type {\n",
       "        vertical-align: middle;\n",
       "    }\n",
       "\n",
       "    .dataframe tbody tr th {\n",
       "        vertical-align: top;\n",
       "    }\n",
       "\n",
       "    .dataframe thead th {\n",
       "        text-align: right;\n",
       "    }\n",
       "</style>\n",
       "<table border=\"1\" class=\"dataframe\">\n",
       "  <thead>\n",
       "    <tr style=\"text-align: right;\">\n",
       "      <th></th>\n",
       "      <th>state</th>\n",
       "      <th>num_fraud_transactions</th>\n",
       "      <th>num_total_transactions</th>\n",
       "    </tr>\n",
       "  </thead>\n",
       "  <tbody>\n",
       "    <tr>\n",
       "      <th>0</th>\n",
       "      <td>AK</td>\n",
       "      <td>14</td>\n",
       "      <td>843</td>\n",
       "    </tr>\n",
       "    <tr>\n",
       "      <th>1</th>\n",
       "      <td>AL</td>\n",
       "      <td>63</td>\n",
       "      <td>17532</td>\n",
       "    </tr>\n",
       "    <tr>\n",
       "      <th>2</th>\n",
       "      <td>AR</td>\n",
       "      <td>34</td>\n",
       "      <td>13484</td>\n",
       "    </tr>\n",
       "    <tr>\n",
       "      <th>3</th>\n",
       "      <td>AZ</td>\n",
       "      <td>27</td>\n",
       "      <td>4592</td>\n",
       "    </tr>\n",
       "    <tr>\n",
       "      <th>4</th>\n",
       "      <td>CA</td>\n",
       "      <td>76</td>\n",
       "      <td>24135</td>\n",
       "    </tr>\n",
       "  </tbody>\n",
       "</table>\n",
       "</div>"
      ],
      "text/plain": [
       "  state  num_fraud_transactions  num_total_transactions\n",
       "0    AK                      14                     843\n",
       "1    AL                      63                   17532\n",
       "2    AR                      34                   13484\n",
       "3    AZ                      27                    4592\n",
       "4    CA                      76                   24135"
      ]
     },
     "execution_count": 112,
     "metadata": {},
     "output_type": "execute_result"
    }
   ],
   "source": [
    "state_df.head()"
   ]
  },
  {
   "cell_type": "code",
   "execution_count": 115,
   "id": "b0f45933-559e-4035-ae04-81a51ff5c460",
   "metadata": {},
   "outputs": [
    {
     "data": {
      "text/html": [
       "<div>\n",
       "<style scoped>\n",
       "    .dataframe tbody tr th:only-of-type {\n",
       "        vertical-align: middle;\n",
       "    }\n",
       "\n",
       "    .dataframe tbody tr th {\n",
       "        vertical-align: top;\n",
       "    }\n",
       "\n",
       "    .dataframe thead th {\n",
       "        text-align: right;\n",
       "    }\n",
       "</style>\n",
       "<table border=\"1\" class=\"dataframe\">\n",
       "  <thead>\n",
       "    <tr style=\"text-align: right;\">\n",
       "      <th></th>\n",
       "      <th>num_fraud_transactions</th>\n",
       "      <th>num_total_transactions</th>\n",
       "      <th>pop</th>\n",
       "    </tr>\n",
       "    <tr>\n",
       "      <th>state</th>\n",
       "      <th></th>\n",
       "      <th></th>\n",
       "      <th></th>\n",
       "    </tr>\n",
       "  </thead>\n",
       "  <tbody>\n",
       "    <tr>\n",
       "      <th>AK</th>\n",
       "      <td>14</td>\n",
       "      <td>843</td>\n",
       "      <td>2342.0</td>\n",
       "    </tr>\n",
       "    <tr>\n",
       "      <th>AL</th>\n",
       "      <td>63</td>\n",
       "      <td>17532</td>\n",
       "      <td>1476502.0</td>\n",
       "    </tr>\n",
       "  </tbody>\n",
       "</table>\n",
       "</div>"
      ],
      "text/plain": [
       "       num_fraud_transactions  num_total_transactions        pop\n",
       "state                                                           \n",
       "AK                         14                     843     2342.0\n",
       "AL                         63                   17532  1476502.0"
      ]
     },
     "execution_count": 115,
     "metadata": {},
     "output_type": "execute_result"
    }
   ],
   "source": [
    "# combine the state information into one dataframe\n",
    "state_df = pd.merge(left = state_df,\n",
    "                    right = state_pop_df,\n",
    "                    how = 'inner',\n",
    "                    on = 'state')\n",
    "state_df = state_df.set_index('state')\n",
    "state_df.head(2)"
   ]
  },
  {
   "cell_type": "code",
   "execution_count": 117,
   "id": "fb01b531-9c3a-40cb-b300-80a791a6f682",
   "metadata": {},
   "outputs": [],
   "source": [
    "# add a column for percentage of transactions fraud\n",
    "state_df['percent_fraud'] = state_df['num_fraud_transactions'] / state_df['num_total_transactions']"
   ]
  },
  {
   "cell_type": "code",
   "execution_count": 119,
   "id": "f0b370af-2bc0-4e3a-b7da-14b4974b15cf",
   "metadata": {},
   "outputs": [
    {
     "data": {
      "text/html": [
       "<div>\n",
       "<style scoped>\n",
       "    .dataframe tbody tr th:only-of-type {\n",
       "        vertical-align: middle;\n",
       "    }\n",
       "\n",
       "    .dataframe tbody tr th {\n",
       "        vertical-align: top;\n",
       "    }\n",
       "\n",
       "    .dataframe thead th {\n",
       "        text-align: right;\n",
       "    }\n",
       "</style>\n",
       "<table border=\"1\" class=\"dataframe\">\n",
       "  <thead>\n",
       "    <tr style=\"text-align: right;\">\n",
       "      <th></th>\n",
       "      <th>num_fraud_transactions</th>\n",
       "      <th>num_total_transactions</th>\n",
       "      <th>pop</th>\n",
       "      <th>percent_fraud</th>\n",
       "    </tr>\n",
       "    <tr>\n",
       "      <th>state</th>\n",
       "      <th></th>\n",
       "      <th></th>\n",
       "      <th></th>\n",
       "      <th></th>\n",
       "    </tr>\n",
       "  </thead>\n",
       "  <tbody>\n",
       "    <tr>\n",
       "      <th>AK</th>\n",
       "      <td>14</td>\n",
       "      <td>843</td>\n",
       "      <td>2342.0</td>\n",
       "      <td>0.016607</td>\n",
       "    </tr>\n",
       "    <tr>\n",
       "      <th>AL</th>\n",
       "      <td>63</td>\n",
       "      <td>17532</td>\n",
       "      <td>1476502.0</td>\n",
       "      <td>0.003593</td>\n",
       "    </tr>\n",
       "  </tbody>\n",
       "</table>\n",
       "</div>"
      ],
      "text/plain": [
       "       num_fraud_transactions  num_total_transactions        pop  \\\n",
       "state                                                              \n",
       "AK                         14                     843     2342.0   \n",
       "AL                         63                   17532  1476502.0   \n",
       "\n",
       "       percent_fraud  \n",
       "state                 \n",
       "AK          0.016607  \n",
       "AL          0.003593  "
      ]
     },
     "execution_count": 119,
     "metadata": {},
     "output_type": "execute_result"
    }
   ],
   "source": [
    "state_df.head(2)"
   ]
  },
  {
   "cell_type": "code",
   "execution_count": 121,
   "id": "4b75dbf2-f2b3-46e6-9f12-395a1f9d50a1",
   "metadata": {},
   "outputs": [
    {
     "data": {
      "image/png": "[encoded data removed]",
      "text/plain": [
       "<Figure size 1200x400 with 1 Axes>"
      ]
     },
     "metadata": {},
     "output_type": "display_data"
    }
   ],
   "source": [
    "# plot\n",
    "ax = state_df.sort_values(by='pop', ascending=False)['percent_fraud'].plot(kind='bar', rot=90, figsize=(12, 4))\n",
    "ax.set_xlabel('state ordered by population (decreasing)')\n",
    "ax.set_ylabel('percent of transactions fraudulent');"
   ]
  },
  {
   "cell_type": "markdown",
   "id": "21f2755c-8e0e-4b3c-ab34-abd53d692428",
   "metadata": {},
   "source": [
    "Observe how there is a general negative correlation between state population and fraud likelihood. Therefore, this information should be included in our model. "
   ]
  },
  {
   "cell_type": "code",
   "execution_count": 123,
   "id": "153b9a2f-a344-4ad2-b673-34175348ea55",
   "metadata": {},
   "outputs": [
    {
     "data": {
      "text/html": [
       "<div>\n",
       "<style scoped>\n",
       "    .dataframe tbody tr th:only-of-type {\n",
       "        vertical-align: middle;\n",
       "    }\n",
       "\n",
       "    .dataframe tbody tr th {\n",
       "        vertical-align: top;\n",
       "    }\n",
       "\n",
       "    .dataframe thead th {\n",
       "        text-align: right;\n",
       "    }\n",
       "</style>\n",
       "<table border=\"1\" class=\"dataframe\">\n",
       "  <thead>\n",
       "    <tr style=\"text-align: right;\">\n",
       "      <th></th>\n",
       "      <th>merchant</th>\n",
       "      <th>category</th>\n",
       "      <th>amt</th>\n",
       "      <th>is_male</th>\n",
       "      <th>street</th>\n",
       "      <th>city</th>\n",
       "      <th>state</th>\n",
       "      <th>zip</th>\n",
       "      <th>lat</th>\n",
       "      <th>long</th>\n",
       "      <th>city_pop</th>\n",
       "      <th>job</th>\n",
       "      <th>merch_lat</th>\n",
       "      <th>merch_long</th>\n",
       "      <th>is_fraud</th>\n",
       "      <th>cardholder_age</th>\n",
       "      <th>month_fraud_likelihood</th>\n",
       "      <th>time_group</th>\n",
       "      <th>state_pop</th>\n",
       "    </tr>\n",
       "  </thead>\n",
       "  <tbody>\n",
       "    <tr>\n",
       "      <th>0</th>\n",
       "      <td>Kirlin and Sons</td>\n",
       "      <td>personal_care</td>\n",
       "      <td>2.86</td>\n",
       "      <td>1</td>\n",
       "      <td>351 Darlene Green</td>\n",
       "      <td>Columbia</td>\n",
       "      <td>SC</td>\n",
       "      <td>29209</td>\n",
       "      <td>33.9659</td>\n",
       "      <td>-80.9355</td>\n",
       "      <td>333497</td>\n",
       "      <td>Mechanical engineer</td>\n",
       "      <td>33.986391</td>\n",
       "      <td>-81.200714</td>\n",
       "      <td>0</td>\n",
       "      <td>52</td>\n",
       "      <td>0.004425</td>\n",
       "      <td>0</td>\n",
       "      <td>506278.0</td>\n",
       "    </tr>\n",
       "    <tr>\n",
       "      <th>1</th>\n",
       "      <td>Sporer-Keebler</td>\n",
       "      <td>personal_care</td>\n",
       "      <td>29.84</td>\n",
       "      <td>0</td>\n",
       "      <td>3638 Marsh Union</td>\n",
       "      <td>Altonah</td>\n",
       "      <td>UT</td>\n",
       "      <td>84002</td>\n",
       "      <td>40.3207</td>\n",
       "      <td>-110.4360</td>\n",
       "      <td>302</td>\n",
       "      <td>Sales professional, IT</td>\n",
       "      <td>39.450498</td>\n",
       "      <td>-109.960431</td>\n",
       "      <td>0</td>\n",
       "      <td>30</td>\n",
       "      <td>0.004425</td>\n",
       "      <td>0</td>\n",
       "      <td>68823.0</td>\n",
       "    </tr>\n",
       "    <tr>\n",
       "      <th>2</th>\n",
       "      <td>Swaniawski, Nitzsche and Welch</td>\n",
       "      <td>health_fitness</td>\n",
       "      <td>41.28</td>\n",
       "      <td>0</td>\n",
       "      <td>9333 Valentine Point</td>\n",
       "      <td>Bellmore</td>\n",
       "      <td>NY</td>\n",
       "      <td>11710</td>\n",
       "      <td>40.6729</td>\n",
       "      <td>-73.5365</td>\n",
       "      <td>34496</td>\n",
       "      <td>Librarian, public</td>\n",
       "      <td>40.495810</td>\n",
       "      <td>-74.196111</td>\n",
       "      <td>0</td>\n",
       "      <td>50</td>\n",
       "      <td>0.004425</td>\n",
       "      <td>0</td>\n",
       "      <td>6003688.0</td>\n",
       "    </tr>\n",
       "    <tr>\n",
       "      <th>3</th>\n",
       "      <td>Haley Group</td>\n",
       "      <td>misc_pos</td>\n",
       "      <td>60.05</td>\n",
       "      <td>1</td>\n",
       "      <td>32941 Krystal Mill Apt. 552</td>\n",
       "      <td>Titusville</td>\n",
       "      <td>FL</td>\n",
       "      <td>32780</td>\n",
       "      <td>28.5697</td>\n",
       "      <td>-80.8191</td>\n",
       "      <td>54767</td>\n",
       "      <td>Set designer</td>\n",
       "      <td>28.812398</td>\n",
       "      <td>-80.883061</td>\n",
       "      <td>0</td>\n",
       "      <td>33</td>\n",
       "      <td>0.004425</td>\n",
       "      <td>0</td>\n",
       "      <td>3593018.0</td>\n",
       "    </tr>\n",
       "    <tr>\n",
       "      <th>4</th>\n",
       "      <td>Johnston-Casper</td>\n",
       "      <td>travel</td>\n",
       "      <td>3.19</td>\n",
       "      <td>1</td>\n",
       "      <td>5783 Evan Roads Apt. 465</td>\n",
       "      <td>Falmouth</td>\n",
       "      <td>MI</td>\n",
       "      <td>49632</td>\n",
       "      <td>44.2529</td>\n",
       "      <td>-85.0170</td>\n",
       "      <td>1126</td>\n",
       "      <td>Furniture designer</td>\n",
       "      <td>44.959148</td>\n",
       "      <td>-85.884734</td>\n",
       "      <td>0</td>\n",
       "      <td>65</td>\n",
       "      <td>0.004425</td>\n",
       "      <td>0</td>\n",
       "      <td>1299880.0</td>\n",
       "    </tr>\n",
       "  </tbody>\n",
       "</table>\n",
       "</div>"
      ],
      "text/plain": [
       "                         merchant        category    amt  is_male  \\\n",
       "0                 Kirlin and Sons   personal_care   2.86        1   \n",
       "1                  Sporer-Keebler   personal_care  29.84        0   \n",
       "2  Swaniawski, Nitzsche and Welch  health_fitness  41.28        0   \n",
       "3                     Haley Group        misc_pos  60.05        1   \n",
       "4                 Johnston-Casper          travel   3.19        1   \n",
       "\n",
       "                        street        city state    zip      lat      long  \\\n",
       "0            351 Darlene Green    Columbia    SC  29209  33.9659  -80.9355   \n",
       "1             3638 Marsh Union     Altonah    UT  84002  40.3207 -110.4360   \n",
       "2         9333 Valentine Point    Bellmore    NY  11710  40.6729  -73.5365   \n",
       "3  32941 Krystal Mill Apt. 552  Titusville    FL  32780  28.5697  -80.8191   \n",
       "4     5783 Evan Roads Apt. 465    Falmouth    MI  49632  44.2529  -85.0170   \n",
       "\n",
       "   city_pop                     job  merch_lat  merch_long  is_fraud  \\\n",
       "0    333497     Mechanical engineer  33.986391  -81.200714         0   \n",
       "1       302  Sales professional, IT  39.450498 -109.960431         0   \n",
       "2     34496       Librarian, public  40.495810  -74.196111         0   \n",
       "3     54767            Set designer  28.812398  -80.883061         0   \n",
       "4      1126      Furniture designer  44.959148  -85.884734         0   \n",
       "\n",
       "   cardholder_age  month_fraud_likelihood  time_group  state_pop  \n",
       "0              52                0.004425           0   506278.0  \n",
       "1              30                0.004425           0    68823.0  \n",
       "2              50                0.004425           0  6003688.0  \n",
       "3              33                0.004425           0  3593018.0  \n",
       "4              65                0.004425           0  1299880.0  "
      ]
     },
     "execution_count": 123,
     "metadata": {},
     "output_type": "execute_result"
    }
   ],
   "source": [
    "df = pd.merge(df,state_df['pop'], how='left', on='state')\n",
    "df.rename(columns={'pop': 'state_pop'}, inplace=True)\n",
    "df.head()"
   ]
  },
  {
   "cell_type": "code",
   "execution_count": 124,
   "id": "a1bc9279-38d8-40d6-b6a9-3aedd33d8f85",
   "metadata": {},
   "outputs": [
    {
     "data": {
      "text/plain": [
       "Index(['merchant', 'category', 'amt', 'is_male', 'street', 'city', 'state',\n",
       "       'zip', 'lat', 'long', 'city_pop', 'job', 'merch_lat', 'merch_long',\n",
       "       'is_fraud', 'cardholder_age', 'month_fraud_likelihood', 'time_group',\n",
       "       'state_pop'],\n",
       "      dtype='object')"
      ]
     },
     "execution_count": 124,
     "metadata": {},
     "output_type": "execute_result"
    }
   ],
   "source": [
    "df.columns"
   ]
  },
  {
   "cell_type": "code",
   "execution_count": null,
   "id": "3a3d4202-b2d8-434e-a759-4db69c8c8020",
   "metadata": {},
   "outputs": [],
   "source": []
  },
  {
   "cell_type": "markdown",
   "id": "1cbf40f6-9770-4cd0-80a7-0badf996fecf",
   "metadata": {},
   "source": [
    "#### City"
   ]
  },
  {
   "cell_type": "markdown",
   "id": "617ab191-711e-410d-88a4-7bceeb12893c",
   "metadata": {},
   "source": [
    "Q: Is the city population variable correlated with fraudulent transactions? As city population increases, do we see an increase in total fraud?"
   ]
  },
  {
   "cell_type": "code",
   "execution_count": 129,
   "id": "6533d780-6772-4c3a-9eac-be7953efa206",
   "metadata": {},
   "outputs": [],
   "source": [
    "df['city_state'] = df['city'] + '_' + df['state']"
   ]
  },
  {
   "cell_type": "code",
   "execution_count": 132,
   "id": "f39f260f-af91-4ed1-9bd8-3c3712cd329c",
   "metadata": {},
   "outputs": [
    {
     "data": {
      "text/html": [
       "<div>\n",
       "<style scoped>\n",
       "    .dataframe tbody tr th:only-of-type {\n",
       "        vertical-align: middle;\n",
       "    }\n",
       "\n",
       "    .dataframe tbody tr th {\n",
       "        vertical-align: top;\n",
       "    }\n",
       "\n",
       "    .dataframe thead th {\n",
       "        text-align: right;\n",
       "    }\n",
       "</style>\n",
       "<table border=\"1\" class=\"dataframe\">\n",
       "  <thead>\n",
       "    <tr style=\"text-align: right;\">\n",
       "      <th></th>\n",
       "      <th>merchant</th>\n",
       "      <th>category</th>\n",
       "      <th>amt</th>\n",
       "      <th>is_male</th>\n",
       "      <th>street</th>\n",
       "      <th>city</th>\n",
       "      <th>state</th>\n",
       "      <th>zip</th>\n",
       "      <th>lat</th>\n",
       "      <th>long</th>\n",
       "      <th>city_pop</th>\n",
       "      <th>job</th>\n",
       "      <th>merch_lat</th>\n",
       "      <th>merch_long</th>\n",
       "      <th>is_fraud</th>\n",
       "      <th>cardholder_age</th>\n",
       "      <th>month_fraud_likelihood</th>\n",
       "      <th>time_group</th>\n",
       "      <th>state_pop</th>\n",
       "      <th>city_state</th>\n",
       "    </tr>\n",
       "  </thead>\n",
       "  <tbody>\n",
       "    <tr>\n",
       "      <th>555714</th>\n",
       "      <td>Reilly and Sons</td>\n",
       "      <td>health_fitness</td>\n",
       "      <td>43.77</td>\n",
       "      <td>1</td>\n",
       "      <td>558 Michael Estates</td>\n",
       "      <td>Luray</td>\n",
       "      <td>MO</td>\n",
       "      <td>63453</td>\n",
       "      <td>40.4931</td>\n",
       "      <td>-91.8912</td>\n",
       "      <td>519</td>\n",
       "      <td>Town planner</td>\n",
       "      <td>39.946837</td>\n",
       "      <td>-91.333331</td>\n",
       "      <td>0</td>\n",
       "      <td>54</td>\n",
       "      <td>0.001849</td>\n",
       "      <td>2</td>\n",
       "      <td>1768032.0</td>\n",
       "      <td>Luray_MO</td>\n",
       "    </tr>\n",
       "    <tr>\n",
       "      <th>555715</th>\n",
       "      <td>Hoppe-Parisian</td>\n",
       "      <td>kids_pets</td>\n",
       "      <td>111.84</td>\n",
       "      <td>1</td>\n",
       "      <td>572 Davis Mountains</td>\n",
       "      <td>Lake Jackson</td>\n",
       "      <td>TX</td>\n",
       "      <td>77566</td>\n",
       "      <td>29.0393</td>\n",
       "      <td>-95.4401</td>\n",
       "      <td>28739</td>\n",
       "      <td>Futures trader</td>\n",
       "      <td>29.661049</td>\n",
       "      <td>-96.186633</td>\n",
       "      <td>0</td>\n",
       "      <td>21</td>\n",
       "      <td>0.001849</td>\n",
       "      <td>2</td>\n",
       "      <td>8157650.0</td>\n",
       "      <td>Lake Jackson_TX</td>\n",
       "    </tr>\n",
       "    <tr>\n",
       "      <th>555716</th>\n",
       "      <td>Rau-Robel</td>\n",
       "      <td>kids_pets</td>\n",
       "      <td>86.88</td>\n",
       "      <td>0</td>\n",
       "      <td>144 Evans Islands Apt. 683</td>\n",
       "      <td>Burbank</td>\n",
       "      <td>WA</td>\n",
       "      <td>99323</td>\n",
       "      <td>46.1966</td>\n",
       "      <td>-118.9017</td>\n",
       "      <td>3684</td>\n",
       "      <td>Musician</td>\n",
       "      <td>46.658340</td>\n",
       "      <td>-119.715054</td>\n",
       "      <td>0</td>\n",
       "      <td>39</td>\n",
       "      <td>0.001849</td>\n",
       "      <td>2</td>\n",
       "      <td>1209549.0</td>\n",
       "      <td>Burbank_WA</td>\n",
       "    </tr>\n",
       "    <tr>\n",
       "      <th>555717</th>\n",
       "      <td>Breitenberg LLC</td>\n",
       "      <td>travel</td>\n",
       "      <td>7.99</td>\n",
       "      <td>1</td>\n",
       "      <td>7020 Doyle Stream Apt. 951</td>\n",
       "      <td>Mesa</td>\n",
       "      <td>ID</td>\n",
       "      <td>83643</td>\n",
       "      <td>44.6255</td>\n",
       "      <td>-116.4493</td>\n",
       "      <td>129</td>\n",
       "      <td>Cartographer</td>\n",
       "      <td>44.470525</td>\n",
       "      <td>-117.080888</td>\n",
       "      <td>0</td>\n",
       "      <td>55</td>\n",
       "      <td>0.001849</td>\n",
       "      <td>2</td>\n",
       "      <td>92550.0</td>\n",
       "      <td>Mesa_ID</td>\n",
       "    </tr>\n",
       "    <tr>\n",
       "      <th>555718</th>\n",
       "      <td>Dare-Marvin</td>\n",
       "      <td>entertainment</td>\n",
       "      <td>38.13</td>\n",
       "      <td>1</td>\n",
       "      <td>830 Myers Plaza Apt. 384</td>\n",
       "      <td>Edmond</td>\n",
       "      <td>OK</td>\n",
       "      <td>73034</td>\n",
       "      <td>35.6665</td>\n",
       "      <td>-97.4798</td>\n",
       "      <td>116001</td>\n",
       "      <td>Media buyer</td>\n",
       "      <td>36.210097</td>\n",
       "      <td>-97.036372</td>\n",
       "      <td>0</td>\n",
       "      <td>27</td>\n",
       "      <td>0.001849</td>\n",
       "      <td>2</td>\n",
       "      <td>1265206.0</td>\n",
       "      <td>Edmond_OK</td>\n",
       "    </tr>\n",
       "  </tbody>\n",
       "</table>\n",
       "</div>"
      ],
      "text/plain": [
       "               merchant        category     amt  is_male  \\\n",
       "555714  Reilly and Sons  health_fitness   43.77        1   \n",
       "555715   Hoppe-Parisian       kids_pets  111.84        1   \n",
       "555716        Rau-Robel       kids_pets   86.88        0   \n",
       "555717  Breitenberg LLC          travel    7.99        1   \n",
       "555718      Dare-Marvin   entertainment   38.13        1   \n",
       "\n",
       "                            street          city state    zip      lat  \\\n",
       "555714         558 Michael Estates         Luray    MO  63453  40.4931   \n",
       "555715         572 Davis Mountains  Lake Jackson    TX  77566  29.0393   \n",
       "555716  144 Evans Islands Apt. 683       Burbank    WA  99323  46.1966   \n",
       "555717  7020 Doyle Stream Apt. 951          Mesa    ID  83643  44.6255   \n",
       "555718    830 Myers Plaza Apt. 384        Edmond    OK  73034  35.6665   \n",
       "\n",
       "            long  city_pop             job  merch_lat  merch_long  is_fraud  \\\n",
       "555714  -91.8912       519    Town planner  39.946837  -91.333331         0   \n",
       "555715  -95.4401     28739  Futures trader  29.661049  -96.186633         0   \n",
       "555716 -118.9017      3684        Musician  46.658340 -119.715054         0   \n",
       "555717 -116.4493       129    Cartographer  44.470525 -117.080888         0   \n",
       "555718  -97.4798    116001     Media buyer  36.210097  -97.036372         0   \n",
       "\n",
       "        cardholder_age  month_fraud_likelihood  time_group  state_pop  \\\n",
       "555714              54                0.001849           2  1768032.0   \n",
       "555715              21                0.001849           2  8157650.0   \n",
       "555716              39                0.001849           2  1209549.0   \n",
       "555717              55                0.001849           2    92550.0   \n",
       "555718              27                0.001849           2  1265206.0   \n",
       "\n",
       "             city_state  \n",
       "555714         Luray_MO  \n",
       "555715  Lake Jackson_TX  \n",
       "555716       Burbank_WA  \n",
       "555717          Mesa_ID  \n",
       "555718        Edmond_OK  "
      ]
     },
     "execution_count": 132,
     "metadata": {},
     "output_type": "execute_result"
    }
   ],
   "source": [
    "df.tail()"
   ]
  },
  {
   "cell_type": "code",
   "execution_count": 133,
   "id": "a9eacd39-beb3-4c1c-9ac0-059760cd7bdd",
   "metadata": {},
   "outputs": [],
   "source": [
    "city_df = pd.DataFrame({'city_state':df.groupby('city_state').is_fraud.sum().index,\n",
    "                         'num_fraud_transactions':df.groupby('city_state').is_fraud.sum().values,\n",
    "                         'num_total_transactions':df.groupby('city_state').is_fraud.count().values}\n",
    "                       )"
   ]
  },
  {
   "cell_type": "code",
   "execution_count": 134,
   "id": "d002587b-807c-4ca4-b65c-956091949423",
   "metadata": {},
   "outputs": [
    {
     "data": {
      "text/html": [
       "<div>\n",
       "<style scoped>\n",
       "    .dataframe tbody tr th:only-of-type {\n",
       "        vertical-align: middle;\n",
       "    }\n",
       "\n",
       "    .dataframe tbody tr th {\n",
       "        vertical-align: top;\n",
       "    }\n",
       "\n",
       "    .dataframe thead th {\n",
       "        text-align: right;\n",
       "    }\n",
       "</style>\n",
       "<table border=\"1\" class=\"dataframe\">\n",
       "  <thead>\n",
       "    <tr style=\"text-align: right;\">\n",
       "      <th></th>\n",
       "      <th>city_state</th>\n",
       "      <th>num_fraud_transactions</th>\n",
       "      <th>num_total_transactions</th>\n",
       "    </tr>\n",
       "  </thead>\n",
       "  <tbody>\n",
       "    <tr>\n",
       "      <th>0</th>\n",
       "      <td>Achille_OK</td>\n",
       "      <td>0</td>\n",
       "      <td>208</td>\n",
       "    </tr>\n",
       "    <tr>\n",
       "      <th>1</th>\n",
       "      <td>Acworth_NH</td>\n",
       "      <td>0</td>\n",
       "      <td>828</td>\n",
       "    </tr>\n",
       "    <tr>\n",
       "      <th>2</th>\n",
       "      <td>Adams_WI</td>\n",
       "      <td>12</td>\n",
       "      <td>223</td>\n",
       "    </tr>\n",
       "    <tr>\n",
       "      <th>3</th>\n",
       "      <td>Afton_MI</td>\n",
       "      <td>7</td>\n",
       "      <td>436</td>\n",
       "    </tr>\n",
       "    <tr>\n",
       "      <th>4</th>\n",
       "      <td>Afton_MN</td>\n",
       "      <td>0</td>\n",
       "      <td>461</td>\n",
       "    </tr>\n",
       "  </tbody>\n",
       "</table>\n",
       "</div>"
      ],
      "text/plain": [
       "   city_state  num_fraud_transactions  num_total_transactions\n",
       "0  Achille_OK                       0                     208\n",
       "1  Acworth_NH                       0                     828\n",
       "2    Adams_WI                      12                     223\n",
       "3    Afton_MI                       7                     436\n",
       "4    Afton_MN                       0                     461"
      ]
     },
     "execution_count": 134,
     "metadata": {},
     "output_type": "execute_result"
    }
   ],
   "source": [
    "city_df.head()"
   ]
  },
  {
   "cell_type": "code",
   "execution_count": 135,
   "id": "1a39d900-7002-4297-9daa-e07ddaac8bcf",
   "metadata": {},
   "outputs": [],
   "source": [
    "city_df_1 = state_df_1.reset_index()"
   ]
  },
  {
   "cell_type": "code",
   "execution_count": 137,
   "id": "6f985de4-9fa7-4111-a57d-16804d7de8af",
   "metadata": {},
   "outputs": [
    {
     "data": {
      "text/html": [
       "<div>\n",
       "<style scoped>\n",
       "    .dataframe tbody tr th:only-of-type {\n",
       "        vertical-align: middle;\n",
       "    }\n",
       "\n",
       "    .dataframe tbody tr th {\n",
       "        vertical-align: top;\n",
       "    }\n",
       "\n",
       "    .dataframe thead th {\n",
       "        text-align: right;\n",
       "    }\n",
       "</style>\n",
       "<table border=\"1\" class=\"dataframe\">\n",
       "  <thead>\n",
       "    <tr style=\"text-align: right;\">\n",
       "      <th></th>\n",
       "      <th>state</th>\n",
       "      <th>city</th>\n",
       "      <th>city_pop</th>\n",
       "    </tr>\n",
       "  </thead>\n",
       "  <tbody>\n",
       "    <tr>\n",
       "      <th>0</th>\n",
       "      <td>AK</td>\n",
       "      <td>Craig</td>\n",
       "      <td>1920.0</td>\n",
       "    </tr>\n",
       "    <tr>\n",
       "      <th>1</th>\n",
       "      <td>AK</td>\n",
       "      <td>Huslia</td>\n",
       "      <td>277.0</td>\n",
       "    </tr>\n",
       "  </tbody>\n",
       "</table>\n",
       "</div>"
      ],
      "text/plain": [
       "  state    city  city_pop\n",
       "0    AK   Craig    1920.0\n",
       "1    AK  Huslia     277.0"
      ]
     },
     "execution_count": 137,
     "metadata": {},
     "output_type": "execute_result"
    }
   ],
   "source": [
    "city_df_1.head(2)"
   ]
  },
  {
   "cell_type": "code",
   "execution_count": 139,
   "id": "d1393ec9-2971-400a-9fca-eae5eb6fda2a",
   "metadata": {},
   "outputs": [],
   "source": [
    "city_df_1['city_state'] = city_df_1['city'] + '_' + city_df_1['state']"
   ]
  },
  {
   "cell_type": "code",
   "execution_count": 141,
   "id": "3dd027d0-8d6b-4ad4-a860-d8e11f73cd39",
   "metadata": {},
   "outputs": [
    {
     "data": {
      "text/html": [
       "<div>\n",
       "<style scoped>\n",
       "    .dataframe tbody tr th:only-of-type {\n",
       "        vertical-align: middle;\n",
       "    }\n",
       "\n",
       "    .dataframe tbody tr th {\n",
       "        vertical-align: top;\n",
       "    }\n",
       "\n",
       "    .dataframe thead th {\n",
       "        text-align: right;\n",
       "    }\n",
       "</style>\n",
       "<table border=\"1\" class=\"dataframe\">\n",
       "  <thead>\n",
       "    <tr style=\"text-align: right;\">\n",
       "      <th></th>\n",
       "      <th>state</th>\n",
       "      <th>city</th>\n",
       "      <th>city_pop</th>\n",
       "      <th>city_state</th>\n",
       "    </tr>\n",
       "  </thead>\n",
       "  <tbody>\n",
       "    <tr>\n",
       "      <th>0</th>\n",
       "      <td>AK</td>\n",
       "      <td>Craig</td>\n",
       "      <td>1920.0</td>\n",
       "      <td>Craig_AK</td>\n",
       "    </tr>\n",
       "    <tr>\n",
       "      <th>1</th>\n",
       "      <td>AK</td>\n",
       "      <td>Huslia</td>\n",
       "      <td>277.0</td>\n",
       "      <td>Huslia_AK</td>\n",
       "    </tr>\n",
       "  </tbody>\n",
       "</table>\n",
       "</div>"
      ],
      "text/plain": [
       "  state    city  city_pop city_state\n",
       "0    AK   Craig    1920.0   Craig_AK\n",
       "1    AK  Huslia     277.0  Huslia_AK"
      ]
     },
     "execution_count": 141,
     "metadata": {},
     "output_type": "execute_result"
    }
   ],
   "source": [
    "city_df_1.head(2)"
   ]
  },
  {
   "cell_type": "code",
   "execution_count": 144,
   "id": "a29ceea5-16bf-4842-9958-307899f999a3",
   "metadata": {},
   "outputs": [],
   "source": [
    "city_df_1 = city_df_1.drop(['state', 'city'], axis=1)"
   ]
  },
  {
   "cell_type": "code",
   "execution_count": 147,
   "id": "663a1d36-1f8b-4bd3-8297-7bdbefb3ee8c",
   "metadata": {},
   "outputs": [],
   "source": [
    "city_df = pd.merge(left=city_df, right=city_df_1, how='left', on='city_state')"
   ]
  },
  {
   "cell_type": "code",
   "execution_count": 149,
   "id": "3e1d2ac9-1e3b-403b-89ec-55b6071493a2",
   "metadata": {},
   "outputs": [
    {
     "data": {
      "text/html": [
       "<div>\n",
       "<style scoped>\n",
       "    .dataframe tbody tr th:only-of-type {\n",
       "        vertical-align: middle;\n",
       "    }\n",
       "\n",
       "    .dataframe tbody tr th {\n",
       "        vertical-align: top;\n",
       "    }\n",
       "\n",
       "    .dataframe thead th {\n",
       "        text-align: right;\n",
       "    }\n",
       "</style>\n",
       "<table border=\"1\" class=\"dataframe\">\n",
       "  <thead>\n",
       "    <tr style=\"text-align: right;\">\n",
       "      <th></th>\n",
       "      <th>city_state</th>\n",
       "      <th>num_fraud_transactions</th>\n",
       "      <th>num_total_transactions</th>\n",
       "      <th>city_pop</th>\n",
       "    </tr>\n",
       "  </thead>\n",
       "  <tbody>\n",
       "    <tr>\n",
       "      <th>0</th>\n",
       "      <td>Achille_OK</td>\n",
       "      <td>0</td>\n",
       "      <td>208</td>\n",
       "      <td>608.0</td>\n",
       "    </tr>\n",
       "    <tr>\n",
       "      <th>1</th>\n",
       "      <td>Acworth_NH</td>\n",
       "      <td>0</td>\n",
       "      <td>828</td>\n",
       "      <td>477.0</td>\n",
       "    </tr>\n",
       "  </tbody>\n",
       "</table>\n",
       "</div>"
      ],
      "text/plain": [
       "   city_state  num_fraud_transactions  num_total_transactions  city_pop\n",
       "0  Achille_OK                       0                     208     608.0\n",
       "1  Acworth_NH                       0                     828     477.0"
      ]
     },
     "execution_count": 149,
     "metadata": {},
     "output_type": "execute_result"
    }
   ],
   "source": [
    "city_df.head(2)"
   ]
  },
  {
   "cell_type": "code",
   "execution_count": 150,
   "id": "8427fe1f-e8e8-4de1-8d51-e9ec207a277a",
   "metadata": {},
   "outputs": [],
   "source": [
    "city_df['percent_fraud'] = city_df['num_fraud_transactions'] / city_df['num_total_transactions']"
   ]
  },
  {
   "cell_type": "code",
   "execution_count": 151,
   "id": "69c9e41a-ac84-40c6-b28a-7f4d5e841759",
   "metadata": {},
   "outputs": [
    {
     "data": {
      "text/html": [
       "<div>\n",
       "<style scoped>\n",
       "    .dataframe tbody tr th:only-of-type {\n",
       "        vertical-align: middle;\n",
       "    }\n",
       "\n",
       "    .dataframe tbody tr th {\n",
       "        vertical-align: top;\n",
       "    }\n",
       "\n",
       "    .dataframe thead th {\n",
       "        text-align: right;\n",
       "    }\n",
       "</style>\n",
       "<table border=\"1\" class=\"dataframe\">\n",
       "  <thead>\n",
       "    <tr style=\"text-align: right;\">\n",
       "      <th></th>\n",
       "      <th>city_state</th>\n",
       "      <th>num_fraud_transactions</th>\n",
       "      <th>num_total_transactions</th>\n",
       "      <th>city_pop</th>\n",
       "      <th>percent_fraud</th>\n",
       "    </tr>\n",
       "  </thead>\n",
       "  <tbody>\n",
       "    <tr>\n",
       "      <th>0</th>\n",
       "      <td>Achille_OK</td>\n",
       "      <td>0</td>\n",
       "      <td>208</td>\n",
       "      <td>608.0</td>\n",
       "      <td>0.0</td>\n",
       "    </tr>\n",
       "    <tr>\n",
       "      <th>1</th>\n",
       "      <td>Acworth_NH</td>\n",
       "      <td>0</td>\n",
       "      <td>828</td>\n",
       "      <td>477.0</td>\n",
       "      <td>0.0</td>\n",
       "    </tr>\n",
       "  </tbody>\n",
       "</table>\n",
       "</div>"
      ],
      "text/plain": [
       "   city_state  num_fraud_transactions  num_total_transactions  city_pop  \\\n",
       "0  Achille_OK                       0                     208     608.0   \n",
       "1  Acworth_NH                       0                     828     477.0   \n",
       "\n",
       "   percent_fraud  \n",
       "0            0.0  \n",
       "1            0.0  "
      ]
     },
     "execution_count": 151,
     "metadata": {},
     "output_type": "execute_result"
    }
   ],
   "source": [
    "city_df.head(2)"
   ]
  },
  {
   "cell_type": "code",
   "execution_count": null,
   "id": "cab797ee-4692-4cc3-90b7-6e49194ce158",
   "metadata": {},
   "outputs": [],
   "source": []
  },
  {
   "cell_type": "code",
   "execution_count": 153,
   "id": "86e00508-3252-4f65-a4a7-b741d67cdef9",
   "metadata": {},
   "outputs": [
    {
     "data": {
      "image/png": "[encoded data removed]",
      "text/plain": [
       "<Figure size 640x480 with 1 Axes>"
      ]
     },
     "metadata": {},
     "output_type": "display_data"
    },
    {
     "data": {
      "image/png": "[encoded data removed]",
      "text/plain": [
       "<Figure size 640x480 with 1 Axes>"
      ]
     },
     "metadata": {},
     "output_type": "display_data"
    }
   ],
   "source": [
    "# plot\n",
    "ax1 = city_df.plot.scatter(x='city_pop', y='percent_fraud', rot=90)\n",
    "ax1.set_xlabel('city population')\n",
    "ax1.set_ylabel('percent fraud transactions')\n",
    "\n",
    "ax2 = city_df.plot.hist(column='percent_fraud', bins=50)\n",
    "ax2.set_xlabel('percent fraud transactions')\n",
    "ax2.set_ylabel('count');"
   ]
  },
  {
   "cell_type": "markdown",
   "id": "c6668a70-5595-4bcc-9812-a816531a5947",
   "metadata": {},
   "source": [
    "We can observe above that a few cities had 100 percent of their transactions fraudulent. This plot clearly delineates two groups that we can classify the cities into: high and low risk. It is important to keep in mind that this data is simulated. "
   ]
  },
  {
   "cell_type": "code",
   "execution_count": 160,
   "id": "0b47ccc3-27fa-46c7-990f-d96b4c02952b",
   "metadata": {},
   "outputs": [],
   "source": [
    "city_df['city_risk'] = city_df['percent_fraud'].apply(lambda x: 1 if x==1 else 0)"
   ]
  },
  {
   "cell_type": "code",
   "execution_count": 161,
   "id": "1df0f879-73fe-4573-b298-e24eb0639d76",
   "metadata": {},
   "outputs": [
    {
     "data": {
      "text/html": [
       "<div>\n",
       "<style scoped>\n",
       "    .dataframe tbody tr th:only-of-type {\n",
       "        vertical-align: middle;\n",
       "    }\n",
       "\n",
       "    .dataframe tbody tr th {\n",
       "        vertical-align: top;\n",
       "    }\n",
       "\n",
       "    .dataframe thead th {\n",
       "        text-align: right;\n",
       "    }\n",
       "</style>\n",
       "<table border=\"1\" class=\"dataframe\">\n",
       "  <thead>\n",
       "    <tr style=\"text-align: right;\">\n",
       "      <th></th>\n",
       "      <th>city_state</th>\n",
       "      <th>num_fraud_transactions</th>\n",
       "      <th>num_total_transactions</th>\n",
       "      <th>city_pop</th>\n",
       "      <th>percent_fraud</th>\n",
       "      <th>city_risk</th>\n",
       "    </tr>\n",
       "  </thead>\n",
       "  <tbody>\n",
       "    <tr>\n",
       "      <th>0</th>\n",
       "      <td>Achille_OK</td>\n",
       "      <td>0</td>\n",
       "      <td>208</td>\n",
       "      <td>608.0</td>\n",
       "      <td>0.0</td>\n",
       "      <td>0</td>\n",
       "    </tr>\n",
       "    <tr>\n",
       "      <th>1</th>\n",
       "      <td>Acworth_NH</td>\n",
       "      <td>0</td>\n",
       "      <td>828</td>\n",
       "      <td>477.0</td>\n",
       "      <td>0.0</td>\n",
       "      <td>0</td>\n",
       "    </tr>\n",
       "  </tbody>\n",
       "</table>\n",
       "</div>"
      ],
      "text/plain": [
       "   city_state  num_fraud_transactions  num_total_transactions  city_pop  \\\n",
       "0  Achille_OK                       0                     208     608.0   \n",
       "1  Acworth_NH                       0                     828     477.0   \n",
       "\n",
       "   percent_fraud  city_risk  \n",
       "0            0.0          0  \n",
       "1            0.0          0  "
      ]
     },
     "execution_count": 161,
     "metadata": {},
     "output_type": "execute_result"
    }
   ],
   "source": [
    "city_df.head(2)"
   ]
  },
  {
   "cell_type": "code",
   "execution_count": 162,
   "id": "0e1e5880-3cb8-4e4e-aee6-e5044c74cc21",
   "metadata": {},
   "outputs": [],
   "source": [
    "df = pd.merge(df,city_df[['city_state','city_risk']], how='left', on='city_state')"
   ]
  },
  {
   "cell_type": "code",
   "execution_count": 163,
   "id": "9a26a42f-fbd9-4ac7-9de3-21c98a151396",
   "metadata": {},
   "outputs": [
    {
     "data": {
      "text/html": [
       "<div>\n",
       "<style scoped>\n",
       "    .dataframe tbody tr th:only-of-type {\n",
       "        vertical-align: middle;\n",
       "    }\n",
       "\n",
       "    .dataframe tbody tr th {\n",
       "        vertical-align: top;\n",
       "    }\n",
       "\n",
       "    .dataframe thead th {\n",
       "        text-align: right;\n",
       "    }\n",
       "</style>\n",
       "<table border=\"1\" class=\"dataframe\">\n",
       "  <thead>\n",
       "    <tr style=\"text-align: right;\">\n",
       "      <th></th>\n",
       "      <th>merchant</th>\n",
       "      <th>category</th>\n",
       "      <th>amt</th>\n",
       "      <th>is_male</th>\n",
       "      <th>street</th>\n",
       "      <th>city</th>\n",
       "      <th>state</th>\n",
       "      <th>zip</th>\n",
       "      <th>lat</th>\n",
       "      <th>long</th>\n",
       "      <th>city_pop</th>\n",
       "      <th>job</th>\n",
       "      <th>merch_lat</th>\n",
       "      <th>merch_long</th>\n",
       "      <th>is_fraud</th>\n",
       "      <th>cardholder_age</th>\n",
       "      <th>month_fraud_likelihood</th>\n",
       "      <th>time_group</th>\n",
       "      <th>state_pop</th>\n",
       "      <th>city_state</th>\n",
       "      <th>city_risk</th>\n",
       "    </tr>\n",
       "  </thead>\n",
       "  <tbody>\n",
       "    <tr>\n",
       "      <th>0</th>\n",
       "      <td>Kirlin and Sons</td>\n",
       "      <td>personal_care</td>\n",
       "      <td>2.86</td>\n",
       "      <td>1</td>\n",
       "      <td>351 Darlene Green</td>\n",
       "      <td>Columbia</td>\n",
       "      <td>SC</td>\n",
       "      <td>29209</td>\n",
       "      <td>33.9659</td>\n",
       "      <td>-80.9355</td>\n",
       "      <td>333497</td>\n",
       "      <td>Mechanical engineer</td>\n",
       "      <td>33.986391</td>\n",
       "      <td>-81.200714</td>\n",
       "      <td>0</td>\n",
       "      <td>52</td>\n",
       "      <td>0.004425</td>\n",
       "      <td>0</td>\n",
       "      <td>506278.0</td>\n",
       "      <td>Columbia_SC</td>\n",
       "      <td>0</td>\n",
       "    </tr>\n",
       "    <tr>\n",
       "      <th>1</th>\n",
       "      <td>Sporer-Keebler</td>\n",
       "      <td>personal_care</td>\n",
       "      <td>29.84</td>\n",
       "      <td>0</td>\n",
       "      <td>3638 Marsh Union</td>\n",
       "      <td>Altonah</td>\n",
       "      <td>UT</td>\n",
       "      <td>84002</td>\n",
       "      <td>40.3207</td>\n",
       "      <td>-110.4360</td>\n",
       "      <td>302</td>\n",
       "      <td>Sales professional, IT</td>\n",
       "      <td>39.450498</td>\n",
       "      <td>-109.960431</td>\n",
       "      <td>0</td>\n",
       "      <td>30</td>\n",
       "      <td>0.004425</td>\n",
       "      <td>0</td>\n",
       "      <td>68823.0</td>\n",
       "      <td>Altonah_UT</td>\n",
       "      <td>0</td>\n",
       "    </tr>\n",
       "  </tbody>\n",
       "</table>\n",
       "</div>"
      ],
      "text/plain": [
       "          merchant       category    amt  is_male             street  \\\n",
       "0  Kirlin and Sons  personal_care   2.86        1  351 Darlene Green   \n",
       "1   Sporer-Keebler  personal_care  29.84        0   3638 Marsh Union   \n",
       "\n",
       "       city state    zip      lat      long  city_pop                     job  \\\n",
       "0  Columbia    SC  29209  33.9659  -80.9355    333497     Mechanical engineer   \n",
       "1   Altonah    UT  84002  40.3207 -110.4360       302  Sales professional, IT   \n",
       "\n",
       "   merch_lat  merch_long  is_fraud  cardholder_age  month_fraud_likelihood  \\\n",
       "0  33.986391  -81.200714         0              52                0.004425   \n",
       "1  39.450498 -109.960431         0              30                0.004425   \n",
       "\n",
       "   time_group  state_pop   city_state  city_risk  \n",
       "0           0   506278.0  Columbia_SC          0  \n",
       "1           0    68823.0   Altonah_UT          0  "
      ]
     },
     "execution_count": 163,
     "metadata": {},
     "output_type": "execute_result"
    }
   ],
   "source": [
    "df.head(2)"
   ]
  },
  {
   "cell_type": "code",
   "execution_count": 164,
   "id": "c4aefbf9-90ee-4363-9a81-21ec263fae50",
   "metadata": {},
   "outputs": [
    {
     "data": {
      "text/plain": [
       "Index(['merchant', 'category', 'amt', 'is_male', 'street', 'city', 'state',\n",
       "       'zip', 'lat', 'long', 'city_pop', 'job', 'merch_lat', 'merch_long',\n",
       "       'is_fraud', 'cardholder_age', 'month_fraud_likelihood', 'time_group',\n",
       "       'state_pop', 'city_state', 'city_risk'],\n",
       "      dtype='object')"
      ]
     },
     "execution_count": 164,
     "metadata": {},
     "output_type": "execute_result"
    }
   ],
   "source": [
    "df.columns"
   ]
  },
  {
   "cell_type": "code",
   "execution_count": 319,
   "id": "3f9509e1-90f5-449e-b61d-882b607e0a25",
   "metadata": {},
   "outputs": [],
   "source": [
    "df = df.drop(['street','city', 'state', 'zip', 'city_state'], axis=1)"
   ]
  },
  {
   "cell_type": "code",
   "execution_count": null,
   "id": "8c13eccd-f32f-4072-8b80-4f314b65d744",
   "metadata": {},
   "outputs": [],
   "source": []
  },
  {
   "cell_type": "markdown",
   "id": "8152cde3-ed32-41d6-bcfa-67163733ac12",
   "metadata": {},
   "source": [
    "#### Distance Between Transaction and Merchant"
   ]
  },
  {
   "cell_type": "code",
   "execution_count": 175,
   "id": "cd5fa83a",
   "metadata": {},
   "outputs": [],
   "source": [
    "# add a euclidean distance column \n",
    "# difference in latitude between cardholder and merchant\n",
    "df['lat_diff'] = np.abs(df['lat'] - df['merch_lat'])\n",
    "\n",
    "# difference in logitude between cardholder and merchant\n",
    "df['long_diff'] = np.abs(df['long'] - df['merch_long'])\n",
    "\n",
    "# compute the manhattan distance between cardholder and merchant\n",
    "df['dist'] = np.sqrt(df['lat_diff']**2 + df['long_diff']**2)\n",
    "\n",
    "\n",
    "# remove the lat and long differnece variables \n",
    "df = df.drop(['lat_diff', 'long_diff'], axis=1)"
   ]
  },
  {
   "cell_type": "code",
   "execution_count": 176,
   "id": "8a39c3b2",
   "metadata": {},
   "outputs": [
    {
     "data": {
      "text/html": [
       "<div>\n",
       "<style scoped>\n",
       "    .dataframe tbody tr th:only-of-type {\n",
       "        vertical-align: middle;\n",
       "    }\n",
       "\n",
       "    .dataframe tbody tr th {\n",
       "        vertical-align: top;\n",
       "    }\n",
       "\n",
       "    .dataframe thead th {\n",
       "        text-align: right;\n",
       "    }\n",
       "</style>\n",
       "<table border=\"1\" class=\"dataframe\">\n",
       "  <thead>\n",
       "    <tr style=\"text-align: right;\">\n",
       "      <th></th>\n",
       "      <th>merchant</th>\n",
       "      <th>category</th>\n",
       "      <th>amt</th>\n",
       "      <th>is_male</th>\n",
       "      <th>street</th>\n",
       "      <th>city</th>\n",
       "      <th>state</th>\n",
       "      <th>zip</th>\n",
       "      <th>lat</th>\n",
       "      <th>long</th>\n",
       "      <th>city_pop</th>\n",
       "      <th>job</th>\n",
       "      <th>merch_lat</th>\n",
       "      <th>merch_long</th>\n",
       "      <th>is_fraud</th>\n",
       "      <th>cardholder_age</th>\n",
       "      <th>month_fraud_likelihood</th>\n",
       "      <th>time_group</th>\n",
       "      <th>state_pop</th>\n",
       "      <th>city_state</th>\n",
       "      <th>city_risk</th>\n",
       "      <th>dist</th>\n",
       "    </tr>\n",
       "  </thead>\n",
       "  <tbody>\n",
       "    <tr>\n",
       "      <th>0</th>\n",
       "      <td>Kirlin and Sons</td>\n",
       "      <td>personal_care</td>\n",
       "      <td>2.86</td>\n",
       "      <td>1</td>\n",
       "      <td>351 Darlene Green</td>\n",
       "      <td>Columbia</td>\n",
       "      <td>SC</td>\n",
       "      <td>29209</td>\n",
       "      <td>33.9659</td>\n",
       "      <td>-80.9355</td>\n",
       "      <td>333497</td>\n",
       "      <td>Mechanical engineer</td>\n",
       "      <td>33.986391</td>\n",
       "      <td>-81.200714</td>\n",
       "      <td>0</td>\n",
       "      <td>52</td>\n",
       "      <td>0.004425</td>\n",
       "      <td>0</td>\n",
       "      <td>506278.0</td>\n",
       "      <td>Columbia_SC</td>\n",
       "      <td>0</td>\n",
       "      <td>0.266004</td>\n",
       "    </tr>\n",
       "    <tr>\n",
       "      <th>1</th>\n",
       "      <td>Sporer-Keebler</td>\n",
       "      <td>personal_care</td>\n",
       "      <td>29.84</td>\n",
       "      <td>0</td>\n",
       "      <td>3638 Marsh Union</td>\n",
       "      <td>Altonah</td>\n",
       "      <td>UT</td>\n",
       "      <td>84002</td>\n",
       "      <td>40.3207</td>\n",
       "      <td>-110.4360</td>\n",
       "      <td>302</td>\n",
       "      <td>Sales professional, IT</td>\n",
       "      <td>39.450498</td>\n",
       "      <td>-109.960431</td>\n",
       "      <td>0</td>\n",
       "      <td>30</td>\n",
       "      <td>0.004425</td>\n",
       "      <td>0</td>\n",
       "      <td>68823.0</td>\n",
       "      <td>Altonah_UT</td>\n",
       "      <td>0</td>\n",
       "      <td>0.991674</td>\n",
       "    </tr>\n",
       "  </tbody>\n",
       "</table>\n",
       "</div>"
      ],
      "text/plain": [
       "          merchant       category    amt  is_male             street  \\\n",
       "0  Kirlin and Sons  personal_care   2.86        1  351 Darlene Green   \n",
       "1   Sporer-Keebler  personal_care  29.84        0   3638 Marsh Union   \n",
       "\n",
       "       city state    zip      lat      long  city_pop                     job  \\\n",
       "0  Columbia    SC  29209  33.9659  -80.9355    333497     Mechanical engineer   \n",
       "1   Altonah    UT  84002  40.3207 -110.4360       302  Sales professional, IT   \n",
       "\n",
       "   merch_lat  merch_long  is_fraud  cardholder_age  month_fraud_likelihood  \\\n",
       "0  33.986391  -81.200714         0              52                0.004425   \n",
       "1  39.450498 -109.960431         0              30                0.004425   \n",
       "\n",
       "   time_group  state_pop   city_state  city_risk      dist  \n",
       "0           0   506278.0  Columbia_SC          0  0.266004  \n",
       "1           0    68823.0   Altonah_UT          0  0.991674  "
      ]
     },
     "execution_count": 176,
     "metadata": {},
     "output_type": "execute_result"
    }
   ],
   "source": [
    "df.head(2)"
   ]
  },
  {
   "cell_type": "code",
   "execution_count": 179,
   "id": "8f898bac-4d6e-453e-808a-5b324e20ed5d",
   "metadata": {},
   "outputs": [
    {
     "data": {
      "text/plain": [
       "1.4122207886166418"
      ]
     },
     "execution_count": 179,
     "metadata": {},
     "output_type": "execute_result"
    }
   ],
   "source": [
    "df.dist.max()"
   ]
  },
  {
   "cell_type": "code",
   "execution_count": 181,
   "id": "11b7418e-ad5f-4077-ad98-4257d7386f2b",
   "metadata": {},
   "outputs": [
    {
     "data": {
      "text/plain": [
       "0.0014289636104533178"
      ]
     },
     "execution_count": 181,
     "metadata": {},
     "output_type": "execute_result"
    }
   ],
   "source": [
    "df.dist.min()"
   ]
  },
  {
   "cell_type": "code",
   "execution_count": 183,
   "id": "860e2b8e-646f-43f1-8fe4-8c3613c33a25",
   "metadata": {},
   "outputs": [
    {
     "data": {
      "text/plain": [
       "array([0.00142896, 0.03022063, 0.0590123 , 0.08780397, 0.11659564,\n",
       "       0.14538731, 0.17417898, 0.20297065, 0.23176232, 0.26055399,\n",
       "       0.28934566, 0.31813733, 0.346929  , 0.37572067, 0.40451234,\n",
       "       0.43330401, 0.46209568, 0.49088735, 0.51967902, 0.54847069,\n",
       "       0.57726236, 0.60605403, 0.6348457 , 0.66363737, 0.69242904,\n",
       "       0.72122071, 0.75001238, 0.77880405, 0.80759572, 0.83638739,\n",
       "       0.86517906, 0.89397073, 0.9227624 , 0.95155407, 0.98034574,\n",
       "       1.00913741, 1.03792908, 1.06672075, 1.09551242, 1.12430409,\n",
       "       1.15309576, 1.18188743, 1.2106791 , 1.23947077, 1.26826244,\n",
       "       1.29705411, 1.32584578, 1.35463745, 1.38342912, 1.41222079])"
      ]
     },
     "execution_count": 183,
     "metadata": {},
     "output_type": "execute_result"
    }
   ],
   "source": [
    "np.linspace(df.dist.min(), df.dist.max(), 50)"
   ]
  },
  {
   "cell_type": "code",
   "execution_count": 185,
   "id": "3b00d200-5aab-42c8-97d5-80f66f8562e9",
   "metadata": {},
   "outputs": [],
   "source": [
    "l = np.linspace(df.dist.min(), df.dist.max(), 50)"
   ]
  },
  {
   "cell_type": "code",
   "execution_count": 187,
   "id": "07642922-fde4-49c1-a7b0-437be2d93602",
   "metadata": {},
   "outputs": [],
   "source": [
    "bucket = []\n",
    "f_likelihoods = []"
   ]
  },
  {
   "cell_type": "code",
   "execution_count": 189,
   "id": "df25a2b8-a214-464a-9a81-0275415b3648",
   "metadata": {},
   "outputs": [],
   "source": [
    "for i in range(1,50):\n",
    "    bottom = l[i-1]\n",
    "    top = l[i]\n",
    "    new = df.loc[(df['dist'] >= bottom) &  (df['dist'] < top)] # filtering data to transactions within a distance range \n",
    "    fraud_sum = new.is_fraud.sum() # counting the number of fraudulent transactions\n",
    "    count_transactions = new.shape[0] # counting the number of total transactions\n",
    "    fraud_likelihood = fraud_sum/count_transactions # fraudulent transactions / total transactions\n",
    "    bucket.append(top)\n",
    "    f_likelihoods.append(fraud_likelihood)"
   ]
  },
  {
   "cell_type": "code",
   "execution_count": 190,
   "id": "50b13171-6b8e-4188-b284-088da22e4c40",
   "metadata": {},
   "outputs": [
    {
     "data": {
      "image/png": "[encoded data removed]",
      "text/plain": [
       "<Figure size 640x480 with 1 Axes>"
      ]
     },
     "metadata": {},
     "output_type": "display_data"
    }
   ],
   "source": [
    "# plot\n",
    "plt.bar(bucket, f_likelihoods)\n",
    "plt.xlabel(\"Distance\")  \n",
    "plt.ylabel(\"Likelihood of Fraudulent Transactions\")  \n",
    "plt.title(\"Fraud Likelihood by Distance Between Mercahnt and Customer\")\n",
    "plt.show()"
   ]
  },
  {
   "cell_type": "markdown",
   "id": "fce781dc-12f1-489a-8a7c-828ad92db0e3",
   "metadata": {},
   "source": [
    "Above we can see that the distance between the merchant and the customer does not provide useful information in predicting whether the transaction was fraudulent."
   ]
  },
  {
   "cell_type": "code",
   "execution_count": 194,
   "id": "1257f7ff-07db-4448-bea2-3024168c0bb2",
   "metadata": {},
   "outputs": [],
   "source": [
    "df = df.drop(['dist'], axis=1)"
   ]
  },
  {
   "cell_type": "code",
   "execution_count": null,
   "id": "e376e01b-496b-4c8b-b0c4-656bdac9a199",
   "metadata": {},
   "outputs": [],
   "source": []
  },
  {
   "cell_type": "code",
   "execution_count": null,
   "id": "c2e928a5",
   "metadata": {},
   "outputs": [],
   "source": [
    " "
   ]
  },
  {
   "cell_type": "markdown",
   "id": "240b79ba-4d07-4958-92ed-079362a1ee1e",
   "metadata": {},
   "source": [
    "### Merchant Information"
   ]
  },
  {
   "cell_type": "markdown",
   "id": "feaa485e-c551-4bbe-89ac-c863dc16e14d",
   "metadata": {},
   "source": [
    "#### Merchant Feature Engineering"
   ]
  },
  {
   "cell_type": "code",
   "execution_count": 200,
   "id": "958b0992-021c-4085-a98c-2d3b8ef3ad96",
   "metadata": {},
   "outputs": [],
   "source": [
    "# Find how many of the transactions that occured at the merchants were fraudulent transactions and print the top five.\n",
    "\n",
    "merch_df = pd.DataFrame({'merchant':df.groupby('merchant').is_fraud.sum().index,\n",
    "                         'num_fraud_transactions':df.groupby('merchant').is_fraud.sum().values,\n",
    "                         'num_total_transactions':df.groupby('merchant').is_fraud.count().values},\n",
    "                       )"
   ]
  },
  {
   "cell_type": "code",
   "execution_count": 201,
   "id": "80f336cb-f03e-443a-a4ae-81a0d837b559",
   "metadata": {},
   "outputs": [
    {
     "data": {
      "text/html": [
       "<div>\n",
       "<style scoped>\n",
       "    .dataframe tbody tr th:only-of-type {\n",
       "        vertical-align: middle;\n",
       "    }\n",
       "\n",
       "    .dataframe tbody tr th {\n",
       "        vertical-align: top;\n",
       "    }\n",
       "\n",
       "    .dataframe thead th {\n",
       "        text-align: right;\n",
       "    }\n",
       "</style>\n",
       "<table border=\"1\" class=\"dataframe\">\n",
       "  <thead>\n",
       "    <tr style=\"text-align: right;\">\n",
       "      <th></th>\n",
       "      <th>merchant</th>\n",
       "      <th>num_fraud_transactions</th>\n",
       "      <th>num_total_transactions</th>\n",
       "    </tr>\n",
       "  </thead>\n",
       "  <tbody>\n",
       "    <tr>\n",
       "      <th>0</th>\n",
       "      <td>Abbott-Rogahn</td>\n",
       "      <td>1</td>\n",
       "      <td>803</td>\n",
       "    </tr>\n",
       "    <tr>\n",
       "      <th>1</th>\n",
       "      <td>Abbott-Steuber</td>\n",
       "      <td>2</td>\n",
       "      <td>766</td>\n",
       "    </tr>\n",
       "    <tr>\n",
       "      <th>2</th>\n",
       "      <td>Abernathy and Sons</td>\n",
       "      <td>0</td>\n",
       "      <td>762</td>\n",
       "    </tr>\n",
       "    <tr>\n",
       "      <th>3</th>\n",
       "      <td>Abshire PLC</td>\n",
       "      <td>0</td>\n",
       "      <td>838</td>\n",
       "    </tr>\n",
       "    <tr>\n",
       "      <th>4</th>\n",
       "      <td>Adams, Kovacek and Kuhlman</td>\n",
       "      <td>1</td>\n",
       "      <td>414</td>\n",
       "    </tr>\n",
       "  </tbody>\n",
       "</table>\n",
       "</div>"
      ],
      "text/plain": [
       "                     merchant  num_fraud_transactions  num_total_transactions\n",
       "0               Abbott-Rogahn                       1                     803\n",
       "1              Abbott-Steuber                       2                     766\n",
       "2          Abernathy and Sons                       0                     762\n",
       "3                 Abshire PLC                       0                     838\n",
       "4  Adams, Kovacek and Kuhlman                       1                     414"
      ]
     },
     "execution_count": 201,
     "metadata": {},
     "output_type": "execute_result"
    }
   ],
   "source": [
    "merch_df.head()"
   ]
  },
  {
   "cell_type": "code",
   "execution_count": 203,
   "id": "b16cfa91-40a2-42b8-b924-508e18277e81",
   "metadata": {},
   "outputs": [
    {
     "data": {
      "text/html": [
       "<div>\n",
       "<style scoped>\n",
       "    .dataframe tbody tr th:only-of-type {\n",
       "        vertical-align: middle;\n",
       "    }\n",
       "\n",
       "    .dataframe tbody tr th {\n",
       "        vertical-align: top;\n",
       "    }\n",
       "\n",
       "    .dataframe thead th {\n",
       "        text-align: right;\n",
       "    }\n",
       "</style>\n",
       "<table border=\"1\" class=\"dataframe\">\n",
       "  <thead>\n",
       "    <tr style=\"text-align: right;\">\n",
       "      <th></th>\n",
       "      <th>merchant</th>\n",
       "      <th>num_fraud_transactions</th>\n",
       "      <th>num_total_transactions</th>\n",
       "      <th>fraud_raw_prob</th>\n",
       "    </tr>\n",
       "  </thead>\n",
       "  <tbody>\n",
       "    <tr>\n",
       "      <th>528</th>\n",
       "      <td>Romaguera, Cruickshank and Greenholt</td>\n",
       "      <td>18</td>\n",
       "      <td>828</td>\n",
       "      <td>0.021739</td>\n",
       "    </tr>\n",
       "    <tr>\n",
       "      <th>386</th>\n",
       "      <td>Lemke-Gutmann</td>\n",
       "      <td>18</td>\n",
       "      <td>837</td>\n",
       "      <td>0.021505</td>\n",
       "    </tr>\n",
       "    <tr>\n",
       "      <th>443</th>\n",
       "      <td>Mosciski, Ziemann and Farrell</td>\n",
       "      <td>18</td>\n",
       "      <td>870</td>\n",
       "      <td>0.020690</td>\n",
       "    </tr>\n",
       "    <tr>\n",
       "      <th>238</th>\n",
       "      <td>Heathcote, Yost and Kertzmann</td>\n",
       "      <td>17</td>\n",
       "      <td>830</td>\n",
       "      <td>0.020482</td>\n",
       "    </tr>\n",
       "    <tr>\n",
       "      <th>523</th>\n",
       "      <td>Rodriguez, Yost and Jenkins</td>\n",
       "      <td>10</td>\n",
       "      <td>501</td>\n",
       "      <td>0.019960</td>\n",
       "    </tr>\n",
       "  </tbody>\n",
       "</table>\n",
       "</div>"
      ],
      "text/plain": [
       "                                 merchant  num_fraud_transactions  \\\n",
       "528  Romaguera, Cruickshank and Greenholt                      18   \n",
       "386                         Lemke-Gutmann                      18   \n",
       "443         Mosciski, Ziemann and Farrell                      18   \n",
       "238         Heathcote, Yost and Kertzmann                      17   \n",
       "523           Rodriguez, Yost and Jenkins                      10   \n",
       "\n",
       "     num_total_transactions  fraud_raw_prob  \n",
       "528                     828        0.021739  \n",
       "386                     837        0.021505  \n",
       "443                     870        0.020690  \n",
       "238                     830        0.020482  \n",
       "523                     501        0.019960  "
      ]
     },
     "execution_count": 203,
     "metadata": {},
     "output_type": "execute_result"
    }
   ],
   "source": [
    "merch_df['fraud_raw_prob'] = (merch_df['num_fraud_transactions'] / merch_df['num_total_transactions'])\n",
    "merch_df.sort_values(by='fraud_raw_prob', ascending=False).head()"
   ]
  },
  {
   "cell_type": "code",
   "execution_count": null,
   "id": "83f2e285-d31e-48a1-a27a-b6e59f53ff76",
   "metadata": {},
   "outputs": [],
   "source": []
  },
  {
   "cell_type": "code",
   "execution_count": null,
   "id": "77bc5db8-dfef-4e49-ac83-e652e3cab2a9",
   "metadata": {},
   "outputs": [],
   "source": []
  },
  {
   "cell_type": "code",
   "execution_count": 208,
   "id": "4a3e3434-c583-4c8f-8f3c-c4518f174e95",
   "metadata": {},
   "outputs": [
    {
     "data": {
      "text/html": [
       "<div>\n",
       "<style scoped>\n",
       "    .dataframe tbody tr th:only-of-type {\n",
       "        vertical-align: middle;\n",
       "    }\n",
       "\n",
       "    .dataframe tbody tr th {\n",
       "        vertical-align: top;\n",
       "    }\n",
       "\n",
       "    .dataframe thead th {\n",
       "        text-align: right;\n",
       "    }\n",
       "</style>\n",
       "<table border=\"1\" class=\"dataframe\">\n",
       "  <thead>\n",
       "    <tr style=\"text-align: right;\">\n",
       "      <th></th>\n",
       "      <th>num_fraud_transactions</th>\n",
       "      <th>num_total_transactions</th>\n",
       "      <th>fraud_raw_prob</th>\n",
       "      <th>merch_lat</th>\n",
       "      <th>merch_long</th>\n",
       "      <th>avg_amt</th>\n",
       "      <th>tot_amt</th>\n",
       "      <th>male_customer_avg</th>\n",
       "    </tr>\n",
       "    <tr>\n",
       "      <th>merchant</th>\n",
       "      <th></th>\n",
       "      <th></th>\n",
       "      <th></th>\n",
       "      <th></th>\n",
       "      <th></th>\n",
       "      <th></th>\n",
       "      <th></th>\n",
       "      <th></th>\n",
       "    </tr>\n",
       "  </thead>\n",
       "  <tbody>\n",
       "    <tr>\n",
       "      <th>Abbott-Rogahn</th>\n",
       "      <td>1</td>\n",
       "      <td>803</td>\n",
       "      <td>0.001245</td>\n",
       "      <td>38.671303</td>\n",
       "      <td>-90.644001</td>\n",
       "      <td>66.198369</td>\n",
       "      <td>53157.29</td>\n",
       "      <td>0.474471</td>\n",
       "    </tr>\n",
       "    <tr>\n",
       "      <th>Abbott-Steuber</th>\n",
       "      <td>2</td>\n",
       "      <td>766</td>\n",
       "      <td>0.002611</td>\n",
       "      <td>38.327988</td>\n",
       "      <td>-89.925832</td>\n",
       "      <td>51.221958</td>\n",
       "      <td>39236.02</td>\n",
       "      <td>0.408616</td>\n",
       "    </tr>\n",
       "    <tr>\n",
       "      <th>Abernathy and Sons</th>\n",
       "      <td>0</td>\n",
       "      <td>762</td>\n",
       "      <td>0.000000</td>\n",
       "      <td>38.459248</td>\n",
       "      <td>-90.215522</td>\n",
       "      <td>50.650630</td>\n",
       "      <td>38595.78</td>\n",
       "      <td>0.442257</td>\n",
       "    </tr>\n",
       "    <tr>\n",
       "      <th>Abshire PLC</th>\n",
       "      <td>0</td>\n",
       "      <td>838</td>\n",
       "      <td>0.000000</td>\n",
       "      <td>38.591720</td>\n",
       "      <td>-90.183716</td>\n",
       "      <td>62.932876</td>\n",
       "      <td>52737.75</td>\n",
       "      <td>0.494033</td>\n",
       "    </tr>\n",
       "    <tr>\n",
       "      <th>Adams, Kovacek and Kuhlman</th>\n",
       "      <td>1</td>\n",
       "      <td>414</td>\n",
       "      <td>0.002415</td>\n",
       "      <td>38.831748</td>\n",
       "      <td>-90.206514</td>\n",
       "      <td>54.640507</td>\n",
       "      <td>22621.17</td>\n",
       "      <td>0.403382</td>\n",
       "    </tr>\n",
       "  </tbody>\n",
       "</table>\n",
       "</div>"
      ],
      "text/plain": [
       "                            num_fraud_transactions  num_total_transactions  \\\n",
       "merchant                                                                     \n",
       "Abbott-Rogahn                                    1                     803   \n",
       "Abbott-Steuber                                   2                     766   \n",
       "Abernathy and Sons                               0                     762   \n",
       "Abshire PLC                                      0                     838   \n",
       "Adams, Kovacek and Kuhlman                       1                     414   \n",
       "\n",
       "                            fraud_raw_prob  merch_lat  merch_long    avg_amt  \\\n",
       "merchant                                                                       \n",
       "Abbott-Rogahn                     0.001245  38.671303  -90.644001  66.198369   \n",
       "Abbott-Steuber                    0.002611  38.327988  -89.925832  51.221958   \n",
       "Abernathy and Sons                0.000000  38.459248  -90.215522  50.650630   \n",
       "Abshire PLC                       0.000000  38.591720  -90.183716  62.932876   \n",
       "Adams, Kovacek and Kuhlman        0.002415  38.831748  -90.206514  54.640507   \n",
       "\n",
       "                             tot_amt  male_customer_avg  \n",
       "merchant                                                 \n",
       "Abbott-Rogahn               53157.29           0.474471  \n",
       "Abbott-Steuber              39236.02           0.408616  \n",
       "Abernathy and Sons          38595.78           0.442257  \n",
       "Abshire PLC                 52737.75           0.494033  \n",
       "Adams, Kovacek and Kuhlman  22621.17           0.403382  "
      ]
     },
     "execution_count": 208,
     "metadata": {},
     "output_type": "execute_result"
    }
   ],
   "source": [
    "# add more columns\n",
    "merch_df['merch_lat'] = df.groupby('merchant').merch_lat.mean().values\n",
    "merch_df['merch_long'] = df.groupby('merchant').merch_long.mean().values\n",
    "merch_df['avg_amt'] = df.groupby('merchant').amt.mean().values\n",
    "merch_df['tot_amt'] = df.groupby('merchant').amt.sum().values\n",
    "merch_df['male_customer_avg'] = df.groupby('merchant').is_male.mean().values\n",
    "\n",
    "# set index to merchant name\n",
    "merch_df = merch_df.set_index('merchant')\n",
    "merch_df.head()"
   ]
  },
  {
   "cell_type": "code",
   "execution_count": null,
   "id": "4f95d3ba-a8fd-4d5b-bf08-4677e379cc8f",
   "metadata": {},
   "outputs": [],
   "source": []
  },
  {
   "cell_type": "markdown",
   "id": "484015f0-947d-4696-a15b-23d4fbd17bd0",
   "metadata": {},
   "source": [
    "#### Find merchant clusters"
   ]
  },
  {
   "cell_type": "code",
   "execution_count": 211,
   "id": "36f1a5f4-3639-4558-a1bd-e580206f5316",
   "metadata": {},
   "outputs": [],
   "source": [
    "# feature scaling\n",
    "# this is important because K-means uses euclidean distance \n",
    "from sklearn.preprocessing import StandardScaler"
   ]
  },
  {
   "cell_type": "code",
   "execution_count": 213,
   "id": "f6fd9cfd-655c-4328-b264-f2010a81b920",
   "metadata": {},
   "outputs": [],
   "source": [
    "# standardization\n",
    "s_scaler = StandardScaler()\n",
    "s_scaled = s_scaler.fit_transform(merch_df)\n",
    "s_scaled_df = pd.DataFrame(s_scaled, columns=merch_df.columns)"
   ]
  },
  {
   "cell_type": "code",
   "execution_count": 214,
   "id": "e7088722-f4fd-4bd6-a0fd-8e95759937fc",
   "metadata": {},
   "outputs": [
    {
     "data": {
      "text/html": [
       "<div>\n",
       "<style scoped>\n",
       "    .dataframe tbody tr th:only-of-type {\n",
       "        vertical-align: middle;\n",
       "    }\n",
       "\n",
       "    .dataframe tbody tr th {\n",
       "        vertical-align: top;\n",
       "    }\n",
       "\n",
       "    .dataframe thead th {\n",
       "        text-align: right;\n",
       "    }\n",
       "</style>\n",
       "<table border=\"1\" class=\"dataframe\">\n",
       "  <thead>\n",
       "    <tr style=\"text-align: right;\">\n",
       "      <th></th>\n",
       "      <th>num_fraud_transactions</th>\n",
       "      <th>num_total_transactions</th>\n",
       "      <th>fraud_raw_prob</th>\n",
       "      <th>merch_lat</th>\n",
       "      <th>merch_long</th>\n",
       "      <th>avg_amt</th>\n",
       "      <th>tot_amt</th>\n",
       "      <th>male_customer_avg</th>\n",
       "    </tr>\n",
       "  </thead>\n",
       "  <tbody>\n",
       "    <tr>\n",
       "      <th>0</th>\n",
       "      <td>-0.581479</td>\n",
       "      <td>0.004468</td>\n",
       "      <td>-0.604492</td>\n",
       "      <td>0.579569</td>\n",
       "      <td>-0.813110</td>\n",
       "      <td>-0.166877</td>\n",
       "      <td>-0.100038</td>\n",
       "      <td>0.642687</td>\n",
       "    </tr>\n",
       "    <tr>\n",
       "      <th>1</th>\n",
       "      <td>-0.303955</td>\n",
       "      <td>-0.146276</td>\n",
       "      <td>-0.280780</td>\n",
       "      <td>-0.825588</td>\n",
       "      <td>0.564054</td>\n",
       "      <td>-0.837672</td>\n",
       "      <td>-0.659556</td>\n",
       "      <td>-1.301741</td>\n",
       "    </tr>\n",
       "  </tbody>\n",
       "</table>\n",
       "</div>"
      ],
      "text/plain": [
       "   num_fraud_transactions  num_total_transactions  fraud_raw_prob  merch_lat  \\\n",
       "0               -0.581479                0.004468       -0.604492   0.579569   \n",
       "1               -0.303955               -0.146276       -0.280780  -0.825588   \n",
       "\n",
       "   merch_long   avg_amt   tot_amt  male_customer_avg  \n",
       "0   -0.813110 -0.166877 -0.100038           0.642687  \n",
       "1    0.564054 -0.837672 -0.659556          -1.301741  "
      ]
     },
     "execution_count": 214,
     "metadata": {},
     "output_type": "execute_result"
    }
   ],
   "source": [
    "s_scaled_df.head(2)"
   ]
  },
  {
   "cell_type": "code",
   "execution_count": 215,
   "id": "8807d3de-6c4b-4d94-ac30-e64caacfe061",
   "metadata": {},
   "outputs": [],
   "source": [
    "# decide on a number of clusters to make\n",
    "# cluster inertia within-cluster sum of squares mean\n",
    "\n",
    "from sklearn.cluster import KMeans\n",
    "\n",
    "wcss = [] \n",
    "for i in range(1,11):\n",
    "    model = KMeans(n_clusters=i, random_state=2001)\n",
    "    y_kmeans = model.fit_predict(s_scaled_df)\n",
    "    wcss.append(model.inertia_)  # record inter-cluster inertia"
   ]
  },
  {
   "cell_type": "code",
   "execution_count": 216,
   "id": "c2fc7886-0ff8-4f0c-aa06-4e228c7191d1",
   "metadata": {},
   "outputs": [],
   "source": [
    "import matplotlib.pyplot as plt"
   ]
  },
  {
   "cell_type": "code",
   "execution_count": 217,
   "id": "4e7c99de-75fd-417b-9a09-c7d2491bf57b",
   "metadata": {},
   "outputs": [
    {
     "data": {
      "image/png": "[encoded data removed]",
      "text/plain": [
       "<Figure size 640x480 with 1 Axes>"
      ]
     },
     "metadata": {},
     "output_type": "display_data"
    }
   ],
   "source": [
    "plt.plot(range(1,11), wcss)\n",
    "plt.xlabel('Number of Clusters')\n",
    "plt.ylabel('WCSS')\n",
    "plt.title('Elbow Method')\n",
    "plt.show()"
   ]
  },
  {
   "cell_type": "markdown",
   "id": "4248eb7f-e606-4eaf-8048-2b7665eebcd9",
   "metadata": {},
   "source": [
    "From the above method - will choose to make 5 merchant clusters."
   ]
  },
  {
   "cell_type": "code",
   "execution_count": 219,
   "id": "cb2db6a4-04e9-4fa3-a198-5fb63d23cc6e",
   "metadata": {},
   "outputs": [
    {
     "data": {
      "text/html": [
       "<div>\n",
       "<style scoped>\n",
       "    .dataframe tbody tr th:only-of-type {\n",
       "        vertical-align: middle;\n",
       "    }\n",
       "\n",
       "    .dataframe tbody tr th {\n",
       "        vertical-align: top;\n",
       "    }\n",
       "\n",
       "    .dataframe thead th {\n",
       "        text-align: right;\n",
       "    }\n",
       "</style>\n",
       "<table border=\"1\" class=\"dataframe\">\n",
       "  <thead>\n",
       "    <tr style=\"text-align: right;\">\n",
       "      <th></th>\n",
       "      <th>num_fraud_transactions</th>\n",
       "      <th>num_total_transactions</th>\n",
       "      <th>fraud_raw_prob</th>\n",
       "      <th>merch_lat</th>\n",
       "      <th>merch_long</th>\n",
       "      <th>avg_amt</th>\n",
       "      <th>tot_amt</th>\n",
       "      <th>male_customer_avg</th>\n",
       "      <th>merch_cluster</th>\n",
       "    </tr>\n",
       "    <tr>\n",
       "      <th>merchant</th>\n",
       "      <th></th>\n",
       "      <th></th>\n",
       "      <th></th>\n",
       "      <th></th>\n",
       "      <th></th>\n",
       "      <th></th>\n",
       "      <th></th>\n",
       "      <th></th>\n",
       "      <th></th>\n",
       "    </tr>\n",
       "  </thead>\n",
       "  <tbody>\n",
       "    <tr>\n",
       "      <th>Abbott-Rogahn</th>\n",
       "      <td>1</td>\n",
       "      <td>803</td>\n",
       "      <td>0.001245</td>\n",
       "      <td>38.671303</td>\n",
       "      <td>-90.644001</td>\n",
       "      <td>66.198369</td>\n",
       "      <td>53157.29</td>\n",
       "      <td>0.474471</td>\n",
       "      <td>0</td>\n",
       "    </tr>\n",
       "    <tr>\n",
       "      <th>Abbott-Steuber</th>\n",
       "      <td>2</td>\n",
       "      <td>766</td>\n",
       "      <td>0.002611</td>\n",
       "      <td>38.327988</td>\n",
       "      <td>-89.925832</td>\n",
       "      <td>51.221958</td>\n",
       "      <td>39236.02</td>\n",
       "      <td>0.408616</td>\n",
       "      <td>3</td>\n",
       "    </tr>\n",
       "    <tr>\n",
       "      <th>Abernathy and Sons</th>\n",
       "      <td>0</td>\n",
       "      <td>762</td>\n",
       "      <td>0.000000</td>\n",
       "      <td>38.459248</td>\n",
       "      <td>-90.215522</td>\n",
       "      <td>50.650630</td>\n",
       "      <td>38595.78</td>\n",
       "      <td>0.442257</td>\n",
       "      <td>3</td>\n",
       "    </tr>\n",
       "    <tr>\n",
       "      <th>Abshire PLC</th>\n",
       "      <td>0</td>\n",
       "      <td>838</td>\n",
       "      <td>0.000000</td>\n",
       "      <td>38.591720</td>\n",
       "      <td>-90.183716</td>\n",
       "      <td>62.932876</td>\n",
       "      <td>52737.75</td>\n",
       "      <td>0.494033</td>\n",
       "      <td>0</td>\n",
       "    </tr>\n",
       "    <tr>\n",
       "      <th>Adams, Kovacek and Kuhlman</th>\n",
       "      <td>1</td>\n",
       "      <td>414</td>\n",
       "      <td>0.002415</td>\n",
       "      <td>38.831748</td>\n",
       "      <td>-90.206514</td>\n",
       "      <td>54.640507</td>\n",
       "      <td>22621.17</td>\n",
       "      <td>0.403382</td>\n",
       "      <td>3</td>\n",
       "    </tr>\n",
       "  </tbody>\n",
       "</table>\n",
       "</div>"
      ],
      "text/plain": [
       "                            num_fraud_transactions  num_total_transactions  \\\n",
       "merchant                                                                     \n",
       "Abbott-Rogahn                                    1                     803   \n",
       "Abbott-Steuber                                   2                     766   \n",
       "Abernathy and Sons                               0                     762   \n",
       "Abshire PLC                                      0                     838   \n",
       "Adams, Kovacek and Kuhlman                       1                     414   \n",
       "\n",
       "                            fraud_raw_prob  merch_lat  merch_long    avg_amt  \\\n",
       "merchant                                                                       \n",
       "Abbott-Rogahn                     0.001245  38.671303  -90.644001  66.198369   \n",
       "Abbott-Steuber                    0.002611  38.327988  -89.925832  51.221958   \n",
       "Abernathy and Sons                0.000000  38.459248  -90.215522  50.650630   \n",
       "Abshire PLC                       0.000000  38.591720  -90.183716  62.932876   \n",
       "Adams, Kovacek and Kuhlman        0.002415  38.831748  -90.206514  54.640507   \n",
       "\n",
       "                             tot_amt  male_customer_avg  merch_cluster  \n",
       "merchant                                                                \n",
       "Abbott-Rogahn               53157.29           0.474471              0  \n",
       "Abbott-Steuber              39236.02           0.408616              3  \n",
       "Abernathy and Sons          38595.78           0.442257              3  \n",
       "Abshire PLC                 52737.75           0.494033              0  \n",
       "Adams, Kovacek and Kuhlman  22621.17           0.403382              3  "
      ]
     },
     "execution_count": 219,
     "metadata": {},
     "output_type": "execute_result"
    }
   ],
   "source": [
    "# assign clusters to merchants\n",
    "model = KMeans(n_clusters=5, random_state=2001)\n",
    "y_kmeans = model.fit_predict(s_scaled_df)\n",
    "merch_df['merch_cluster'] = y_kmeans\n",
    "merch_df.head()"
   ]
  },
  {
   "cell_type": "code",
   "execution_count": null,
   "id": "26d556e6-eeb1-46f0-9d03-2275ffe18bc6",
   "metadata": {},
   "outputs": [],
   "source": []
  },
  {
   "cell_type": "code",
   "execution_count": 223,
   "id": "403e7956-4723-46f1-a1e0-653c644beb0b",
   "metadata": {},
   "outputs": [],
   "source": [
    "# add new information to the larger df\n",
    "df = pd.merge(df, merch_df[['fraud_raw_prob','merch_cluster']], how='left', on='merchant')\n",
    "\n",
    "# rename column\n",
    "df.rename(columns={'fraud_raw_prob': 'merchant_fraud_likelihood'}, inplace=True)\n",
    "\n",
    "# remove merchant name\n",
    "df = df.drop(['merchant'], axis=1)"
   ]
  },
  {
   "cell_type": "code",
   "execution_count": 225,
   "id": "b836de79-6c29-46b9-af4c-02a3515964b9",
   "metadata": {},
   "outputs": [
    {
     "data": {
      "text/html": [
       "<div>\n",
       "<style scoped>\n",
       "    .dataframe tbody tr th:only-of-type {\n",
       "        vertical-align: middle;\n",
       "    }\n",
       "\n",
       "    .dataframe tbody tr th {\n",
       "        vertical-align: top;\n",
       "    }\n",
       "\n",
       "    .dataframe thead th {\n",
       "        text-align: right;\n",
       "    }\n",
       "</style>\n",
       "<table border=\"1\" class=\"dataframe\">\n",
       "  <thead>\n",
       "    <tr style=\"text-align: right;\">\n",
       "      <th></th>\n",
       "      <th>category</th>\n",
       "      <th>amt</th>\n",
       "      <th>is_male</th>\n",
       "      <th>street</th>\n",
       "      <th>city</th>\n",
       "      <th>state</th>\n",
       "      <th>zip</th>\n",
       "      <th>lat</th>\n",
       "      <th>long</th>\n",
       "      <th>city_pop</th>\n",
       "      <th>job</th>\n",
       "      <th>merch_lat</th>\n",
       "      <th>merch_long</th>\n",
       "      <th>is_fraud</th>\n",
       "      <th>cardholder_age</th>\n",
       "      <th>month_fraud_likelihood</th>\n",
       "      <th>time_group</th>\n",
       "      <th>state_pop</th>\n",
       "      <th>city_state</th>\n",
       "      <th>city_risk</th>\n",
       "      <th>merchant_fraud_likelihood</th>\n",
       "      <th>merch_cluster</th>\n",
       "    </tr>\n",
       "  </thead>\n",
       "  <tbody>\n",
       "    <tr>\n",
       "      <th>0</th>\n",
       "      <td>personal_care</td>\n",
       "      <td>2.86</td>\n",
       "      <td>1</td>\n",
       "      <td>351 Darlene Green</td>\n",
       "      <td>Columbia</td>\n",
       "      <td>SC</td>\n",
       "      <td>29209</td>\n",
       "      <td>33.9659</td>\n",
       "      <td>-80.9355</td>\n",
       "      <td>333497</td>\n",
       "      <td>Mechanical engineer</td>\n",
       "      <td>33.986391</td>\n",
       "      <td>-81.200714</td>\n",
       "      <td>0</td>\n",
       "      <td>52</td>\n",
       "      <td>0.004425</td>\n",
       "      <td>0</td>\n",
       "      <td>506278.0</td>\n",
       "      <td>Columbia_SC</td>\n",
       "      <td>0</td>\n",
       "      <td>0.004076</td>\n",
       "      <td>3</td>\n",
       "    </tr>\n",
       "    <tr>\n",
       "      <th>1</th>\n",
       "      <td>personal_care</td>\n",
       "      <td>29.84</td>\n",
       "      <td>0</td>\n",
       "      <td>3638 Marsh Union</td>\n",
       "      <td>Altonah</td>\n",
       "      <td>UT</td>\n",
       "      <td>84002</td>\n",
       "      <td>40.3207</td>\n",
       "      <td>-110.4360</td>\n",
       "      <td>302</td>\n",
       "      <td>Sales professional, IT</td>\n",
       "      <td>39.450498</td>\n",
       "      <td>-109.960431</td>\n",
       "      <td>0</td>\n",
       "      <td>30</td>\n",
       "      <td>0.004425</td>\n",
       "      <td>0</td>\n",
       "      <td>68823.0</td>\n",
       "      <td>Altonah_UT</td>\n",
       "      <td>0</td>\n",
       "      <td>0.001274</td>\n",
       "      <td>3</td>\n",
       "    </tr>\n",
       "    <tr>\n",
       "      <th>2</th>\n",
       "      <td>health_fitness</td>\n",
       "      <td>41.28</td>\n",
       "      <td>0</td>\n",
       "      <td>9333 Valentine Point</td>\n",
       "      <td>Bellmore</td>\n",
       "      <td>NY</td>\n",
       "      <td>11710</td>\n",
       "      <td>40.6729</td>\n",
       "      <td>-73.5365</td>\n",
       "      <td>34496</td>\n",
       "      <td>Librarian, public</td>\n",
       "      <td>40.495810</td>\n",
       "      <td>-74.196111</td>\n",
       "      <td>0</td>\n",
       "      <td>50</td>\n",
       "      <td>0.004425</td>\n",
       "      <td>0</td>\n",
       "      <td>6003688.0</td>\n",
       "      <td>Bellmore_NY</td>\n",
       "      <td>0</td>\n",
       "      <td>0.001325</td>\n",
       "      <td>0</td>\n",
       "    </tr>\n",
       "    <tr>\n",
       "      <th>3</th>\n",
       "      <td>misc_pos</td>\n",
       "      <td>60.05</td>\n",
       "      <td>1</td>\n",
       "      <td>32941 Krystal Mill Apt. 552</td>\n",
       "      <td>Titusville</td>\n",
       "      <td>FL</td>\n",
       "      <td>32780</td>\n",
       "      <td>28.5697</td>\n",
       "      <td>-80.8191</td>\n",
       "      <td>54767</td>\n",
       "      <td>Set designer</td>\n",
       "      <td>28.812398</td>\n",
       "      <td>-80.883061</td>\n",
       "      <td>0</td>\n",
       "      <td>33</td>\n",
       "      <td>0.004425</td>\n",
       "      <td>0</td>\n",
       "      <td>3593018.0</td>\n",
       "      <td>Titusville_FL</td>\n",
       "      <td>0</td>\n",
       "      <td>0.004219</td>\n",
       "      <td>3</td>\n",
       "    </tr>\n",
       "    <tr>\n",
       "      <th>4</th>\n",
       "      <td>travel</td>\n",
       "      <td>3.19</td>\n",
       "      <td>1</td>\n",
       "      <td>5783 Evan Roads Apt. 465</td>\n",
       "      <td>Falmouth</td>\n",
       "      <td>MI</td>\n",
       "      <td>49632</td>\n",
       "      <td>44.2529</td>\n",
       "      <td>-85.0170</td>\n",
       "      <td>1126</td>\n",
       "      <td>Furniture designer</td>\n",
       "      <td>44.959148</td>\n",
       "      <td>-85.884734</td>\n",
       "      <td>0</td>\n",
       "      <td>65</td>\n",
       "      <td>0.004425</td>\n",
       "      <td>0</td>\n",
       "      <td>1299880.0</td>\n",
       "      <td>Falmouth_MI</td>\n",
       "      <td>0</td>\n",
       "      <td>0.002703</td>\n",
       "      <td>4</td>\n",
       "    </tr>\n",
       "  </tbody>\n",
       "</table>\n",
       "</div>"
      ],
      "text/plain": [
       "         category    amt  is_male                       street        city  \\\n",
       "0   personal_care   2.86        1            351 Darlene Green    Columbia   \n",
       "1   personal_care  29.84        0             3638 Marsh Union     Altonah   \n",
       "2  health_fitness  41.28        0         9333 Valentine Point    Bellmore   \n",
       "3        misc_pos  60.05        1  32941 Krystal Mill Apt. 552  Titusville   \n",
       "4          travel   3.19        1     5783 Evan Roads Apt. 465    Falmouth   \n",
       "\n",
       "  state    zip      lat      long  city_pop                     job  \\\n",
       "0    SC  29209  33.9659  -80.9355    333497     Mechanical engineer   \n",
       "1    UT  84002  40.3207 -110.4360       302  Sales professional, IT   \n",
       "2    NY  11710  40.6729  -73.5365     34496       Librarian, public   \n",
       "3    FL  32780  28.5697  -80.8191     54767            Set designer   \n",
       "4    MI  49632  44.2529  -85.0170      1126      Furniture designer   \n",
       "\n",
       "   merch_lat  merch_long  is_fraud  cardholder_age  month_fraud_likelihood  \\\n",
       "0  33.986391  -81.200714         0              52                0.004425   \n",
       "1  39.450498 -109.960431         0              30                0.004425   \n",
       "2  40.495810  -74.196111         0              50                0.004425   \n",
       "3  28.812398  -80.883061         0              33                0.004425   \n",
       "4  44.959148  -85.884734         0              65                0.004425   \n",
       "\n",
       "   time_group  state_pop     city_state  city_risk  merchant_fraud_likelihood  \\\n",
       "0           0   506278.0    Columbia_SC          0                   0.004076   \n",
       "1           0    68823.0     Altonah_UT          0                   0.001274   \n",
       "2           0  6003688.0    Bellmore_NY          0                   0.001325   \n",
       "3           0  3593018.0  Titusville_FL          0                   0.004219   \n",
       "4           0  1299880.0    Falmouth_MI          0                   0.002703   \n",
       "\n",
       "   merch_cluster  \n",
       "0              3  \n",
       "1              3  \n",
       "2              0  \n",
       "3              3  \n",
       "4              4  "
      ]
     },
     "execution_count": 225,
     "metadata": {},
     "output_type": "execute_result"
    }
   ],
   "source": [
    "df.head(5)"
   ]
  },
  {
   "cell_type": "code",
   "execution_count": null,
   "id": "bf1874f7-f041-4777-91e4-75ebd6c8c6c8",
   "metadata": {},
   "outputs": [],
   "source": []
  },
  {
   "cell_type": "markdown",
   "id": "2adcb0a2-6d03-4443-82fc-f30bdb9e9f28",
   "metadata": {},
   "source": [
    "### Job Information Analysis\n",
    "- create job clusters since too many unique jobs for OHE "
   ]
  },
  {
   "cell_type": "code",
   "execution_count": 234,
   "id": "26d39d03-6394-4bbc-9fa3-860a105f29be",
   "metadata": {},
   "outputs": [
    {
     "data": {
      "text/html": [
       "<div>\n",
       "<style scoped>\n",
       "    .dataframe tbody tr th:only-of-type {\n",
       "        vertical-align: middle;\n",
       "    }\n",
       "\n",
       "    .dataframe tbody tr th {\n",
       "        vertical-align: top;\n",
       "    }\n",
       "\n",
       "    .dataframe thead th {\n",
       "        text-align: right;\n",
       "    }\n",
       "</style>\n",
       "<table border=\"1\" class=\"dataframe\">\n",
       "  <thead>\n",
       "    <tr style=\"text-align: right;\">\n",
       "      <th></th>\n",
       "      <th>category</th>\n",
       "      <th>amt</th>\n",
       "      <th>is_male</th>\n",
       "      <th>street</th>\n",
       "      <th>city</th>\n",
       "      <th>state</th>\n",
       "      <th>zip</th>\n",
       "      <th>lat</th>\n",
       "      <th>long</th>\n",
       "      <th>city_pop</th>\n",
       "      <th>job</th>\n",
       "      <th>merch_lat</th>\n",
       "      <th>merch_long</th>\n",
       "      <th>is_fraud</th>\n",
       "      <th>cardholder_age</th>\n",
       "      <th>month_fraud_likelihood</th>\n",
       "      <th>time_group</th>\n",
       "      <th>state_pop</th>\n",
       "      <th>city_state</th>\n",
       "      <th>city_risk</th>\n",
       "      <th>merchant_fraud_likelihood</th>\n",
       "      <th>merch_cluster</th>\n",
       "    </tr>\n",
       "  </thead>\n",
       "  <tbody>\n",
       "    <tr>\n",
       "      <th>0</th>\n",
       "      <td>personal_care</td>\n",
       "      <td>2.86</td>\n",
       "      <td>1</td>\n",
       "      <td>351 Darlene Green</td>\n",
       "      <td>Columbia</td>\n",
       "      <td>SC</td>\n",
       "      <td>29209</td>\n",
       "      <td>33.9659</td>\n",
       "      <td>-80.9355</td>\n",
       "      <td>333497</td>\n",
       "      <td>Mechanical engineer</td>\n",
       "      <td>33.986391</td>\n",
       "      <td>-81.200714</td>\n",
       "      <td>0</td>\n",
       "      <td>52</td>\n",
       "      <td>0.004425</td>\n",
       "      <td>0</td>\n",
       "      <td>506278.0</td>\n",
       "      <td>Columbia_SC</td>\n",
       "      <td>0</td>\n",
       "      <td>0.004076</td>\n",
       "      <td>3</td>\n",
       "    </tr>\n",
       "    <tr>\n",
       "      <th>1</th>\n",
       "      <td>personal_care</td>\n",
       "      <td>29.84</td>\n",
       "      <td>0</td>\n",
       "      <td>3638 Marsh Union</td>\n",
       "      <td>Altonah</td>\n",
       "      <td>UT</td>\n",
       "      <td>84002</td>\n",
       "      <td>40.3207</td>\n",
       "      <td>-110.4360</td>\n",
       "      <td>302</td>\n",
       "      <td>Sales professional, IT</td>\n",
       "      <td>39.450498</td>\n",
       "      <td>-109.960431</td>\n",
       "      <td>0</td>\n",
       "      <td>30</td>\n",
       "      <td>0.004425</td>\n",
       "      <td>0</td>\n",
       "      <td>68823.0</td>\n",
       "      <td>Altonah_UT</td>\n",
       "      <td>0</td>\n",
       "      <td>0.001274</td>\n",
       "      <td>3</td>\n",
       "    </tr>\n",
       "  </tbody>\n",
       "</table>\n",
       "</div>"
      ],
      "text/plain": [
       "        category    amt  is_male             street      city state    zip  \\\n",
       "0  personal_care   2.86        1  351 Darlene Green  Columbia    SC  29209   \n",
       "1  personal_care  29.84        0   3638 Marsh Union   Altonah    UT  84002   \n",
       "\n",
       "       lat      long  city_pop                     job  merch_lat  merch_long  \\\n",
       "0  33.9659  -80.9355    333497     Mechanical engineer  33.986391  -81.200714   \n",
       "1  40.3207 -110.4360       302  Sales professional, IT  39.450498 -109.960431   \n",
       "\n",
       "   is_fraud  cardholder_age  month_fraud_likelihood  time_group  state_pop  \\\n",
       "0         0              52                0.004425           0   506278.0   \n",
       "1         0              30                0.004425           0    68823.0   \n",
       "\n",
       "    city_state  city_risk  merchant_fraud_likelihood  merch_cluster  \n",
       "0  Columbia_SC          0                   0.004076              3  \n",
       "1   Altonah_UT          0                   0.001274              3  "
      ]
     },
     "execution_count": 234,
     "metadata": {},
     "output_type": "execute_result"
    }
   ],
   "source": [
    "df.head(2)"
   ]
  },
  {
   "cell_type": "code",
   "execution_count": 236,
   "id": "ece4535b-e378-4327-a426-22c9aac0cdb5",
   "metadata": {},
   "outputs": [
    {
     "data": {
      "text/plain": [
       "478"
      ]
     },
     "execution_count": 236,
     "metadata": {},
     "output_type": "execute_result"
    }
   ],
   "source": [
    "len(df.job.unique()) # 478 unique jobs"
   ]
  },
  {
   "cell_type": "code",
   "execution_count": 238,
   "id": "0714d1f0-8bb6-4b5d-860f-6f019a917a3d",
   "metadata": {},
   "outputs": [],
   "source": [
    "job_df = pd.DataFrame({'job':df.groupby('job').is_fraud.sum().index,\n",
    "                         'num_fraud_transactions':df.groupby('job').is_fraud.sum().values,\n",
    "                         'num_total_transactions':df.groupby('job').is_fraud.count().values},\n",
    "                       )"
   ]
  },
  {
   "cell_type": "code",
   "execution_count": 239,
   "id": "cf081564-eba9-404e-85fd-cf1b1f47ef33",
   "metadata": {},
   "outputs": [],
   "source": [
    "job_df['fraud_likelihood'] = job_df['num_fraud_transactions'] / job_df['num_total_transactions']"
   ]
  },
  {
   "cell_type": "code",
   "execution_count": 242,
   "id": "21fa5c97-a6a2-474c-8580-f02eef57a50d",
   "metadata": {},
   "outputs": [],
   "source": [
    "sorted_jobs = job_df.sort_values(by='fraud_likelihood', ascending = False)"
   ]
  },
  {
   "cell_type": "code",
   "execution_count": 244,
   "id": "1e8d25e6-e9f2-46a1-9c38-8206e995195d",
   "metadata": {},
   "outputs": [
    {
     "data": {
      "image/png": "[encoded data removed]",
      "text/plain": [
       "<Figure size 640x480 with 1 Axes>"
      ]
     },
     "metadata": {},
     "output_type": "display_data"
    }
   ],
   "source": [
    "# plot the fraud likelihood for the 20 mot fraudulent jobs types\n",
    "sorted_jobs[sorted_jobs['fraud_likelihood']>0].head(20).plot.barh(x='job', y='fraud_likelihood');"
   ]
  },
  {
   "cell_type": "code",
   "execution_count": 245,
   "id": "2179db23-0ebc-4742-999b-547c3040a9e1",
   "metadata": {},
   "outputs": [
    {
     "data": {
      "text/html": [
       "<div>\n",
       "<style scoped>\n",
       "    .dataframe tbody tr th:only-of-type {\n",
       "        vertical-align: middle;\n",
       "    }\n",
       "\n",
       "    .dataframe tbody tr th {\n",
       "        vertical-align: top;\n",
       "    }\n",
       "\n",
       "    .dataframe thead th {\n",
       "        text-align: right;\n",
       "    }\n",
       "</style>\n",
       "<table border=\"1\" class=\"dataframe\">\n",
       "  <thead>\n",
       "    <tr style=\"text-align: right;\">\n",
       "      <th></th>\n",
       "      <th>job</th>\n",
       "      <th>num_fraud_transactions</th>\n",
       "      <th>num_total_transactions</th>\n",
       "      <th>fraud_likelihood</th>\n",
       "    </tr>\n",
       "  </thead>\n",
       "  <tbody>\n",
       "    <tr>\n",
       "      <th>0</th>\n",
       "      <td>Academic librarian</td>\n",
       "      <td>0</td>\n",
       "      <td>426</td>\n",
       "      <td>0.000000</td>\n",
       "    </tr>\n",
       "    <tr>\n",
       "      <th>1</th>\n",
       "      <td>Accountant, chartered certified</td>\n",
       "      <td>12</td>\n",
       "      <td>217</td>\n",
       "      <td>0.055300</td>\n",
       "    </tr>\n",
       "    <tr>\n",
       "      <th>2</th>\n",
       "      <td>Accountant, chartered public finance</td>\n",
       "      <td>0</td>\n",
       "      <td>1077</td>\n",
       "      <td>0.000000</td>\n",
       "    </tr>\n",
       "    <tr>\n",
       "      <th>3</th>\n",
       "      <td>Accounting technician</td>\n",
       "      <td>0</td>\n",
       "      <td>1922</td>\n",
       "      <td>0.000000</td>\n",
       "    </tr>\n",
       "    <tr>\n",
       "      <th>4</th>\n",
       "      <td>Acupuncturist</td>\n",
       "      <td>0</td>\n",
       "      <td>621</td>\n",
       "      <td>0.000000</td>\n",
       "    </tr>\n",
       "    <tr>\n",
       "      <th>...</th>\n",
       "      <td>...</td>\n",
       "      <td>...</td>\n",
       "      <td>...</td>\n",
       "      <td>...</td>\n",
       "    </tr>\n",
       "    <tr>\n",
       "      <th>473</th>\n",
       "      <td>Water engineer</td>\n",
       "      <td>13</td>\n",
       "      <td>2576</td>\n",
       "      <td>0.005047</td>\n",
       "    </tr>\n",
       "    <tr>\n",
       "      <th>474</th>\n",
       "      <td>Water quality scientist</td>\n",
       "      <td>0</td>\n",
       "      <td>224</td>\n",
       "      <td>0.000000</td>\n",
       "    </tr>\n",
       "    <tr>\n",
       "      <th>475</th>\n",
       "      <td>Web designer</td>\n",
       "      <td>0</td>\n",
       "      <td>1106</td>\n",
       "      <td>0.000000</td>\n",
       "    </tr>\n",
       "    <tr>\n",
       "      <th>476</th>\n",
       "      <td>Wellsite geologist</td>\n",
       "      <td>12</td>\n",
       "      <td>1068</td>\n",
       "      <td>0.011236</td>\n",
       "    </tr>\n",
       "    <tr>\n",
       "      <th>477</th>\n",
       "      <td>Writer</td>\n",
       "      <td>0</td>\n",
       "      <td>237</td>\n",
       "      <td>0.000000</td>\n",
       "    </tr>\n",
       "  </tbody>\n",
       "</table>\n",
       "<p>478 rows × 4 columns</p>\n",
       "</div>"
      ],
      "text/plain": [
       "                                      job  num_fraud_transactions  \\\n",
       "0                      Academic librarian                       0   \n",
       "1         Accountant, chartered certified                      12   \n",
       "2    Accountant, chartered public finance                       0   \n",
       "3                   Accounting technician                       0   \n",
       "4                           Acupuncturist                       0   \n",
       "..                                    ...                     ...   \n",
       "473                        Water engineer                      13   \n",
       "474               Water quality scientist                       0   \n",
       "475                          Web designer                       0   \n",
       "476                    Wellsite geologist                      12   \n",
       "477                                Writer                       0   \n",
       "\n",
       "     num_total_transactions  fraud_likelihood  \n",
       "0                       426          0.000000  \n",
       "1                       217          0.055300  \n",
       "2                      1077          0.000000  \n",
       "3                      1922          0.000000  \n",
       "4                       621          0.000000  \n",
       "..                      ...               ...  \n",
       "473                    2576          0.005047  \n",
       "474                     224          0.000000  \n",
       "475                    1106          0.000000  \n",
       "476                    1068          0.011236  \n",
       "477                     237          0.000000  \n",
       "\n",
       "[478 rows x 4 columns]"
      ]
     },
     "execution_count": 245,
     "metadata": {},
     "output_type": "execute_result"
    }
   ],
   "source": [
    "job_df"
   ]
  },
  {
   "cell_type": "markdown",
   "id": "161de87b-e171-4ef0-a67b-e23c21ad229e",
   "metadata": {},
   "source": [
    "Can see above that some jobs have a higher likelihood of fraudulent transactions than others. Therefore we should add this information to our model."
   ]
  },
  {
   "cell_type": "code",
   "execution_count": 249,
   "id": "e61d7ecb-1f24-4bfa-bcc2-307b8a40c328",
   "metadata": {},
   "outputs": [],
   "source": [
    "# add new information to the larger df\n",
    "df = pd.merge(df, job_df[['job','fraud_likelihood']], how='left', on='job')\n",
    "\n",
    "# rename column\n",
    "df.rename(columns={'fraud_likelihood': 'job_fraud_likelihood'}, inplace=True)\n",
    "\n",
    "# remove job title\n",
    "df = df.drop(['job'], axis=1)"
   ]
  },
  {
   "cell_type": "code",
   "execution_count": 251,
   "id": "a1b5b522-445f-4eee-b2c8-e2bf4b48a6f0",
   "metadata": {},
   "outputs": [
    {
     "data": {
      "text/html": [
       "<div>\n",
       "<style scoped>\n",
       "    .dataframe tbody tr th:only-of-type {\n",
       "        vertical-align: middle;\n",
       "    }\n",
       "\n",
       "    .dataframe tbody tr th {\n",
       "        vertical-align: top;\n",
       "    }\n",
       "\n",
       "    .dataframe thead th {\n",
       "        text-align: right;\n",
       "    }\n",
       "</style>\n",
       "<table border=\"1\" class=\"dataframe\">\n",
       "  <thead>\n",
       "    <tr style=\"text-align: right;\">\n",
       "      <th></th>\n",
       "      <th>category</th>\n",
       "      <th>amt</th>\n",
       "      <th>is_male</th>\n",
       "      <th>street</th>\n",
       "      <th>city</th>\n",
       "      <th>state</th>\n",
       "      <th>zip</th>\n",
       "      <th>lat</th>\n",
       "      <th>long</th>\n",
       "      <th>city_pop</th>\n",
       "      <th>merch_lat</th>\n",
       "      <th>merch_long</th>\n",
       "      <th>is_fraud</th>\n",
       "      <th>cardholder_age</th>\n",
       "      <th>month_fraud_likelihood</th>\n",
       "      <th>time_group</th>\n",
       "      <th>state_pop</th>\n",
       "      <th>city_state</th>\n",
       "      <th>city_risk</th>\n",
       "      <th>merchant_fraud_likelihood</th>\n",
       "      <th>merch_cluster</th>\n",
       "      <th>job_fraud_likelihood</th>\n",
       "    </tr>\n",
       "  </thead>\n",
       "  <tbody>\n",
       "    <tr>\n",
       "      <th>0</th>\n",
       "      <td>personal_care</td>\n",
       "      <td>2.86</td>\n",
       "      <td>1</td>\n",
       "      <td>351 Darlene Green</td>\n",
       "      <td>Columbia</td>\n",
       "      <td>SC</td>\n",
       "      <td>29209</td>\n",
       "      <td>33.9659</td>\n",
       "      <td>-80.9355</td>\n",
       "      <td>333497</td>\n",
       "      <td>33.986391</td>\n",
       "      <td>-81.200714</td>\n",
       "      <td>0</td>\n",
       "      <td>52</td>\n",
       "      <td>0.004425</td>\n",
       "      <td>0</td>\n",
       "      <td>506278.0</td>\n",
       "      <td>Columbia_SC</td>\n",
       "      <td>0</td>\n",
       "      <td>0.004076</td>\n",
       "      <td>3</td>\n",
       "      <td>0.0</td>\n",
       "    </tr>\n",
       "    <tr>\n",
       "      <th>1</th>\n",
       "      <td>personal_care</td>\n",
       "      <td>29.84</td>\n",
       "      <td>0</td>\n",
       "      <td>3638 Marsh Union</td>\n",
       "      <td>Altonah</td>\n",
       "      <td>UT</td>\n",
       "      <td>84002</td>\n",
       "      <td>40.3207</td>\n",
       "      <td>-110.4360</td>\n",
       "      <td>302</td>\n",
       "      <td>39.450498</td>\n",
       "      <td>-109.960431</td>\n",
       "      <td>0</td>\n",
       "      <td>30</td>\n",
       "      <td>0.004425</td>\n",
       "      <td>0</td>\n",
       "      <td>68823.0</td>\n",
       "      <td>Altonah_UT</td>\n",
       "      <td>0</td>\n",
       "      <td>0.001274</td>\n",
       "      <td>3</td>\n",
       "      <td>0.0</td>\n",
       "    </tr>\n",
       "  </tbody>\n",
       "</table>\n",
       "</div>"
      ],
      "text/plain": [
       "        category    amt  is_male             street      city state    zip  \\\n",
       "0  personal_care   2.86        1  351 Darlene Green  Columbia    SC  29209   \n",
       "1  personal_care  29.84        0   3638 Marsh Union   Altonah    UT  84002   \n",
       "\n",
       "       lat      long  city_pop  merch_lat  merch_long  is_fraud  \\\n",
       "0  33.9659  -80.9355    333497  33.986391  -81.200714         0   \n",
       "1  40.3207 -110.4360       302  39.450498 -109.960431         0   \n",
       "\n",
       "   cardholder_age  month_fraud_likelihood  time_group  state_pop   city_state  \\\n",
       "0              52                0.004425           0   506278.0  Columbia_SC   \n",
       "1              30                0.004425           0    68823.0   Altonah_UT   \n",
       "\n",
       "   city_risk  merchant_fraud_likelihood  merch_cluster  job_fraud_likelihood  \n",
       "0          0                   0.004076              3                   0.0  \n",
       "1          0                   0.001274              3                   0.0  "
      ]
     },
     "execution_count": 251,
     "metadata": {},
     "output_type": "execute_result"
    }
   ],
   "source": [
    "df.head(2)"
   ]
  },
  {
   "cell_type": "code",
   "execution_count": null,
   "id": "354b921f-71d4-405c-b572-1734c385083d",
   "metadata": {},
   "outputs": [],
   "source": []
  },
  {
   "cell_type": "markdown",
   "id": "bb32f995-0848-474d-91af-05f36c8c6123",
   "metadata": {},
   "source": [
    "### Product Category Analysis"
   ]
  },
  {
   "cell_type": "code",
   "execution_count": 257,
   "id": "64534f87-05f6-42b6-9873-a705aa13cebb",
   "metadata": {},
   "outputs": [],
   "source": [
    "# create a pie plot for percent of fraudulent transactions for each category"
   ]
  },
  {
   "cell_type": "code",
   "execution_count": 259,
   "id": "a7818df9-83cd-4b63-b2b8-00c8be7f34d7",
   "metadata": {},
   "outputs": [],
   "source": [
    "cat_df = pd.DataFrame({'category':df.groupby('category').is_fraud.sum().index,\n",
    "                         'num_fraud_transactions':df.groupby('category').is_fraud.sum().values,\n",
    "                         'num_total_transactions':df.groupby('category').is_fraud.count().values}\n",
    "                       )"
   ]
  },
  {
   "cell_type": "code",
   "execution_count": 260,
   "id": "eb9e77e4-c291-41a1-8ad3-e6eb6fd7bc4e",
   "metadata": {},
   "outputs": [],
   "source": [
    "cat_df['percent_fraud'] = cat_df['num_fraud_transactions'] / cat_df['num_total_transactions']"
   ]
  },
  {
   "cell_type": "code",
   "execution_count": 263,
   "id": "3b4dae1a-244f-4948-9ce5-477f920fd76a",
   "metadata": {},
   "outputs": [
    {
     "data": {
      "text/plain": [
       "0.05325076882566513"
      ]
     },
     "execution_count": 263,
     "metadata": {},
     "output_type": "execute_result"
    }
   ],
   "source": [
    "cat_df['percent_fraud'].sum()"
   ]
  },
  {
   "cell_type": "code",
   "execution_count": 265,
   "id": "650e5a62-f8a4-4701-ac97-67d249f88c5a",
   "metadata": {},
   "outputs": [
    {
     "data": {
      "text/html": [
       "<div>\n",
       "<style scoped>\n",
       "    .dataframe tbody tr th:only-of-type {\n",
       "        vertical-align: middle;\n",
       "    }\n",
       "\n",
       "    .dataframe tbody tr th {\n",
       "        vertical-align: top;\n",
       "    }\n",
       "\n",
       "    .dataframe thead th {\n",
       "        text-align: right;\n",
       "    }\n",
       "</style>\n",
       "<table border=\"1\" class=\"dataframe\">\n",
       "  <thead>\n",
       "    <tr style=\"text-align: right;\">\n",
       "      <th></th>\n",
       "      <th>category</th>\n",
       "      <th>num_fraud_transactions</th>\n",
       "      <th>num_total_transactions</th>\n",
       "      <th>percent_fraud</th>\n",
       "    </tr>\n",
       "  </thead>\n",
       "  <tbody>\n",
       "    <tr>\n",
       "      <th>0</th>\n",
       "      <td>entertainment</td>\n",
       "      <td>59</td>\n",
       "      <td>40104</td>\n",
       "      <td>0.001471</td>\n",
       "    </tr>\n",
       "    <tr>\n",
       "      <th>1</th>\n",
       "      <td>food_dining</td>\n",
       "      <td>54</td>\n",
       "      <td>39268</td>\n",
       "      <td>0.001375</td>\n",
       "    </tr>\n",
       "  </tbody>\n",
       "</table>\n",
       "</div>"
      ],
      "text/plain": [
       "        category  num_fraud_transactions  num_total_transactions  \\\n",
       "0  entertainment                      59                   40104   \n",
       "1    food_dining                      54                   39268   \n",
       "\n",
       "   percent_fraud  \n",
       "0       0.001471  \n",
       "1       0.001375  "
      ]
     },
     "execution_count": 265,
     "metadata": {},
     "output_type": "execute_result"
    }
   ],
   "source": [
    "cat_df.head(2)"
   ]
  },
  {
   "cell_type": "code",
   "execution_count": 267,
   "id": "ae5bd69f-403f-476d-96b2-62f625de8d6c",
   "metadata": {},
   "outputs": [
    {
     "data": {
      "image/png": "[encoded data removed]",
      "text/plain": [
       "<Figure size 640x480 with 1 Axes>"
      ]
     },
     "metadata": {},
     "output_type": "display_data"
    }
   ],
   "source": [
    "# plot\n",
    "ax = cat_df.plot.bar(x='category', y='percent_fraud')\n",
    "ax.set_xlabel('product category')\n",
    "ax.set_ylabel('percent of transactions fraudulent');"
   ]
  },
  {
   "cell_type": "markdown",
   "id": "cb3c340f-87d5-41da-9a6e-655e10858ab4",
   "metadata": {},
   "source": [
    "Can see above that the categories with the largest likelihoods of fraud are grocery_pos, misc_net, and shopping_net. We will group the categories into two groups along these lines. "
   ]
  },
  {
   "cell_type": "code",
   "execution_count": 269,
   "id": "1534409f-64a3-4d90-9153-342e84e2f82f",
   "metadata": {},
   "outputs": [],
   "source": [
    "cat_df['cat_risk'] = cat_df['percent_fraud'].apply(lambda x: 1 if x>.006 else 0)"
   ]
  },
  {
   "cell_type": "code",
   "execution_count": 271,
   "id": "871a31a8-c01f-4ac0-850d-e826db5d7db9",
   "metadata": {},
   "outputs": [
    {
     "data": {
      "text/html": [
       "<div>\n",
       "<style scoped>\n",
       "    .dataframe tbody tr th:only-of-type {\n",
       "        vertical-align: middle;\n",
       "    }\n",
       "\n",
       "    .dataframe tbody tr th {\n",
       "        vertical-align: top;\n",
       "    }\n",
       "\n",
       "    .dataframe thead th {\n",
       "        text-align: right;\n",
       "    }\n",
       "</style>\n",
       "<table border=\"1\" class=\"dataframe\">\n",
       "  <thead>\n",
       "    <tr style=\"text-align: right;\">\n",
       "      <th></th>\n",
       "      <th>category</th>\n",
       "      <th>num_fraud_transactions</th>\n",
       "      <th>num_total_transactions</th>\n",
       "      <th>percent_fraud</th>\n",
       "      <th>cat_risk</th>\n",
       "    </tr>\n",
       "  </thead>\n",
       "  <tbody>\n",
       "    <tr>\n",
       "      <th>0</th>\n",
       "      <td>entertainment</td>\n",
       "      <td>59</td>\n",
       "      <td>40104</td>\n",
       "      <td>0.001471</td>\n",
       "      <td>0</td>\n",
       "    </tr>\n",
       "    <tr>\n",
       "      <th>1</th>\n",
       "      <td>food_dining</td>\n",
       "      <td>54</td>\n",
       "      <td>39268</td>\n",
       "      <td>0.001375</td>\n",
       "      <td>0</td>\n",
       "    </tr>\n",
       "    <tr>\n",
       "      <th>2</th>\n",
       "      <td>gas_transport</td>\n",
       "      <td>154</td>\n",
       "      <td>56370</td>\n",
       "      <td>0.002732</td>\n",
       "      <td>0</td>\n",
       "    </tr>\n",
       "    <tr>\n",
       "      <th>3</th>\n",
       "      <td>grocery_net</td>\n",
       "      <td>41</td>\n",
       "      <td>19426</td>\n",
       "      <td>0.002111</td>\n",
       "      <td>0</td>\n",
       "    </tr>\n",
       "    <tr>\n",
       "      <th>4</th>\n",
       "      <td>grocery_pos</td>\n",
       "      <td>485</td>\n",
       "      <td>52553</td>\n",
       "      <td>0.009229</td>\n",
       "      <td>1</td>\n",
       "    </tr>\n",
       "    <tr>\n",
       "      <th>5</th>\n",
       "      <td>health_fitness</td>\n",
       "      <td>52</td>\n",
       "      <td>36674</td>\n",
       "      <td>0.001418</td>\n",
       "      <td>0</td>\n",
       "    </tr>\n",
       "    <tr>\n",
       "      <th>6</th>\n",
       "      <td>home</td>\n",
       "      <td>67</td>\n",
       "      <td>52345</td>\n",
       "      <td>0.001280</td>\n",
       "      <td>0</td>\n",
       "    </tr>\n",
       "    <tr>\n",
       "      <th>7</th>\n",
       "      <td>kids_pets</td>\n",
       "      <td>65</td>\n",
       "      <td>48692</td>\n",
       "      <td>0.001335</td>\n",
       "      <td>0</td>\n",
       "    </tr>\n",
       "    <tr>\n",
       "      <th>8</th>\n",
       "      <td>misc_net</td>\n",
       "      <td>267</td>\n",
       "      <td>27367</td>\n",
       "      <td>0.009756</td>\n",
       "      <td>1</td>\n",
       "    </tr>\n",
       "    <tr>\n",
       "      <th>9</th>\n",
       "      <td>misc_pos</td>\n",
       "      <td>72</td>\n",
       "      <td>34574</td>\n",
       "      <td>0.002082</td>\n",
       "      <td>0</td>\n",
       "    </tr>\n",
       "    <tr>\n",
       "      <th>10</th>\n",
       "      <td>personal_care</td>\n",
       "      <td>70</td>\n",
       "      <td>39327</td>\n",
       "      <td>0.001780</td>\n",
       "      <td>0</td>\n",
       "    </tr>\n",
       "    <tr>\n",
       "      <th>11</th>\n",
       "      <td>shopping_net</td>\n",
       "      <td>506</td>\n",
       "      <td>41779</td>\n",
       "      <td>0.012111</td>\n",
       "      <td>1</td>\n",
       "    </tr>\n",
       "    <tr>\n",
       "      <th>12</th>\n",
       "      <td>shopping_pos</td>\n",
       "      <td>213</td>\n",
       "      <td>49791</td>\n",
       "      <td>0.004278</td>\n",
       "      <td>0</td>\n",
       "    </tr>\n",
       "    <tr>\n",
       "      <th>13</th>\n",
       "      <td>travel</td>\n",
       "      <td>40</td>\n",
       "      <td>17449</td>\n",
       "      <td>0.002292</td>\n",
       "      <td>0</td>\n",
       "    </tr>\n",
       "  </tbody>\n",
       "</table>\n",
       "</div>"
      ],
      "text/plain": [
       "          category  num_fraud_transactions  num_total_transactions  \\\n",
       "0    entertainment                      59                   40104   \n",
       "1      food_dining                      54                   39268   \n",
       "2    gas_transport                     154                   56370   \n",
       "3      grocery_net                      41                   19426   \n",
       "4      grocery_pos                     485                   52553   \n",
       "5   health_fitness                      52                   36674   \n",
       "6             home                      67                   52345   \n",
       "7        kids_pets                      65                   48692   \n",
       "8         misc_net                     267                   27367   \n",
       "9         misc_pos                      72                   34574   \n",
       "10   personal_care                      70                   39327   \n",
       "11    shopping_net                     506                   41779   \n",
       "12    shopping_pos                     213                   49791   \n",
       "13          travel                      40                   17449   \n",
       "\n",
       "    percent_fraud  cat_risk  \n",
       "0        0.001471         0  \n",
       "1        0.001375         0  \n",
       "2        0.002732         0  \n",
       "3        0.002111         0  \n",
       "4        0.009229         1  \n",
       "5        0.001418         0  \n",
       "6        0.001280         0  \n",
       "7        0.001335         0  \n",
       "8        0.009756         1  \n",
       "9        0.002082         0  \n",
       "10       0.001780         0  \n",
       "11       0.012111         1  \n",
       "12       0.004278         0  \n",
       "13       0.002292         0  "
      ]
     },
     "execution_count": 271,
     "metadata": {},
     "output_type": "execute_result"
    }
   ],
   "source": [
    "cat_df"
   ]
  },
  {
   "cell_type": "code",
   "execution_count": 274,
   "id": "dfd062bc-e83b-4fa5-9591-94cd0ecf1c12",
   "metadata": {},
   "outputs": [],
   "source": [
    "df = pd.merge(df, cat_df[['category','cat_risk']], how='left', on='category')"
   ]
  },
  {
   "cell_type": "code",
   "execution_count": 275,
   "id": "f42330fc-2e48-433f-87f8-a29f8017eb38",
   "metadata": {},
   "outputs": [
    {
     "data": {
      "text/html": [
       "<div>\n",
       "<style scoped>\n",
       "    .dataframe tbody tr th:only-of-type {\n",
       "        vertical-align: middle;\n",
       "    }\n",
       "\n",
       "    .dataframe tbody tr th {\n",
       "        vertical-align: top;\n",
       "    }\n",
       "\n",
       "    .dataframe thead th {\n",
       "        text-align: right;\n",
       "    }\n",
       "</style>\n",
       "<table border=\"1\" class=\"dataframe\">\n",
       "  <thead>\n",
       "    <tr style=\"text-align: right;\">\n",
       "      <th></th>\n",
       "      <th>category</th>\n",
       "      <th>amt</th>\n",
       "      <th>is_male</th>\n",
       "      <th>street</th>\n",
       "      <th>city</th>\n",
       "      <th>state</th>\n",
       "      <th>zip</th>\n",
       "      <th>lat</th>\n",
       "      <th>long</th>\n",
       "      <th>city_pop</th>\n",
       "      <th>merch_lat</th>\n",
       "      <th>merch_long</th>\n",
       "      <th>is_fraud</th>\n",
       "      <th>cardholder_age</th>\n",
       "      <th>month_fraud_likelihood</th>\n",
       "      <th>time_group</th>\n",
       "      <th>state_pop</th>\n",
       "      <th>city_state</th>\n",
       "      <th>city_risk</th>\n",
       "      <th>merchant_fraud_likelihood</th>\n",
       "      <th>merch_cluster</th>\n",
       "      <th>job_fraud_likelihood</th>\n",
       "      <th>cat_risk</th>\n",
       "    </tr>\n",
       "  </thead>\n",
       "  <tbody>\n",
       "    <tr>\n",
       "      <th>0</th>\n",
       "      <td>personal_care</td>\n",
       "      <td>2.86</td>\n",
       "      <td>1</td>\n",
       "      <td>351 Darlene Green</td>\n",
       "      <td>Columbia</td>\n",
       "      <td>SC</td>\n",
       "      <td>29209</td>\n",
       "      <td>33.9659</td>\n",
       "      <td>-80.9355</td>\n",
       "      <td>333497</td>\n",
       "      <td>33.986391</td>\n",
       "      <td>-81.200714</td>\n",
       "      <td>0</td>\n",
       "      <td>52</td>\n",
       "      <td>0.004425</td>\n",
       "      <td>0</td>\n",
       "      <td>506278.0</td>\n",
       "      <td>Columbia_SC</td>\n",
       "      <td>0</td>\n",
       "      <td>0.004076</td>\n",
       "      <td>3</td>\n",
       "      <td>0.000000</td>\n",
       "      <td>0</td>\n",
       "    </tr>\n",
       "    <tr>\n",
       "      <th>1</th>\n",
       "      <td>personal_care</td>\n",
       "      <td>29.84</td>\n",
       "      <td>0</td>\n",
       "      <td>3638 Marsh Union</td>\n",
       "      <td>Altonah</td>\n",
       "      <td>UT</td>\n",
       "      <td>84002</td>\n",
       "      <td>40.3207</td>\n",
       "      <td>-110.4360</td>\n",
       "      <td>302</td>\n",
       "      <td>39.450498</td>\n",
       "      <td>-109.960431</td>\n",
       "      <td>0</td>\n",
       "      <td>30</td>\n",
       "      <td>0.004425</td>\n",
       "      <td>0</td>\n",
       "      <td>68823.0</td>\n",
       "      <td>Altonah_UT</td>\n",
       "      <td>0</td>\n",
       "      <td>0.001274</td>\n",
       "      <td>3</td>\n",
       "      <td>0.000000</td>\n",
       "      <td>0</td>\n",
       "    </tr>\n",
       "    <tr>\n",
       "      <th>2</th>\n",
       "      <td>health_fitness</td>\n",
       "      <td>41.28</td>\n",
       "      <td>0</td>\n",
       "      <td>9333 Valentine Point</td>\n",
       "      <td>Bellmore</td>\n",
       "      <td>NY</td>\n",
       "      <td>11710</td>\n",
       "      <td>40.6729</td>\n",
       "      <td>-73.5365</td>\n",
       "      <td>34496</td>\n",
       "      <td>40.495810</td>\n",
       "      <td>-74.196111</td>\n",
       "      <td>0</td>\n",
       "      <td>50</td>\n",
       "      <td>0.004425</td>\n",
       "      <td>0</td>\n",
       "      <td>6003688.0</td>\n",
       "      <td>Bellmore_NY</td>\n",
       "      <td>0</td>\n",
       "      <td>0.001325</td>\n",
       "      <td>0</td>\n",
       "      <td>0.005798</td>\n",
       "      <td>0</td>\n",
       "    </tr>\n",
       "    <tr>\n",
       "      <th>3</th>\n",
       "      <td>misc_pos</td>\n",
       "      <td>60.05</td>\n",
       "      <td>1</td>\n",
       "      <td>32941 Krystal Mill Apt. 552</td>\n",
       "      <td>Titusville</td>\n",
       "      <td>FL</td>\n",
       "      <td>32780</td>\n",
       "      <td>28.5697</td>\n",
       "      <td>-80.8191</td>\n",
       "      <td>54767</td>\n",
       "      <td>28.812398</td>\n",
       "      <td>-80.883061</td>\n",
       "      <td>0</td>\n",
       "      <td>33</td>\n",
       "      <td>0.004425</td>\n",
       "      <td>0</td>\n",
       "      <td>3593018.0</td>\n",
       "      <td>Titusville_FL</td>\n",
       "      <td>0</td>\n",
       "      <td>0.004219</td>\n",
       "      <td>3</td>\n",
       "      <td>0.015083</td>\n",
       "      <td>0</td>\n",
       "    </tr>\n",
       "    <tr>\n",
       "      <th>4</th>\n",
       "      <td>travel</td>\n",
       "      <td>3.19</td>\n",
       "      <td>1</td>\n",
       "      <td>5783 Evan Roads Apt. 465</td>\n",
       "      <td>Falmouth</td>\n",
       "      <td>MI</td>\n",
       "      <td>49632</td>\n",
       "      <td>44.2529</td>\n",
       "      <td>-85.0170</td>\n",
       "      <td>1126</td>\n",
       "      <td>44.959148</td>\n",
       "      <td>-85.884734</td>\n",
       "      <td>0</td>\n",
       "      <td>65</td>\n",
       "      <td>0.004425</td>\n",
       "      <td>0</td>\n",
       "      <td>1299880.0</td>\n",
       "      <td>Falmouth_MI</td>\n",
       "      <td>0</td>\n",
       "      <td>0.002703</td>\n",
       "      <td>4</td>\n",
       "      <td>0.000000</td>\n",
       "      <td>0</td>\n",
       "    </tr>\n",
       "  </tbody>\n",
       "</table>\n",
       "</div>"
      ],
      "text/plain": [
       "         category    amt  is_male                       street        city  \\\n",
       "0   personal_care   2.86        1            351 Darlene Green    Columbia   \n",
       "1   personal_care  29.84        0             3638 Marsh Union     Altonah   \n",
       "2  health_fitness  41.28        0         9333 Valentine Point    Bellmore   \n",
       "3        misc_pos  60.05        1  32941 Krystal Mill Apt. 552  Titusville   \n",
       "4          travel   3.19        1     5783 Evan Roads Apt. 465    Falmouth   \n",
       "\n",
       "  state    zip      lat      long  city_pop  merch_lat  merch_long  is_fraud  \\\n",
       "0    SC  29209  33.9659  -80.9355    333497  33.986391  -81.200714         0   \n",
       "1    UT  84002  40.3207 -110.4360       302  39.450498 -109.960431         0   \n",
       "2    NY  11710  40.6729  -73.5365     34496  40.495810  -74.196111         0   \n",
       "3    FL  32780  28.5697  -80.8191     54767  28.812398  -80.883061         0   \n",
       "4    MI  49632  44.2529  -85.0170      1126  44.959148  -85.884734         0   \n",
       "\n",
       "   cardholder_age  month_fraud_likelihood  time_group  state_pop  \\\n",
       "0              52                0.004425           0   506278.0   \n",
       "1              30                0.004425           0    68823.0   \n",
       "2              50                0.004425           0  6003688.0   \n",
       "3              33                0.004425           0  3593018.0   \n",
       "4              65                0.004425           0  1299880.0   \n",
       "\n",
       "      city_state  city_risk  merchant_fraud_likelihood  merch_cluster  \\\n",
       "0    Columbia_SC          0                   0.004076              3   \n",
       "1     Altonah_UT          0                   0.001274              3   \n",
       "2    Bellmore_NY          0                   0.001325              0   \n",
       "3  Titusville_FL          0                   0.004219              3   \n",
       "4    Falmouth_MI          0                   0.002703              4   \n",
       "\n",
       "   job_fraud_likelihood  cat_risk  \n",
       "0              0.000000         0  \n",
       "1              0.000000         0  \n",
       "2              0.005798         0  \n",
       "3              0.015083         0  \n",
       "4              0.000000         0  "
      ]
     },
     "execution_count": 275,
     "metadata": {},
     "output_type": "execute_result"
    }
   ],
   "source": [
    "df.head()"
   ]
  },
  {
   "cell_type": "code",
   "execution_count": null,
   "id": "4bad58ae-ee0d-44ba-8b77-9cce00073908",
   "metadata": {},
   "outputs": [],
   "source": []
  },
  {
   "cell_type": "code",
   "execution_count": 277,
   "id": "c9e02545-38b5-4e60-a0f9-43fd078cdae4",
   "metadata": {},
   "outputs": [],
   "source": [
    "# remove category \n",
    "df = df.drop(['category'], axis=1)"
   ]
  },
  {
   "cell_type": "markdown",
   "id": "68df6f32-e8d8-4fdd-9d4d-7b3de98a1eea",
   "metadata": {},
   "source": [
    "#### Product Category One Hot Encoding\n",
    "Uncommenting the following code would be an alternative way to make use of the \"category\" feature in the model."
   ]
  },
  {
   "cell_type": "code",
   "execution_count": 282,
   "id": "b98f6a5c-63b0-470a-8d83-b6c769d8a89d",
   "metadata": {},
   "outputs": [],
   "source": [
    "# print('list of unique product categories: ')\n",
    "# print(list(df.category.unique()))\n",
    "# print()\n",
    "# print(len(list(df.category.unique())), 'unique product categories')"
   ]
  },
  {
   "cell_type": "code",
   "execution_count": 284,
   "id": "3230b6ad",
   "metadata": {},
   "outputs": [],
   "source": [
    "# # oneHot encode the product category feature\n",
    "# df = pd.get_dummies(df, columns=['category'], dtype=int)"
   ]
  },
  {
   "cell_type": "code",
   "execution_count": 286,
   "id": "416b96fa",
   "metadata": {},
   "outputs": [],
   "source": [
    "# df.head()"
   ]
  },
  {
   "cell_type": "code",
   "execution_count": 288,
   "id": "204b514c-9086-4d70-a04d-00cb2740ee70",
   "metadata": {},
   "outputs": [],
   "source": [
    "# df.info()"
   ]
  },
  {
   "cell_type": "code",
   "execution_count": null,
   "id": "35145aaa-680d-4ca7-bee2-f800d8470b8a",
   "metadata": {},
   "outputs": [],
   "source": []
  },
  {
   "cell_type": "markdown",
   "id": "0b0c59fd",
   "metadata": {},
   "source": [
    "## Modeling"
   ]
  },
  {
   "cell_type": "code",
   "execution_count": 321,
   "id": "1ad38c6a",
   "metadata": {},
   "outputs": [],
   "source": [
    "from sklearn.model_selection import train_test_split\n",
    "from sklearn import tree\n",
    "from sklearn.linear_model import LogisticRegression\n",
    "from sklearn.neighbors import KNeighborsClassifier\n",
    "from sklearn import svm\n",
    "from sklearn.ensemble import AdaBoostClassifier\n",
    "\n",
    "from sklearn.metrics import confusion_matrix, ConfusionMatrixDisplay\n",
    "from sklearn.metrics import f1_score"
   ]
  },
  {
   "cell_type": "code",
   "execution_count": 323,
   "id": "9394843e",
   "metadata": {},
   "outputs": [],
   "source": [
    "y = df['is_fraud']\n",
    "X = df.drop(['is_fraud'], axis=1)"
   ]
  },
  {
   "cell_type": "code",
   "execution_count": 325,
   "id": "ae2a0a23",
   "metadata": {},
   "outputs": [
    {
     "name": "stdout",
     "output_type": "stream",
     "text": [
      "shape of X_train, y_train, X_test, y_test: (389003, 16), (389003,),(166716, 16),(166716,)\n"
     ]
    }
   ],
   "source": [
    "# split data into training and testing sets\n",
    "X_train, X_test, y_train, y_test = train_test_split(X, y, test_size=0.30, random_state=2001)\n",
    "print( f\"shape of X_train, y_train, X_test, y_test: {X_train.shape}, {y_train.shape},{X_test.shape},{y_test.shape}\")"
   ]
  },
  {
   "cell_type": "code",
   "execution_count": 327,
   "id": "f9447d0c-42b1-4dbc-b23b-36a13f681b5a",
   "metadata": {},
   "outputs": [
    {
     "data": {
      "text/plain": [
       "0.0038508700447040254"
      ]
     },
     "execution_count": 327,
     "metadata": {},
     "output_type": "execute_result"
    }
   ],
   "source": [
    "# check the rate of fraud\n",
    "sum(y_train)/len(y_train)"
   ]
  },
  {
   "cell_type": "code",
   "execution_count": 329,
   "id": "ca53ed1f-7eba-4c2e-bf84-62b685961600",
   "metadata": {},
   "outputs": [
    {
     "data": {
      "text/plain": [
       "0.9961491299552959"
      ]
     },
     "execution_count": 329,
     "metadata": {},
     "output_type": "execute_result"
    }
   ],
   "source": [
    "# if you predicted NOT fraud for every transaction your accuracy would be ...\n",
    "y_train[y_train==0].size / y_train.size"
   ]
  },
  {
   "cell_type": "code",
   "execution_count": 331,
   "id": "2ee6120d",
   "metadata": {},
   "outputs": [],
   "source": [
    "# therefore we need a model to be more accurate than this"
   ]
  },
  {
   "cell_type": "code",
   "execution_count": null,
   "id": "36381a69-87b1-48d7-8596-f13f13496dd6",
   "metadata": {},
   "outputs": [],
   "source": []
  },
  {
   "cell_type": "markdown",
   "id": "544dbba7",
   "metadata": {},
   "source": [
    "### Decision Tree"
   ]
  },
  {
   "cell_type": "code",
   "execution_count": 335,
   "id": "4c416ea1",
   "metadata": {},
   "outputs": [],
   "source": [
    "# Create a Decision Tree using entropy as attribute selection\n",
    "DT_clf = tree.DecisionTreeClassifier(criterion = 'entropy')"
   ]
  },
  {
   "cell_type": "code",
   "execution_count": 337,
   "id": "015f6004",
   "metadata": {},
   "outputs": [],
   "source": [
    "# Training the tree\n",
    "DT_clf = DT_clf.fit(X_train, y_train)"
   ]
  },
  {
   "cell_type": "code",
   "execution_count": 339,
   "id": "a7f58fc4-ebea-41a4-8826-6d4df25b678d",
   "metadata": {},
   "outputs": [],
   "source": [
    "# class probabilities\n",
    "probabs = (DT_clf.predict_proba(X_test))"
   ]
  },
  {
   "cell_type": "code",
   "execution_count": 341,
   "id": "d44789f3-5286-477a-bfce-d5496ce8fe1d",
   "metadata": {},
   "outputs": [],
   "source": [
    "# generate predictions\n",
    "y_pred = (probabs[:,1] >= 0.01).astype(bool)"
   ]
  },
  {
   "cell_type": "code",
   "execution_count": 343,
   "id": "67c8c00b-87ed-4d4a-9f54-c131d50e9089",
   "metadata": {},
   "outputs": [
    {
     "name": "stdout",
     "output_type": "stream",
     "text": [
      "Decision Tree Accuracy: 0.9973667794332878\n"
     ]
    },
    {
     "data": {
      "text/plain": [
       "True"
      ]
     },
     "execution_count": 343,
     "metadata": {},
     "output_type": "execute_result"
    }
   ],
   "source": [
    "# more accurate than always predicting NOT fraud?\n",
    "print('Decision Tree Accuracy:', sum(y_pred == y_test)/len(y_pred))\n",
    "(sum(y_pred == y_test)/len(y_pred)) > (y_train[y_train==0].size / y_train.size)"
   ]
  },
  {
   "cell_type": "code",
   "execution_count": 345,
   "id": "d4bdbc5b-48de-4326-8fd5-2ade70e79600",
   "metadata": {},
   "outputs": [
    {
     "data": {
      "image/png": "[encoded data removed]",
      "text/plain": [
       "<Figure size 640x480 with 2 Axes>"
      ]
     },
     "metadata": {},
     "output_type": "display_data"
    }
   ],
   "source": [
    "c_mat = confusion_matrix(y_test, y_pred, labels=DT_clf.classes_)\n",
    "disp = ConfusionMatrixDisplay(confusion_matrix=c_mat, display_labels=DT_clf.classes_)\n",
    "disp.plot();"
   ]
  },
  {
   "cell_type": "code",
   "execution_count": 347,
   "id": "2815f9c2",
   "metadata": {},
   "outputs": [
    {
     "name": "stdout",
     "output_type": "stream",
     "text": [
      "DT F1 Score: 0.6630851880276285\n",
      "DT Precision: 0.9987052872455738\n",
      "DT Recall: 0.9986511630707718\n"
     ]
    }
   ],
   "source": [
    "F1_score = f1_score(y_test, y_pred)\n",
    "precision = c_mat[0,0] / (c_mat[0,0]+c_mat[1,0])\n",
    "recall = c_mat[0,0] / (c_mat[0,0]+c_mat[0,1])\n",
    "\n",
    "print('DT F1 Score:', F1_score)\n",
    "print('DT Precision:', precision)\n",
    "print('DT Recall:', recall)"
   ]
  },
  {
   "cell_type": "code",
   "execution_count": null,
   "id": "a6bbc6cd",
   "metadata": {},
   "outputs": [],
   "source": []
  },
  {
   "cell_type": "code",
   "execution_count": null,
   "id": "13dd1b54",
   "metadata": {},
   "outputs": [],
   "source": []
  },
  {
   "cell_type": "markdown",
   "id": "6c7887b2",
   "metadata": {},
   "source": [
    "### Logistic Regression"
   ]
  },
  {
   "cell_type": "code",
   "execution_count": 352,
   "id": "542c8c7a",
   "metadata": {},
   "outputs": [
    {
     "name": "stderr",
     "output_type": "stream",
     "text": [
      "/opt/anaconda3/lib/python3.12/site-packages/sklearn/linear_model/_logistic.py:469: ConvergenceWarning: lbfgs failed to converge (status=1):\n",
      "STOP: TOTAL NO. of ITERATIONS REACHED LIMIT.\n",
      "\n",
      "Increase the number of iterations (max_iter) or scale the data as shown in:\n",
      "    https://scikit-learn.org/stable/modules/preprocessing.html\n",
      "Please also refer to the documentation for alternative solver options:\n",
      "    https://scikit-learn.org/stable/modules/linear_model.html#logistic-regression\n",
      "  n_iter_i = _check_optimize_result(\n"
     ]
    }
   ],
   "source": [
    "# Creating and training the model\n",
    "LR_clf = LogisticRegression(random_state=0).fit(X_train, y_train)"
   ]
  },
  {
   "cell_type": "code",
   "execution_count": 353,
   "id": "af103e28-6ed9-4e7f-8941-b1273ead66d2",
   "metadata": {},
   "outputs": [],
   "source": [
    "# class probabilities\n",
    "probabs = (LR_clf.predict_proba(X_test))"
   ]
  },
  {
   "cell_type": "code",
   "execution_count": 354,
   "id": "6d1b1fb9-f6f7-4b94-924e-c0641c7b3b0c",
   "metadata": {},
   "outputs": [],
   "source": [
    "# choosing an optimal threshold"
   ]
  },
  {
   "cell_type": "code",
   "execution_count": 358,
   "id": "8f1eb145-fdca-4931-b4fc-258bcbdd8bb7",
   "metadata": {},
   "outputs": [],
   "source": [
    "import matplotlib.pyplot as plt\n",
    "import numpy as np"
   ]
  },
  {
   "cell_type": "code",
   "execution_count": 360,
   "id": "8efc0c4a-edec-476d-a865-275a6ca85ee5",
   "metadata": {},
   "outputs": [],
   "source": [
    "t_list = np.linspace(0.1, 0.005, 100)\n",
    "f1_list = []\n",
    "\n",
    "for threshold in t_list:\n",
    "    y_pred = (probabs[:,1] >= threshold).astype(bool)\n",
    "    f1_list.append(f1_score(y_test, y_pred))"
   ]
  },
  {
   "cell_type": "code",
   "execution_count": 361,
   "id": "a0080a8a-5c32-4134-a11f-4e61bea768d5",
   "metadata": {},
   "outputs": [
    {
     "data": {
      "image/png": "[encoded data removed]",
      "text/plain": [
       "<Figure size 640x480 with 1 Axes>"
      ]
     },
     "metadata": {},
     "output_type": "display_data"
    }
   ],
   "source": [
    "plt.title('Model F1 Accuracy by Classification Threshold')\n",
    "plt.xlabel('threshold', size = 14)\n",
    "plt.ylabel('F1', size = 14)\n",
    "plt.scatter(t_list,f1_list);"
   ]
  },
  {
   "cell_type": "code",
   "execution_count": 364,
   "id": "c8e85753-10b8-4c41-b135-06bbe496f4f1",
   "metadata": {},
   "outputs": [
    {
     "name": "stdout",
     "output_type": "stream",
     "text": [
      "Optimal Threshold: 0.011717171717171723\n"
     ]
    }
   ],
   "source": [
    "# Find the threshold corresponding to the largest F1 score\n",
    "max_value = max(f1_list)\n",
    "max_index = f1_list.index(max_value)\n",
    "print('Optimal Threshold:', t_list[max_index])"
   ]
  },
  {
   "cell_type": "code",
   "execution_count": 366,
   "id": "093cbb2b-90a5-4ef2-bcc2-4be85e3a34ae",
   "metadata": {},
   "outputs": [],
   "source": [
    "# generate predictions\n",
    "y_pred = (probabs[:,1] >= 0.011717).astype(bool)"
   ]
  },
  {
   "cell_type": "code",
   "execution_count": 368,
   "id": "819d6c12",
   "metadata": {},
   "outputs": [
    {
     "name": "stdout",
     "output_type": "stream",
     "text": [
      "Logistic Reg. Accuracy: 0.9921783152186953\n"
     ]
    },
    {
     "data": {
      "text/plain": [
       "False"
      ]
     },
     "execution_count": 368,
     "metadata": {},
     "output_type": "execute_result"
    }
   ],
   "source": [
    "# more accurate than always predicting NOT fraud?\n",
    "print('Logistic Reg. Accuracy:', sum(y_pred == y_test)/len(y_pred))\n",
    "(sum(y_pred == y_test)/len(y_pred)) > (y_train[y_train==0].size / y_train.size)"
   ]
  },
  {
   "cell_type": "code",
   "execution_count": 370,
   "id": "e005ce47",
   "metadata": {},
   "outputs": [
    {
     "data": {
      "image/png": "[encoded data removed]",
      "text/plain": [
       "<Figure size 640x480 with 2 Axes>"
      ]
     },
     "metadata": {},
     "output_type": "display_data"
    }
   ],
   "source": [
    "c_mat = confusion_matrix(y_test, y_pred, labels=LR_clf.classes_)\n",
    "disp = ConfusionMatrixDisplay(confusion_matrix=c_mat, display_labels=LR_clf.classes_)\n",
    "disp.plot();"
   ]
  },
  {
   "cell_type": "code",
   "execution_count": 372,
   "id": "1c7acd56",
   "metadata": {},
   "outputs": [
    {
     "name": "stdout",
     "output_type": "stream",
     "text": [
      "LR F1 Score: 0.2383177570093458\n",
      "LR Precision: 0.9973257028330647\n",
      "LR Recall: 0.9948154080532791\n"
     ]
    }
   ],
   "source": [
    "F1_score = f1_score(y_test, y_pred)\n",
    "precision = c_mat[0,0] / (c_mat[0,0]+c_mat[1,0])\n",
    "recall = c_mat[0,0] / (c_mat[0,0]+c_mat[0,1])\n",
    "\n",
    "print('LR F1 Score:', F1_score)\n",
    "print('LR Precision:', precision)\n",
    "print('LR Recall:', recall)"
   ]
  },
  {
   "cell_type": "code",
   "execution_count": null,
   "id": "128f7cbd",
   "metadata": {},
   "outputs": [],
   "source": []
  },
  {
   "cell_type": "code",
   "execution_count": null,
   "id": "fdfb71bc",
   "metadata": {},
   "outputs": [],
   "source": []
  },
  {
   "cell_type": "markdown",
   "id": "a939159e-224f-4351-b158-ccfa6e952e0f",
   "metadata": {},
   "source": [
    "### Comparison\n",
    "In the context of predicting credit fraud, the most important metric to consider is F1 Score. We want our model to have high sensitivity, because we want to make sure we catch any fraudulent behavior as it can result in losses of cardholders. However, we are also interested in a high specificity, or a small number of false positives. This is because it can be a real detriment to a cardholder to not be able to use their card if they need it in some situation, i.e. by classifying a non-fraudulent transaction as fraudulent, the cardholder might be denied access to their funds for no good reason. F1-score takes both of these into account. Therefore, in this context, the Decision Tree model performs the best. \n",
    "\n",
    "### Future Work\n",
    "Figure out how to boost the accuracy of the Logistic Regression model. \n",
    "- check for collinearity in the predictor variables\n",
    "- apply standardization to the training data\n",
    "- try other models as seen below"
   ]
  },
  {
   "cell_type": "code",
   "execution_count": null,
   "id": "b91f8e25-2bba-42c2-a836-b8c3ecd890a7",
   "metadata": {},
   "outputs": [],
   "source": []
  },
  {
   "cell_type": "code",
   "execution_count": null,
   "id": "7f765cc8-5660-49be-9bca-9e8c1b04cf54",
   "metadata": {},
   "outputs": [],
   "source": []
  },
  {
   "cell_type": "code",
   "execution_count": null,
   "id": "e7064fb5-f684-4312-b1b7-3bcaba031b02",
   "metadata": {},
   "outputs": [],
   "source": []
  },
  {
   "cell_type": "markdown",
   "id": "4be61348-27c2-412a-86c8-910d8ace65b0",
   "metadata": {},
   "source": [
    "#### KNN"
   ]
  },
  {
   "cell_type": "code",
   "execution_count": 448,
   "id": "8cd20ebc",
   "metadata": {
    "scrolled": true
   },
   "outputs": [
    {
     "data": {
      "text/html": [
       "<style>#sk-container-id-1 {\n",
       "  /* Definition of color scheme common for light and dark mode */\n",
       "  --sklearn-color-text: black;\n",
       "  --sklearn-color-line: gray;\n",
       "  /* Definition of color scheme for unfitted estimators */\n",
       "  --sklearn-color-unfitted-level-0: #fff5e6;\n",
       "  --sklearn-color-unfitted-level-1: #f6e4d2;\n",
       "  --sklearn-color-unfitted-level-2: #ffe0b3;\n",
       "  --sklearn-color-unfitted-level-3: chocolate;\n",
       "  /* Definition of color scheme for fitted estimators */\n",
       "  --sklearn-color-fitted-level-0: #f0f8ff;\n",
       "  --sklearn-color-fitted-level-1: #d4ebff;\n",
       "  --sklearn-color-fitted-level-2: #b3dbfd;\n",
       "  --sklearn-color-fitted-level-3: cornflowerblue;\n",
       "\n",
       "  /* Specific color for light theme */\n",
       "  --sklearn-color-text-on-default-background: var(--sg-text-color, var(--theme-code-foreground, var(--jp-content-font-color1, black)));\n",
       "  --sklearn-color-background: var(--sg-background-color, var(--theme-background, var(--jp-layout-color0, white)));\n",
       "  --sklearn-color-border-box: var(--sg-text-color, var(--theme-code-foreground, var(--jp-content-font-color1, black)));\n",
       "  --sklearn-color-icon: #696969;\n",
       "\n",
       "  @media (prefers-color-scheme: dark) {\n",
       "    /* Redefinition of color scheme for dark theme */\n",
       "    --sklearn-color-text-on-default-background: var(--sg-text-color, var(--theme-code-foreground, var(--jp-content-font-color1, white)));\n",
       "    --sklearn-color-background: var(--sg-background-color, var(--theme-background, var(--jp-layout-color0, #111)));\n",
       "    --sklearn-color-border-box: var(--sg-text-color, var(--theme-code-foreground, var(--jp-content-font-color1, white)));\n",
       "    --sklearn-color-icon: #878787;\n",
       "  }\n",
       "}\n",
       "\n",
       "#sk-container-id-1 {\n",
       "  color: var(--sklearn-color-text);\n",
       "}\n",
       "\n",
       "#sk-container-id-1 pre {\n",
       "  padding: 0;\n",
       "}\n",
       "\n",
       "#sk-container-id-1 input.sk-hidden--visually {\n",
       "  border: 0;\n",
       "  clip: rect(1px 1px 1px 1px);\n",
       "  clip: rect(1px, 1px, 1px, 1px);\n",
       "  height: 1px;\n",
       "  margin: -1px;\n",
       "  overflow: hidden;\n",
       "  padding: 0;\n",
       "  position: absolute;\n",
       "  width: 1px;\n",
       "}\n",
       "\n",
       "#sk-container-id-1 div.sk-dashed-wrapped {\n",
       "  border: 1px dashed var(--sklearn-color-line);\n",
       "  margin: 0 0.4em 0.5em 0.4em;\n",
       "  box-sizing: border-box;\n",
       "  padding-bottom: 0.4em;\n",
       "  background-color: var(--sklearn-color-background);\n",
       "}\n",
       "\n",
       "#sk-container-id-1 div.sk-container {\n",
       "  /* jupyter's `normalize.less` sets `[hidden] { display: none; }`\n",
       "     but bootstrap.min.css set `[hidden] { display: none !important; }`\n",
       "     so we also need the `!important` here to be able to override the\n",
       "     default hidden behavior on the sphinx rendered scikit-learn.org.\n",
       "     See: https://github.com/scikit-learn/scikit-learn/issues/21755 */\n",
       "  display: inline-block !important;\n",
       "  position: relative;\n",
       "}\n",
       "\n",
       "#sk-container-id-1 div.sk-text-repr-fallback {\n",
       "  display: none;\n",
       "}\n",
       "\n",
       "div.sk-parallel-item,\n",
       "div.sk-serial,\n",
       "div.sk-item {\n",
       "  /* draw centered vertical line to link estimators */\n",
       "  background-image: linear-gradient(var(--sklearn-color-text-on-default-background), var(--sklearn-color-text-on-default-background));\n",
       "  background-size: 2px 100%;\n",
       "  background-repeat: no-repeat;\n",
       "  background-position: center center;\n",
       "}\n",
       "\n",
       "/* Parallel-specific style estimator block */\n",
       "\n",
       "#sk-container-id-1 div.sk-parallel-item::after {\n",
       "  content: \"\";\n",
       "  width: 100%;\n",
       "  border-bottom: 2px solid var(--sklearn-color-text-on-default-background);\n",
       "  flex-grow: 1;\n",
       "}\n",
       "\n",
       "#sk-container-id-1 div.sk-parallel {\n",
       "  display: flex;\n",
       "  align-items: stretch;\n",
       "  justify-content: center;\n",
       "  background-color: var(--sklearn-color-background);\n",
       "  position: relative;\n",
       "}\n",
       "\n",
       "#sk-container-id-1 div.sk-parallel-item {\n",
       "  display: flex;\n",
       "  flex-direction: column;\n",
       "}\n",
       "\n",
       "#sk-container-id-1 div.sk-parallel-item:first-child::after {\n",
       "  align-self: flex-end;\n",
       "  width: 50%;\n",
       "}\n",
       "\n",
       "#sk-container-id-1 div.sk-parallel-item:last-child::after {\n",
       "  align-self: flex-start;\n",
       "  width: 50%;\n",
       "}\n",
       "\n",
       "#sk-container-id-1 div.sk-parallel-item:only-child::after {\n",
       "  width: 0;\n",
       "}\n",
       "\n",
       "/* Serial-specific style estimator block */\n",
       "\n",
       "#sk-container-id-1 div.sk-serial {\n",
       "  display: flex;\n",
       "  flex-direction: column;\n",
       "  align-items: center;\n",
       "  background-color: var(--sklearn-color-background);\n",
       "  padding-right: 1em;\n",
       "  padding-left: 1em;\n",
       "}\n",
       "\n",
       "\n",
       "/* Toggleable style: style used for estimator/Pipeline/ColumnTransformer box that is\n",
       "clickable and can be expanded/collapsed.\n",
       "- Pipeline and ColumnTransformer use this feature and define the default style\n",
       "- Estimators will overwrite some part of the style using the `sk-estimator` class\n",
       "*/\n",
       "\n",
       "/* Pipeline and ColumnTransformer style (default) */\n",
       "\n",
       "#sk-container-id-1 div.sk-toggleable {\n",
       "  /* Default theme specific background. It is overwritten whether we have a\n",
       "  specific estimator or a Pipeline/ColumnTransformer */\n",
       "  background-color: var(--sklearn-color-background);\n",
       "}\n",
       "\n",
       "/* Toggleable label */\n",
       "#sk-container-id-1 label.sk-toggleable__label {\n",
       "  cursor: pointer;\n",
       "  display: block;\n",
       "  width: 100%;\n",
       "  margin-bottom: 0;\n",
       "  padding: 0.5em;\n",
       "  box-sizing: border-box;\n",
       "  text-align: center;\n",
       "}\n",
       "\n",
       "#sk-container-id-1 label.sk-toggleable__label-arrow:before {\n",
       "  /* Arrow on the left of the label */\n",
       "  content: \"▸\";\n",
       "  float: left;\n",
       "  margin-right: 0.25em;\n",
       "  color: var(--sklearn-color-icon);\n",
       "}\n",
       "\n",
       "#sk-container-id-1 label.sk-toggleable__label-arrow:hover:before {\n",
       "  color: var(--sklearn-color-text);\n",
       "}\n",
       "\n",
       "/* Toggleable content - dropdown */\n",
       "\n",
       "#sk-container-id-1 div.sk-toggleable__content {\n",
       "  max-height: 0;\n",
       "  max-width: 0;\n",
       "  overflow: hidden;\n",
       "  text-align: left;\n",
       "  /* unfitted */\n",
       "  background-color: var(--sklearn-color-unfitted-level-0);\n",
       "}\n",
       "\n",
       "#sk-container-id-1 div.sk-toggleable__content.fitted {\n",
       "  /* fitted */\n",
       "  background-color: var(--sklearn-color-fitted-level-0);\n",
       "}\n",
       "\n",
       "#sk-container-id-1 div.sk-toggleable__content pre {\n",
       "  margin: 0.2em;\n",
       "  border-radius: 0.25em;\n",
       "  color: var(--sklearn-color-text);\n",
       "  /* unfitted */\n",
       "  background-color: var(--sklearn-color-unfitted-level-0);\n",
       "}\n",
       "\n",
       "#sk-container-id-1 div.sk-toggleable__content.fitted pre {\n",
       "  /* unfitted */\n",
       "  background-color: var(--sklearn-color-fitted-level-0);\n",
       "}\n",
       "\n",
       "#sk-container-id-1 input.sk-toggleable__control:checked~div.sk-toggleable__content {\n",
       "  /* Expand drop-down */\n",
       "  max-height: 200px;\n",
       "  max-width: 100%;\n",
       "  overflow: auto;\n",
       "}\n",
       "\n",
       "#sk-container-id-1 input.sk-toggleable__control:checked~label.sk-toggleable__label-arrow:before {\n",
       "  content: \"▾\";\n",
       "}\n",
       "\n",
       "/* Pipeline/ColumnTransformer-specific style */\n",
       "\n",
       "#sk-container-id-1 div.sk-label input.sk-toggleable__control:checked~label.sk-toggleable__label {\n",
       "  color: var(--sklearn-color-text);\n",
       "  background-color: var(--sklearn-color-unfitted-level-2);\n",
       "}\n",
       "\n",
       "#sk-container-id-1 div.sk-label.fitted input.sk-toggleable__control:checked~label.sk-toggleable__label {\n",
       "  background-color: var(--sklearn-color-fitted-level-2);\n",
       "}\n",
       "\n",
       "/* Estimator-specific style */\n",
       "\n",
       "/* Colorize estimator box */\n",
       "#sk-container-id-1 div.sk-estimator input.sk-toggleable__control:checked~label.sk-toggleable__label {\n",
       "  /* unfitted */\n",
       "  background-color: var(--sklearn-color-unfitted-level-2);\n",
       "}\n",
       "\n",
       "#sk-container-id-1 div.sk-estimator.fitted input.sk-toggleable__control:checked~label.sk-toggleable__label {\n",
       "  /* fitted */\n",
       "  background-color: var(--sklearn-color-fitted-level-2);\n",
       "}\n",
       "\n",
       "#sk-container-id-1 div.sk-label label.sk-toggleable__label,\n",
       "#sk-container-id-1 div.sk-label label {\n",
       "  /* The background is the default theme color */\n",
       "  color: var(--sklearn-color-text-on-default-background);\n",
       "}\n",
       "\n",
       "/* On hover, darken the color of the background */\n",
       "#sk-container-id-1 div.sk-label:hover label.sk-toggleable__label {\n",
       "  color: var(--sklearn-color-text);\n",
       "  background-color: var(--sklearn-color-unfitted-level-2);\n",
       "}\n",
       "\n",
       "/* Label box, darken color on hover, fitted */\n",
       "#sk-container-id-1 div.sk-label.fitted:hover label.sk-toggleable__label.fitted {\n",
       "  color: var(--sklearn-color-text);\n",
       "  background-color: var(--sklearn-color-fitted-level-2);\n",
       "}\n",
       "\n",
       "/* Estimator label */\n",
       "\n",
       "#sk-container-id-1 div.sk-label label {\n",
       "  font-family: monospace;\n",
       "  font-weight: bold;\n",
       "  display: inline-block;\n",
       "  line-height: 1.2em;\n",
       "}\n",
       "\n",
       "#sk-container-id-1 div.sk-label-container {\n",
       "  text-align: center;\n",
       "}\n",
       "\n",
       "/* Estimator-specific */\n",
       "#sk-container-id-1 div.sk-estimator {\n",
       "  font-family: monospace;\n",
       "  border: 1px dotted var(--sklearn-color-border-box);\n",
       "  border-radius: 0.25em;\n",
       "  box-sizing: border-box;\n",
       "  margin-bottom: 0.5em;\n",
       "  /* unfitted */\n",
       "  background-color: var(--sklearn-color-unfitted-level-0);\n",
       "}\n",
       "\n",
       "#sk-container-id-1 div.sk-estimator.fitted {\n",
       "  /* fitted */\n",
       "  background-color: var(--sklearn-color-fitted-level-0);\n",
       "}\n",
       "\n",
       "/* on hover */\n",
       "#sk-container-id-1 div.sk-estimator:hover {\n",
       "  /* unfitted */\n",
       "  background-color: var(--sklearn-color-unfitted-level-2);\n",
       "}\n",
       "\n",
       "#sk-container-id-1 div.sk-estimator.fitted:hover {\n",
       "  /* fitted */\n",
       "  background-color: var(--sklearn-color-fitted-level-2);\n",
       "}\n",
       "\n",
       "/* Specification for estimator info (e.g. \"i\" and \"?\") */\n",
       "\n",
       "/* Common style for \"i\" and \"?\" */\n",
       "\n",
       ".sk-estimator-doc-link,\n",
       "a:link.sk-estimator-doc-link,\n",
       "a:visited.sk-estimator-doc-link {\n",
       "  float: right;\n",
       "  font-size: smaller;\n",
       "  line-height: 1em;\n",
       "  font-family: monospace;\n",
       "  background-color: var(--sklearn-color-background);\n",
       "  border-radius: 1em;\n",
       "  height: 1em;\n",
       "  width: 1em;\n",
       "  text-decoration: none !important;\n",
       "  margin-left: 1ex;\n",
       "  /* unfitted */\n",
       "  border: var(--sklearn-color-unfitted-level-1) 1pt solid;\n",
       "  color: var(--sklearn-color-unfitted-level-1);\n",
       "}\n",
       "\n",
       ".sk-estimator-doc-link.fitted,\n",
       "a:link.sk-estimator-doc-link.fitted,\n",
       "a:visited.sk-estimator-doc-link.fitted {\n",
       "  /* fitted */\n",
       "  border: var(--sklearn-color-fitted-level-1) 1pt solid;\n",
       "  color: var(--sklearn-color-fitted-level-1);\n",
       "}\n",
       "\n",
       "/* On hover */\n",
       "div.sk-estimator:hover .sk-estimator-doc-link:hover,\n",
       ".sk-estimator-doc-link:hover,\n",
       "div.sk-label-container:hover .sk-estimator-doc-link:hover,\n",
       ".sk-estimator-doc-link:hover {\n",
       "  /* unfitted */\n",
       "  background-color: var(--sklearn-color-unfitted-level-3);\n",
       "  color: var(--sklearn-color-background);\n",
       "  text-decoration: none;\n",
       "}\n",
       "\n",
       "div.sk-estimator.fitted:hover .sk-estimator-doc-link.fitted:hover,\n",
       ".sk-estimator-doc-link.fitted:hover,\n",
       "div.sk-label-container:hover .sk-estimator-doc-link.fitted:hover,\n",
       ".sk-estimator-doc-link.fitted:hover {\n",
       "  /* fitted */\n",
       "  background-color: var(--sklearn-color-fitted-level-3);\n",
       "  color: var(--sklearn-color-background);\n",
       "  text-decoration: none;\n",
       "}\n",
       "\n",
       "/* Span, style for the box shown on hovering the info icon */\n",
       ".sk-estimator-doc-link span {\n",
       "  display: none;\n",
       "  z-index: 9999;\n",
       "  position: relative;\n",
       "  font-weight: normal;\n",
       "  right: .2ex;\n",
       "  padding: .5ex;\n",
       "  margin: .5ex;\n",
       "  width: min-content;\n",
       "  min-width: 20ex;\n",
       "  max-width: 50ex;\n",
       "  color: var(--sklearn-color-text);\n",
       "  box-shadow: 2pt 2pt 4pt #999;\n",
       "  /* unfitted */\n",
       "  background: var(--sklearn-color-unfitted-level-0);\n",
       "  border: .5pt solid var(--sklearn-color-unfitted-level-3);\n",
       "}\n",
       "\n",
       ".sk-estimator-doc-link.fitted span {\n",
       "  /* fitted */\n",
       "  background: var(--sklearn-color-fitted-level-0);\n",
       "  border: var(--sklearn-color-fitted-level-3);\n",
       "}\n",
       "\n",
       ".sk-estimator-doc-link:hover span {\n",
       "  display: block;\n",
       "}\n",
       "\n",
       "/* \"?\"-specific style due to the `<a>` HTML tag */\n",
       "\n",
       "#sk-container-id-1 a.estimator_doc_link {\n",
       "  float: right;\n",
       "  font-size: 1rem;\n",
       "  line-height: 1em;\n",
       "  font-family: monospace;\n",
       "  background-color: var(--sklearn-color-background);\n",
       "  border-radius: 1rem;\n",
       "  height: 1rem;\n",
       "  width: 1rem;\n",
       "  text-decoration: none;\n",
       "  /* unfitted */\n",
       "  color: var(--sklearn-color-unfitted-level-1);\n",
       "  border: var(--sklearn-color-unfitted-level-1) 1pt solid;\n",
       "}\n",
       "\n",
       "#sk-container-id-1 a.estimator_doc_link.fitted {\n",
       "  /* fitted */\n",
       "  border: var(--sklearn-color-fitted-level-1) 1pt solid;\n",
       "  color: var(--sklearn-color-fitted-level-1);\n",
       "}\n",
       "\n",
       "/* On hover */\n",
       "#sk-container-id-1 a.estimator_doc_link:hover {\n",
       "  /* unfitted */\n",
       "  background-color: var(--sklearn-color-unfitted-level-3);\n",
       "  color: var(--sklearn-color-background);\n",
       "  text-decoration: none;\n",
       "}\n",
       "\n",
       "#sk-container-id-1 a.estimator_doc_link.fitted:hover {\n",
       "  /* fitted */\n",
       "  background-color: var(--sklearn-color-fitted-level-3);\n",
       "}\n",
       "</style><div id=\"sk-container-id-1\" class=\"sk-top-container\"><div class=\"sk-text-repr-fallback\"><pre>KNeighborsClassifier(n_neighbors=1)</pre><b>In a Jupyter environment, please rerun this cell to show the HTML representation or trust the notebook. <br />On GitHub, the HTML representation is unable to render, please try loading this page with nbviewer.org.</b></div><div class=\"sk-container\" hidden><div class=\"sk-item\"><div class=\"sk-estimator fitted sk-toggleable\"><input class=\"sk-toggleable__control sk-hidden--visually\" id=\"sk-estimator-id-1\" type=\"checkbox\" checked><label for=\"sk-estimator-id-1\" class=\"sk-toggleable__label fitted sk-toggleable__label-arrow fitted\">&nbsp;&nbsp;KNeighborsClassifier<a class=\"sk-estimator-doc-link fitted\" rel=\"noreferrer\" target=\"_blank\" href=\"https://scikit-learn.org/1.5/modules/generated/sklearn.neighbors.KNeighborsClassifier.html\">?<span>Documentation for KNeighborsClassifier</span></a><span class=\"sk-estimator-doc-link fitted\">i<span>Fitted</span></span></label><div class=\"sk-toggleable__content fitted\"><pre>KNeighborsClassifier(n_neighbors=1)</pre></div> </div></div></div></div>"
      ],
      "text/plain": [
       "KNeighborsClassifier(n_neighbors=1)"
      ]
     },
     "execution_count": 448,
     "metadata": {},
     "output_type": "execute_result"
    }
   ],
   "source": [
    "neigh = KNeighborsClassifier(n_neighbors=1)\n",
    "neigh.fit(X_train, y_train)"
   ]
  },
  {
   "cell_type": "code",
   "execution_count": 449,
   "id": "37ca8723",
   "metadata": {},
   "outputs": [],
   "source": [
    "predictions = neigh.predict(X_test)"
   ]
  },
  {
   "cell_type": "code",
   "execution_count": 450,
   "id": "6521f1fc",
   "metadata": {},
   "outputs": [
    {
     "name": "stdout",
     "output_type": "stream",
     "text": [
      "KNN accuracy: 0.996305093692267\n"
     ]
    }
   ],
   "source": [
    "#print(predictions)\n",
    "acc = np.sum(predictions == y_test) / len(y_test)\n",
    "print('KNN accuracy:', acc)"
   ]
  },
  {
   "cell_type": "code",
   "execution_count": 451,
   "id": "0da48ceb",
   "metadata": {},
   "outputs": [
    {
     "data": {
      "text/plain": [
       "array([[165729,    340],\n",
       "       [   276,    371]])"
      ]
     },
     "execution_count": 451,
     "metadata": {},
     "output_type": "execute_result"
    }
   ],
   "source": [
    "c_mat = confusion_matrix(y_test, predictions)\n",
    "c_mat"
   ]
  },
  {
   "cell_type": "code",
   "execution_count": 452,
   "id": "41c3cbc9",
   "metadata": {},
   "outputs": [
    {
     "name": "stdout",
     "output_type": "stream",
     "text": [
      "KNN F1 Score: 0.5463917525773195\n",
      "KNN Precision: 0.9983373994759194\n",
      "KNN Recall: 0.9979526582324214\n"
     ]
    }
   ],
   "source": [
    "F1_score = f1_score(y_test, predictions)\n",
    "precision = c_mat[0,0] / (c_mat[0,0]+c_mat[1,0])\n",
    "recall = c_mat[0,0] / (c_mat[0,0]+c_mat[0,1])\n",
    "\n",
    "print('KNN F1 Score:', F1_score)\n",
    "print('KNN Precision:', precision)\n",
    "print('KNN Recall:', recall)"
   ]
  },
  {
   "cell_type": "code",
   "execution_count": null,
   "id": "73c9428b",
   "metadata": {},
   "outputs": [],
   "source": []
  },
  {
   "cell_type": "code",
   "execution_count": null,
   "id": "543eeeda",
   "metadata": {},
   "outputs": [],
   "source": []
  },
  {
   "cell_type": "markdown",
   "id": "ae173e3c",
   "metadata": {},
   "source": [
    "#### SVM"
   ]
  },
  {
   "cell_type": "code",
   "execution_count": 136,
   "id": "eee2d0a8",
   "metadata": {},
   "outputs": [],
   "source": [
    "svm_clf = svm.SVC(kernel='linear').fit(X_train,y_train)"
   ]
  },
  {
   "cell_type": "code",
   "execution_count": 137,
   "id": "3cfc376e",
   "metadata": {},
   "outputs": [],
   "source": [
    "predictions = svm_clf.predict(X_test)"
   ]
  },
  {
   "cell_type": "code",
   "execution_count": 138,
   "id": "81e498ce",
   "metadata": {},
   "outputs": [
    {
     "name": "stdout",
     "output_type": "stream",
     "text": [
      "SVM accuracy: 0.9946666666666667\n"
     ]
    }
   ],
   "source": [
    "acc = np.sum(predictions == y_test) / len(y_test)\n",
    "print('SVM accuracy:', acc)"
   ]
  },
  {
   "cell_type": "code",
   "execution_count": 139,
   "id": "64e2101e",
   "metadata": {},
   "outputs": [
    {
     "data": {
      "text/plain": [
       "array([[2984,   10],\n",
       "       [   6,    0]])"
      ]
     },
     "execution_count": 139,
     "metadata": {},
     "output_type": "execute_result"
    }
   ],
   "source": [
    "c_mat = confusion_matrix(y_test, predictions)\n",
    "c_mat"
   ]
  },
  {
   "cell_type": "code",
   "execution_count": 141,
   "id": "79662a55",
   "metadata": {},
   "outputs": [
    {
     "name": "stdout",
     "output_type": "stream",
     "text": [
      "SVM F1 Score: 0.0\n",
      "SVM Precision: 0.9979933110367893\n",
      "SVM Recall: 0.9966599866399466\n"
     ]
    }
   ],
   "source": [
    "F1_score = f1_score(y_test, predictions)\n",
    "precision = c_mat[0,0] / (c_mat[0,0]+c_mat[1,0])\n",
    "recall = c_mat[0,0] / (c_mat[0,0]+c_mat[0,1])\n",
    "\n",
    "print('SVM F1 Score:', F1_score)\n",
    "print('SVM Precision:', precision)\n",
    "print('SVM Recall:', recall)"
   ]
  },
  {
   "cell_type": "code",
   "execution_count": null,
   "id": "215f0840",
   "metadata": {},
   "outputs": [],
   "source": []
  },
  {
   "cell_type": "code",
   "execution_count": null,
   "id": "bdec77e7",
   "metadata": {},
   "outputs": [],
   "source": []
  },
  {
   "cell_type": "markdown",
   "id": "509c3d41",
   "metadata": {},
   "source": [
    "#### Adaptive Boosting"
   ]
  },
  {
   "cell_type": "code",
   "execution_count": null,
   "id": "1967f810",
   "metadata": {},
   "outputs": [],
   "source": [
    "# Create adaboost classifer object\n",
    "abc = AdaBoostClassifier(n_estimators=50, learning_rate=1, random_state=0)\n",
    "\n",
    "# Train Adaboost Classifer\n",
    "model1 = abc.fit(X_train, y_train)\n",
    "\n",
    "\n",
    "#Predict the response for test dataset\n",
    "y_pred = model1.predict(X_test)"
   ]
  },
  {
   "cell_type": "code",
   "execution_count": null,
   "id": "e24c52de",
   "metadata": {},
   "outputs": [],
   "source": []
  },
  {
   "cell_type": "code",
   "execution_count": null,
   "id": "d5d2e7e5",
   "metadata": {},
   "outputs": [],
   "source": []
  },
  {
   "cell_type": "code",
   "execution_count": null,
   "id": "024e9527",
   "metadata": {},
   "outputs": [],
   "source": []
  },
  {
   "cell_type": "code",
   "execution_count": null,
   "id": "858d51fb",
   "metadata": {},
   "outputs": [],
   "source": []
  },
  {
   "cell_type": "code",
   "execution_count": null,
   "id": "517c6928",
   "metadata": {},
   "outputs": [],
   "source": []
  },
  {
   "cell_type": "code",
   "execution_count": null,
   "id": "faadc40b",
   "metadata": {},
   "outputs": [],
   "source": []
  }
 ],
 "metadata": {
  "kernelspec": {
   "display_name": "Python [conda env:base] *",
   "language": "python",
   "name": "conda-base-py"
  },
  "language_info": {
   "codemirror_mode": {
    "name": "ipython",
    "version": 3
   },
   "file_extension": ".py",
   "mimetype": "text/x-python",
   "name": "python",
   "nbconvert_exporter": "python",
   "pygments_lexer": "ipython3",
   "version": "3.12.7"
  }
 },
 "nbformat": 4,
 "nbformat_minor": 5
}
